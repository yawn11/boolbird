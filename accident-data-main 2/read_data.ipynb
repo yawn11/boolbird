{
 "cells": [
  {
   "cell_type": "code",
   "execution_count": 1,
   "metadata": {},
   "outputs": [],
   "source": [
    "import pandas as pd\n",
    "import requests\n",
    "import json\n",
    "\n",
    "serviceKey = \"SSViRnA2wdqrMhE6gLVMdjBl6/YXNYADYJTlWSvIDLj9hb4RDasyNSx2S250bZRkGhxsG0NT/AgLmlQD2ziLeg==\"\n",
    "\n",
    "url = 'http://apis.data.go.kr/B552016/FacilAccidentService/getFacilAccidentList'\n",
    "params ={'serviceKey' : serviceKey, 'numOfRows' : '1000', 'pageNo' : '1', 'type' : 'json'}\n",
    "\n",
    "data = []\n",
    "\n",
    "for i in range(1, 15):\n",
    "    params['pageNo'] = str(i)\n",
    "    response = requests.get(url, params=params)\n",
    "    jsondata = json.loads(response.content)\n",
    "\n",
    "    for item in jsondata['response']['body']['items']['item']:\n",
    "        data.append([item['accdntNm'], item['accdntYmd'], item['cplYmd'], item['nationNm'], item['facilNm'], item['facilAddr'], item['facilKindNm'], item.get('MngMbyNm', ''), item['accdntOccrrncStep'], item['accdntOccrrncPart'], item['accdntCauseDetail'], item['accdntContent'], item['deathCnt'], item['woundCnt'], item['prptyDamageAmt']])\n",
    "\n",
    "df = pd.DataFrame(data, columns=['사고명', '사고발생일', '조치일자', '국가명', '시설명', '주소', '시설종류', '관리기관명', '사고발생단계', '사고발생부위', '원인', '사고내용', '사망자수', '부상자수', '재산피해액'])\n"
   ]
  },
  {
   "cell_type": "code",
   "execution_count": 10,
   "metadata": {},
   "outputs": [],
   "source": [
    "import pandas as pd\n",
    "import requests\n",
    "import json\n",
    "\n",
    "serviceKey = \"SSViRnA2wdqrMhE6gLVMdjBl6/YXNYADYJTlWSvIDLj9hb4RDasyNSx2S250bZRkGhxsG0NT/AgLmlQD2ziLeg==\"\n",
    "\n",
    "url = 'http://apis.data.go.kr/B552016/FacilAccidentService/getFacilAccidentList'\n",
    "params ={'serviceKey' : serviceKey, 'numOfRows' : '300', 'pageNo' : '1', 'type' : 'json'}\n",
    "\n",
    "response = requests.get(url, params=params)\n",
    "jsondata = json.loads(response.content)\n",
    "\n",
    "data = []\n",
    "\n",
    "for i in range(1,5000):\n",
    "    params['pageNo'] = str(i)\n",
    "    response = requests.get(url, params=params)\n",
    "    jsondata = json.loads(response.content)\n",
    "    resultCode = jsondata['response']['header']['resultCode']\n",
    "    if(resultCode != '0'):\n",
    "        continue\n",
    "    else:\n",
    "        try: \n",
    "            for item in jsondata['response']['body']['items']['item']:\n",
    "                data.append([item['accdntNm'], item['accdntYmd'], item['cplYmd'], item['nationNm'], item['facilNm'], item['facilAddr'], item['facilKindNm'], item.get('MngMbyNm', ''), item['accdntOccrrncStep'], item['accdntOccrrncPart'], item['accdntCauseDetail'], item['accdntContent'], item['deathCnt'], item['woundCnt'], item['prptyDamageAmt']])\n",
    "        except KeyError:\n",
    "            pass\n",
    "        \n",
    "df = pd.DataFrame(data, columns=['accdntNm', 'accdntYmd', 'cplYmd', 'nationNm', 'facilNm', 'facilAddr', 'facilKindNm', 'MngMbyNm', 'accdntOccrrncStep', 'accdntOccrrncPart', 'accdntCauseDetail', 'accdntContent', 'deathCnt', 'woundCnt', 'prptyDamageAmt'])\n",
    "\n",
    "df.to_csv(\"accident_data.csv\", mode='a', header=False)"
   ]
  }
 ],
 "metadata": {
  "kernelspec": {
   "display_name": "Python 3 (ipykernel)",
   "language": "python",
   "name": "python3"
  },
  "language_info": {
   "codemirror_mode": {
    "name": "ipython",
    "version": 3
   },
   "file_extension": ".py",
   "mimetype": "text/x-python",
   "name": "python",
   "nbconvert_exporter": "python",
   "pygments_lexer": "ipython3",
   "version": "3.10.6"
  }
 },
 "nbformat": 4,
 "nbformat_minor": 2
}
