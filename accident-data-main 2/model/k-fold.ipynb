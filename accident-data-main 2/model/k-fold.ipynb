{
 "cells": [
  {
   "cell_type": "code",
   "execution_count": 2,
   "metadata": {},
   "outputs": [
    {
     "name": "stderr",
     "output_type": "stream",
     "text": [
      "/Users/matmang/opt/anaconda3/envs/bert-study/lib/python3.10/site-packages/sklearn/preprocessing/_encoders.py:828: FutureWarning: `sparse` was renamed to `sparse_output` in version 1.2 and will be removed in 1.4. `sparse_output` is ignored unless you leave `sparse` to its default value.\n",
      "  warnings.warn(\n",
      "/Users/matmang/opt/anaconda3/envs/bert-study/lib/python3.10/site-packages/lightgbm/engine.py:181: UserWarning: 'early_stopping_rounds' argument is deprecated and will be removed in a future release of LightGBM. Pass 'early_stopping()' callback via 'callbacks' argument instead.\n",
      "  _log_warning(\"'early_stopping_rounds' argument is deprecated and will be removed in a future release of LightGBM. \"\n",
      "/Users/matmang/opt/anaconda3/envs/bert-study/lib/python3.10/site-packages/lightgbm/engine.py:239: UserWarning: 'verbose_eval' argument is deprecated and will be removed in a future release of LightGBM. Pass 'log_evaluation()' callback via 'callbacks' argument instead.\n",
      "  _log_warning(\"'verbose_eval' argument is deprecated and will be removed in a future release of LightGBM. \"\n",
      "/var/folders/xn/dxdr0gzs2bld2s01df0dtst00000gn/T/ipykernel_84651/1796602051.py:90: DataConversionWarning: A column-vector y was passed when a 1d array was expected. Please change the shape of y to (n_samples,), for example using ravel().\n",
      "  rf_train.fit(X_train.iloc[train_index], y_train.iloc[train_index])\n",
      "/Users/matmang/opt/anaconda3/envs/bert-study/lib/python3.10/site-packages/sklearn/ensemble/_gb.py:437: DataConversionWarning: A column-vector y was passed when a 1d array was expected. Please change the shape of y to (n_samples, ), for example using ravel().\n",
      "  y = column_or_1d(y, warn=True)\n",
      "/Users/matmang/opt/anaconda3/envs/bert-study/lib/python3.10/site-packages/lightgbm/engine.py:181: UserWarning: 'early_stopping_rounds' argument is deprecated and will be removed in a future release of LightGBM. Pass 'early_stopping()' callback via 'callbacks' argument instead.\n",
      "  _log_warning(\"'early_stopping_rounds' argument is deprecated and will be removed in a future release of LightGBM. \"\n",
      "/Users/matmang/opt/anaconda3/envs/bert-study/lib/python3.10/site-packages/lightgbm/engine.py:239: UserWarning: 'verbose_eval' argument is deprecated and will be removed in a future release of LightGBM. Pass 'log_evaluation()' callback via 'callbacks' argument instead.\n",
      "  _log_warning(\"'verbose_eval' argument is deprecated and will be removed in a future release of LightGBM. \"\n",
      "/var/folders/xn/dxdr0gzs2bld2s01df0dtst00000gn/T/ipykernel_84651/1796602051.py:90: DataConversionWarning: A column-vector y was passed when a 1d array was expected. Please change the shape of y to (n_samples,), for example using ravel().\n",
      "  rf_train.fit(X_train.iloc[train_index], y_train.iloc[train_index])\n",
      "/Users/matmang/opt/anaconda3/envs/bert-study/lib/python3.10/site-packages/sklearn/ensemble/_gb.py:437: DataConversionWarning: A column-vector y was passed when a 1d array was expected. Please change the shape of y to (n_samples, ), for example using ravel().\n",
      "  y = column_or_1d(y, warn=True)\n",
      "/Users/matmang/opt/anaconda3/envs/bert-study/lib/python3.10/site-packages/lightgbm/engine.py:181: UserWarning: 'early_stopping_rounds' argument is deprecated and will be removed in a future release of LightGBM. Pass 'early_stopping()' callback via 'callbacks' argument instead.\n",
      "  _log_warning(\"'early_stopping_rounds' argument is deprecated and will be removed in a future release of LightGBM. \"\n",
      "/Users/matmang/opt/anaconda3/envs/bert-study/lib/python3.10/site-packages/lightgbm/engine.py:239: UserWarning: 'verbose_eval' argument is deprecated and will be removed in a future release of LightGBM. Pass 'log_evaluation()' callback via 'callbacks' argument instead.\n",
      "  _log_warning(\"'verbose_eval' argument is deprecated and will be removed in a future release of LightGBM. \"\n",
      "/var/folders/xn/dxdr0gzs2bld2s01df0dtst00000gn/T/ipykernel_84651/1796602051.py:90: DataConversionWarning: A column-vector y was passed when a 1d array was expected. Please change the shape of y to (n_samples,), for example using ravel().\n",
      "  rf_train.fit(X_train.iloc[train_index], y_train.iloc[train_index])\n",
      "/Users/matmang/opt/anaconda3/envs/bert-study/lib/python3.10/site-packages/sklearn/ensemble/_gb.py:437: DataConversionWarning: A column-vector y was passed when a 1d array was expected. Please change the shape of y to (n_samples, ), for example using ravel().\n",
      "  y = column_or_1d(y, warn=True)\n",
      "/Users/matmang/opt/anaconda3/envs/bert-study/lib/python3.10/site-packages/lightgbm/engine.py:181: UserWarning: 'early_stopping_rounds' argument is deprecated and will be removed in a future release of LightGBM. Pass 'early_stopping()' callback via 'callbacks' argument instead.\n",
      "  _log_warning(\"'early_stopping_rounds' argument is deprecated and will be removed in a future release of LightGBM. \"\n",
      "/Users/matmang/opt/anaconda3/envs/bert-study/lib/python3.10/site-packages/lightgbm/engine.py:239: UserWarning: 'verbose_eval' argument is deprecated and will be removed in a future release of LightGBM. Pass 'log_evaluation()' callback via 'callbacks' argument instead.\n",
      "  _log_warning(\"'verbose_eval' argument is deprecated and will be removed in a future release of LightGBM. \"\n",
      "/var/folders/xn/dxdr0gzs2bld2s01df0dtst00000gn/T/ipykernel_84651/1796602051.py:90: DataConversionWarning: A column-vector y was passed when a 1d array was expected. Please change the shape of y to (n_samples,), for example using ravel().\n",
      "  rf_train.fit(X_train.iloc[train_index], y_train.iloc[train_index])\n",
      "/Users/matmang/opt/anaconda3/envs/bert-study/lib/python3.10/site-packages/sklearn/ensemble/_gb.py:437: DataConversionWarning: A column-vector y was passed when a 1d array was expected. Please change the shape of y to (n_samples, ), for example using ravel().\n",
      "  y = column_or_1d(y, warn=True)\n",
      "/Users/matmang/opt/anaconda3/envs/bert-study/lib/python3.10/site-packages/lightgbm/engine.py:181: UserWarning: 'early_stopping_rounds' argument is deprecated and will be removed in a future release of LightGBM. Pass 'early_stopping()' callback via 'callbacks' argument instead.\n",
      "  _log_warning(\"'early_stopping_rounds' argument is deprecated and will be removed in a future release of LightGBM. \"\n",
      "/Users/matmang/opt/anaconda3/envs/bert-study/lib/python3.10/site-packages/lightgbm/engine.py:239: UserWarning: 'verbose_eval' argument is deprecated and will be removed in a future release of LightGBM. Pass 'log_evaluation()' callback via 'callbacks' argument instead.\n",
      "  _log_warning(\"'verbose_eval' argument is deprecated and will be removed in a future release of LightGBM. \"\n",
      "/var/folders/xn/dxdr0gzs2bld2s01df0dtst00000gn/T/ipykernel_84651/1796602051.py:90: DataConversionWarning: A column-vector y was passed when a 1d array was expected. Please change the shape of y to (n_samples,), for example using ravel().\n",
      "  rf_train.fit(X_train.iloc[train_index], y_train.iloc[train_index])\n",
      "/Users/matmang/opt/anaconda3/envs/bert-study/lib/python3.10/site-packages/sklearn/ensemble/_gb.py:437: DataConversionWarning: A column-vector y was passed when a 1d array was expected. Please change the shape of y to (n_samples, ), for example using ravel().\n",
      "  y = column_or_1d(y, warn=True)\n"
     ]
    },
    {
     "name": "stdout",
     "output_type": "stream",
     "text": [
      "MSE: 2.2709034610210708\n"
     ]
    }
   ],
   "source": [
    "import sys\n",
    "sys.path.append('..')\n",
    "\n",
    "import lightgbm as lgb\n",
    "from catboost import CatBoostRegressor\n",
    "from sklearn.ensemble import RandomForestRegressor\n",
    "from xgboost import XGBRegressor\n",
    "from sklearn.ensemble import GradientBoostingRegressor\n",
    "from sklearn.model_selection import KFold\n",
    "from sklearn.metrics import mean_squared_error\n",
    "from cleansing.data_cleansing import preprocess_data\n",
    "import numpy as np\n",
    "\n",
    "# 데이터 전처리 함수 호출\n",
    "X_train, X_test, y_train, y_test = preprocess_data()\n",
    "\n",
    "# LightGBM 모델 설정\n",
    "params_lgb = {\n",
    "    'objective': 'regression',\n",
    "    'metric': 'rmse',\n",
    "    'num_leaves': 31,\n",
    "    'learning_rate': 0.05,\n",
    "    'feature_fraction': 0.9,\n",
    "    'bagging_fraction': 0.8,\n",
    "    'bagging_freq': 5,\n",
    "    'max_depth': 6,\n",
    "    'min_child_weight': 0.1,\n",
    "    'verbosity': -1\n",
    "}\n",
    "\n",
    "# CatBoost 모델 설정\n",
    "params_catboost = {\n",
    "    'iterations': 1000,\n",
    "    'learning_rate': 0.05,\n",
    "    'depth': 6,\n",
    "    'loss_function': 'RMSE',\n",
    "    'verbose': False\n",
    "}\n",
    "\n",
    "# Random Forest 모델 설정\n",
    "params_rf = {\n",
    "    'n_estimators': 100,\n",
    "    'max_depth': 6,\n",
    "    'min_samples_split': 10,\n",
    "    'min_samples_leaf': 5,\n",
    "    'random_state': 42\n",
    "}\n",
    "\n",
    "# XGBoost 모델 설정\n",
    "params_xgb = {\n",
    "    'objective': 'reg:squarederror',\n",
    "    'learning_rate': 0.05,\n",
    "    'max_depth': 6,\n",
    "    'min_child_weight': 5,\n",
    "    'subsample': 0.8,\n",
    "    'colsample_bytree': 0.8,\n",
    "    'verbosity': 0\n",
    "}\n",
    "\n",
    "# GradientBoosting 모델 설정\n",
    "params_gb = {\n",
    "    'n_estimators': 100,\n",
    "    'learning_rate': 0.1,\n",
    "    'max_depth': 6,\n",
    "    'min_samples_split': 10,\n",
    "    'min_samples_leaf': 5,\n",
    "    'random_state': 42\n",
    "}\n",
    "\n",
    "# KFold 교차 검증\n",
    "kf = KFold(n_splits=5, shuffle=True, random_state=42)\n",
    "\n",
    "# 모델 리스트 초기화\n",
    "models = []\n",
    "\n",
    "# 각 모델에 대한 KFold 교차 검증 수행\n",
    "for train_index, valid_index in kf.split(X_train):\n",
    "    \n",
    "    # LightGBM 모델 학습\n",
    "    lgb_train = lgb.Dataset(X_train.iloc[train_index], label=y_train.iloc[train_index])\n",
    "    lgb_valid = lgb.Dataset(X_train.iloc[valid_index], label=y_train.iloc[valid_index])\n",
    "    bst_lgb = lgb.train(params_lgb, lgb_train, valid_sets=[lgb_train, lgb_valid], early_stopping_rounds=10, verbose_eval=0)\n",
    "    \n",
    "    # CatBoost 모델 학습\n",
    "    cb_train = CatBoostRegressor(**params_catboost)\n",
    "    cb_train.fit(X_train.iloc[train_index], y_train.iloc[train_index])\n",
    "    \n",
    "    # Random Forest 모델 학습\n",
    "    rf_train = RandomForestRegressor(**params_rf)\n",
    "    rf_train.fit(X_train.iloc[train_index], y_train.iloc[train_index])\n",
    "    \n",
    "    # XGBoost 모델 학습\n",
    "    xgb_train = XGBRegressor(**params_xgb)\n",
    "    xgb_train.fit(X_train.iloc[train_index], y_train.iloc[train_index])\n",
    "\n",
    "    # Gradient Boosting 모델 학습\n",
    "    gb_train = GradientBoostingRegressor(**params_gb)\n",
    "    gb_train.fit(X_train.iloc[train_index], y_train.iloc[train_index])\n",
    "\n",
    "# 모델 리스트에 학습된 모델 추가\n",
    "models.append((bst_lgb, cb_train, rf_train, xgb_train, gb_train))\n",
    "\n",
    "# 각 모델의 예측 결과를 더해줌\n",
    "\n",
    "predictions = np.zeros(len(X_test))\n",
    "\n",
    "for model in models:\n",
    "    predictions += model[0].predict(X_test)\n",
    "    predictions += model[1].predict(X_test)\n",
    "    predictions += model[2].predict(X_test)\n",
    "    predictions += model[3].predict(X_test)\n",
    "    predictions += model[4].predict(X_test)\n",
    "\n",
    "# 예측 결과의 평균을 구함\n",
    "\n",
    "predictions /= len(models) * 5\n",
    "\n",
    "# 예측 결과 출력\n",
    "\n",
    "print('MSE:', mean_squared_error(y_test, predictions))"
   ]
  },
  {
   "cell_type": "code",
   "execution_count": 3,
   "metadata": {},
   "outputs": [
    {
     "data": {
      "image/png": "[encoded data removed]",
      "text/plain": [
       "<Figure size 1200x500 with 2 Axes>"
      ]
     },
     "metadata": {},
     "output_type": "display_data"
    }
   ],
   "source": [
    "# 모델 예측값과 y 레이블의 정답값 분포 시각화\n",
    "import matplotlib.pyplot as plt\n",
    "import numpy as np\n",
    "import pandas as pd\n",
    "\n",
    "# 예측값과 실제값의 분포 시각화\n",
    "fig, axs = plt.subplots(1, 2, figsize=(12, 5))\n",
    "fig.suptitle('Actual vs Predicted')\n",
    "\n",
    "# y_test 히스토그램\n",
    "axs[0].hist(y_test, bins=30, alpha=0.5, color='blue', label='Actual')\n",
    "axs[0].set_xlabel('Damage Scale')\n",
    "axs[0].set_ylabel('Frequency')\n",
    "\n",
    "# y_pred_lgb 히스토그램\n",
    "axs[1].hist(predictions, bins=30, alpha=0.5, color='red', label='Predicted')\n",
    "axs[1].set_xlabel('Damage Scale')\n",
    "axs[1].set_ylabel('Frequency')\n",
    "\n",
    "plt.show()\n",
    "\n"
   ]
  },
  {
   "cell_type": "code",
   "execution_count": 4,
   "metadata": {},
   "outputs": [
    {
     "data": {
      "image/png": "[encoded data removed]",
      "text/plain": [
       "<Figure size 640x480 with 1 Axes>"
      ]
     },
     "metadata": {},
     "output_type": "display_data"
    }
   ],
   "source": [
    "fig, ax = plt.subplots()\n",
    "ax.hist(y_test, bins=30, alpha=0.5, color='blue', label='Actual')\n",
    "ax.hist(predictions, bins=30, alpha=0.5, color='red', label='Predicted')\n",
    "ax.set_xlabel('Damage Scale')\n",
    "ax.set_ylabel('Frequency')\n",
    "ax.legend()\n",
    "plt.show()"
   ]
  },
  {
   "cell_type": "code",
   "execution_count": 5,
   "metadata": {},
   "outputs": [
    {
     "data": {
      "image/png": "[encoded data removed]",
      "text/plain": [
       "<Figure size 800x800 with 1 Axes>"
      ]
     },
     "metadata": {},
     "output_type": "display_data"
    }
   ],
   "source": [
    "import matplotlib.pyplot as plt\n",
    "\n",
    "# 예측값과 실제값 비교\n",
    "plt.figure(figsize=(8, 8))\n",
    "plt.scatter(y_test, predictions, alpha=0.5)\n",
    "plt.plot([y_test.min(), y_test.max()], [predictions.min(), predictions.max()], 'k--', lw=4)\n",
    "plt.xlabel('True Value')\n",
    "plt.ylabel('Prediction')\n",
    "plt.show()\n"
   ]
  },
  {
   "cell_type": "code",
   "execution_count": 30,
   "metadata": {},
   "outputs": [
    {
     "name": "stdout",
     "output_type": "stream",
     "text": [
      "Accuracy: 59.52%\n"
     ]
    }
   ],
   "source": [
    "import numpy as np\n",
    "import pandas as pd\n",
    "import matplotlib.pyplot as plt\n",
    "\n",
    "# y_test: 실제 값, prediction: 예측 값\n",
    "accuracy = np.sum(np.abs(y_test['피해규모'].values - predictions) <= 0.1) / len(y_test)\n",
    "\n",
    "print(\"Accuracy: {:.2f}%\".format(accuracy * 100))"
   ]
  },
  {
   "cell_type": "code",
   "execution_count": 11,
   "metadata": {},
   "outputs": [
    {
     "name": "stdout",
     "output_type": "stream",
     "text": [
      "Fitting 5 folds for each of 50 candidates, totalling 250 fits\n",
      "[LightGBM] [Warning] bagging_fraction is set=0.5152191633168834, subsample=1.0 will be ignored. Current value: bagging_fraction=0.5152191633168834\n",
      "[LightGBM] [Warning] feature_fraction is set=0.5346666764853412, colsample_bytree=1.0 will be ignored. Current value: feature_fraction=0.5346666764853412\n",
      "[LightGBM] [Warning] bagging_freq is set=3, subsample_freq=0 will be ignored. Current value: bagging_freq=3\n",
      "[LightGBM] [Warning] bagging_fraction is set=0.6974169322308819, subsample=1.0 will be ignored. Current value: bagging_fraction=0.6974169322308819\n",
      "[LightGBM] [Warning] feature_fraction is set=0.7346363453927411, colsample_bytree=1.0 will be ignored. Current value: feature_fraction=0.7346363453927411\n",
      "[LightGBM] [Warning] bagging_freq is set=8, subsample_freq=0 will be ignored. Current value: bagging_freq=8\n",
      "[LightGBM] [Warning] bagging_fraction is set=0.5152191633168834, subsample=1.0 will be ignored. Current value: bagging_fraction=0.5152191633168834\n",
      "[LightGBM] [Warning] feature_fraction is set=0.5346666764853412, colsample_bytree=1.0 will be ignored. Current value: feature_fraction=0.5346666764853412\n",
      "[LightGBM] [Warning] bagging_freq is set=3, subsample_freq=0 will be ignored. Current value: bagging_freq=3\n",
      "[LightGBM] [Warning] bagging_fraction is set=0.6974169322308819, subsample=1.0 will be ignored. Current value: bagging_fraction=0.6974169322308819\n",
      "[LightGBM] [Warning] feature_fraction is set=0.7346363453927411, colsample_bytree=1.0 will be ignored. Current value: feature_fraction=0.7346363453927411\n",
      "[LightGBM] [Warning] bagging_freq is set=8, subsample_freq=0 will be ignored. Current value: bagging_freq=8\n",
      "[LightGBM] [Warning] bagging_fraction is set=0.6974169322308819, subsample=1.0 will be ignored. Current value: bagging_fraction=0.6974169322308819\n",
      "[LightGBM] [Warning] feature_fraction is set=0.7346363453927411, colsample_bytree=1.0 will be ignored. Current value: feature_fraction=0.7346363453927411\n",
      "[LightGBM] [Warning] bagging_freq is set=8, subsample_freq=0 will be ignored. Current value: bagging_freq=8\n",
      "[LightGBM] [Warning] bagging_fraction is set=0.5152191633168834, subsample=1.0 will be ignored. Current value: bagging_fraction=0.5152191633168834\n",
      "[LightGBM] [Warning] feature_fraction is set=0.5346666764853412, colsample_bytree=1.0 will be ignored. Current value: feature_fraction=0.5346666764853412\n",
      "[LightGBM] [Warning] bagging_freq is set=3, subsample_freq=0 will be ignored. Current value: bagging_freq=3\n",
      "[LightGBM] [Warning] bagging_fraction is set=0.5152191633168834, subsample=1.0 will be ignored. Current value: bagging_fraction=0.5152191633168834\n",
      "[LightGBM] [Warning] feature_fraction is set=0.5346666764853412, colsample_bytree=1.0 will be ignored. Current value: feature_fraction=0.5346666764853412\n",
      "[LightGBM] [Warning] bagging_freq is set=3, subsample_freq=0 will be ignored. Current value: bagging_freq=3\n",
      "[LightGBM] [Warning] bagging_fraction is set=0.6974169322308819, subsample=1.0 will be ignored. Current value: bagging_fraction=0.6974169322308819\n",
      "[LightGBM] [Warning] feature_fraction is set=0.7346363453927411, colsample_bytree=1.0 will be ignored. Current value: feature_fraction=0.7346363453927411\n",
      "[LightGBM] [Warning] bagging_freq is set=8, subsample_freq=0 will be ignored. Current value: bagging_freq=8\n",
      "[LightGBM] [Warning] bagging_fraction is set=0.5152191633168834, subsample=1.0 will be ignored. Current value: bagging_fraction=0.5152191633168834\n",
      "[LightGBM] [Warning] feature_fraction is set=0.5346666764853412, colsample_bytree=1.0 will be ignored. Current value: feature_fraction=0.5346666764853412\n",
      "[LightGBM] [Warning] bagging_freq is set=3, subsample_freq=0 will be ignored. Current value: bagging_freq=3\n",
      "[LightGBM] [Warning] bagging_fraction is set=0.6974169322308819, subsample=1.0 will be ignored. Current value: bagging_fraction=0.6974169322308819\n",
      "[LightGBM] [Warning] feature_fraction is set=0.7346363453927411, colsample_bytree=1.0 will be ignored. Current value: feature_fraction=0.7346363453927411\n",
      "[LightGBM] [Warning] bagging_freq is set=8, subsample_freq=0 will be ignored. Current value: bagging_freq=8\n",
      "[CV] END bagging_fraction=0.5152191633168834, bagging_freq=3, feature_fraction=0.5346666764853412, learning_rate=0.058498275566282586, max_depth=13, metric=rmse, min_child_weight=0.35226085029856935, num_leaves=114; total time=   0.2s\n",
      "[CV] END bagging_fraction=0.5152191633168834, bagging_freq=3, feature_fraction=0.5346666764853412, learning_rate=0.058498275566282586, max_depth=13, metric=rmse, min_child_weight=0.35226085029856935, num_leaves=114; total time=   0.3s\n",
      "[CV] END bagging_fraction=0.5152191633168834, bagging_freq=3, feature_fraction=0.5346666764853412, learning_rate=0.058498275566282586, max_depth=13, metric=rmse, min_child_weight=0.35226085029856935, num_leaves=114; total time=   0.3s\n",
      "[CV] END bagging_fraction=0.6974169322308819, bagging_freq=8, feature_fraction=0.7346363453927411, learning_rate=0.015528455286856493, max_depth=12, metric=mae, min_child_weight=0.18858311652096282, num_leaves=156; total time=   0.3s\n",
      "[CV] END bagging_fraction=0.5152191633168834, bagging_freq=3, feature_fraction=0.5346666764853412, learning_rate=0.058498275566282586, max_depth=13, metric=rmse, min_child_weight=0.35226085029856935, num_leaves=114; total time=   0.3s\n",
      "[CV] END bagging_fraction=0.6974169322308819, bagging_freq=8, feature_fraction=0.7346363453927411, learning_rate=0.015528455286856493, max_depth=12, metric=mae, min_child_weight=0.18858311652096282, num_leaves=156; total time=   0.3s\n",
      "[CV] END bagging_fraction=0.5152191633168834, bagging_freq=3, feature_fraction=0.5346666764853412, learning_rate=0.058498275566282586, max_depth=13, metric=rmse, min_child_weight=0.35226085029856935, num_leaves=114; total time=   0.3s\n",
      "[CV] END bagging_fraction=0.6974169322308819, bagging_freq=8, feature_fraction=0.7346363453927411, learning_rate=0.015528455286856493, max_depth=12, metric=mae, min_child_weight=0.18858311652096282, num_leaves=156; total time=   0.3s\n",
      "[CV] END bagging_fraction=0.6974169322308819, bagging_freq=8, feature_fraction=0.7346363453927411, learning_rate=0.015528455286856493, max_depth=12, metric=mae, min_child_weight=0.18858311652096282, num_leaves=156; total time=   0.3s[CV] END bagging_fraction=0.6974169322308819, bagging_freq=8, feature_fraction=0.7346363453927411, learning_rate=0.015528455286856493, max_depth=12, metric=mae, min_child_weight=0.18858311652096282, num_leaves=156; total time=   0.3s\n",
      "\n",
      "[LightGBM] [Warning] bagging_fraction is set=0.8508179059757777, subsample=1.0 will be ignored. Current value: bagging_fraction=0.8508179059757777\n",
      "[LightGBM] [Warning] feature_fraction is set=0.8761816040197299, colsample_bytree=1.0 will be ignored. Current value: feature_fraction=0.8761816040197299\n",
      "[LightGBM] [Warning] bagging_freq is set=1, subsample_freq=0 will be ignored. Current value: bagging_freq=1\n",
      "[LightGBM] [Warning] bagging_fraction is set=0.8508179059757777, subsample=1.0 will be ignored. Current value: bagging_fraction=0.8508179059757777\n",
      "[LightGBM] [Warning] feature_fraction is set=0.8761816040197299, colsample_bytree=1.0 will be ignored. Current value: feature_fraction=0.8761816040197299\n",
      "[LightGBM] [Warning] bagging_freq is set=1, subsample_freq=0 will be ignored. Current value: bagging_freq=1\n",
      "[LightGBM] [Warning] bagging_fraction is set=0.7557187306012338, subsample=1.0 will be ignored. Current value: bagging_fraction=0.7557187306012338\n",
      "[LightGBM] [Warning] feature_fraction is set=0.5344444760846191, colsample_bytree=1.0 will be ignored. Current value: feature_fraction=0.5344444760846191\n",
      "[LightGBM] [Warning] bagging_freq is set=1, subsample_freq=0 will be ignored. Current value: bagging_freq=1\n",
      "[LightGBM] [Warning] bagging_fraction is set=0.8508179059757777, subsample=1.0 will be ignored. Current value: bagging_fraction=0.8508179059757777\n",
      "[LightGBM] [Warning] feature_fraction is set=0.8761816040197299, colsample_bytree=1.0 will be ignored. Current value: feature_fraction=0.8761816040197299\n",
      "[LightGBM] [Warning] bagging_freq is set=1, subsample_freq=0 will be ignored. Current value: bagging_freq=1\n",
      "[LightGBM] [Warning] bagging_fraction is set=0.8508179059757777, subsample=1.0 will be ignored. Current value: bagging_fraction=0.8508179059757777\n",
      "[LightGBM] [Warning] feature_fraction is set=0.8761816040197299, colsample_bytree=1.0 will be ignored. Current value: feature_fraction=0.8761816040197299\n",
      "[LightGBM] [Warning] bagging_freq is set=1, subsample_freq=0 will be ignored. Current value: bagging_freq=1\n",
      "[LightGBM] [Warning] bagging_fraction is set=0.8508179059757777, subsample=1.0 will be ignored. Current value: bagging_fraction=0.8508179059757777\n",
      "[LightGBM] [Warning] feature_fraction is set=0.8761816040197299, colsample_bytree=1.0 will be ignored. Current value: feature_fraction=0.8761816040197299\n",
      "[LightGBM] [Warning] bagging_freq is set=1, subsample_freq=0 will be ignored. Current value: bagging_freq=1\n",
      "[LightGBM] [Warning] bagging_fraction is set=0.7557187306012338, subsample=1.0 will be ignored. Current value: bagging_fraction=0.7557187306012338\n",
      "[LightGBM] [Warning] feature_fraction is set=0.5344444760846191, colsample_bytree=1.0 will be ignored. Current value: feature_fraction=0.5344444760846191\n",
      "[LightGBM] [Warning] bagging_freq is set=1, subsample_freq=0 will be ignored. Current value: bagging_freq=1\n",
      "[LightGBM] [Warning] bagging_fraction is set=0.7557187306012338, subsample=1.0 will be ignored. Current value: bagging_fraction=0.7557187306012338\n",
      "[LightGBM] [Warning] feature_fraction is set=0.5344444760846191, colsample_bytree=1.0 will be ignored. Current value: feature_fraction=0.5344444760846191\n",
      "[LightGBM] [Warning] bagging_freq is set=1, subsample_freq=0 will be ignored. Current value: bagging_freq=1\n",
      "[LightGBM] [Warning] bagging_fraction is set=0.7557187306012338, subsample=1.0 will be ignored. Current value: bagging_fraction=0.7557187306012338\n",
      "[LightGBM] [Warning] feature_fraction is set=0.5344444760846191, colsample_bytree=1.0 will be ignored. Current value: feature_fraction=0.5344444760846191\n",
      "[LightGBM] [Warning] bagging_freq is set=1, subsample_freq=0 will be ignored. Current value: bagging_freq=1\n",
      "[LightGBM] [Warning] bagging_fraction is set=0.7557187306012338, subsample=1.0 will be ignored. Current value: bagging_fraction=0.7557187306012338\n",
      "[LightGBM] [Warning] feature_fraction is set=0.5344444760846191, colsample_bytree=1.0 will be ignored. Current value: feature_fraction=0.5344444760846191\n",
      "[LightGBM] [Warning] bagging_freq is set=1, subsample_freq=0 will be ignored. Current value: bagging_freq=1\n",
      "[CV] END bagging_fraction=0.8508179059757777, bagging_freq=1, feature_fraction=0.8761816040197299, learning_rate=0.03625339340120152, max_depth=7, metric=mae, min_child_weight=0.23952230807741637, num_leaves=478; total time=   0.1s\n",
      "[CV] END bagging_fraction=0.8508179059757777, bagging_freq=1, feature_fraction=0.8761816040197299, learning_rate=0.03625339340120152, max_depth=7, metric=mae, min_child_weight=0.23952230807741637, num_leaves=478; total time=   0.1s\n",
      "[CV] END bagging_fraction=0.8508179059757777, bagging_freq=1, feature_fraction=0.8761816040197299, learning_rate=0.03625339340120152, max_depth=7, metric=mae, min_child_weight=0.23952230807741637, num_leaves=478; total time=   0.1s\n",
      "[CV] END bagging_fraction=0.8508179059757777, bagging_freq=1, feature_fraction=0.8761816040197299, learning_rate=0.03625339340120152, max_depth=7, metric=mae, min_child_weight=0.23952230807741637, num_leaves=478; total time=   0.1s\n",
      "[LightGBM] [Warning] bagging_fraction is set=0.7763425746042436, subsample=1.0 will be ignored. Current value: bagging_fraction=0.7763425746042436\n",
      "[LightGBM] [Warning] feature_fraction is set=0.654058876231083, colsample_bytree=1.0 will be ignored. Current value: feature_fraction=0.654058876231083\n",
      "[LightGBM] [Warning] bagging_freq is set=4, subsample_freq=0 will be ignored. Current value: bagging_freq=4\n",
      "[LightGBM] [Warning] bagging_fraction is set=0.7763425746042436, subsample=1.0 will be ignored. Current value: bagging_fraction=0.7763425746042436\n",
      "[LightGBM] [Warning] feature_fraction is set=0.654058876231083, colsample_bytree=1.0 will be ignored. Current value: feature_fraction=0.654058876231083\n",
      "[LightGBM] [Warning] bagging_freq is set=4, subsample_freq=0 will be ignored. Current value: bagging_freq=4\n",
      "[LightGBM] [Warning] bagging_fraction is set=0.7763425746042436, subsample=1.0 will be ignored. Current value: bagging_fraction=0.7763425746042436\n",
      "[LightGBM] [Warning] feature_fraction is set=0.654058876231083, colsample_bytree=1.0 will be ignored. Current value: feature_fraction=0.654058876231083\n",
      "[LightGBM] [Warning] bagging_freq is set=4, subsample_freq=0 will be ignored. Current value: bagging_freq=4\n",
      "[LightGBM] [Warning] bagging_fraction is set=0.7763425746042436, subsample=1.0 will be ignored. Current value: bagging_fraction=0.7763425746042436\n",
      "[LightGBM] [Warning] feature_fraction is set=0.654058876231083, colsample_bytree=1.0 will be ignored. Current value: feature_fraction=0.654058876231083\n",
      "[LightGBM] [Warning] bagging_freq is set=4, subsample_freq=0 will be ignored. Current value: bagging_freq=4\n",
      "[CV] END bagging_fraction=0.7557187306012338, bagging_freq=1, feature_fraction=0.5344444760846191, learning_rate=0.0166185605243539, max_depth=12, metric=mae, min_child_weight=0.6882586079463061, num_leaves=485; total time=   0.2s\n",
      "[CV] END bagging_fraction=0.8508179059757777, bagging_freq=1, feature_fraction=0.8761816040197299, learning_rate=0.03625339340120152, max_depth=7, metric=mae, min_child_weight=0.23952230807741637, num_leaves=478; total time=   0.2s\n",
      "[CV] END bagging_fraction=0.7557187306012338, bagging_freq=1, feature_fraction=0.5344444760846191, learning_rate=0.0166185605243539, max_depth=12, metric=mae, min_child_weight=0.6882586079463061, num_leaves=485; total time=   0.2s\n",
      "[LightGBM] [Warning] bagging_fraction is set=0.7763425746042436, subsample=1.0 will be ignored. Current value: bagging_fraction=0.7763425746042436\n",
      "[LightGBM] [Warning] feature_fraction is set=0.654058876231083, colsample_bytree=1.0 will be ignored. Current value: feature_fraction=0.654058876231083\n",
      "[LightGBM] [Warning] bagging_freq is set=4, subsample_freq=0 will be ignored. Current value: bagging_freq=4\n",
      "[LightGBM] [Warning] bagging_fraction is set=0.9586870073909558, subsample=1.0 will be ignored. Current value: bagging_fraction=0.9586870073909558\n",
      "[LightGBM] [Warning] feature_fraction is set=0.5951266737706333, colsample_bytree=1.0 will be ignored. Current value: feature_fraction=0.5951266737706333\n",
      "[LightGBM] [Warning] bagging_freq is set=1, subsample_freq=0 will be ignored. Current value: bagging_freq=1\n",
      "[LightGBM] [Warning] bagging_fraction is set=0.9586870073909558, subsample=1.0 will be ignored. Current value: bagging_fraction=0.9586870073909558\n",
      "[LightGBM] [Warning] feature_fraction is set=0.5951266737706333, colsample_bytree=1.0 will be ignored. Current value: feature_fraction=0.5951266737706333\n",
      "[LightGBM] [Warning] bagging_freq is set=1, subsample_freq=0 will be ignored. Current value: bagging_freq=1\n",
      "[CV] END bagging_fraction=0.7557187306012338, bagging_freq=1, feature_fraction=0.5344444760846191, learning_rate=0.0166185605243539, max_depth=12, metric=mae, min_child_weight=0.6882586079463061, num_leaves=485; total time=   0.2s\n",
      "[CV] END bagging_fraction=0.7557187306012338, bagging_freq=1, feature_fraction=0.5344444760846191, learning_rate=0.0166185605243539, max_depth=12, metric=mae, min_child_weight=0.6882586079463061, num_leaves=485; total time=   0.2s\n",
      "[LightGBM] [Warning] bagging_fraction is set=0.9586870073909558, subsample=1.0 will be ignored. Current value: bagging_fraction=0.9586870073909558\n",
      "[LightGBM] [Warning] feature_fraction is set=0.5951266737706333, colsample_bytree=1.0 will be ignored. Current value: feature_fraction=0.5951266737706333\n",
      "[LightGBM] [Warning] bagging_freq is set=1, subsample_freq=0 will be ignored. Current value: bagging_freq=1\n",
      "[LightGBM] [Warning] bagging_fraction is set=0.9586870073909558, subsample=1.0 will be ignored. Current value: bagging_fraction=0.9586870073909558\n",
      "[LightGBM] [Warning] feature_fraction is set=0.5951266737706333, colsample_bytree=1.0 will be ignored. Current value: feature_fraction=0.5951266737706333\n",
      "[LightGBM] [Warning] bagging_freq is set=1, subsample_freq=0 will be ignored. Current value: bagging_freq=1\n",
      "[CV] END bagging_fraction=0.7557187306012338, bagging_freq=1, feature_fraction=0.5344444760846191, learning_rate=0.0166185605243539, max_depth=12, metric=mae, min_child_weight=0.6882586079463061, num_leaves=485; total time=   0.2s\n",
      "[LightGBM] [Warning] bagging_fraction is set=0.9586870073909558, subsample=1.0 will be ignored. Current value: bagging_fraction=0.9586870073909558\n",
      "[LightGBM] [Warning] feature_fraction is set=0.5951266737706333, colsample_bytree=1.0 will be ignored. Current value: feature_fraction=0.5951266737706333\n",
      "[LightGBM] [Warning] bagging_freq is set=1, subsample_freq=0 will be ignored. Current value: bagging_freq=1\n",
      "[CV] END bagging_fraction=0.7763425746042436, bagging_freq=4, feature_fraction=0.654058876231083, learning_rate=0.03318816190282323, max_depth=11, metric=mae, min_child_weight=0.6505958672101799, num_leaves=374; total time=   0.2s\n",
      "[CV] END bagging_fraction=0.9586870073909558, bagging_freq=1, feature_fraction=0.5951266737706333, learning_rate=0.0788208733345129, max_depth=8, metric=rmse, min_child_weight=0.8007679636718978, num_leaves=70; total time=   0.1s\n",
      "[CV] END bagging_fraction=0.7763425746042436, bagging_freq=4, feature_fraction=0.654058876231083, learning_rate=0.03318816190282323, max_depth=11, metric=mae, min_child_weight=0.6505958672101799, num_leaves=374; total time=   0.2s\n",
      "[LightGBM] [Warning] bagging_fraction is set=0.685820632688628, subsample=1.0 will be ignored. Current value: bagging_fraction=0.685820632688628\n",
      "[LightGBM] [Warning] feature_fraction is set=0.9782228237557974, colsample_bytree=1.0 will be ignored. Current value: feature_fraction=0.9782228237557974\n",
      "[LightGBM] [Warning] bagging_freq is set=8, subsample_freq=0 will be ignored. Current value: bagging_freq=8\n",
      "[CV] END bagging_fraction=0.9586870073909558, bagging_freq=1, feature_fraction=0.5951266737706333, learning_rate=0.0788208733345129, max_depth=8, metric=rmse, min_child_weight=0.8007679636718978, num_leaves=70; total time=   0.1s\n",
      "[CV] END bagging_fraction=0.7763425746042436, bagging_freq=4, feature_fraction=0.654058876231083, learning_rate=0.03318816190282323, max_depth=11, metric=mae, min_child_weight=0.6505958672101799, num_leaves=374; total time=   0.2s\n",
      "[LightGBM] [Warning] bagging_fraction is set=0.685820632688628, subsample=1.0 will be ignored. Current value: bagging_fraction=0.685820632688628\n",
      "[LightGBM] [Warning] feature_fraction is set=0.9782228237557974, colsample_bytree=1.0 will be ignored. Current value: feature_fraction=0.9782228237557974\n",
      "[LightGBM] [Warning] bagging_freq is set=8, subsample_freq=0 will be ignored. Current value: bagging_freq=8\n",
      "[CV] END bagging_fraction=0.9586870073909558, bagging_freq=1, feature_fraction=0.5951266737706333, learning_rate=0.0788208733345129, max_depth=8, metric=rmse, min_child_weight=0.8007679636718978, num_leaves=70; total time=   0.1s\n",
      "[CV] END bagging_fraction=0.9586870073909558, bagging_freq=1, feature_fraction=0.5951266737706333, learning_rate=0.0788208733345129, max_depth=8, metric=rmse, min_child_weight=0.8007679636718978, num_leaves=70; total time=   0.1s\n",
      "[LightGBM] [Warning] bagging_fraction is set=0.685820632688628, subsample=1.0 will be ignored. Current value: bagging_fraction=0.685820632688628\n",
      "[LightGBM] [Warning] feature_fraction is set=0.9782228237557974, colsample_bytree=1.0 will be ignored. Current value: feature_fraction=0.9782228237557974\n",
      "[LightGBM] [Warning] bagging_freq is set=8, subsample_freq=0 will be ignored. Current value: bagging_freq=8\n",
      "[LightGBM] [Warning] bagging_fraction is set=0.685820632688628, subsample=1.0 will be ignored. Current value: bagging_fraction=0.685820632688628\n",
      "[LightGBM] [Warning] feature_fraction is set=0.9782228237557974, colsample_bytree=1.0 will be ignored. Current value: feature_fraction=0.9782228237557974\n",
      "[LightGBM] [Warning] bagging_freq is set=8, subsample_freq=0 will be ignored. Current value: bagging_freq=8\n",
      "[LightGBM] [Warning] bagging_fraction is set=0.685820632688628, subsample=1.0 will be ignored. Current value: bagging_fraction=0.685820632688628\n",
      "[LightGBM] [Warning] feature_fraction is set=0.9782228237557974, colsample_bytree=1.0 will be ignored. Current value: feature_fraction=0.9782228237557974\n",
      "[LightGBM] [Warning] bagging_freq is set=8, subsample_freq=0 will be ignored. Current value: bagging_freq=8\n",
      "[LightGBM] [Warning] bagging_fraction is set=0.7094697174520534, subsample=1.0 will be ignored. Current value: bagging_fraction=0.7094697174520534\n",
      "[LightGBM] [Warning] feature_fraction is set=0.7883178213495946, colsample_bytree=1.0 will be ignored. Current value: feature_fraction=0.7883178213495946\n",
      "[LightGBM] [Warning] bagging_freq is set=3, subsample_freq=0 will be ignored. Current value: bagging_freq=3\n",
      "[LightGBM] [Warning] bagging_fraction is set=0.7094697174520534, subsample=1.0 will be ignored. Current value: bagging_fraction=0.7094697174520534\n",
      "[LightGBM] [Warning] feature_fraction is set=0.7883178213495946, colsample_bytree=1.0 will be ignored. Current value: feature_fraction=0.7883178213495946\n",
      "[LightGBM] [Warning] bagging_freq is set=3, subsample_freq=0 will be ignored. Current value: bagging_freq=3\n",
      "[CV] END bagging_fraction=0.9586870073909558, bagging_freq=1, feature_fraction=0.5951266737706333, learning_rate=0.0788208733345129, max_depth=8, metric=rmse, min_child_weight=0.8007679636718978, num_leaves=70; total time=   0.1s\n",
      "[LightGBM] [Warning] bagging_fraction is set=0.7094697174520534, subsample=1.0 will be ignored. Current value: bagging_fraction=0.7094697174520534\n",
      "[LightGBM] [Warning] feature_fraction is set=0.7883178213495946, colsample_bytree=1.0 will be ignored. Current value: feature_fraction=0.7883178213495946\n",
      "[LightGBM] [Warning] bagging_freq is set=3, subsample_freq=0 will be ignored. Current value: bagging_freq=3\n",
      "[CV] END bagging_fraction=0.7094697174520534, bagging_freq=3, feature_fraction=0.7883178213495946, learning_rate=0.08204481542623279, max_depth=4, metric=rmse, min_child_weight=0.8979438679562627, num_leaves=155; total time=   0.1s\n",
      "[LightGBM] [Warning] bagging_fraction is set=0.7094697174520534, subsample=1.0 will be ignored. Current value: bagging_fraction=0.7094697174520534\n",
      "[LightGBM] [Warning] feature_fraction is set=0.7883178213495946, colsample_bytree=1.0 will be ignored. Current value: feature_fraction=0.7883178213495946\n",
      "[LightGBM] [Warning] bagging_freq is set=3, subsample_freq=0 will be ignored. Current value: bagging_freq=3\n",
      "[CV] END bagging_fraction=0.7094697174520534, bagging_freq=3, feature_fraction=0.7883178213495946, learning_rate=0.08204481542623279, max_depth=4, metric=rmse, min_child_weight=0.8979438679562627, num_leaves=155; total time=   0.1s\n",
      "[CV] END bagging_fraction=0.7763425746042436, bagging_freq=4, feature_fraction=0.654058876231083, learning_rate=0.03318816190282323, max_depth=11, metric=mae, min_child_weight=0.6505958672101799, num_leaves=374; total time=   0.2s\n",
      "[LightGBM] [Warning] bagging_fraction is set=0.7094697174520534, subsample=1.0 will be ignored. Current value: bagging_fraction=0.7094697174520534\n",
      "[LightGBM] [Warning] feature_fraction is set=0.7883178213495946, colsample_bytree=1.0 will be ignored. Current value: feature_fraction=0.7883178213495946\n",
      "[LightGBM] [Warning] bagging_freq is set=3, subsample_freq=0 will be ignored. Current value: bagging_freq=3\n",
      "[LightGBM] [Warning] bagging_fraction is set=0.5426100683799361, subsample=1.0 will be ignored. Current value: bagging_fraction=0.5426100683799361\n",
      "[LightGBM] [Warning] feature_fraction is set=0.8281674202988434, colsample_bytree=1.0 will be ignored. Current value: feature_fraction=0.8281674202988434\n",
      "[LightGBM] [Warning] bagging_freq is set=4, subsample_freq=0 will be ignored. Current value: bagging_freq=4\n",
      "[CV] END bagging_fraction=0.7094697174520534, bagging_freq=3, feature_fraction=0.7883178213495946, learning_rate=0.08204481542623279, max_depth=4, metric=rmse, min_child_weight=0.8979438679562627, num_leaves=155; total time=   0.1s\n",
      "[CV] END bagging_fraction=0.7763425746042436, bagging_freq=4, feature_fraction=0.654058876231083, learning_rate=0.03318816190282323, max_depth=11, metric=mae, min_child_weight=0.6505958672101799, num_leaves=374; total time=   0.4s\n",
      "[LightGBM] [Warning] bagging_fraction is set=0.5426100683799361, subsample=1.0 will be ignored. Current value: bagging_fraction=0.5426100683799361\n",
      "[LightGBM] [Warning] feature_fraction is set=0.8281674202988434, colsample_bytree=1.0 will be ignored. Current value: feature_fraction=0.8281674202988434\n",
      "[LightGBM] [Warning] bagging_freq is set=4, subsample_freq=0 will be ignored. Current value: bagging_freq=4\n",
      "[CV] END bagging_fraction=0.685820632688628, bagging_freq=8, feature_fraction=0.9782228237557974, learning_rate=0.10464450279923139, max_depth=10, metric=rmse, min_child_weight=0.12256462715634941, num_leaves=318; total time=   0.2s\n",
      "[LightGBM] [Warning] bagging_fraction is set=0.5426100683799361, subsample=1.0 will be ignored. Current value: bagging_fraction=0.5426100683799361\n",
      "[LightGBM] [Warning] feature_fraction is set=0.8281674202988434, colsample_bytree=1.0 will be ignored. Current value: feature_fraction=0.8281674202988434\n",
      "[LightGBM] [Warning] bagging_freq is set=4, subsample_freq=0 will be ignored. Current value: bagging_freq=4\n",
      "[CV] END bagging_fraction=0.7094697174520534, bagging_freq=3, feature_fraction=0.7883178213495946, learning_rate=0.08204481542623279, max_depth=4, metric=rmse, min_child_weight=0.8979438679562627, num_leaves=155; total time=   0.1s\n",
      "[CV] END bagging_fraction=0.7094697174520534, bagging_freq=3, feature_fraction=0.7883178213495946, learning_rate=0.08204481542623279, max_depth=4, metric=rmse, min_child_weight=0.8979438679562627, num_leaves=155; total time=   0.1s\n",
      "[LightGBM] [Warning] bagging_fraction is set=0.5426100683799361, subsample=1.0 will be ignored. Current value: bagging_fraction=0.5426100683799361\n",
      "[LightGBM] [Warning] feature_fraction is set=0.8281674202988434, colsample_bytree=1.0 will be ignored. Current value: feature_fraction=0.8281674202988434\n",
      "[LightGBM] [Warning] bagging_freq is set=4, subsample_freq=0 will be ignored. Current value: bagging_freq=4\n",
      "[LightGBM] [Warning] bagging_fraction is set=0.5426100683799361, subsample=1.0 will be ignored. Current value: bagging_fraction=0.5426100683799361\n",
      "[LightGBM] [Warning] feature_fraction is set=0.8281674202988434, colsample_bytree=1.0 will be ignored. Current value: feature_fraction=0.8281674202988434\n",
      "[LightGBM] [Warning] bagging_freq is set=4, subsample_freq=0 will be ignored. Current value: bagging_freq=4\n",
      "[CV] END bagging_fraction=0.685820632688628, bagging_freq=8, feature_fraction=0.9782228237557974, learning_rate=0.10464450279923139, max_depth=10, metric=rmse, min_child_weight=0.12256462715634941, num_leaves=318; total time=   0.2s\n",
      "[LightGBM] [Warning] bagging_fraction is set=0.6072091150591759, subsample=1.0 will be ignored. Current value: bagging_fraction=0.6072091150591759\n",
      "[LightGBM] [Warning] feature_fraction is set=0.5387186010824858, colsample_bytree=1.0 will be ignored. Current value: feature_fraction=0.5387186010824858\n",
      "[CV] END bagging_fraction=0.685820632688628, bagging_freq=8, feature_fraction=0.9782228237557974, learning_rate=0.10464450279923139, max_depth=10, metric=rmse, min_child_weight=0.12256462715634941, num_leaves=318; total time=   0.2s\n",
      "[LightGBM] [Warning] bagging_freq is set=2, subsample_freq=0 will be ignored. Current value: bagging_freq=2\n",
      "[LightGBM] [Warning] bagging_fraction is set=0.6072091150591759, subsample=1.0 will be ignored. Current value: bagging_fraction=0.6072091150591759\n",
      "[LightGBM] [Warning] feature_fraction is set=0.5387186010824858, colsample_bytree=1.0 will be ignored. Current value: feature_fraction=0.5387186010824858\n",
      "[LightGBM] [Warning] bagging_freq is set=2, subsample_freq=0 will be ignored. Current value: bagging_freq=2\n",
      "[CV] END bagging_fraction=0.685820632688628, bagging_freq=8, feature_fraction=0.9782228237557974, learning_rate=0.10464450279923139, max_depth=10, metric=rmse, min_child_weight=0.12256462715634941, num_leaves=318; total time=   0.2s\n",
      "[CV] END bagging_fraction=0.685820632688628, bagging_freq=8, feature_fraction=0.9782228237557974, learning_rate=0.10464450279923139, max_depth=10, metric=rmse, min_child_weight=0.12256462715634941, num_leaves=318; total time=   0.2s\n",
      "[LightGBM] [Warning] bagging_fraction is set=0.6072091150591759, subsample=1.0 will be ignored. Current value: bagging_fraction=0.6072091150591759\n",
      "[LightGBM] [Warning] feature_fraction is set=0.5387186010824858, colsample_bytree=1.0 will be ignored. Current value: feature_fraction=0.5387186010824858\n",
      "[LightGBM] [Warning] bagging_freq is set=2, subsample_freq=0 will be ignored. Current value: bagging_freq=2\n",
      "[LightGBM] [Warning] bagging_fraction is set=0.6072091150591759, subsample=1.0 will be ignored. Current value: bagging_fraction=0.6072091150591759\n",
      "[LightGBM] [Warning] feature_fraction is set=0.5387186010824858, colsample_bytree=1.0 will be ignored. Current value: feature_fraction=0.5387186010824858\n",
      "[LightGBM] [Warning] bagging_freq is set=2, subsample_freq=0 will be ignored. Current value: bagging_freq=2\n",
      "[LightGBM] [Warning] bagging_fraction is set=0.6072091150591759, subsample=1.0 will be ignored. Current value: bagging_fraction=0.6072091150591759\n",
      "[LightGBM] [Warning] feature_fraction is set=0.5387186010824858, colsample_bytree=1.0 will be ignored. Current value: feature_fraction=0.5387186010824858\n",
      "[LightGBM] [Warning] bagging_freq is set=2, subsample_freq=0 will be ignored. Current value: bagging_freq=2\n",
      "[CV] END bagging_fraction=0.6072091150591759, bagging_freq=2, feature_fraction=0.5387186010824858, learning_rate=0.09119999748394617, max_depth=5, metric=rmse, min_child_weight=0.9788501680736011, num_leaves=265; total time=   0.1s\n",
      "[CV] END bagging_fraction=0.6072091150591759, bagging_freq=2, feature_fraction=0.5387186010824858, learning_rate=0.09119999748394617, max_depth=5, metric=rmse, min_child_weight=0.9788501680736011, num_leaves=265; total time=   0.1s\n",
      "[CV] END bagging_fraction=0.6072091150591759, bagging_freq=2, feature_fraction=0.5387186010824858, learning_rate=0.09119999748394617, max_depth=5, metric=rmse, min_child_weight=0.9788501680736011, num_leaves=265; total time=   0.1s\n",
      "[CV] END bagging_fraction=0.6072091150591759, bagging_freq=2, feature_fraction=0.5387186010824858, learning_rate=0.09119999748394617, max_depth=5, metric=rmse, min_child_weight=0.9788501680736011, num_leaves=265; total time=   0.1s\n",
      "[CV] END bagging_fraction=0.6072091150591759, bagging_freq=2, feature_fraction=0.5387186010824858, learning_rate=0.09119999748394617, max_depth=5, metric=rmse, min_child_weight=0.9788501680736011, num_leaves=265; total time=   0.1s\n",
      "[LightGBM] [Warning] bagging_fraction is set=0.5018562457080813, subsample=1.0 will be ignored. Current value: bagging_fraction=0.5018562457080813\n",
      "[LightGBM] [Warning] feature_fraction is set=0.8629352602462892, colsample_bytree=1.0 will be ignored. Current value: feature_fraction=0.8629352602462892\n",
      "[LightGBM] [Warning] bagging_freq is set=9, subsample_freq=0 will be ignored. Current value: bagging_freq=9\n",
      "[LightGBM] [Warning] bagging_fraction is set=0.5018562457080813, subsample=1.0 will be ignored. Current value: bagging_fraction=0.5018562457080813[LightGBM] [Warning] bagging_fraction is set=0.5018562457080813, subsample=1.0 will be ignored. Current value: bagging_fraction=0.5018562457080813\n",
      "[LightGBM] [Warning] feature_fraction is set=0.8629352602462892, colsample_bytree=1.0 will be ignored. Current value: feature_fraction=0.8629352602462892\n",
      "[LightGBM] [Warning] bagging_freq is set=9, subsample_freq=0 will be ignored. Current value: bagging_freq=9\n",
      "\n",
      "[LightGBM] [Warning] feature_fraction is set=0.8629352602462892, colsample_bytree=1.0 will be ignored. Current value: feature_fraction=0.8629352602462892\n",
      "[LightGBM] [Warning] bagging_freq is set=9, subsample_freq=0 will be ignored. Current value: bagging_freq=9\n",
      "[CV] END bagging_fraction=0.5426100683799361, bagging_freq=4, feature_fraction=0.8281674202988434, learning_rate=0.01121931409663465, max_depth=12, metric=mae, min_child_weight=0.29270582153332025, num_leaves=385; total time=   0.2s\n",
      "[LightGBM] [Warning] bagging_fraction is set=0.5018562457080813, subsample=1.0 will be ignored. Current value: bagging_fraction=0.5018562457080813\n",
      "[LightGBM] [Warning] feature_fraction is set=0.8629352602462892, colsample_bytree=1.0 will be ignored. Current value: feature_fraction=0.8629352602462892\n",
      "[LightGBM] [Warning] bagging_freq is set=9, subsample_freq=0 will be ignored. Current value: bagging_freq=9\n",
      "[LightGBM] [Warning] bagging_fraction is set=0.5018562457080813, subsample=1.0 will be ignored. Current value: bagging_fraction=0.5018562457080813\n",
      "[LightGBM] [Warning] feature_fraction is set=0.8629352602462892, colsample_bytree=1.0 will be ignored. Current value: feature_fraction=0.8629352602462892\n",
      "[LightGBM] [Warning] bagging_freq is set=9, subsample_freq=0 will be ignored. Current value: bagging_freq=9\n",
      "[LightGBM] [Warning] bagging_fraction is set=0.7680828493742121, subsample=1.0 will be ignored. Current value: bagging_fraction=0.7680828493742121\n",
      "[LightGBM] [Warning] feature_fraction is set=0.9395805409454814, colsample_bytree=1.0 will be ignored. Current value: feature_fraction=0.9395805409454814\n",
      "[LightGBM] [Warning] bagging_freq is set=3, subsample_freq=0 will be ignored. Current value: bagging_freq=3\n",
      "[CV] END bagging_fraction=0.5426100683799361, bagging_freq=4, feature_fraction=0.8281674202988434, learning_rate=0.01121931409663465, max_depth=12, metric=mae, min_child_weight=0.29270582153332025, num_leaves=385; total time=   0.2s\n",
      "[CV] END bagging_fraction=0.5426100683799361, bagging_freq=4, feature_fraction=0.8281674202988434, learning_rate=0.01121931409663465, max_depth=12, metric=mae, min_child_weight=0.29270582153332025, num_leaves=385; total time=   0.2s\n",
      "[LightGBM] [Warning] bagging_fraction is set=0.7680828493742121, subsample=1.0 will be ignored. Current value: bagging_fraction=0.7680828493742121\n",
      "[LightGBM] [Warning] feature_fraction is set=0.9395805409454814, colsample_bytree=1.0 will be ignored. Current value: feature_fraction=0.9395805409454814\n",
      "[LightGBM] [Warning] bagging_freq is set=3, subsample_freq=0 will be ignored. Current value: bagging_freq=3\n",
      "[LightGBM] [Warning] bagging_fraction is set=0.7680828493742121, subsample=1.0 will be ignored. Current value: bagging_fraction=0.7680828493742121\n",
      "[LightGBM] [Warning] feature_fraction is set=0.9395805409454814, colsample_bytree=1.0 will be ignored. Current value: feature_fraction=0.9395805409454814\n",
      "[LightGBM] [Warning] bagging_freq is set=3, subsample_freq=0 will be ignored. Current value: bagging_freq=3\n",
      "[CV] END bagging_fraction=0.5426100683799361, bagging_freq=4, feature_fraction=0.8281674202988434, learning_rate=0.01121931409663465, max_depth=12, metric=mae, min_child_weight=0.29270582153332025, num_leaves=385; total time=   0.2s\n",
      "[CV] END bagging_fraction=0.5018562457080813, bagging_freq=9, feature_fraction=0.8629352602462892, learning_rate=0.08429721707669006, max_depth=6, metric=rmse, min_child_weight=0.914957149285876, num_leaves=421; total time=   0.1s\n",
      "[CV] END bagging_fraction=0.5018562457080813, bagging_freq=9, feature_fraction=0.8629352602462892, learning_rate=0.08429721707669006, max_depth=6, metric=rmse, min_child_weight=0.914957149285876, num_leaves=421; total time=   0.1s\n",
      "[LightGBM] [Warning] bagging_fraction is set=0.7680828493742121, subsample=1.0 will be ignored. Current value: bagging_fraction=0.7680828493742121\n",
      "[LightGBM] [Warning] feature_fraction is set=0.9395805409454814, colsample_bytree=1.0 will be ignored. Current value: feature_fraction=0.9395805409454814\n",
      "[LightGBM] [Warning] bagging_freq is set=3, subsample_freq=0 will be ignored. Current value: bagging_freq=3\n",
      "[CV] END bagging_fraction=0.5018562457080813, bagging_freq=9, feature_fraction=0.8629352602462892, learning_rate=0.08429721707669006, max_depth=6, metric=rmse, min_child_weight=0.914957149285876, num_leaves=421; total time=   0.1s\n",
      "[CV] END bagging_fraction=0.5018562457080813, bagging_freq=9, feature_fraction=0.8629352602462892, learning_rate=0.08429721707669006, max_depth=6, metric=rmse, min_child_weight=0.914957149285876, num_leaves=421; total time=   0.1s\n",
      "[LightGBM] [Warning] bagging_fraction is set=0.7680828493742121, subsample=1.0 will be ignored. Current value: bagging_fraction=0.7680828493742121\n",
      "[LightGBM] [Warning] feature_fraction is set=0.9395805409454814, colsample_bytree=1.0 will be ignored. Current value: feature_fraction=0.9395805409454814\n",
      "[LightGBM] [Warning] bagging_freq is set=3, subsample_freq=0 will be ignored. Current value: bagging_freq=3\n",
      "[LightGBM] [Warning] bagging_fraction is set=0.6354633697395125, subsample=1.0 will be ignored. Current value: bagging_fraction=0.6354633697395125\n",
      "[LightGBM] [Warning] feature_fraction is set=0.649535971054733, colsample_bytree=1.0 will be ignored. Current value: feature_fraction=0.649535971054733\n",
      "[LightGBM] [Warning] bagging_freq is set=1, subsample_freq=0 will be ignored. Current value: bagging_freq=1\n",
      "[CV] END bagging_fraction=0.5426100683799361, bagging_freq=4, feature_fraction=0.8281674202988434, learning_rate=0.01121931409663465, max_depth=12, metric=mae, min_child_weight=0.29270582153332025, num_leaves=385; total time=   0.3s\n",
      "[CV] END bagging_fraction=0.5018562457080813, bagging_freq=9, feature_fraction=0.8629352602462892, learning_rate=0.08429721707669006, max_depth=6, metric=rmse, min_child_weight=0.914957149285876, num_leaves=421; total time=   0.1s\n",
      "[LightGBM] [Warning] bagging_fraction is set=0.6354633697395125, subsample=1.0 will be ignored. Current value: bagging_fraction=0.6354633697395125\n",
      "[LightGBM] [Warning] feature_fraction is set=0.649535971054733, colsample_bytree=1.0 will be ignored. Current value: feature_fraction=0.649535971054733\n",
      "[LightGBM] [Warning] bagging_freq is set=1, subsample_freq=0 will be ignored. Current value: bagging_freq=1\n",
      "[LightGBM] [Warning] bagging_fraction is set=0.6354633697395125, subsample=1.0 will be ignored. Current value: bagging_fraction=0.6354633697395125\n",
      "[LightGBM] [Warning] feature_fraction is set=0.649535971054733, colsample_bytree=1.0 will be ignored. Current value: feature_fraction=0.649535971054733\n",
      "[LightGBM] [Warning] bagging_freq is set=1, subsample_freq=0 will be ignored. Current value: bagging_freq=1\n",
      "[LightGBM] [Warning] bagging_fraction is set=0.6354633697395125, subsample=1.0 will be ignored. Current value: bagging_fraction=0.6354633697395125\n",
      "[LightGBM] [Warning] feature_fraction is set=0.649535971054733, colsample_bytree=1.0 will be ignored. Current value: feature_fraction=0.649535971054733\n",
      "[LightGBM] [Warning] bagging_freq is set=1, subsample_freq=0 will be ignored. Current value: bagging_freq=1\n",
      "[LightGBM] [Warning] bagging_fraction is set=0.6354633697395125, subsample=1.0 will be ignored. Current value: bagging_fraction=0.6354633697395125\n",
      "[LightGBM] [Warning] feature_fraction is set=0.649535971054733, colsample_bytree=1.0 will be ignored. Current value: feature_fraction=0.649535971054733\n",
      "[LightGBM] [Warning] bagging_freq is set=1, subsample_freq=0 will be ignored. Current value: bagging_freq=1\n",
      "[CV] END bagging_fraction=0.6354633697395125, bagging_freq=1, feature_fraction=0.649535971054733, learning_rate=0.07670511668573472, max_depth=12, metric=mae, min_child_weight=0.5787137196793607, num_leaves=435; total time=   0.2s\n",
      "[CV] END bagging_fraction=0.6354633697395125, bagging_freq=1, feature_fraction=0.649535971054733, learning_rate=0.07670511668573472, max_depth=12, metric=mae, min_child_weight=0.5787137196793607, num_leaves=435; total time=   0.2s\n",
      "[CV] END bagging_fraction=0.6354633697395125, bagging_freq=1, feature_fraction=0.649535971054733, learning_rate=0.07670511668573472, max_depth=12, metric=mae, min_child_weight=0.5787137196793607, num_leaves=435; total time=   0.2s\n",
      "[CV] END bagging_fraction=0.7680828493742121, bagging_freq=3, feature_fraction=0.9395805409454814, learning_rate=0.027959297317984327, max_depth=13, metric=rmse, min_child_weight=0.19297292008372258, num_leaves=412; total time=   0.3s\n",
      "[CV] END bagging_fraction=0.6354633697395125, bagging_freq=1, feature_fraction=0.649535971054733, learning_rate=0.07670511668573472, max_depth=12, metric=mae, min_child_weight=0.5787137196793607, num_leaves=435; total time=   0.2s\n",
      "[LightGBM] [Warning] bagging_fraction is set=0.5428141713482842, subsample=1.0 will be ignored. Current value: bagging_fraction=0.5428141713482842\n",
      "[LightGBM] [Warning] feature_fraction is set=0.852471396143347, colsample_bytree=1.0 will be ignored. Current value: feature_fraction=0.852471396143347\n",
      "[LightGBM] [Warning] bagging_freq is set=7, subsample_freq=0 will be ignored. Current value: bagging_freq=7\n",
      "[LightGBM] [Warning] bagging_fraction is set=0.5428141713482842, subsample=1.0 will be ignored. Current value: bagging_fraction=0.5428141713482842\n",
      "[LightGBM] [Warning] feature_fraction is set=0.852471396143347, colsample_bytree=1.0 will be ignored. Current value: feature_fraction=0.852471396143347\n",
      "[LightGBM] [Warning] bagging_freq is set=7, subsample_freq=0 will be ignored. Current value: bagging_freq=7\n",
      "[CV] END bagging_fraction=0.6354633697395125, bagging_freq=1, feature_fraction=0.649535971054733, learning_rate=0.07670511668573472, max_depth=12, metric=mae, min_child_weight=0.5787137196793607, num_leaves=435; total time=   0.2s\n",
      "[LightGBM] [Warning] bagging_fraction is set=0.5428141713482842, subsample=1.0 will be ignored. Current value: bagging_fraction=0.5428141713482842\n",
      "[LightGBM] [Warning] feature_fraction is set=0.852471396143347, colsample_bytree=1.0 will be ignored. Current value: feature_fraction=0.852471396143347\n",
      "[LightGBM] [Warning] bagging_freq is set=7, subsample_freq=0 will be ignored. Current value: bagging_freq=7\n",
      "[LightGBM] [Warning] bagging_fraction is set=0.5428141713482842, subsample=1.0 will be ignored. Current value: bagging_fraction=0.5428141713482842\n",
      "[LightGBM] [Warning] feature_fraction is set=0.852471396143347, colsample_bytree=1.0 will be ignored. Current value: feature_fraction=0.852471396143347\n",
      "[LightGBM] [Warning] bagging_freq is set=7, subsample_freq=0 will be ignored. Current value: bagging_freq=7\n",
      "[LightGBM] [Warning] bagging_fraction is set=0.5428141713482842, subsample=1.0 will be ignored. Current value: bagging_fraction=0.5428141713482842\n",
      "[LightGBM] [Warning] feature_fraction is set=0.852471396143347, colsample_bytree=1.0 will be ignored. Current value: feature_fraction=0.852471396143347\n",
      "[LightGBM] [Warning] bagging_freq is set=7, subsample_freq=0 will be ignored. Current value: bagging_freq=7\n",
      "[LightGBM] [Warning] bagging_fraction is set=0.8805261257168298, subsample=1.0 will be ignored. Current value: bagging_fraction=0.8805261257168298\n",
      "[LightGBM] [Warning] feature_fraction is set=0.61913579334737, colsample_bytree=1.0 will be ignored. Current value: feature_fraction=0.61913579334737\n",
      "[LightGBM] [Warning] bagging_freq is set=6, subsample_freq=0 will be ignored. Current value: bagging_freq=6\n",
      "[CV] END bagging_fraction=0.7680828493742121, bagging_freq=3, feature_fraction=0.9395805409454814, learning_rate=0.027959297317984327, max_depth=13, metric=rmse, min_child_weight=0.19297292008372258, num_leaves=412; total time=   0.3s\n",
      "[LightGBM] [Warning] bagging_fraction is set=0.8805261257168298, subsample=1.0 will be ignored. Current value: bagging_fraction=0.8805261257168298\n",
      "[LightGBM] [Warning] feature_fraction is set=0.61913579334737, colsample_bytree=1.0 will be ignored. Current value: feature_fraction=0.61913579334737\n",
      "[LightGBM] [Warning] bagging_freq is set=6, subsample_freq=0 will be ignored. Current value: bagging_freq=6\n",
      "[CV] END bagging_fraction=0.7680828493742121, bagging_freq=3, feature_fraction=0.9395805409454814, learning_rate=0.027959297317984327, max_depth=13, metric=rmse, min_child_weight=0.19297292008372258, num_leaves=412; total time=   0.3s\n",
      "[CV] END bagging_fraction=0.7680828493742121, bagging_freq=3, feature_fraction=0.9395805409454814, learning_rate=0.027959297317984327, max_depth=13, metric=rmse, min_child_weight=0.19297292008372258, num_leaves=412; total time=   0.3s\n",
      "[LightGBM] [Warning] bagging_fraction is set=0.8805261257168298, subsample=1.0 will be ignored. Current value: bagging_fraction=0.8805261257168298\n",
      "[LightGBM] [Warning] feature_fraction is set=0.61913579334737, colsample_bytree=1.0 will be ignored. Current value: feature_fraction=0.61913579334737\n",
      "[LightGBM] [Warning] bagging_freq is set=6, subsample_freq=0 will be ignored. Current value: bagging_freq=6\n",
      "[LightGBM] [Warning] bagging_fraction is set=0.8805261257168298, subsample=1.0 will be ignored. Current value: bagging_fraction=0.8805261257168298\n",
      "[LightGBM] [Warning] feature_fraction is set=0.61913579334737, colsample_bytree=1.0 will be ignored. Current value: feature_fraction=0.61913579334737\n",
      "[LightGBM] [Warning] bagging_freq is set=6, subsample_freq=0 will be ignored. Current value: bagging_freq=6\n",
      "[CV] END bagging_fraction=0.5428141713482842, bagging_freq=7, feature_fraction=0.852471396143347, learning_rate=0.022826706237046496, max_depth=8, metric=mae, min_child_weight=0.828617662251895, num_leaves=21; total time=   0.1s\n",
      "[CV] END bagging_fraction=0.7680828493742121, bagging_freq=3, feature_fraction=0.9395805409454814, learning_rate=0.027959297317984327, max_depth=13, metric=rmse, min_child_weight=0.19297292008372258, num_leaves=412; total time=   0.3s\n",
      "[LightGBM] [Warning] bagging_fraction is set=0.8805261257168298, subsample=1.0 will be ignored. Current value: bagging_fraction=0.8805261257168298\n",
      "[LightGBM] [Warning] feature_fraction is set=0.61913579334737, colsample_bytree=1.0 will be ignored. Current value: feature_fraction=0.61913579334737\n",
      "[LightGBM] [Warning] bagging_freq is set=6, subsample_freq=0 will be ignored. Current value: bagging_freq=6\n",
      "[CV] END bagging_fraction=0.5428141713482842, bagging_freq=7, feature_fraction=0.852471396143347, learning_rate=0.022826706237046496, max_depth=8, metric=mae, min_child_weight=0.828617662251895, num_leaves=21; total time=   0.1s\n",
      "[LightGBM] [Warning] bagging_fraction is set=0.8023305500327934, subsample=1.0 will be ignored. Current value: bagging_fraction=0.8023305500327934\n",
      "[LightGBM] [Warning] feature_fraction is set=0.7569478976091695, colsample_bytree=1.0 will be ignored. Current value: feature_fraction=0.7569478976091695\n",
      "[LightGBM] [Warning] bagging_freq is set=2, subsample_freq=0 will be ignored. Current value: bagging_freq=2\n",
      "[LightGBM] [Warning] bagging_fraction is set=0.8023305500327934, subsample=1.0 will be ignored. Current value: bagging_fraction=0.8023305500327934\n",
      "[LightGBM] [Warning] feature_fraction is set=0.7569478976091695, colsample_bytree=1.0 will be ignored. Current value: feature_fraction=0.7569478976091695\n",
      "[LightGBM] [Warning] bagging_freq is set=2, subsample_freq=0 will be ignored. Current value: bagging_freq=2\n",
      "[CV] END bagging_fraction=0.5428141713482842, bagging_freq=7, feature_fraction=0.852471396143347, learning_rate=0.022826706237046496, max_depth=8, metric=mae, min_child_weight=0.828617662251895, num_leaves=21; total time=   0.1s\n",
      "[CV] END bagging_fraction=0.5428141713482842, bagging_freq=7, feature_fraction=0.852471396143347, learning_rate=0.022826706237046496, max_depth=8, metric=mae, min_child_weight=0.828617662251895, num_leaves=21; total time=   0.1s\n",
      "[CV] END bagging_fraction=0.5428141713482842, bagging_freq=7, feature_fraction=0.852471396143347, learning_rate=0.022826706237046496, max_depth=8, metric=mae, min_child_weight=0.828617662251895, num_leaves=21; total time=   0.1s\n",
      "[LightGBM] [Warning] bagging_fraction is set=0.8023305500327934, subsample=1.0 will be ignored. Current value: bagging_fraction=0.8023305500327934\n",
      "[LightGBM] [Warning] feature_fraction is set=0.7569478976091695, colsample_bytree=1.0 will be ignored. Current value: feature_fraction=0.7569478976091695\n",
      "[LightGBM] [Warning] bagging_freq is set=2, subsample_freq=0 will be ignored. Current value: bagging_freq=2\n",
      "[CV] END bagging_fraction=0.8805261257168298, bagging_freq=6, feature_fraction=0.61913579334737, learning_rate=0.08866173526173192, max_depth=6, metric=mae, min_child_weight=0.11189552590682061, num_leaves=161; total time=   0.1s\n",
      "[LightGBM] [Warning] bagging_fraction is set=0.8023305500327934, subsample=1.0 will be ignored. Current value: bagging_fraction=0.8023305500327934\n",
      "[LightGBM] [Warning] feature_fraction is set=0.7569478976091695, colsample_bytree=1.0 will be ignored. Current value: feature_fraction=0.7569478976091695\n",
      "[LightGBM] [Warning] bagging_freq is set=2, subsample_freq=0 will be ignored. Current value: bagging_freq=2\n",
      "[LightGBM] [Warning] bagging_fraction is set=0.6325679913909451, subsample=1.0 will be ignored. Current value: bagging_fraction=0.6325679913909451\n",
      "[LightGBM] [Warning] feature_fraction is set=0.7028306889253144, colsample_bytree=1.0 will be ignored. Current value: feature_fraction=0.7028306889253144\n",
      "[LightGBM] [Warning] bagging_freq is set=6, subsample_freq=0 will be ignored. Current value: bagging_freq=6\n",
      "[LightGBM] [Warning] bagging_fraction is set=0.8023305500327934, subsample=1.0 will be ignored. Current value: bagging_fraction=0.8023305500327934\n",
      "[LightGBM] [Warning] feature_fraction is set=0.7569478976091695, colsample_bytree=1.0 will be ignored. Current value: feature_fraction=0.7569478976091695\n",
      "[LightGBM] [Warning] bagging_freq is set=2, subsample_freq=0 will be ignored. Current value: bagging_freq=2\n",
      "[CV] END bagging_fraction=0.8805261257168298, bagging_freq=6, feature_fraction=0.61913579334737, learning_rate=0.08866173526173192, max_depth=6, metric=mae, min_child_weight=0.11189552590682061, num_leaves=161; total time=   0.1s\n",
      "[CV] END bagging_fraction=0.8805261257168298, bagging_freq=6, feature_fraction=0.61913579334737, learning_rate=0.08866173526173192, max_depth=6, metric=mae, min_child_weight=0.11189552590682061, num_leaves=161; total time=   0.1s\n",
      "[LightGBM] [Warning] bagging_fraction is set=0.6325679913909451, subsample=1.0 will be ignored. Current value: bagging_fraction=0.6325679913909451\n",
      "[LightGBM] [Warning] feature_fraction is set=0.7028306889253144, colsample_bytree=1.0 will be ignored. Current value: feature_fraction=0.7028306889253144\n",
      "[LightGBM] [Warning] bagging_freq is set=6, subsample_freq=0 will be ignored. Current value: bagging_freq=6\n",
      "[LightGBM] [Warning] bagging_fraction is set=0.6325679913909451, subsample=1.0 will be ignored. Current value: bagging_fraction=0.6325679913909451\n",
      "[LightGBM] [Warning] feature_fraction is set=0.7028306889253144, colsample_bytree=1.0 will be ignored. Current value: feature_fraction=0.7028306889253144\n",
      "[LightGBM] [Warning] bagging_freq is set=6, subsample_freq=0 will be ignored. Current value: bagging_freq=6\n",
      "[CV] END bagging_fraction=0.8805261257168298, bagging_freq=6, feature_fraction=0.61913579334737, learning_rate=0.08866173526173192, max_depth=6, metric=mae, min_child_weight=0.11189552590682061, num_leaves=161; total time=   0.1s\n",
      "[LightGBM] [Warning] bagging_fraction is set=0.6325679913909451, subsample=1.0 will be ignored. Current value: bagging_fraction=0.6325679913909451\n",
      "[LightGBM] [Warning] feature_fraction is set=0.7028306889253144, colsample_bytree=1.0 will be ignored. Current value: feature_fraction=0.7028306889253144\n",
      "[LightGBM] [Warning] bagging_freq is set=6, subsample_freq=0 will be ignored. Current value: bagging_freq=6\n",
      "[CV] END bagging_fraction=0.8805261257168298, bagging_freq=6, feature_fraction=0.61913579334737, learning_rate=0.08866173526173192, max_depth=6, metric=mae, min_child_weight=0.11189552590682061, num_leaves=161; total time=   0.1s\n",
      "[LightGBM] [Warning] bagging_fraction is set=0.6325679913909451, subsample=1.0 will be ignored. Current value: bagging_fraction=0.6325679913909451\n",
      "[LightGBM] [Warning] feature_fraction is set=0.7028306889253144, colsample_bytree=1.0 will be ignored. Current value: feature_fraction=0.7028306889253144\n",
      "[LightGBM] [Warning] bagging_freq is set=6, subsample_freq=0 will be ignored. Current value: bagging_freq=6\n",
      "[CV] END bagging_fraction=0.6325679913909451, bagging_freq=6, feature_fraction=0.7028306889253144, learning_rate=0.02317347004233661, max_depth=14, metric=mae, min_child_weight=0.6995534050394482, num_leaves=25; total time=   0.1s\n",
      "[CV] END bagging_fraction=0.8023305500327934, bagging_freq=2, feature_fraction=0.7569478976091695, learning_rate=0.047292388831513085, max_depth=9, metric=rmse, min_child_weight=0.35052862258974826, num_leaves=481; total time=   0.2s\n",
      "[LightGBM] [Warning] bagging_fraction is set=0.8724507270733639, subsample=1.0 will be ignored. Current value: bagging_fraction=0.8724507270733639\n",
      "[LightGBM] [Warning] feature_fraction is set=0.9352653822607034, colsample_bytree=1.0 will be ignored. Current value: feature_fraction=0.9352653822607034\n",
      "[LightGBM] [Warning] bagging_freq is set=6, subsample_freq=0 will be ignored. Current value: bagging_freq=6\n",
      "[LightGBM] [Warning] bagging_fraction is set=0.8724507270733639, subsample=1.0 will be ignored. Current value: bagging_fraction=0.8724507270733639\n",
      "[LightGBM] [Warning] feature_fraction is set=0.9352653822607034, colsample_bytree=1.0 will be ignored. Current value: feature_fraction=0.9352653822607034\n",
      "[LightGBM] [Warning] bagging_freq is set=6, subsample_freq=0 will be ignored. Current value: bagging_freq=6\n",
      "[CV] END bagging_fraction=0.6325679913909451, bagging_freq=6, feature_fraction=0.7028306889253144, learning_rate=0.02317347004233661, max_depth=14, metric=mae, min_child_weight=0.6995534050394482, num_leaves=25; total time=   0.1s\n",
      "[CV] END bagging_fraction=0.6325679913909451, bagging_freq=6, feature_fraction=0.7028306889253144, learning_rate=0.02317347004233661, max_depth=14, metric=mae, min_child_weight=0.6995534050394482, num_leaves=25; total time=   0.1s\n",
      "[LightGBM] [Warning] bagging_fraction is set=0.8724507270733639, subsample=1.0 will be ignored. Current value: bagging_fraction=0.8724507270733639\n",
      "[LightGBM] [Warning] feature_fraction is set=0.9352653822607034, colsample_bytree=1.0 will be ignored. Current value: feature_fraction=0.9352653822607034\n",
      "[LightGBM] [Warning] bagging_freq is set=6, subsample_freq=0 will be ignored. Current value: bagging_freq=6\n",
      "[LightGBM] [Warning] bagging_fraction is set=0.8724507270733639, subsample=1.0 will be ignored. Current value: bagging_fraction=0.8724507270733639\n",
      "[LightGBM] [Warning] feature_fraction is set=0.9352653822607034, colsample_bytree=1.0 will be ignored. Current value: feature_fraction=0.9352653822607034\n",
      "[LightGBM] [Warning] bagging_freq is set=6, subsample_freq=0 will be ignored. Current value: bagging_freq=6\n",
      "[CV] END bagging_fraction=0.8023305500327934, bagging_freq=2, feature_fraction=0.7569478976091695, learning_rate=0.047292388831513085, max_depth=9, metric=rmse, min_child_weight=0.35052862258974826, num_leaves=481; total time=   0.2s\n",
      "[CV] END bagging_fraction=0.6325679913909451, bagging_freq=6, feature_fraction=0.7028306889253144, learning_rate=0.02317347004233661, max_depth=14, metric=mae, min_child_weight=0.6995534050394482, num_leaves=25; total time=   0.1s\n",
      "[LightGBM] [Warning] bagging_fraction is set=0.8724507270733639, subsample=1.0 will be ignored. Current value: bagging_fraction=0.8724507270733639\n",
      "[LightGBM] [Warning] feature_fraction is set=0.9352653822607034, colsample_bytree=1.0 will be ignored. Current value: feature_fraction=0.9352653822607034\n",
      "[LightGBM] [Warning] bagging_freq is set=6, subsample_freq=0 will be ignored. Current value: bagging_freq=6\n",
      "[LightGBM] [Warning] bagging_fraction is set=0.9533029641617489, subsample=1.0 will be ignored. Current value: bagging_fraction=0.9533029641617489\n",
      "[LightGBM] [Warning] feature_fraction is set=0.5695351652968896, colsample_bytree=1.0 will be ignored. Current value: feature_fraction=0.5695351652968896\n",
      "[LightGBM] [Warning] bagging_freq is set=9, subsample_freq=0 will be ignored. Current value: bagging_freq=9\n",
      "[CV] END bagging_fraction=0.8023305500327934, bagging_freq=2, feature_fraction=0.7569478976091695, learning_rate=0.047292388831513085, max_depth=9, metric=rmse, min_child_weight=0.35052862258974826, num_leaves=481; total time=   0.2s\n",
      "[LightGBM] [Warning] bagging_fraction is set=0.9533029641617489, subsample=1.0 will be ignored. Current value: bagging_fraction=0.9533029641617489\n",
      "[LightGBM] [Warning] feature_fraction is set=0.5695351652968896, colsample_bytree=1.0 will be ignored. Current value: feature_fraction=0.5695351652968896\n",
      "[LightGBM] [Warning] bagging_freq is set=9, subsample_freq=0 will be ignored. Current value: bagging_freq=9\n",
      "[CV] END bagging_fraction=0.6325679913909451, bagging_freq=6, feature_fraction=0.7028306889253144, learning_rate=0.02317347004233661, max_depth=14, metric=mae, min_child_weight=0.6995534050394482, num_leaves=25; total time=   0.1s\n",
      "[LightGBM] [Warning] bagging_fraction is set=0.9533029641617489, subsample=1.0 will be ignored. Current value: bagging_fraction=0.9533029641617489\n",
      "[LightGBM] [Warning] feature_fraction is set=0.5695351652968896, colsample_bytree=1.0 will be ignored. Current value: feature_fraction=0.5695351652968896\n",
      "[LightGBM] [Warning] bagging_freq is set=9, subsample_freq=0 will be ignored. Current value: bagging_freq=9\n",
      "[CV] END bagging_fraction=0.8023305500327934, bagging_freq=2, feature_fraction=0.7569478976091695, learning_rate=0.047292388831513085, max_depth=9, metric=rmse, min_child_weight=0.35052862258974826, num_leaves=481; total time=   0.2s\n",
      "[LightGBM] [Warning] bagging_fraction is set=0.9533029641617489, subsample=1.0 will be ignored. Current value: bagging_fraction=0.9533029641617489\n",
      "[LightGBM] [Warning] feature_fraction is set=0.5695351652968896, colsample_bytree=1.0 will be ignored. Current value: feature_fraction=0.5695351652968896\n",
      "[LightGBM] [Warning] bagging_freq is set=9, subsample_freq=0 will be ignored. Current value: bagging_freq=9\n",
      "[CV] END bagging_fraction=0.8023305500327934, bagging_freq=2, feature_fraction=0.7569478976091695, learning_rate=0.047292388831513085, max_depth=9, metric=rmse, min_child_weight=0.35052862258974826, num_leaves=481; total time=   0.3s\n",
      "[LightGBM] [Warning] bagging_fraction is set=0.9533029641617489, subsample=1.0 will be ignored. Current value: bagging_fraction=0.9533029641617489\n",
      "[LightGBM] [Warning] feature_fraction is set=0.5695351652968896, colsample_bytree=1.0 will be ignored. Current value: feature_fraction=0.5695351652968896\n",
      "[LightGBM] [Warning] bagging_freq is set=9, subsample_freq=0 will be ignored. Current value: bagging_freq=9\n",
      "[CV] END bagging_fraction=0.9533029641617489, bagging_freq=9, feature_fraction=0.5695351652968896, learning_rate=0.04596452578788463, max_depth=10, metric=rmse, min_child_weight=0.734738204994968, num_leaves=483; total time=   0.2s[CV] END bagging_fraction=0.9533029641617489, bagging_freq=9, feature_fraction=0.5695351652968896, learning_rate=0.04596452578788463, max_depth=10, metric=rmse, min_child_weight=0.734738204994968, num_leaves=483; total time=   0.2s\n",
      "\n",
      "[CV] END bagging_fraction=0.8724507270733639, bagging_freq=6, feature_fraction=0.9352653822607034, learning_rate=0.03236494396584158, max_depth=13, metric=rmse, min_child_weight=0.17733921103574235, num_leaves=471; total time=   0.3s\n",
      "[LightGBM] [Warning] bagging_fraction is set=0.7706468448542505, subsample=1.0 will be ignored. Current value: bagging_fraction=0.7706468448542505\n",
      "[LightGBM] [Warning] feature_fraction is set=0.9585392773133397, colsample_bytree=1.0 will be ignored. Current value: feature_fraction=0.9585392773133397\n",
      "[LightGBM] [Warning] bagging_freq is set=4, subsample_freq=0 will be ignored. Current value: bagging_freq=4\n",
      "[CV] END bagging_fraction=0.8724507270733639, bagging_freq=6, feature_fraction=0.9352653822607034, learning_rate=0.03236494396584158, max_depth=13, metric=rmse, min_child_weight=0.17733921103574235, num_leaves=471; total time=   0.3s\n",
      "[LightGBM] [Warning] bagging_fraction is set=0.7706468448542505, subsample=1.0 will be ignored. Current value: bagging_fraction=0.7706468448542505\n",
      "[LightGBM] [Warning] feature_fraction is set=0.9585392773133397, colsample_bytree=1.0 will be ignored. Current value: feature_fraction=0.9585392773133397\n",
      "[LightGBM] [Warning] bagging_freq is set=4, subsample_freq=0 will be ignored. Current value: bagging_freq=4\n",
      "[CV] END bagging_fraction=0.9533029641617489, bagging_freq=9, feature_fraction=0.5695351652968896, learning_rate=0.04596452578788463, max_depth=10, metric=rmse, min_child_weight=0.734738204994968, num_leaves=483; total time=   0.2s\n",
      "[LightGBM] [Warning] bagging_fraction is set=0.7706468448542505, subsample=1.0 will be ignored. Current value: bagging_fraction=0.7706468448542505\n",
      "[LightGBM] [Warning] feature_fraction is set=0.9585392773133397, colsample_bytree=1.0 will be ignored. Current value: feature_fraction=0.9585392773133397\n",
      "[LightGBM] [Warning] bagging_freq is set=4, subsample_freq=0 will be ignored. Current value: bagging_freq=4\n",
      "[LightGBM] [Warning] bagging_fraction is set=0.7706468448542505, subsample=1.0 will be ignored. Current value: bagging_fraction=0.7706468448542505\n",
      "[LightGBM] [Warning] feature_fraction is set=0.9585392773133397, colsample_bytree=1.0 will be ignored. Current value: feature_fraction=0.9585392773133397\n",
      "[LightGBM] [Warning] bagging_freq is set=4, subsample_freq=0 will be ignored. Current value: bagging_freq=4\n",
      "[LightGBM] [Warning] bagging_fraction is set=0.7706468448542505, subsample=1.0 will be ignored. Current value: bagging_fraction=0.7706468448542505\n",
      "[LightGBM] [Warning] feature_fraction is set=0.9585392773133397, colsample_bytree=1.0 will be ignored. Current value: feature_fraction=0.9585392773133397\n",
      "[LightGBM] [Warning] bagging_freq is set=4, subsample_freq=0 will be ignored. Current value: bagging_freq=4\n",
      "[CV] END bagging_fraction=0.9533029641617489, bagging_freq=9, feature_fraction=0.5695351652968896, learning_rate=0.04596452578788463, max_depth=10, metric=rmse, min_child_weight=0.734738204994968, num_leaves=483; total time=   0.3s\n",
      "[LightGBM] [Warning] bagging_fraction is set=0.6355179370161557, subsample=1.0 will be ignored. Current value: bagging_fraction=0.6355179370161557\n",
      "[LightGBM] [Warning] feature_fraction is set=0.8235049728898236, colsample_bytree=1.0 will be ignored. Current value: feature_fraction=0.8235049728898236\n",
      "[LightGBM] [Warning] bagging_freq is set=2, subsample_freq=0 will be ignored. Current value: bagging_freq=2\n",
      "[CV] END bagging_fraction=0.8724507270733639, bagging_freq=6, feature_fraction=0.9352653822607034, learning_rate=0.03236494396584158, max_depth=13, metric=rmse, min_child_weight=0.17733921103574235, num_leaves=471; total time=   0.3s\n",
      "[CV] END bagging_fraction=0.9533029641617489, bagging_freq=9, feature_fraction=0.5695351652968896, learning_rate=0.04596452578788463, max_depth=10, metric=rmse, min_child_weight=0.734738204994968, num_leaves=483; total time=   0.3s\n",
      "[CV] END bagging_fraction=0.8724507270733639, bagging_freq=6, feature_fraction=0.9352653822607034, learning_rate=0.03236494396584158, max_depth=13, metric=rmse, min_child_weight=0.17733921103574235, num_leaves=471; total time=   0.3s\n",
      "[LightGBM] [Warning] bagging_fraction is set=0.6355179370161557, subsample=1.0 will be ignored. Current value: bagging_fraction=0.6355179370161557\n",
      "[LightGBM] [Warning] feature_fraction is set=0.8235049728898236, colsample_bytree=1.0 will be ignored. Current value: feature_fraction=0.8235049728898236\n",
      "[LightGBM] [Warning] bagging_freq is set=2, subsample_freq=0 will be ignored. Current value: bagging_freq=2\n",
      "[LightGBM] [Warning] bagging_fraction is set=0.6355179370161557, subsample=1.0 will be ignored. Current value: bagging_fraction=0.6355179370161557\n",
      "[LightGBM] [Warning] feature_fraction is set=0.8235049728898236, colsample_bytree=1.0 will be ignored. Current value: feature_fraction=0.8235049728898236\n",
      "[LightGBM] [Warning] bagging_freq is set=2, subsample_freq=0 will be ignored. Current value: bagging_freq=2\n",
      "[LightGBM] [Warning] bagging_fraction is set=0.6355179370161557, subsample=1.0 will be ignored. Current value: bagging_fraction=0.6355179370161557\n",
      "[LightGBM] [Warning] feature_fraction is set=0.8235049728898236, colsample_bytree=1.0 will be ignored. Current value: feature_fraction=0.8235049728898236\n",
      "[LightGBM] [Warning] bagging_freq is set=2, subsample_freq=0 will be ignored. Current value: bagging_freq=2\n",
      "[CV] END bagging_fraction=0.8724507270733639, bagging_freq=6, feature_fraction=0.9352653822607034, learning_rate=0.03236494396584158, max_depth=13, metric=rmse, min_child_weight=0.17733921103574235, num_leaves=471; total time=   0.3s\n",
      "[LightGBM] [Warning] bagging_fraction is set=0.6355179370161557, subsample=1.0 will be ignored. Current value: bagging_fraction=0.6355179370161557\n",
      "[LightGBM] [Warning] feature_fraction is set=0.8235049728898236, colsample_bytree=1.0 will be ignored. Current value: feature_fraction=0.8235049728898236\n",
      "[LightGBM] [Warning] bagging_freq is set=2, subsample_freq=0 will be ignored. Current value: bagging_freq=2\n",
      "[CV] END bagging_fraction=0.7706468448542505, bagging_freq=4, feature_fraction=0.9585392773133397, learning_rate=0.04014790647946721, max_depth=6, metric=rmse, min_child_weight=0.7914852989363638, num_leaves=254; total time=   0.1s\n",
      "[CV] END bagging_fraction=0.7706468448542505, bagging_freq=4, feature_fraction=0.9585392773133397, learning_rate=0.04014790647946721, max_depth=6, metric=rmse, min_child_weight=0.7914852989363638, num_leaves=254; total time=   0.1s\n",
      "[LightGBM] [Warning] bagging_fraction is set=0.8305150661940298, subsample=1.0 will be ignored. Current value: bagging_fraction=0.8305150661940298\n",
      "[LightGBM] [Warning] feature_fraction is set=0.5030027804447694, colsample_bytree=1.0 will be ignored. Current value: feature_fraction=0.5030027804447694\n",
      "[LightGBM] [Warning] bagging_freq is set=8, subsample_freq=0 will be ignored. Current value: bagging_freq=8\n",
      "[LightGBM] [Warning] bagging_fraction is set=0.8305150661940298, subsample=1.0 will be ignored. Current value: bagging_fraction=0.8305150661940298\n",
      "[LightGBM] [Warning] feature_fraction is set=0.5030027804447694, colsample_bytree=1.0 will be ignored. Current value: feature_fraction=0.5030027804447694\n",
      "[LightGBM] [Warning] bagging_freq is set=8, subsample_freq=0 will be ignored. Current value: bagging_freq=8\n",
      "[CV] END bagging_fraction=0.7706468448542505, bagging_freq=4, feature_fraction=0.9585392773133397, learning_rate=0.04014790647946721, max_depth=6, metric=rmse, min_child_weight=0.7914852989363638, num_leaves=254; total time=   0.1s\n",
      "[CV] END bagging_fraction=0.7706468448542505, bagging_freq=4, feature_fraction=0.9585392773133397, learning_rate=0.04014790647946721, max_depth=6, metric=rmse, min_child_weight=0.7914852989363638, num_leaves=254; total time=   0.1s\n",
      "[CV] END bagging_fraction=0.7706468448542505, bagging_freq=4, feature_fraction=0.9585392773133397, learning_rate=0.04014790647946721, max_depth=6, metric=rmse, min_child_weight=0.7914852989363638, num_leaves=254; total time=   0.1s\n",
      "[LightGBM] [Warning] bagging_fraction is set=0.8305150661940298, subsample=1.0 will be ignored. Current value: bagging_fraction=0.8305150661940298\n",
      "[LightGBM] [Warning] feature_fraction is set=0.5030027804447694, colsample_bytree=1.0 will be ignored. Current value: feature_fraction=0.5030027804447694\n",
      "[LightGBM] [Warning] bagging_freq is set=8, subsample_freq=0 will be ignored. Current value: bagging_freq=8\n",
      "[LightGBM] [Warning] bagging_fraction is set=0.8305150661940298, subsample=1.0 will be ignored. Current value: bagging_fraction=0.8305150661940298\n",
      "[LightGBM] [Warning] feature_fraction is set=0.5030027804447694, colsample_bytree=1.0 will be ignored. Current value: feature_fraction=0.5030027804447694\n",
      "[LightGBM] [Warning] bagging_freq is set=8, subsample_freq=0 will be ignored. Current value: bagging_freq=8\n",
      "[LightGBM] [Warning] bagging_fraction is set=0.8305150661940298, subsample=1.0 will be ignored. Current value: bagging_fraction=0.8305150661940298\n",
      "[LightGBM] [Warning] feature_fraction is set=0.5030027804447694, colsample_bytree=1.0 will be ignored. Current value: feature_fraction=0.5030027804447694\n",
      "[LightGBM] [Warning] bagging_freq is set=8, subsample_freq=0 will be ignored. Current value: bagging_freq=8\n",
      "[CV] END bagging_fraction=0.6355179370161557, bagging_freq=2, feature_fraction=0.8235049728898236, learning_rate=0.05779888045498444, max_depth=8, metric=mae, min_child_weight=0.089744641756629, num_leaves=64; total time=   0.2s\n",
      "[LightGBM] [Warning] bagging_fraction is set=0.8068053443422978, subsample=1.0 will be ignored. Current value: bagging_fraction=0.8068053443422978\n",
      "[LightGBM] [Warning] feature_fraction is set=0.6587360155563481, colsample_bytree=1.0 will be ignored. Current value: feature_fraction=0.6587360155563481\n",
      "[LightGBM] [Warning] bagging_freq is set=8, subsample_freq=0 will be ignored. Current value: bagging_freq=8\n",
      "[CV] END bagging_fraction=0.6355179370161557, bagging_freq=2, feature_fraction=0.8235049728898236, learning_rate=0.05779888045498444, max_depth=8, metric=mae, min_child_weight=0.089744641756629, num_leaves=64; total time=   0.2s\n",
      "[LightGBM] [Warning] bagging_fraction is set=0.8068053443422978, subsample=1.0 will be ignored. Current value: bagging_fraction=0.8068053443422978\n",
      "[LightGBM] [Warning] feature_fraction is set=0.6587360155563481, colsample_bytree=1.0 will be ignored. Current value: feature_fraction=0.6587360155563481\n",
      "[LightGBM] [Warning] bagging_freq is set=8, subsample_freq=0 will be ignored. Current value: bagging_freq=8\n",
      "[CV] END bagging_fraction=0.6355179370161557, bagging_freq=2, feature_fraction=0.8235049728898236, learning_rate=0.05779888045498444, max_depth=8, metric=mae, min_child_weight=0.089744641756629, num_leaves=64; total time=   0.2s\n",
      "[LightGBM] [Warning] bagging_fraction is set=0.8068053443422978, subsample=1.0 will be ignored. Current value: bagging_fraction=0.8068053443422978\n",
      "[LightGBM] [Warning] feature_fraction is set=0.6587360155563481, colsample_bytree=1.0 will be ignored. Current value: feature_fraction=0.6587360155563481\n",
      "[LightGBM] [Warning] bagging_freq is set=8, subsample_freq=0 will be ignored. Current value: bagging_freq=8\n",
      "[CV] END bagging_fraction=0.6355179370161557, bagging_freq=2, feature_fraction=0.8235049728898236, learning_rate=0.05779888045498444, max_depth=8, metric=mae, min_child_weight=0.089744641756629, num_leaves=64; total time=   0.2s\n",
      "[LightGBM] [Warning] bagging_fraction is set=0.8068053443422978, subsample=1.0 will be ignored. Current value: bagging_fraction=0.8068053443422978\n",
      "[LightGBM] [Warning] feature_fraction is set=0.6587360155563481, colsample_bytree=1.0 will be ignored. Current value: feature_fraction=0.6587360155563481\n",
      "[LightGBM] [Warning] bagging_freq is set=8, subsample_freq=0 will be ignored. Current value: bagging_freq=8\n",
      "[CV] END bagging_fraction=0.6355179370161557, bagging_freq=2, feature_fraction=0.8235049728898236, learning_rate=0.05779888045498444, max_depth=8, metric=mae, min_child_weight=0.089744641756629, num_leaves=64; total time=   0.2s\n",
      "[LightGBM] [Warning] bagging_fraction is set=0.8068053443422978, subsample=1.0 will be ignored. Current value: bagging_fraction=0.8068053443422978\n",
      "[LightGBM] [Warning] feature_fraction is set=0.6587360155563481, colsample_bytree=1.0 will be ignored. Current value: feature_fraction=0.6587360155563481\n",
      "[LightGBM] [Warning] bagging_freq is set=8, subsample_freq=0 will be ignored. Current value: bagging_freq=8\n",
      "[CV] END bagging_fraction=0.8068053443422978, bagging_freq=8, feature_fraction=0.6587360155563481, learning_rate=0.027843955945233534, max_depth=4, metric=rmse, min_child_weight=0.3576413161664419, num_leaves=454; total time=   0.1s\n",
      "[LightGBM] [Warning] bagging_fraction is set=0.7951651074641417, subsample=1.0 will be ignored. Current value: bagging_fraction=0.7951651074641417\n",
      "[LightGBM] [Warning] feature_fraction is set=0.8251831718734184, colsample_bytree=1.0 will be ignored. Current value: feature_fraction=0.8251831718734184\n",
      "[LightGBM] [Warning] bagging_freq is set=6, subsample_freq=0 will be ignored. Current value: bagging_freq=6\n",
      "[CV] END bagging_fraction=0.8305150661940298, bagging_freq=8, feature_fraction=0.5030027804447694, learning_rate=0.08262953951619123, max_depth=9, metric=rmse, min_child_weight=0.4200472439807803, num_leaves=187; total time=   0.2s\n",
      "[CV] END bagging_fraction=0.8068053443422978, bagging_freq=8, feature_fraction=0.6587360155563481, learning_rate=0.027843955945233534, max_depth=4, metric=rmse, min_child_weight=0.3576413161664419, num_leaves=454; total time=   0.1s\n",
      "[CV] END bagging_fraction=0.8068053443422978, bagging_freq=8, feature_fraction=0.6587360155563481, learning_rate=0.027843955945233534, max_depth=4, metric=rmse, min_child_weight=0.3576413161664419, num_leaves=454; total time=   0.1s\n",
      "[LightGBM] [Warning] bagging_fraction is set=0.7951651074641417, subsample=1.0 will be ignored. Current value: bagging_fraction=0.7951651074641417\n",
      "[LightGBM] [Warning] feature_fraction is set=0.8251831718734184, colsample_bytree=1.0 will be ignored. Current value: feature_fraction=0.8251831718734184\n",
      "[LightGBM] [Warning] bagging_freq is set=6, subsample_freq=0 will be ignored. Current value: bagging_freq=6\n",
      "[LightGBM] [Warning] bagging_fraction is set=0.7951651074641417, subsample=1.0 will be ignored. Current value: bagging_fraction=0.7951651074641417\n",
      "[LightGBM] [Warning] feature_fraction is set=0.8251831718734184, colsample_bytree=1.0 will be ignored. Current value: feature_fraction=0.8251831718734184\n",
      "[LightGBM] [Warning] bagging_freq is set=6, subsample_freq=0 will be ignored. Current value: bagging_freq=6\n",
      "[LightGBM] [Warning] bagging_fraction is set=0.7951651074641417, subsample=1.0 will be ignored. Current value: bagging_fraction=0.7951651074641417\n",
      "[LightGBM] [Warning] feature_fraction is set=0.8251831718734184, colsample_bytree=1.0 will be ignored. Current value: feature_fraction=0.8251831718734184\n",
      "[LightGBM] [Warning] bagging_freq is set=6, subsample_freq=0 will be ignored. Current value: bagging_freq=6\n",
      "[CV] END bagging_fraction=0.8305150661940298, bagging_freq=8, feature_fraction=0.5030027804447694, learning_rate=0.08262953951619123, max_depth=9, metric=rmse, min_child_weight=0.4200472439807803, num_leaves=187; total time=   0.2s\n",
      "[LightGBM] [Warning] bagging_fraction is set=0.7951651074641417, subsample=1.0 will be ignored. Current value: bagging_fraction=0.7951651074641417\n",
      "[LightGBM] [Warning] feature_fraction is set=0.8251831718734184, colsample_bytree=1.0 will be ignored. Current value: feature_fraction=0.8251831718734184\n",
      "[LightGBM] [Warning] bagging_freq is set=6, subsample_freq=0 will be ignored. Current value: bagging_freq=6\n",
      "[CV] END bagging_fraction=0.8068053443422978, bagging_freq=8, feature_fraction=0.6587360155563481, learning_rate=0.027843955945233534, max_depth=4, metric=rmse, min_child_weight=0.3576413161664419, num_leaves=454; total time=   0.1s\n",
      "[CV] END bagging_fraction=0.8305150661940298, bagging_freq=8, feature_fraction=0.5030027804447694, learning_rate=0.08262953951619123, max_depth=9, metric=rmse, min_child_weight=0.4200472439807803, num_leaves=187; total time=   0.2s\n",
      "[CV] END bagging_fraction=0.8305150661940298, bagging_freq=8, feature_fraction=0.5030027804447694, learning_rate=0.08262953951619123, max_depth=9, metric=rmse, min_child_weight=0.4200472439807803, num_leaves=187; total time=   0.2s\n",
      "[LightGBM] [Warning] bagging_fraction is set=0.9409359903606013, subsample=1.0 will be ignored. Current value: bagging_fraction=0.9409359903606013\n",
      "[LightGBM] [Warning] feature_fraction is set=0.7196650244676934, colsample_bytree=1.0 will be ignored. Current value: feature_fraction=0.7196650244676934\n",
      "[LightGBM] [Warning] bagging_freq is set=4, subsample_freq=0 will be ignored. Current value: bagging_freq=4\n",
      "[LightGBM] [Warning] bagging_fraction is set=0.9409359903606013, subsample=1.0 will be ignored. Current value: bagging_fraction=0.9409359903606013\n",
      "[LightGBM] [Warning] feature_fraction is set=0.7196650244676934, colsample_bytree=1.0 will be ignored. Current value: feature_fraction=0.7196650244676934\n",
      "[LightGBM] [Warning] bagging_freq is set=4, subsample_freq=0 will be ignored. Current value: bagging_freq=4\n",
      "[LightGBM] [Warning] bagging_fraction is set=0.9409359903606013, subsample=1.0 will be ignored. Current value: bagging_fraction=0.9409359903606013\n",
      "[LightGBM] [Warning] feature_fraction is set=0.7196650244676934, colsample_bytree=1.0 will be ignored. Current value: feature_fraction=0.7196650244676934\n",
      "[LightGBM] [Warning] bagging_freq is set=4, subsample_freq=0 will be ignored. Current value: bagging_freq=4\n",
      "[CV] END bagging_fraction=0.8068053443422978, bagging_freq=8, feature_fraction=0.6587360155563481, learning_rate=0.027843955945233534, max_depth=4, metric=rmse, min_child_weight=0.3576413161664419, num_leaves=454; total time=   0.1s\n",
      "[CV] END bagging_fraction=0.8305150661940298, bagging_freq=8, feature_fraction=0.5030027804447694, learning_rate=0.08262953951619123, max_depth=9, metric=rmse, min_child_weight=0.4200472439807803, num_leaves=187; total time=   0.2s\n",
      "[LightGBM] [Warning] bagging_fraction is set=0.9409359903606013, subsample=1.0 will be ignored. Current value: bagging_fraction=0.9409359903606013\n",
      "[LightGBM] [Warning] feature_fraction is set=0.7196650244676934, colsample_bytree=1.0 will be ignored. Current value: feature_fraction=0.7196650244676934\n",
      "[LightGBM] [Warning] bagging_freq is set=4, subsample_freq=0 will be ignored. Current value: bagging_freq=4\n",
      "[LightGBM] [Warning] bagging_fraction is set=0.9409359903606013, subsample=1.0 will be ignored. Current value: bagging_fraction=0.9409359903606013\n",
      "[LightGBM] [Warning] feature_fraction is set=0.7196650244676934, colsample_bytree=1.0 will be ignored. Current value: feature_fraction=0.7196650244676934\n",
      "[LightGBM] [Warning] bagging_freq is set=4, subsample_freq=0 will be ignored. Current value: bagging_freq=4\n",
      "[CV] END bagging_fraction=0.7951651074641417, bagging_freq=6, feature_fraction=0.8251831718734184, learning_rate=0.04107246378319478, max_depth=9, metric=rmse, min_child_weight=0.7658071993518097, num_leaves=148; total time=   0.2s\n",
      "[LightGBM] [Warning] bagging_fraction is set=0.7658111116071429, subsample=1.0 will be ignored. Current value: bagging_fraction=0.7658111116071429\n",
      "[LightGBM] [Warning] feature_fraction is set=0.9464390139811699, colsample_bytree=1.0 will be ignored. Current value: feature_fraction=0.9464390139811699\n",
      "[LightGBM] [Warning] bagging_freq is set=5, subsample_freq=0 will be ignored. Current value: bagging_freq=5\n",
      "[CV] END bagging_fraction=0.7951651074641417, bagging_freq=6, feature_fraction=0.8251831718734184, learning_rate=0.04107246378319478, max_depth=9, metric=rmse, min_child_weight=0.7658071993518097, num_leaves=148; total time=   0.2s\n",
      "[CV] END bagging_fraction=0.7951651074641417, bagging_freq=6, feature_fraction=0.8251831718734184, learning_rate=0.04107246378319478, max_depth=9, metric=rmse, min_child_weight=0.7658071993518097, num_leaves=148; total time=   0.2s\n",
      "[LightGBM] [Warning] bagging_fraction is set=0.7658111116071429, subsample=1.0 will be ignored. Current value: bagging_fraction=0.7658111116071429\n",
      "[LightGBM] [Warning] feature_fraction is set=0.9464390139811699, colsample_bytree=1.0 will be ignored. Current value: feature_fraction=0.9464390139811699\n",
      "[LightGBM] [Warning] bagging_freq is set=5, subsample_freq=0 will be ignored. Current value: bagging_freq=5\n",
      "[LightGBM] [Warning] bagging_fraction is set=0.7658111116071429, subsample=1.0 will be ignored. Current value: bagging_fraction=0.7658111116071429\n",
      "[LightGBM] [Warning] feature_fraction is set=0.9464390139811699, colsample_bytree=1.0 will be ignored. Current value: feature_fraction=0.9464390139811699\n",
      "[LightGBM] [Warning] bagging_freq is set=5, subsample_freq=0 will be ignored. Current value: bagging_freq=5\n",
      "[CV] END bagging_fraction=0.7951651074641417, bagging_freq=6, feature_fraction=0.8251831718734184, learning_rate=0.04107246378319478, max_depth=9, metric=rmse, min_child_weight=0.7658071993518097, num_leaves=148; total time=   0.2s\n",
      "[CV] END bagging_fraction=0.9409359903606013, bagging_freq=4, feature_fraction=0.7196650244676934, learning_rate=0.04289927193849018, max_depth=8, metric=rmse, min_child_weight=0.13032369918081965, num_leaves=385; total time=   0.2s\n",
      "[CV] END bagging_fraction=0.7951651074641417, bagging_freq=6, feature_fraction=0.8251831718734184, learning_rate=0.04107246378319478, max_depth=9, metric=rmse, min_child_weight=0.7658071993518097, num_leaves=148; total time=   0.2s\n",
      "[CV] END bagging_fraction=0.9409359903606013, bagging_freq=4, feature_fraction=0.7196650244676934, learning_rate=0.04289927193849018, max_depth=8, metric=rmse, min_child_weight=0.13032369918081965, num_leaves=385; total time=   0.2s\n",
      "[CV] END bagging_fraction=0.9409359903606013, bagging_freq=4, feature_fraction=0.7196650244676934, learning_rate=0.04289927193849018, max_depth=8, metric=rmse, min_child_weight=0.13032369918081965, num_leaves=385; total time=   0.2s\n",
      "[LightGBM] [Warning] bagging_fraction is set=0.7658111116071429, subsample=1.0 will be ignored. Current value: bagging_fraction=0.7658111116071429\n",
      "[LightGBM] [Warning] feature_fraction is set=0.9464390139811699, colsample_bytree=1.0 will be ignored. Current value: feature_fraction=0.9464390139811699\n",
      "[LightGBM] [Warning] bagging_freq is set=5, subsample_freq=0 will be ignored. Current value: bagging_freq=5\n",
      "[LightGBM] [Warning] bagging_fraction is set=0.7658111116071429, subsample=1.0 will be ignored. Current value: bagging_fraction=0.7658111116071429\n",
      "[LightGBM] [Warning] feature_fraction is set=0.9464390139811699, colsample_bytree=1.0 will be ignored. Current value: feature_fraction=0.9464390139811699\n",
      "[LightGBM] [Warning] bagging_freq is set=5, subsample_freq=0 will be ignored. Current value: bagging_freq=5\n",
      "[LightGBM] [Warning] bagging_fraction is set=0.8814260136954797, subsample=1.0 will be ignored. Current value: bagging_fraction=0.8814260136954797\n",
      "[LightGBM] [Warning] feature_fraction is set=0.8082355753438272, colsample_bytree=1.0 will be ignored. Current value: feature_fraction=0.8082355753438272\n",
      "[LightGBM] [Warning] bagging_freq is set=8, subsample_freq=0 will be ignored. Current value: bagging_freq=8\n",
      "[LightGBM] [Warning] bagging_fraction is set=0.8814260136954797, subsample=1.0 will be ignored. Current value: bagging_fraction=0.8814260136954797\n",
      "[LightGBM] [Warning] feature_fraction is set=0.8082355753438272, colsample_bytree=1.0 will be ignored. Current value: feature_fraction=0.8082355753438272\n",
      "[LightGBM] [Warning] bagging_freq is set=8, subsample_freq=0 will be ignored. Current value: bagging_freq=8\n",
      "[LightGBM] [Warning] bagging_fraction is set=0.8814260136954797, subsample=1.0 will be ignored. Current value: bagging_fraction=0.8814260136954797\n",
      "[LightGBM] [Warning] feature_fraction is set=0.8082355753438272, colsample_bytree=1.0 will be ignored. Current value: feature_fraction=0.8082355753438272\n",
      "[LightGBM] [Warning] bagging_freq is set=8, subsample_freq=0 will be ignored. Current value: bagging_freq=8\n",
      "[CV] END bagging_fraction=0.9409359903606013, bagging_freq=4, feature_fraction=0.7196650244676934, learning_rate=0.04289927193849018, max_depth=8, metric=rmse, min_child_weight=0.13032369918081965, num_leaves=385; total time=   0.2s\n",
      "[CV] END bagging_fraction=0.9409359903606013, bagging_freq=4, feature_fraction=0.7196650244676934, learning_rate=0.04289927193849018, max_depth=8, metric=rmse, min_child_weight=0.13032369918081965, num_leaves=385; total time=   0.2s\n",
      "[LightGBM] [Warning] bagging_fraction is set=0.8814260136954797, subsample=1.0 will be ignored. Current value: bagging_fraction=0.8814260136954797\n",
      "[LightGBM] [Warning] feature_fraction is set=0.8082355753438272, colsample_bytree=1.0 will be ignored. Current value: feature_fraction=0.8082355753438272\n",
      "[LightGBM] [Warning] bagging_freq is set=8, subsample_freq=0 will be ignored. Current value: bagging_freq=8\n",
      "[LightGBM] [Warning] bagging_fraction is set=0.8814260136954797, subsample=1.0 will be ignored. Current value: bagging_fraction=0.8814260136954797\n",
      "[LightGBM] [Warning] feature_fraction is set=0.8082355753438272, colsample_bytree=1.0 will be ignored. Current value: feature_fraction=0.8082355753438272\n",
      "[LightGBM] [Warning] bagging_freq is set=8, subsample_freq=0 will be ignored. Current value: bagging_freq=8\n",
      "[CV] END bagging_fraction=0.7658111116071429, bagging_freq=5, feature_fraction=0.9464390139811699, learning_rate=0.05323509200298686, max_depth=9, metric=rmse, min_child_weight=0.8449825544840655, num_leaves=359; total time=   0.2s\n",
      "[LightGBM] [Warning] bagging_fraction is set=0.5300044789909937, subsample=1.0 will be ignored. Current value: bagging_fraction=0.5300044789909937\n",
      "[LightGBM] [Warning] feature_fraction is set=0.7878177487482017, colsample_bytree=1.0 will be ignored. Current value: feature_fraction=0.7878177487482017\n",
      "[LightGBM] [Warning] bagging_freq is set=8, subsample_freq=0 will be ignored. Current value: bagging_freq=8\n",
      "[CV] END bagging_fraction=0.7658111116071429, bagging_freq=5, feature_fraction=0.9464390139811699, learning_rate=0.05323509200298686, max_depth=9, metric=rmse, min_child_weight=0.8449825544840655, num_leaves=359; total time=   0.2s\n",
      "[CV] END bagging_fraction=0.7658111116071429, bagging_freq=5, feature_fraction=0.9464390139811699, learning_rate=0.05323509200298686, max_depth=9, metric=rmse, min_child_weight=0.8449825544840655, num_leaves=359; total time=   0.2s\n",
      "[LightGBM] [Warning] bagging_fraction is set=0.5300044789909937, subsample=1.0 will be ignored. Current value: bagging_fraction=0.5300044789909937\n",
      "[LightGBM] [Warning] feature_fraction is set=0.7878177487482017, colsample_bytree=1.0 will be ignored. Current value: feature_fraction=0.7878177487482017\n",
      "[LightGBM] [Warning] bagging_freq is set=8, subsample_freq=0 will be ignored. Current value: bagging_freq=8\n",
      "[LightGBM] [Warning] bagging_fraction is set=0.5300044789909937, subsample=1.0 will be ignored. Current value: bagging_fraction=0.5300044789909937\n",
      "[LightGBM] [Warning] feature_fraction is set=0.7878177487482017, colsample_bytree=1.0 will be ignored. Current value: feature_fraction=0.7878177487482017\n",
      "[LightGBM] [Warning] bagging_freq is set=8, subsample_freq=0 will be ignored. Current value: bagging_freq=8\n",
      "[CV] END bagging_fraction=0.7658111116071429, bagging_freq=5, feature_fraction=0.9464390139811699, learning_rate=0.05323509200298686, max_depth=9, metric=rmse, min_child_weight=0.8449825544840655, num_leaves=359; total time=   0.2s\n",
      "[LightGBM] [Warning] bagging_fraction is set=0.5300044789909937, subsample=1.0 will be ignored. Current value: bagging_fraction=0.5300044789909937\n",
      "[LightGBM] [Warning] feature_fraction is set=0.7878177487482017, colsample_bytree=1.0 will be ignored. Current value: feature_fraction=0.7878177487482017\n",
      "[LightGBM] [Warning] bagging_freq is set=8, subsample_freq=0 will be ignored. Current value: bagging_freq=8\n",
      "[CV] END bagging_fraction=0.7658111116071429, bagging_freq=5, feature_fraction=0.9464390139811699, learning_rate=0.05323509200298686, max_depth=9, metric=rmse, min_child_weight=0.8449825544840655, num_leaves=359; total time=   0.2s\n",
      "[LightGBM] [Warning] bagging_fraction is set=0.5300044789909937, subsample=1.0 will be ignored. Current value: bagging_fraction=0.5300044789909937\n",
      "[LightGBM] [Warning] feature_fraction is set=0.7878177487482017, colsample_bytree=1.0 will be ignored. Current value: feature_fraction=0.7878177487482017\n",
      "[LightGBM] [Warning] bagging_freq is set=8, subsample_freq=0 will be ignored. Current value: bagging_freq=8\n",
      "[CV] END bagging_fraction=0.8814260136954797, bagging_freq=8, feature_fraction=0.8082355753438272, learning_rate=0.1081785561708661, max_depth=11, metric=mae, min_child_weight=0.4535382821610775, num_leaves=170; total time=   0.2s\n",
      "[LightGBM] [Warning] bagging_fraction is set=0.9137460404380089, subsample=1.0 will be ignored. Current value: bagging_fraction=0.9137460404380089\n",
      "[LightGBM] [Warning] feature_fraction is set=0.8705035627995419, colsample_bytree=1.0 will be ignored. Current value: feature_fraction=0.8705035627995419\n",
      "[LightGBM] [Warning] bagging_freq is set=4, subsample_freq=0 will be ignored. Current value: bagging_freq=4\n",
      "[CV] END bagging_fraction=0.8814260136954797, bagging_freq=8, feature_fraction=0.8082355753438272, learning_rate=0.1081785561708661, max_depth=11, metric=mae, min_child_weight=0.4535382821610775, num_leaves=170; total time=   0.2s\n",
      "[CV] END bagging_fraction=0.8814260136954797, bagging_freq=8, feature_fraction=0.8082355753438272, learning_rate=0.1081785561708661, max_depth=11, metric=mae, min_child_weight=0.4535382821610775, num_leaves=170; total time=   0.2s\n",
      "[CV] END bagging_fraction=0.8814260136954797, bagging_freq=8, feature_fraction=0.8082355753438272, learning_rate=0.1081785561708661, max_depth=11, metric=mae, min_child_weight=0.4535382821610775, num_leaves=170; total time=   0.2s\n",
      "[LightGBM] [Warning] bagging_fraction is set=0.9137460404380089, subsample=1.0 will be ignored. Current value: bagging_fraction=0.9137460404380089\n",
      "[LightGBM] [Warning] feature_fraction is set=0.8705035627995419, colsample_bytree=1.0 will be ignored. Current value: feature_fraction=0.8705035627995419\n",
      "[LightGBM] [Warning] bagging_freq is set=4, subsample_freq=0 will be ignored. Current value: bagging_freq=4\n",
      "[LightGBM] [Warning] bagging_fraction is set=0.9137460404380089, subsample=1.0 will be ignored. Current value: bagging_fraction=0.9137460404380089\n",
      "[LightGBM] [Warning] feature_fraction is set=0.8705035627995419, colsample_bytree=1.0 will be ignored. Current value: feature_fraction=0.8705035627995419\n",
      "[LightGBM] [Warning] bagging_freq is set=4, subsample_freq=0 will be ignored. Current value: bagging_freq=4\n",
      "[LightGBM] [Warning] bagging_fraction is set=0.9137460404380089, subsample=1.0 will be ignored. Current value: bagging_fraction=0.9137460404380089\n",
      "[LightGBM] [Warning] feature_fraction is set=0.8705035627995419, colsample_bytree=1.0 will be ignored. Current value: feature_fraction=0.8705035627995419\n",
      "[LightGBM] [Warning] bagging_freq is set=4, subsample_freq=0 will be ignored. Current value: bagging_freq=4\n",
      "[CV] END bagging_fraction=0.8814260136954797, bagging_freq=8, feature_fraction=0.8082355753438272, learning_rate=0.1081785561708661, max_depth=11, metric=mae, min_child_weight=0.4535382821610775, num_leaves=170; total time=   0.3s\n",
      "[LightGBM] [Warning] bagging_fraction is set=0.9137460404380089, subsample=1.0 will be ignored. Current value: bagging_fraction=0.9137460404380089\n",
      "[LightGBM] [Warning] feature_fraction is set=0.8705035627995419, colsample_bytree=1.0 will be ignored. Current value: feature_fraction=0.8705035627995419\n",
      "[LightGBM] [Warning] bagging_freq is set=4, subsample_freq=0 will be ignored. Current value: bagging_freq=4\n",
      "[CV] END bagging_fraction=0.5300044789909937, bagging_freq=8, feature_fraction=0.7878177487482017, learning_rate=0.108269133963067, max_depth=8, metric=mae, min_child_weight=0.23781550466910217, num_leaves=250; total time=   0.1s\n",
      "[LightGBM] [Warning] bagging_fraction is set=0.505921263338992, subsample=1.0 will be ignored. Current value: bagging_fraction=0.505921263338992\n",
      "[LightGBM] [Warning] feature_fraction is set=0.846067395412309, colsample_bytree=1.0 will be ignored. Current value: feature_fraction=0.846067395412309\n",
      "[LightGBM] [Warning] bagging_freq is set=8, subsample_freq=0 will be ignored. Current value: bagging_freq=8\n",
      "[CV] END bagging_fraction=0.5300044789909937, bagging_freq=8, feature_fraction=0.7878177487482017, learning_rate=0.108269133963067, max_depth=8, metric=mae, min_child_weight=0.23781550466910217, num_leaves=250; total time=   0.2s\n",
      "[LightGBM] [Warning] bagging_fraction is set=0.505921263338992, subsample=1.0 will be ignored. Current value: bagging_fraction=0.505921263338992[CV] END bagging_fraction=0.5300044789909937, bagging_freq=8, feature_fraction=0.7878177487482017, learning_rate=0.108269133963067, max_depth=8, metric=mae, min_child_weight=0.23781550466910217, num_leaves=250; total time=   0.2s\n",
      "[LightGBM] [Warning] feature_fraction is set=0.846067395412309, colsample_bytree=1.0 will be ignored. Current value: feature_fraction=0.846067395412309\n",
      "[LightGBM] [Warning] bagging_freq is set=8, subsample_freq=0 will be ignored. Current value: bagging_freq=8\n",
      "\n",
      "[LightGBM] [Warning] bagging_fraction is set=0.505921263338992, subsample=1.0 will be ignored. Current value: bagging_fraction=0.505921263338992\n",
      "[LightGBM] [Warning] feature_fraction is set=0.846067395412309, colsample_bytree=1.0 will be ignored. Current value: feature_fraction=0.846067395412309\n",
      "[LightGBM] [Warning] bagging_freq is set=8, subsample_freq=0 will be ignored. Current value: bagging_freq=8\n",
      "[CV] END bagging_fraction=0.5300044789909937, bagging_freq=8, feature_fraction=0.7878177487482017, learning_rate=0.108269133963067, max_depth=8, metric=mae, min_child_weight=0.23781550466910217, num_leaves=250; total time=   0.1s\n",
      "[CV] END bagging_fraction=0.5300044789909937, bagging_freq=8, feature_fraction=0.7878177487482017, learning_rate=0.108269133963067, max_depth=8, metric=mae, min_child_weight=0.23781550466910217, num_leaves=250; total time=   0.2s\n",
      "[LightGBM] [Warning] bagging_fraction is set=0.505921263338992, subsample=1.0 will be ignored. Current value: bagging_fraction=0.505921263338992\n",
      "[LightGBM] [Warning] feature_fraction is set=0.846067395412309, colsample_bytree=1.0 will be ignored. Current value: feature_fraction=0.846067395412309\n",
      "[LightGBM] [Warning] bagging_freq is set=8, subsample_freq=0 will be ignored. Current value: bagging_freq=8\n",
      "[LightGBM] [Warning] bagging_fraction is set=0.505921263338992, subsample=1.0 will be ignored. Current value: bagging_fraction=0.505921263338992\n",
      "[LightGBM] [Warning] feature_fraction is set=0.846067395412309, colsample_bytree=1.0 will be ignored. Current value: feature_fraction=0.846067395412309\n",
      "[LightGBM] [Warning] bagging_freq is set=8, subsample_freq=0 will be ignored. Current value: bagging_freq=8\n",
      "[CV] END bagging_fraction=0.9137460404380089, bagging_freq=4, feature_fraction=0.8705035627995419, learning_rate=0.055103346693394846, max_depth=12, metric=rmse, min_child_weight=0.2458530561610438, num_leaves=305; total time=   0.3s\n",
      "[LightGBM] [Warning] bagging_fraction is set=0.5359589572388302, subsample=1.0 will be ignored. Current value: bagging_fraction=0.5359589572388302\n",
      "[LightGBM] [Warning] feature_fraction is set=0.9236708155366827, colsample_bytree=1.0 will be ignored. Current value: feature_fraction=0.9236708155366827\n",
      "[LightGBM] [Warning] bagging_freq is set=8, subsample_freq=0 will be ignored. Current value: bagging_freq=8\n",
      "[CV] END bagging_fraction=0.9137460404380089, bagging_freq=4, feature_fraction=0.8705035627995419, learning_rate=0.055103346693394846, max_depth=12, metric=rmse, min_child_weight=0.2458530561610438, num_leaves=305; total time=   0.3s\n",
      "[LightGBM] [Warning] bagging_fraction is set=0.5359589572388302, subsample=1.0 will be ignored. Current value: bagging_fraction=0.5359589572388302\n",
      "[LightGBM] [Warning] feature_fraction is set=0.9236708155366827, colsample_bytree=1.0 will be ignored. Current value: feature_fraction=0.9236708155366827\n",
      "[LightGBM] [Warning] bagging_freq is set=8, subsample_freq=0 will be ignored. Current value: bagging_freq=8\n",
      "[CV] END bagging_fraction=0.9137460404380089, bagging_freq=4, feature_fraction=0.8705035627995419, learning_rate=0.055103346693394846, max_depth=12, metric=rmse, min_child_weight=0.2458530561610438, num_leaves=305; total time=   0.3s\n",
      "[LightGBM] [Warning] bagging_fraction is set=0.5359589572388302, subsample=1.0 will be ignored. Current value: bagging_fraction=0.5359589572388302\n",
      "[LightGBM] [Warning] feature_fraction is set=0.9236708155366827, colsample_bytree=1.0 will be ignored. Current value: feature_fraction=0.9236708155366827\n",
      "[LightGBM] [Warning] bagging_freq is set=8, subsample_freq=0 will be ignored. Current value: bagging_freq=8\n",
      "[CV] END bagging_fraction=0.9137460404380089, bagging_freq=4, feature_fraction=0.8705035627995419, learning_rate=0.055103346693394846, max_depth=12, metric=rmse, min_child_weight=0.2458530561610438, num_leaves=305; total time=   0.3s\n",
      "[LightGBM] [Warning] bagging_fraction is set=0.5359589572388302, subsample=1.0 will be ignored. Current value: bagging_fraction=0.5359589572388302\n",
      "[LightGBM] [Warning] feature_fraction is set=0.9236708155366827, colsample_bytree=1.0 will be ignored. Current value: feature_fraction=0.9236708155366827\n",
      "[LightGBM] [Warning] bagging_freq is set=8, subsample_freq=0 will be ignored. Current value: bagging_freq=8\n",
      "[CV] END bagging_fraction=0.505921263338992, bagging_freq=8, feature_fraction=0.846067395412309, learning_rate=0.05784629354339962, max_depth=14, metric=rmse, min_child_weight=0.11435842095413196, num_leaves=459; total time=   0.3s\n",
      "[CV] END bagging_fraction=0.9137460404380089, bagging_freq=4, feature_fraction=0.8705035627995419, learning_rate=0.055103346693394846, max_depth=12, metric=rmse, min_child_weight=0.2458530561610438, num_leaves=305; total time=   0.3s\n",
      "[LightGBM] [Warning] bagging_fraction is set=0.5359589572388302, subsample=1.0 will be ignored. Current value: bagging_fraction=0.5359589572388302\n",
      "[LightGBM] [Warning] feature_fraction is set=0.9236708155366827, colsample_bytree=1.0 will be ignored. Current value: feature_fraction=0.9236708155366827\n",
      "[LightGBM] [Warning] bagging_freq is set=8, subsample_freq=0 will be ignored. Current value: bagging_freq=8\n",
      "[LightGBM] [Warning] bagging_fraction is set=0.9116195432361428, subsample=1.0 will be ignored. Current value: bagging_fraction=0.9116195432361428\n",
      "[LightGBM] [Warning] feature_fraction is set=0.7308115629375942, colsample_bytree=1.0 will be ignored. Current value: feature_fraction=0.7308115629375942\n",
      "[LightGBM] [Warning] bagging_freq is set=5, subsample_freq=0 will be ignored. Current value: bagging_freq=5\n",
      "[CV] END bagging_fraction=0.505921263338992, bagging_freq=8, feature_fraction=0.846067395412309, learning_rate=0.05784629354339962, max_depth=14, metric=rmse, min_child_weight=0.11435842095413196, num_leaves=459; total time=   0.3s\n",
      "[CV] END bagging_fraction=0.505921263338992, bagging_freq=8, feature_fraction=0.846067395412309, learning_rate=0.05784629354339962, max_depth=14, metric=rmse, min_child_weight=0.11435842095413196, num_leaves=459; total time=   0.3s\n",
      "[LightGBM] [Warning] bagging_fraction is set=0.9116195432361428, subsample=1.0 will be ignored. Current value: bagging_fraction=0.9116195432361428\n",
      "[LightGBM] [Warning] feature_fraction is set=0.7308115629375942, colsample_bytree=1.0 will be ignored. Current value: feature_fraction=0.7308115629375942\n",
      "[LightGBM] [Warning] bagging_freq is set=5, subsample_freq=0 will be ignored. Current value: bagging_freq=5\n",
      "[LightGBM] [Warning] bagging_fraction is set=0.9116195432361428, subsample=1.0 will be ignored. Current value: bagging_fraction=0.9116195432361428\n",
      "[LightGBM] [Warning] feature_fraction is set=0.7308115629375942, colsample_bytree=1.0 will be ignored. Current value: feature_fraction=0.7308115629375942\n",
      "[LightGBM] [Warning] bagging_freq is set=5, subsample_freq=0 will be ignored. Current value: bagging_freq=5\n",
      "[CV] END bagging_fraction=0.505921263338992, bagging_freq=8, feature_fraction=0.846067395412309, learning_rate=0.05784629354339962, max_depth=14, metric=rmse, min_child_weight=0.11435842095413196, num_leaves=459; total time=   0.3s\n",
      "[CV] END bagging_fraction=0.505921263338992, bagging_freq=8, feature_fraction=0.846067395412309, learning_rate=0.05784629354339962, max_depth=14, metric=rmse, min_child_weight=0.11435842095413196, num_leaves=459; total time=   0.3s\n",
      "[LightGBM] [Warning] bagging_fraction is set=0.9116195432361428, subsample=1.0 will be ignored. Current value: bagging_fraction=0.9116195432361428\n",
      "[LightGBM] [Warning] feature_fraction is set=0.7308115629375942, colsample_bytree=1.0 will be ignored. Current value: feature_fraction=0.7308115629375942\n",
      "[LightGBM] [Warning] bagging_freq is set=5, subsample_freq=0 will be ignored. Current value: bagging_freq=5\n",
      "[LightGBM] [Warning] bagging_fraction is set=0.9116195432361428, subsample=1.0 will be ignored. Current value: bagging_fraction=0.9116195432361428\n",
      "[LightGBM] [Warning] feature_fraction is set=0.7308115629375942, colsample_bytree=1.0 will be ignored. Current value: feature_fraction=0.7308115629375942\n",
      "[LightGBM] [Warning] bagging_freq is set=5, subsample_freq=0 will be ignored. Current value: bagging_freq=5\n",
      "[CV] END bagging_fraction=0.5359589572388302, bagging_freq=8, feature_fraction=0.9236708155366827, learning_rate=0.043445379078821414, max_depth=8, metric=rmse, min_child_weight=0.9474226371346907, num_leaves=42; total time=   0.1s\n",
      "[LightGBM] [Warning] bagging_fraction is set=0.8572395275645457, subsample=1.0 will be ignored. Current value: bagging_fraction=0.8572395275645457\n",
      "[LightGBM] [Warning] feature_fraction is set=0.8014295226844879, colsample_bytree=1.0 will be ignored. Current value: feature_fraction=0.8014295226844879\n",
      "[LightGBM] [Warning] bagging_freq is set=9, subsample_freq=0 will be ignored. Current value: bagging_freq=9\n",
      "[CV] END bagging_fraction=0.5359589572388302, bagging_freq=8, feature_fraction=0.9236708155366827, learning_rate=0.043445379078821414, max_depth=8, metric=rmse, min_child_weight=0.9474226371346907, num_leaves=42; total time=   0.1s\n",
      "[CV] END bagging_fraction=0.9116195432361428, bagging_freq=5, feature_fraction=0.7308115629375942, learning_rate=0.036748753802073104, max_depth=4, metric=rmse, min_child_weight=0.508931160233284, num_leaves=109; total time=   0.1s\n",
      "[LightGBM] [Warning] bagging_fraction is set=0.8572395275645457, subsample=1.0 will be ignored. Current value: bagging_fraction=0.8572395275645457\n",
      "[LightGBM] [Warning] feature_fraction is set=0.8014295226844879, colsample_bytree=1.0 will be ignored. Current value: feature_fraction=0.8014295226844879\n",
      "[LightGBM] [Warning] bagging_freq is set=9, subsample_freq=0 will be ignored. Current value: bagging_freq=9\n",
      "[LightGBM] [Warning] bagging_fraction is set=0.8572395275645457, subsample=1.0 will be ignored. Current value: bagging_fraction=0.8572395275645457\n",
      "[LightGBM] [Warning] feature_fraction is set=0.8014295226844879, colsample_bytree=1.0 will be ignored. Current value: feature_fraction=0.8014295226844879\n",
      "[LightGBM] [Warning] bagging_freq is set=9, subsample_freq=0 will be ignored. Current value: bagging_freq=9\n",
      "[CV] END bagging_fraction=0.5359589572388302, bagging_freq=8, feature_fraction=0.9236708155366827, learning_rate=0.043445379078821414, max_depth=8, metric=rmse, min_child_weight=0.9474226371346907, num_leaves=42; total time=   0.1s\n",
      "[CV] END bagging_fraction=0.5359589572388302, bagging_freq=8, feature_fraction=0.9236708155366827, learning_rate=0.043445379078821414, max_depth=8, metric=rmse, min_child_weight=0.9474226371346907, num_leaves=42; total time=   0.1s\n",
      "[LightGBM] [Warning] bagging_fraction is set=0.8572395275645457, subsample=1.0 will be ignored. Current value: bagging_fraction=0.8572395275645457\n",
      "[LightGBM] [Warning] feature_fraction is set=0.8014295226844879, colsample_bytree=1.0 will be ignored. Current value: feature_fraction=0.8014295226844879\n",
      "[LightGBM] [Warning] bagging_freq is set=9, subsample_freq=0 will be ignored. Current value: bagging_freq=9\n",
      "[LightGBM] [Warning] bagging_fraction is set=0.8572395275645457, subsample=1.0 will be ignored. Current value: bagging_fraction=0.8572395275645457\n",
      "[LightGBM] [Warning] feature_fraction is set=0.8014295226844879, colsample_bytree=1.0 will be ignored. Current value: feature_fraction=0.8014295226844879\n",
      "[LightGBM] [Warning] bagging_freq is set=9, subsample_freq=0 will be ignored. Current value: bagging_freq=9\n",
      "[CV] END bagging_fraction=0.9116195432361428, bagging_freq=5, feature_fraction=0.7308115629375942, learning_rate=0.036748753802073104, max_depth=4, metric=rmse, min_child_weight=0.508931160233284, num_leaves=109; total time=   0.1s\n",
      "[CV] END bagging_fraction=0.9116195432361428, bagging_freq=5, feature_fraction=0.7308115629375942, learning_rate=0.036748753802073104, max_depth=4, metric=rmse, min_child_weight=0.508931160233284, num_leaves=109; total time=   0.1s\n",
      "[LightGBM] [Warning] bagging_fraction is set=0.5655383356634957, subsample=1.0 will be ignored. Current value: bagging_fraction=0.5655383356634957\n",
      "[LightGBM] [Warning] feature_fraction is set=0.5971716919533008, colsample_bytree=1.0 will be ignored. Current value: feature_fraction=0.5971716919533008\n",
      "[LightGBM] [Warning] bagging_freq is set=1, subsample_freq=0 will be ignored. Current value: bagging_freq=1\n",
      "[CV] END bagging_fraction=0.5359589572388302, bagging_freq=8, feature_fraction=0.9236708155366827, learning_rate=0.043445379078821414, max_depth=8, metric=rmse, min_child_weight=0.9474226371346907, num_leaves=42; total time=   0.1s\n",
      "[LightGBM] [Warning] bagging_fraction is set=0.5655383356634957, subsample=1.0 will be ignored. Current value: bagging_fraction=0.5655383356634957\n",
      "[LightGBM] [Warning] feature_fraction is set=0.5971716919533008, colsample_bytree=1.0 will be ignored. Current value: feature_fraction=0.5971716919533008\n",
      "[LightGBM] [Warning] bagging_freq is set=1, subsample_freq=0 will be ignored. Current value: bagging_freq=1\n",
      "[CV] END bagging_fraction=0.9116195432361428, bagging_freq=5, feature_fraction=0.7308115629375942, learning_rate=0.036748753802073104, max_depth=4, metric=rmse, min_child_weight=0.508931160233284, num_leaves=109; total time=   0.1s\n",
      "[LightGBM] [Warning] bagging_fraction is set=0.5655383356634957, subsample=1.0 will be ignored. Current value: bagging_fraction=0.5655383356634957\n",
      "[LightGBM] [Warning] feature_fraction is set=0.5971716919533008, colsample_bytree=1.0 will be ignored. Current value: feature_fraction=0.5971716919533008\n",
      "[LightGBM] [Warning] bagging_freq is set=1, subsample_freq=0 will be ignored. Current value: bagging_freq=1\n",
      "[LightGBM] [Warning] bagging_fraction is set=0.5655383356634957, subsample=1.0 will be ignored. Current value: bagging_fraction=0.5655383356634957\n",
      "[LightGBM] [Warning] feature_fraction is set=0.5971716919533008, colsample_bytree=1.0 will be ignored. Current value: feature_fraction=0.5971716919533008\n",
      "[LightGBM] [Warning] bagging_freq is set=1, subsample_freq=0 will be ignored. Current value: bagging_freq=1\n",
      "[CV] END bagging_fraction=0.9116195432361428, bagging_freq=5, feature_fraction=0.7308115629375942, learning_rate=0.036748753802073104, max_depth=4, metric=rmse, min_child_weight=0.508931160233284, num_leaves=109; total time=   0.1s\n",
      "[LightGBM] [Warning] bagging_fraction is set=0.5655383356634957, subsample=1.0 will be ignored. Current value: bagging_fraction=0.5655383356634957\n",
      "[LightGBM] [Warning] feature_fraction is set=0.5971716919533008, colsample_bytree=1.0 will be ignored. Current value: feature_fraction=0.5971716919533008\n",
      "[LightGBM] [Warning] bagging_freq is set=1, subsample_freq=0 will be ignored. Current value: bagging_freq=1\n",
      "[CV] END bagging_fraction=0.8572395275645457, bagging_freq=9, feature_fraction=0.8014295226844879, learning_rate=0.04843174772385571, max_depth=14, metric=mae, min_child_weight=0.5009369604693313, num_leaves=27; total time=   0.1s\n",
      "[LightGBM] [Warning] bagging_fraction is set=0.6963724936352538, subsample=1.0 will be ignored. Current value: bagging_fraction=0.6963724936352538\n",
      "[LightGBM] [Warning] feature_fraction is set=0.8416643842192217, colsample_bytree=1.0 will be ignored. Current value: feature_fraction=0.8416643842192217\n",
      "[LightGBM] [Warning] bagging_freq is set=2, subsample_freq=0 will be ignored. Current value: bagging_freq=2\n",
      "[CV] END bagging_fraction=0.8572395275645457, bagging_freq=9, feature_fraction=0.8014295226844879, learning_rate=0.04843174772385571, max_depth=14, metric=mae, min_child_weight=0.5009369604693313, num_leaves=27; total time=   0.1s\n",
      "[CV] END bagging_fraction=0.8572395275645457, bagging_freq=9, feature_fraction=0.8014295226844879, learning_rate=0.04843174772385571, max_depth=14, metric=mae, min_child_weight=0.5009369604693313, num_leaves=27; total time=   0.1s\n",
      "[CV] END bagging_fraction=0.8572395275645457, bagging_freq=9, feature_fraction=0.8014295226844879, learning_rate=0.04843174772385571, max_depth=14, metric=mae, min_child_weight=0.5009369604693313, num_leaves=27; total time=   0.1s\n",
      "[LightGBM] [Warning] bagging_fraction is set=0.6963724936352538, subsample=1.0 will be ignored. Current value: bagging_fraction=0.6963724936352538\n",
      "[LightGBM] [Warning] feature_fraction is set=0.8416643842192217, colsample_bytree=1.0 will be ignored. Current value: feature_fraction=0.8416643842192217\n",
      "[LightGBM] [Warning] bagging_freq is set=2, subsample_freq=0 will be ignored. Current value: bagging_freq=2\n",
      "[LightGBM] [Warning] bagging_fraction is set=0.6963724936352538, subsample=1.0 will be ignored. Current value: bagging_fraction=0.6963724936352538\n",
      "[LightGBM] [Warning] feature_fraction is set=0.8416643842192217, colsample_bytree=1.0 will be ignored. Current value: feature_fraction=0.8416643842192217\n",
      "[LightGBM] [Warning] bagging_freq is set=2, subsample_freq=0 will be ignored. Current value: bagging_freq=2\n",
      "[CV] END bagging_fraction=0.8572395275645457, bagging_freq=9, feature_fraction=0.8014295226844879, learning_rate=0.04843174772385571, max_depth=14, metric=mae, min_child_weight=0.5009369604693313, num_leaves=27; total time=   0.1s\n",
      "[LightGBM] [Warning] bagging_fraction is set=0.6963724936352538, subsample=1.0 will be ignored. Current value: bagging_fraction=0.6963724936352538\n",
      "[LightGBM] [Warning] feature_fraction is set=0.8416643842192217, colsample_bytree=1.0 will be ignored. Current value: feature_fraction=0.8416643842192217\n",
      "[LightGBM] [Warning] bagging_freq is set=2, subsample_freq=0 will be ignored. Current value: bagging_freq=2\n",
      "[LightGBM] [Warning] bagging_fraction is set=0.6963724936352538, subsample=1.0 will be ignored. Current value: bagging_fraction=0.6963724936352538\n",
      "[LightGBM] [Warning] feature_fraction is set=0.8416643842192217, colsample_bytree=1.0 will be ignored. Current value: feature_fraction=0.8416643842192217\n",
      "[LightGBM] [Warning] bagging_freq is set=2, subsample_freq=0 will be ignored. Current value: bagging_freq=2\n",
      "[CV] END bagging_fraction=0.5655383356634957, bagging_freq=1, feature_fraction=0.5971716919533008, learning_rate=0.05177137695838434, max_depth=9, metric=mae, min_child_weight=0.2985639044850523, num_leaves=51; total time=   0.1s\n",
      "[CV] END bagging_fraction=0.5655383356634957, bagging_freq=1, feature_fraction=0.5971716919533008, learning_rate=0.05177137695838434, max_depth=9, metric=mae, min_child_weight=0.2985639044850523, num_leaves=51; total time=   0.1s\n",
      "[CV] END bagging_fraction=0.5655383356634957, bagging_freq=1, feature_fraction=0.5971716919533008, learning_rate=0.05177137695838434, max_depth=9, metric=mae, min_child_weight=0.2985639044850523, num_leaves=51; total time=   0.1s\n",
      "[LightGBM] [Warning] bagging_fraction is set=0.9677228106875255, subsample=1.0 will be ignored. Current value: bagging_fraction=0.9677228106875255\n",
      "[LightGBM] [Warning] feature_fraction is set=0.5637710321068132, colsample_bytree=1.0 will be ignored. Current value: feature_fraction=0.5637710321068132\n",
      "[LightGBM] [Warning] bagging_freq is set=8, subsample_freq=0 will be ignored. Current value: bagging_freq=8\n",
      "[LightGBM] [Warning] bagging_fraction is set=0.9677228106875255, subsample=1.0 will be ignored. Current value: bagging_fraction=0.9677228106875255\n",
      "[LightGBM] [Warning] feature_fraction is set=0.5637710321068132, colsample_bytree=1.0 will be ignored. Current value: feature_fraction=0.5637710321068132\n",
      "[LightGBM] [Warning] bagging_freq is set=8, subsample_freq=0 will be ignored. Current value: bagging_freq=8\n",
      "[CV] END bagging_fraction=0.5655383356634957, bagging_freq=1, feature_fraction=0.5971716919533008, learning_rate=0.05177137695838434, max_depth=9, metric=mae, min_child_weight=0.2985639044850523, num_leaves=51; total time=   0.1s\n",
      "[CV] END bagging_fraction=0.5655383356634957, bagging_freq=1, feature_fraction=0.5971716919533008, learning_rate=0.05177137695838434, max_depth=9, metric=mae, min_child_weight=0.2985639044850523, num_leaves=51; total time=   0.1s\n",
      "[LightGBM] [Warning] bagging_fraction is set=0.9677228106875255, subsample=1.0 will be ignored. Current value: bagging_fraction=0.9677228106875255\n",
      "[LightGBM] [Warning] feature_fraction is set=0.5637710321068132, colsample_bytree=1.0 will be ignored. Current value: feature_fraction=0.5637710321068132\n",
      "[LightGBM] [Warning] bagging_freq is set=8, subsample_freq=0 will be ignored. Current value: bagging_freq=8\n",
      "[LightGBM] [Warning] bagging_fraction is set=0.9677228106875255, subsample=1.0 will be ignored. Current value: bagging_fraction=0.9677228106875255\n",
      "[LightGBM] [Warning] feature_fraction is set=0.5637710321068132, colsample_bytree=1.0 will be ignored. Current value: feature_fraction=0.5637710321068132\n",
      "[LightGBM] [Warning] bagging_freq is set=8, subsample_freq=0 will be ignored. Current value: bagging_freq=8\n",
      "[LightGBM] [Warning] bagging_fraction is set=0.9677228106875255, subsample=1.0 will be ignored. Current value: bagging_fraction=0.9677228106875255\n",
      "[LightGBM] [Warning] feature_fraction is set=0.5637710321068132, colsample_bytree=1.0 will be ignored. Current value: feature_fraction=0.5637710321068132\n",
      "[LightGBM] [Warning] bagging_freq is set=8, subsample_freq=0 will be ignored. Current value: bagging_freq=8\n",
      "[CV] END bagging_fraction=0.6963724936352538, bagging_freq=2, feature_fraction=0.8416643842192217, learning_rate=0.06540999401618003, max_depth=6, metric=rmse, min_child_weight=0.7793211498588957, num_leaves=407; total time=   0.1s\n",
      "[LightGBM] [Warning] bagging_fraction is set=0.8228927412209556, subsample=1.0 will be ignored. Current value: bagging_fraction=0.8228927412209556\n",
      "[LightGBM] [Warning] feature_fraction is set=0.6445241292770407, colsample_bytree=1.0 will be ignored. Current value: feature_fraction=0.6445241292770407\n",
      "[LightGBM] [Warning] bagging_freq is set=4, subsample_freq=0 will be ignored. Current value: bagging_freq=4\n",
      "[CV] END bagging_fraction=0.6963724936352538, bagging_freq=2, feature_fraction=0.8416643842192217, learning_rate=0.06540999401618003, max_depth=6, metric=rmse, min_child_weight=0.7793211498588957, num_leaves=407; total time=   0.1s\n",
      "[CV] END bagging_fraction=0.6963724936352538, bagging_freq=2, feature_fraction=0.8416643842192217, learning_rate=0.06540999401618003, max_depth=6, metric=rmse, min_child_weight=0.7793211498588957, num_leaves=407; total time=   0.1s\n",
      "[LightGBM] [Warning] bagging_fraction is set=0.8228927412209556, subsample=1.0 will be ignored. Current value: bagging_fraction=0.8228927412209556\n",
      "[LightGBM] [Warning] feature_fraction is set=0.6445241292770407, colsample_bytree=1.0 will be ignored. Current value: feature_fraction=0.6445241292770407\n",
      "[LightGBM] [Warning] bagging_freq is set=4, subsample_freq=0 will be ignored. Current value: bagging_freq=4\n",
      "[LightGBM] [Warning] bagging_fraction is set=0.8228927412209556, subsample=1.0 will be ignored. Current value: bagging_fraction=0.8228927412209556\n",
      "[LightGBM] [Warning] feature_fraction is set=0.6445241292770407, colsample_bytree=1.0 will be ignored. Current value: feature_fraction=0.6445241292770407\n",
      "[LightGBM] [Warning] bagging_freq is set=4, subsample_freq=0 will be ignored. Current value: bagging_freq=4\n",
      "[CV] END bagging_fraction=0.6963724936352538, bagging_freq=2, feature_fraction=0.8416643842192217, learning_rate=0.06540999401618003, max_depth=6, metric=rmse, min_child_weight=0.7793211498588957, num_leaves=407; total time=   0.1s\n",
      "[CV] END bagging_fraction=0.6963724936352538, bagging_freq=2, feature_fraction=0.8416643842192217, learning_rate=0.06540999401618003, max_depth=6, metric=rmse, min_child_weight=0.7793211498588957, num_leaves=407; total time=   0.1s\n",
      "[LightGBM] [Warning] bagging_fraction is set=0.8228927412209556, subsample=1.0 will be ignored. Current value: bagging_fraction=0.8228927412209556\n",
      "[LightGBM] [Warning] feature_fraction is set=0.6445241292770407, colsample_bytree=1.0 will be ignored. Current value: feature_fraction=0.6445241292770407\n",
      "[LightGBM] [Warning] bagging_freq is set=4, subsample_freq=0 will be ignored. Current value: bagging_freq=4\n",
      "[LightGBM] [Warning] bagging_fraction is set=0.8228927412209556, subsample=1.0 will be ignored. Current value: bagging_fraction=0.8228927412209556\n",
      "[LightGBM] [Warning] feature_fraction is set=0.6445241292770407, colsample_bytree=1.0 will be ignored. Current value: feature_fraction=0.6445241292770407\n",
      "[LightGBM] [Warning] bagging_freq is set=4, subsample_freq=0 will be ignored. Current value: bagging_freq=4\n",
      "[CV] END bagging_fraction=0.8228927412209556, bagging_freq=4, feature_fraction=0.6445241292770407, learning_rate=0.04018068962636502, max_depth=7, metric=mae, min_child_weight=0.1815425009881375, num_leaves=148; total time=   0.2s\n",
      "[LightGBM] [Warning] bagging_fraction is set=0.9280333894791609, subsample=1.0 will be ignored. Current value: bagging_fraction=0.9280333894791609\n",
      "[LightGBM] [Warning] feature_fraction is set=0.6666940750628363, colsample_bytree=1.0 will be ignored. Current value: feature_fraction=0.6666940750628363\n",
      "[LightGBM] [Warning] bagging_freq is set=8, subsample_freq=0 will be ignored. Current value: bagging_freq=8\n",
      "[CV] END bagging_fraction=0.8228927412209556, bagging_freq=4, feature_fraction=0.6445241292770407, learning_rate=0.04018068962636502, max_depth=7, metric=mae, min_child_weight=0.1815425009881375, num_leaves=148; total time=   0.1s\n",
      "[CV] END bagging_fraction=0.8228927412209556, bagging_freq=4, feature_fraction=0.6445241292770407, learning_rate=0.04018068962636502, max_depth=7, metric=mae, min_child_weight=0.1815425009881375, num_leaves=148; total time=   0.1s\n",
      "[CV] END bagging_fraction=0.8228927412209556, bagging_freq=4, feature_fraction=0.6445241292770407, learning_rate=0.04018068962636502, max_depth=7, metric=mae, min_child_weight=0.1815425009881375, num_leaves=148; total time=   0.1s\n",
      "[LightGBM] [Warning] bagging_fraction is set=0.9280333894791609, subsample=1.0 will be ignored. Current value: bagging_fraction=0.9280333894791609\n",
      "[LightGBM] [Warning] feature_fraction is set=0.6666940750628363, colsample_bytree=1.0 will be ignored. Current value: feature_fraction=0.6666940750628363\n",
      "[LightGBM] [Warning] bagging_freq is set=8, subsample_freq=0 will be ignored. Current value: bagging_freq=8\n",
      "[LightGBM] [Warning] bagging_fraction is set=0.9280333894791609, subsample=1.0 will be ignored. Current value: bagging_fraction=0.9280333894791609\n",
      "[LightGBM] [Warning] feature_fraction is set=0.6666940750628363, colsample_bytree=1.0 will be ignored. Current value: feature_fraction=0.6666940750628363\n",
      "[LightGBM] [Warning] bagging_freq is set=8, subsample_freq=0 will be ignored. Current value: bagging_freq=8\n",
      "[LightGBM] [Warning] bagging_fraction is set=0.9280333894791609, subsample=1.0 will be ignored. Current value: bagging_fraction=0.9280333894791609\n",
      "[LightGBM] [Warning] feature_fraction is set=0.6666940750628363, colsample_bytree=1.0 will be ignored. Current value: feature_fraction=0.6666940750628363\n",
      "[LightGBM] [Warning] bagging_freq is set=8, subsample_freq=0 will be ignored. Current value: bagging_freq=8\n",
      "[CV] END bagging_fraction=0.8228927412209556, bagging_freq=4, feature_fraction=0.6445241292770407, learning_rate=0.04018068962636502, max_depth=7, metric=mae, min_child_weight=0.1815425009881375, num_leaves=148; total time=   0.2s\n",
      "[LightGBM] [Warning] bagging_fraction is set=0.9280333894791609, subsample=1.0 will be ignored. Current value: bagging_fraction=0.9280333894791609\n",
      "[LightGBM] [Warning] feature_fraction is set=0.6666940750628363, colsample_bytree=1.0 will be ignored. Current value: feature_fraction=0.6666940750628363\n",
      "[LightGBM] [Warning] bagging_freq is set=8, subsample_freq=0 will be ignored. Current value: bagging_freq=8\n",
      "[CV] END bagging_fraction=0.9677228106875255, bagging_freq=8, feature_fraction=0.5637710321068132, learning_rate=0.09636725070270728, max_depth=14, metric=mae, min_child_weight=0.5216802616533097, num_leaves=129; total time=   0.3s\n",
      "[LightGBM] [Warning] bagging_fraction is set=0.76428480769969, subsample=1.0 will be ignored. Current value: bagging_fraction=0.76428480769969\n",
      "[LightGBM] [Warning] feature_fraction is set=0.6776156880975728, colsample_bytree=1.0 will be ignored. Current value: feature_fraction=0.6776156880975728\n",
      "[LightGBM] [Warning] bagging_freq is set=6, subsample_freq=0 will be ignored. Current value: bagging_freq=6\n",
      "[CV] END bagging_fraction=0.9677228106875255, bagging_freq=8, feature_fraction=0.5637710321068132, learning_rate=0.09636725070270728, max_depth=14, metric=mae, min_child_weight=0.5216802616533097, num_leaves=129; total time=   0.3s\n",
      "[CV] END bagging_fraction=0.9677228106875255, bagging_freq=8, feature_fraction=0.5637710321068132, learning_rate=0.09636725070270728, max_depth=14, metric=mae, min_child_weight=0.5216802616533097, num_leaves=129; total time=   0.3s\n",
      "[LightGBM] [Warning] bagging_fraction is set=0.76428480769969, subsample=1.0 will be ignored. Current value: bagging_fraction=0.76428480769969\n",
      "[LightGBM] [Warning] feature_fraction is set=0.6776156880975728, colsample_bytree=1.0 will be ignored. Current value: feature_fraction=0.6776156880975728\n",
      "[LightGBM] [Warning] bagging_freq is set=6, subsample_freq=0 will be ignored. Current value: bagging_freq=6\n",
      "[LightGBM] [Warning] bagging_fraction is set=0.76428480769969, subsample=1.0 will be ignored. Current value: bagging_fraction=0.76428480769969\n",
      "[LightGBM] [Warning] feature_fraction is set=0.6776156880975728, colsample_bytree=1.0 will be ignored. Current value: feature_fraction=0.6776156880975728\n",
      "[LightGBM] [Warning] bagging_freq is set=6, subsample_freq=0 will be ignored. Current value: bagging_freq=6\n",
      "[CV] END bagging_fraction=0.9677228106875255, bagging_freq=8, feature_fraction=0.5637710321068132, learning_rate=0.09636725070270728, max_depth=14, metric=mae, min_child_weight=0.5216802616533097, num_leaves=129; total time=   0.3s\n",
      "[CV] END bagging_fraction=0.9677228106875255, bagging_freq=8, feature_fraction=0.5637710321068132, learning_rate=0.09636725070270728, max_depth=14, metric=mae, min_child_weight=0.5216802616533097, num_leaves=129; total time=   0.3s\n",
      "[LightGBM] [Warning] bagging_fraction is set=0.76428480769969, subsample=1.0 will be ignored. Current value: bagging_fraction=0.76428480769969\n",
      "[LightGBM] [Warning] feature_fraction is set=0.6776156880975728, colsample_bytree=1.0 will be ignored. Current value: feature_fraction=0.6776156880975728\n",
      "[LightGBM] [Warning] bagging_freq is set=6, subsample_freq=0 will be ignored. Current value: bagging_freq=6\n",
      "[LightGBM] [Warning] bagging_fraction is set=0.76428480769969, subsample=1.0 will be ignored. Current value: bagging_fraction=0.76428480769969\n",
      "[LightGBM] [Warning] feature_fraction is set=0.6776156880975728, colsample_bytree=1.0 will be ignored. Current value: feature_fraction=0.6776156880975728\n",
      "[LightGBM] [Warning] bagging_freq is set=6, subsample_freq=0 will be ignored. Current value: bagging_freq=6\n",
      "[CV] END bagging_fraction=0.76428480769969, bagging_freq=6, feature_fraction=0.6776156880975728, learning_rate=0.017968307072915815, max_depth=6, metric=rmse, min_child_weight=0.4546624277444675, num_leaves=390; total time=   0.1s\n",
      "[LightGBM] [Warning] bagging_fraction is set=0.8503345390057001, subsample=1.0 will be ignored. Current value: bagging_fraction=0.8503345390057001\n",
      "[LightGBM] [Warning] feature_fraction is set=0.7199062616859012, colsample_bytree=1.0 will be ignored. Current value: feature_fraction=0.7199062616859012\n",
      "[LightGBM] [Warning] bagging_freq is set=2, subsample_freq=0 will be ignored. Current value: bagging_freq=2\n",
      "[CV] END bagging_fraction=0.76428480769969, bagging_freq=6, feature_fraction=0.6776156880975728, learning_rate=0.017968307072915815, max_depth=6, metric=rmse, min_child_weight=0.4546624277444675, num_leaves=390; total time=   0.1s\n",
      "[LightGBM] [Warning] bagging_fraction is set=0.8503345390057001, subsample=1.0 will be ignored. Current value: bagging_fraction=0.8503345390057001\n",
      "[LightGBM] [Warning] feature_fraction is set=0.7199062616859012, colsample_bytree=1.0 will be ignored. Current value: feature_fraction=0.7199062616859012\n",
      "[LightGBM] [Warning] bagging_freq is set=2, subsample_freq=0 will be ignored. Current value: bagging_freq=2\n",
      "[CV] END bagging_fraction=0.76428480769969, bagging_freq=6, feature_fraction=0.6776156880975728, learning_rate=0.017968307072915815, max_depth=6, metric=rmse, min_child_weight=0.4546624277444675, num_leaves=390; total time=   0.1s\n",
      "[CV] END bagging_fraction=0.76428480769969, bagging_freq=6, feature_fraction=0.6776156880975728, learning_rate=0.017968307072915815, max_depth=6, metric=rmse, min_child_weight=0.4546624277444675, num_leaves=390; total time=   0.1s\n",
      "[CV] END bagging_fraction=0.76428480769969, bagging_freq=6, feature_fraction=0.6776156880975728, learning_rate=0.017968307072915815, max_depth=6, metric=rmse, min_child_weight=0.4546624277444675, num_leaves=390; total time=   0.1s\n",
      "[LightGBM] [Warning] bagging_fraction is set=0.8503345390057001, subsample=1.0 will be ignored. Current value: bagging_fraction=0.8503345390057001\n",
      "[LightGBM] [Warning] feature_fraction is set=0.7199062616859012, colsample_bytree=1.0 will be ignored. Current value: feature_fraction=0.7199062616859012\n",
      "[LightGBM] [Warning] bagging_freq is set=2, subsample_freq=0 will be ignored. Current value: bagging_freq=2\n",
      "[LightGBM] [Warning] bagging_fraction is set=0.8503345390057001, subsample=1.0 will be ignored. Current value: bagging_fraction=0.8503345390057001\n",
      "[LightGBM] [Warning] feature_fraction is set=0.7199062616859012, colsample_bytree=1.0 will be ignored. Current value: feature_fraction=0.7199062616859012\n",
      "[LightGBM] [Warning] bagging_freq is set=2, subsample_freq=0 will be ignored. Current value: bagging_freq=2\n",
      "[LightGBM] [Warning] bagging_fraction is set=0.8503345390057001, subsample=1.0 will be ignored. Current value: bagging_fraction=0.8503345390057001\n",
      "[LightGBM] [Warning] feature_fraction is set=0.7199062616859012, colsample_bytree=1.0 will be ignored. Current value: feature_fraction=0.7199062616859012\n",
      "[LightGBM] [Warning] bagging_freq is set=2, subsample_freq=0 will be ignored. Current value: bagging_freq=2\n",
      "[CV] END bagging_fraction=0.9280333894791609, bagging_freq=8, feature_fraction=0.6666940750628363, learning_rate=0.10494094260961853, max_depth=13, metric=mae, min_child_weight=0.7486216168675284, num_leaves=406; total time=   0.3s\n",
      "[LightGBM] [Warning] bagging_fraction is set=0.5498689004261702, subsample=1.0 will be ignored. Current value: bagging_fraction=0.5498689004261702\n",
      "[LightGBM] [Warning] feature_fraction is set=0.7674581921873276, colsample_bytree=1.0 will be ignored. Current value: feature_fraction=0.7674581921873276\n",
      "[LightGBM] [Warning] bagging_freq is set=2, subsample_freq=0 will be ignored. Current value: bagging_freq=2\n",
      "[CV] END bagging_fraction=0.9280333894791609, bagging_freq=8, feature_fraction=0.6666940750628363, learning_rate=0.10494094260961853, max_depth=13, metric=mae, min_child_weight=0.7486216168675284, num_leaves=406; total time=   0.3s\n",
      "[CV] END bagging_fraction=0.9280333894791609, bagging_freq=8, feature_fraction=0.6666940750628363, learning_rate=0.10494094260961853, max_depth=13, metric=mae, min_child_weight=0.7486216168675284, num_leaves=406; total time=   0.3s\n",
      "[LightGBM] [Warning] bagging_fraction is set=0.5498689004261702, subsample=1.0 will be ignored. Current value: bagging_fraction=0.5498689004261702\n",
      "[LightGBM] [Warning] feature_fraction is set=0.7674581921873276, colsample_bytree=1.0 will be ignored. Current value: feature_fraction=0.7674581921873276\n",
      "[LightGBM] [Warning] bagging_freq is set=2, subsample_freq=0 will be ignored. Current value: bagging_freq=2\n",
      "[LightGBM] [Warning] bagging_fraction is set=0.5498689004261702, subsample=1.0 will be ignored. Current value: bagging_fraction=0.5498689004261702\n",
      "[LightGBM] [Warning] feature_fraction is set=0.7674581921873276, colsample_bytree=1.0 will be ignored. Current value: feature_fraction=0.7674581921873276\n",
      "[LightGBM] [Warning] bagging_freq is set=2, subsample_freq=0 will be ignored. Current value: bagging_freq=2\n",
      "[CV] END bagging_fraction=0.9280333894791609, bagging_freq=8, feature_fraction=0.6666940750628363, learning_rate=0.10494094260961853, max_depth=13, metric=mae, min_child_weight=0.7486216168675284, num_leaves=406; total time=   0.3s\n",
      "[LightGBM] [Warning] bagging_fraction is set=0.5498689004261702, subsample=1.0 will be ignored. Current value: bagging_fraction=0.5498689004261702\n",
      "[LightGBM] [Warning] feature_fraction is set=0.7674581921873276, colsample_bytree=1.0 will be ignored. Current value: feature_fraction=0.7674581921873276\n",
      "[LightGBM] [Warning] bagging_freq is set=2, subsample_freq=0 will be ignored. Current value: bagging_freq=2\n",
      "[CV] END bagging_fraction=0.8503345390057001, bagging_freq=2, feature_fraction=0.7199062616859012, learning_rate=0.03658020059511529, max_depth=8, metric=mae, min_child_weight=0.4459927021784099, num_leaves=202; total time=   0.1s\n",
      "[LightGBM] [Warning] bagging_fraction is set=0.5498689004261702, subsample=1.0 will be ignored. Current value: bagging_fraction=0.5498689004261702\n",
      "[LightGBM] [Warning] feature_fraction is set=0.7674581921873276, colsample_bytree=1.0 will be ignored. Current value: feature_fraction=0.7674581921873276\n",
      "[LightGBM] [Warning] bagging_freq is set=2, subsample_freq=0 will be ignored. Current value: bagging_freq=2\n",
      "[CV] END bagging_fraction=0.8503345390057001, bagging_freq=2, feature_fraction=0.7199062616859012, learning_rate=0.03658020059511529, max_depth=8, metric=mae, min_child_weight=0.4459927021784099, num_leaves=202; total time=   0.1s\n",
      "[CV] END bagging_fraction=0.9280333894791609, bagging_freq=8, feature_fraction=0.6666940750628363, learning_rate=0.10494094260961853, max_depth=13, metric=mae, min_child_weight=0.7486216168675284, num_leaves=406; total time=   0.3s\n",
      "[CV] END bagging_fraction=0.5498689004261702, bagging_freq=2, feature_fraction=0.7674581921873276, learning_rate=0.055358936389098994, max_depth=4, metric=rmse, min_child_weight=0.8850271594741114, num_leaves=60; total time=   0.1s\n",
      "[LightGBM] [Warning] bagging_fraction is set=0.6205831323036157, subsample=1.0 will be ignored. Current value: bagging_fraction=0.6205831323036157\n",
      "[LightGBM] [Warning] feature_fraction is set=0.9283678234795671, colsample_bytree=1.0 will be ignored. Current value: feature_fraction=0.9283678234795671\n",
      "[LightGBM] [Warning] bagging_freq is set=6, subsample_freq=0 will be ignored. Current value: bagging_freq=6\n",
      "[LightGBM] [Warning] bagging_fraction is set=0.6205831323036157, subsample=1.0 will be ignored. Current value: bagging_fraction=0.6205831323036157\n",
      "[LightGBM] [Warning] feature_fraction is set=0.9283678234795671, colsample_bytree=1.0 will be ignored. Current value: feature_fraction=0.9283678234795671\n",
      "[LightGBM] [Warning] bagging_freq is set=6, subsample_freq=0 will be ignored. Current value: bagging_freq=6\n",
      "[LightGBM] [Warning] bagging_fraction is set=0.6205831323036157, subsample=1.0 will be ignored. Current value: bagging_fraction=0.6205831323036157\n",
      "[LightGBM] [Warning] feature_fraction is set=0.9283678234795671, colsample_bytree=1.0 will be ignored. Current value: feature_fraction=0.9283678234795671\n",
      "[LightGBM] [Warning] bagging_freq is set=6, subsample_freq=0 will be ignored. Current value: bagging_freq=6\n",
      "[CV] END bagging_fraction=0.5498689004261702, bagging_freq=2, feature_fraction=0.7674581921873276, learning_rate=0.055358936389098994, max_depth=4, metric=rmse, min_child_weight=0.8850271594741114, num_leaves=60; total time=   0.1s\n",
      "[LightGBM] [Warning] bagging_fraction is set=0.6205831323036157, subsample=1.0 will be ignored. Current value: bagging_fraction=0.6205831323036157\n",
      "[LightGBM] [Warning] feature_fraction is set=0.9283678234795671, colsample_bytree=1.0 will be ignored. Current value: feature_fraction=0.9283678234795671\n",
      "[LightGBM] [Warning] bagging_freq is set=6, subsample_freq=0 will be ignored. Current value: bagging_freq=6\n",
      "[CV] END bagging_fraction=0.5498689004261702, bagging_freq=2, feature_fraction=0.7674581921873276, learning_rate=0.055358936389098994, max_depth=4, metric=rmse, min_child_weight=0.8850271594741114, num_leaves=60; total time=   0.1s\n",
      "[CV] END bagging_fraction=0.8503345390057001, bagging_freq=2, feature_fraction=0.7199062616859012, learning_rate=0.03658020059511529, max_depth=8, metric=mae, min_child_weight=0.4459927021784099, num_leaves=202; total time=   0.2s\n",
      "[LightGBM] [Warning] bagging_fraction is set=0.6205831323036157, subsample=1.0 will be ignored. Current value: bagging_fraction=0.6205831323036157\n",
      "[LightGBM] [Warning] feature_fraction is set=0.9283678234795671, colsample_bytree=1.0 will be ignored. Current value: feature_fraction=0.9283678234795671\n",
      "[LightGBM] [Warning] bagging_freq is set=6, subsample_freq=0 will be ignored. Current value: bagging_freq=6\n",
      "[CV] END bagging_fraction=0.5498689004261702, bagging_freq=2, feature_fraction=0.7674581921873276, learning_rate=0.055358936389098994, max_depth=4, metric=rmse, min_child_weight=0.8850271594741114, num_leaves=60; total time=   0.1s\n",
      "[CV] END bagging_fraction=0.8503345390057001, bagging_freq=2, feature_fraction=0.7199062616859012, learning_rate=0.03658020059511529, max_depth=8, metric=mae, min_child_weight=0.4459927021784099, num_leaves=202; total time=   0.2s\n",
      "[LightGBM] [Warning] bagging_fraction is set=0.8888838622374872, subsample=1.0 will be ignored. Current value: bagging_fraction=0.8888838622374872\n",
      "[LightGBM] [Warning] feature_fraction is set=0.7778945738779521, colsample_bytree=1.0 will be ignored. Current value: feature_fraction=0.7778945738779521\n",
      "[LightGBM] [Warning] bagging_freq is set=5, subsample_freq=0 will be ignored. Current value: bagging_freq=5\n",
      "[LightGBM] [Warning] bagging_fraction is set=0.8888838622374872, subsample=1.0 will be ignored. Current value: bagging_fraction=0.8888838622374872\n",
      "[LightGBM] [Warning] feature_fraction is set=0.7778945738779521, colsample_bytree=1.0 will be ignored. Current value: feature_fraction=0.7778945738779521\n",
      "[LightGBM] [Warning] bagging_freq is set=5, subsample_freq=0 will be ignored. Current value: bagging_freq=5\n",
      "[LightGBM] [Warning] bagging_fraction is set=0.8888838622374872, subsample=1.0 will be ignored. Current value: bagging_fraction=0.8888838622374872\n",
      "[LightGBM] [Warning] feature_fraction is set=0.7778945738779521, colsample_bytree=1.0 will be ignored. Current value: feature_fraction=0.7778945738779521\n",
      "[LightGBM] [Warning] bagging_freq is set=5, subsample_freq=0 will be ignored. Current value: bagging_freq=5\n",
      "[CV] END bagging_fraction=0.5498689004261702, bagging_freq=2, feature_fraction=0.7674581921873276, learning_rate=0.055358936389098994, max_depth=4, metric=rmse, min_child_weight=0.8850271594741114, num_leaves=60; total time=   0.1s\n",
      "[CV] END bagging_fraction=0.6205831323036157, bagging_freq=6, feature_fraction=0.9283678234795671, learning_rate=0.08695822443839475, max_depth=4, metric=rmse, min_child_weight=0.18231704313119368, num_leaves=304; total time=   0.1s\n",
      "[CV] END bagging_fraction=0.6205831323036157, bagging_freq=6, feature_fraction=0.9283678234795671, learning_rate=0.08695822443839475, max_depth=4, metric=rmse, min_child_weight=0.18231704313119368, num_leaves=304; total time=   0.1s\n",
      "[CV] END bagging_fraction=0.8503345390057001, bagging_freq=2, feature_fraction=0.7199062616859012, learning_rate=0.03658020059511529, max_depth=8, metric=mae, min_child_weight=0.4459927021784099, num_leaves=202; total time=   0.2s\n",
      "[LightGBM] [Warning] bagging_fraction is set=0.8888838622374872, subsample=1.0 will be ignored. Current value: bagging_fraction=0.8888838622374872\n",
      "[LightGBM] [Warning] feature_fraction is set=0.7778945738779521, colsample_bytree=1.0 will be ignored. Current value: feature_fraction=0.7778945738779521\n",
      "[LightGBM] [Warning] bagging_freq is set=5, subsample_freq=0 will be ignored. Current value: bagging_freq=5\n",
      "[CV] END bagging_fraction=0.6205831323036157, bagging_freq=6, feature_fraction=0.9283678234795671, learning_rate=0.08695822443839475, max_depth=4, metric=rmse, min_child_weight=0.18231704313119368, num_leaves=304; total time=   0.1s\n",
      "[LightGBM] [Warning] bagging_fraction is set=0.8888838622374872, subsample=1.0 will be ignored. Current value: bagging_fraction=0.8888838622374872\n",
      "[LightGBM] [Warning] feature_fraction is set=0.7778945738779521, colsample_bytree=1.0 will be ignored. Current value: feature_fraction=0.7778945738779521\n",
      "[LightGBM] [Warning] bagging_freq is set=5, subsample_freq=0 will be ignored. Current value: bagging_freq=5\n",
      "[LightGBM] [Warning] bagging_fraction is set=0.9030150657916322, subsample=1.0 will be ignored. Current value: bagging_fraction=0.9030150657916322\n",
      "[LightGBM] [Warning] feature_fraction is set=0.8244110118862324, colsample_bytree=1.0 will be ignored. Current value: feature_fraction=0.8244110118862324\n",
      "[LightGBM] [Warning] bagging_freq is set=8, subsample_freq=0 will be ignored. Current value: bagging_freq=8\n",
      "[CV] END bagging_fraction=0.6205831323036157, bagging_freq=6, feature_fraction=0.9283678234795671, learning_rate=0.08695822443839475, max_depth=4, metric=rmse, min_child_weight=0.18231704313119368, num_leaves=304; total time=   0.1s\n",
      "[LightGBM] [Warning] bagging_fraction is set=0.9030150657916322, subsample=1.0 will be ignored. Current value: bagging_fraction=0.9030150657916322\n",
      "[LightGBM] [Warning] feature_fraction is set=0.8244110118862324, colsample_bytree=1.0 will be ignored. Current value: feature_fraction=0.8244110118862324\n",
      "[LightGBM] [Warning] bagging_freq is set=8, subsample_freq=0 will be ignored. Current value: bagging_freq=8\n",
      "[LightGBM] [Warning] bagging_fraction is set=0.9030150657916322, subsample=1.0 will be ignored. Current value: bagging_fraction=0.9030150657916322\n",
      "[LightGBM] [Warning] feature_fraction is set=0.8244110118862324, colsample_bytree=1.0 will be ignored. Current value: feature_fraction=0.8244110118862324\n",
      "[LightGBM] [Warning] bagging_freq is set=8, subsample_freq=0 will be ignored. Current value: bagging_freq=8\n",
      "[LightGBM] [Warning] bagging_fraction is set=0.9030150657916322, subsample=1.0 will be ignored. Current value: bagging_fraction=0.9030150657916322\n",
      "[LightGBM] [Warning] feature_fraction is set=0.8244110118862324, colsample_bytree=1.0 will be ignored. Current value: feature_fraction=0.8244110118862324\n",
      "[LightGBM] [Warning] bagging_freq is set=8, subsample_freq=0 will be ignored. Current value: bagging_freq=8\n",
      "[CV] END bagging_fraction=0.6205831323036157, bagging_freq=6, feature_fraction=0.9283678234795671, learning_rate=0.08695822443839475, max_depth=4, metric=rmse, min_child_weight=0.18231704313119368, num_leaves=304; total time=   0.1s\n",
      "[LightGBM] [Warning] bagging_fraction is set=0.9030150657916322, subsample=1.0 will be ignored. Current value: bagging_fraction=0.9030150657916322\n",
      "[LightGBM] [Warning] feature_fraction is set=0.8244110118862324, colsample_bytree=1.0 will be ignored. Current value: feature_fraction=0.8244110118862324\n",
      "[LightGBM] [Warning] bagging_freq is set=8, subsample_freq=0 will be ignored. Current value: bagging_freq=8\n",
      "[CV] END bagging_fraction=0.9030150657916322, bagging_freq=8, feature_fraction=0.8244110118862324, learning_rate=0.0636594957889842, max_depth=9, metric=mae, min_child_weight=0.6162403237566193, num_leaves=478; total time=   0.2s\n",
      "[CV] END bagging_fraction=0.9030150657916322, bagging_freq=8, feature_fraction=0.8244110118862324, learning_rate=0.0636594957889842, max_depth=9, metric=mae, min_child_weight=0.6162403237566193, num_leaves=478; total time=   0.2s\n",
      "[CV] END bagging_fraction=0.9030150657916322, bagging_freq=8, feature_fraction=0.8244110118862324, learning_rate=0.0636594957889842, max_depth=9, metric=mae, min_child_weight=0.6162403237566193, num_leaves=478; total time=   0.2s\n",
      "[LightGBM] [Warning] bagging_fraction is set=0.7094297399034708, subsample=1.0 will be ignored. Current value: bagging_fraction=0.7094297399034708\n",
      "[LightGBM] [Warning] feature_fraction is set=0.7387637005833726, colsample_bytree=1.0 will be ignored. Current value: feature_fraction=0.7387637005833726\n",
      "[LightGBM] [Warning] bagging_freq is set=8, subsample_freq=0 will be ignored. Current value: bagging_freq=8\n",
      "[LightGBM] [Warning] bagging_fraction is set=0.7094297399034708, subsample=1.0 will be ignored. Current value: bagging_fraction=0.7094297399034708\n",
      "[LightGBM] [Warning] feature_fraction is set=0.7387637005833726, colsample_bytree=1.0 will be ignored. Current value: feature_fraction=0.7387637005833726\n",
      "[LightGBM] [Warning] bagging_freq is set=8, subsample_freq=0 will be ignored. Current value: bagging_freq=8\n",
      "[LightGBM] [Warning] bagging_fraction is set=0.7094297399034708, subsample=1.0 will be ignored. Current value: bagging_fraction=0.7094297399034708\n",
      "[LightGBM] [Warning] feature_fraction is set=0.7387637005833726, colsample_bytree=1.0 will be ignored. Current value: feature_fraction=0.7387637005833726\n",
      "[LightGBM] [Warning] bagging_freq is set=8, subsample_freq=0 will be ignored. Current value: bagging_freq=8\n",
      "[CV] END bagging_fraction=0.9030150657916322, bagging_freq=8, feature_fraction=0.8244110118862324, learning_rate=0.0636594957889842, max_depth=9, metric=mae, min_child_weight=0.6162403237566193, num_leaves=478; total time=   0.2s\n",
      "[CV] END bagging_fraction=0.8888838622374872, bagging_freq=5, feature_fraction=0.7778945738779521, learning_rate=0.05773131205866674, max_depth=14, metric=rmse, min_child_weight=0.01997759142330391, num_leaves=290; total time=   0.3s\n",
      "[CV] END bagging_fraction=0.9030150657916322, bagging_freq=8, feature_fraction=0.8244110118862324, learning_rate=0.0636594957889842, max_depth=9, metric=mae, min_child_weight=0.6162403237566193, num_leaves=478; total time=   0.2s\n",
      "[CV] END bagging_fraction=0.8888838622374872, bagging_freq=5, feature_fraction=0.7778945738779521, learning_rate=0.05773131205866674, max_depth=14, metric=rmse, min_child_weight=0.01997759142330391, num_leaves=290; total time=   0.3s\n",
      "[LightGBM] [Warning] bagging_fraction is set=0.7094297399034708, subsample=1.0 will be ignored. Current value: bagging_fraction=0.7094297399034708\n",
      "[LightGBM] [Warning] feature_fraction is set=0.7387637005833726, colsample_bytree=1.0 will be ignored. Current value: feature_fraction=0.7387637005833726\n",
      "[LightGBM] [Warning] bagging_freq is set=8, subsample_freq=0 will be ignored. Current value: bagging_freq=8\n",
      "[LightGBM] [Warning] bagging_fraction is set=0.7094297399034708, subsample=1.0 will be ignored. Current value: bagging_fraction=0.7094297399034708\n",
      "[LightGBM] [Warning] feature_fraction is set=0.7387637005833726, colsample_bytree=1.0 will be ignored. Current value: feature_fraction=0.7387637005833726\n",
      "[LightGBM] [Warning] bagging_freq is set=8, subsample_freq=0 will be ignored. Current value: bagging_freq=8\n",
      "[LightGBM] [Warning] bagging_fraction is set=0.9289295728969253, subsample=1.0 will be ignored. Current value: bagging_fraction=0.9289295728969253\n",
      "[LightGBM] [Warning] feature_fraction is set=0.8876486687467628, colsample_bytree=1.0 will be ignored. Current value: feature_fraction=0.8876486687467628\n",
      "[LightGBM] [Warning] bagging_freq is set=1, subsample_freq=0 will be ignored. Current value: bagging_freq=1\n",
      "[LightGBM] [Warning] bagging_fraction is set=0.9289295728969253, subsample=1.0 will be ignored. Current value: bagging_fraction=0.9289295728969253\n",
      "[LightGBM] [Warning] feature_fraction is set=0.8876486687467628, colsample_bytree=1.0 will be ignored. Current value: feature_fraction=0.8876486687467628\n",
      "[LightGBM] [Warning] bagging_freq is set=1, subsample_freq=0 will be ignored. Current value: bagging_freq=1\n",
      "[CV] END bagging_fraction=0.7094297399034708, bagging_freq=8, feature_fraction=0.7387637005833726, learning_rate=0.05895997804207784, max_depth=6, metric=rmse, min_child_weight=0.08946164113399091, num_leaves=459; total time=   0.1s\n",
      "[CV] END bagging_fraction=0.7094297399034708, bagging_freq=8, feature_fraction=0.7387637005833726, learning_rate=0.05895997804207784, max_depth=6, metric=rmse, min_child_weight=0.08946164113399091, num_leaves=459; total time=   0.1s\n",
      "[CV] END bagging_fraction=0.7094297399034708, bagging_freq=8, feature_fraction=0.7387637005833726, learning_rate=0.05895997804207784, max_depth=6, metric=rmse, min_child_weight=0.08946164113399091, num_leaves=459; total time=   0.1s\n",
      "[LightGBM] [Warning] bagging_fraction is set=0.9289295728969253, subsample=1.0 will be ignored. Current value: bagging_fraction=0.9289295728969253\n",
      "[LightGBM] [Warning] feature_fraction is set=0.8876486687467628, colsample_bytree=1.0 will be ignored. Current value: feature_fraction=0.8876486687467628\n",
      "[LightGBM] [Warning] bagging_freq is set=1, subsample_freq=0 will be ignored. Current value: bagging_freq=1\n",
      "[CV] END bagging_fraction=0.8888838622374872, bagging_freq=5, feature_fraction=0.7778945738779521, learning_rate=0.05773131205866674, max_depth=14, metric=rmse, min_child_weight=0.01997759142330391, num_leaves=290; total time=   0.3s\n",
      "[CV] END bagging_fraction=0.8888838622374872, bagging_freq=5, feature_fraction=0.7778945738779521, learning_rate=0.05773131205866674, max_depth=14, metric=rmse, min_child_weight=0.01997759142330391, num_leaves=290; total time=   0.3s\n",
      "[LightGBM] [Warning] bagging_fraction is set=0.9289295728969253, subsample=1.0 will be ignored. Current value: bagging_fraction=0.9289295728969253\n",
      "[LightGBM] [Warning] feature_fraction is set=0.8876486687467628, colsample_bytree=1.0 will be ignored. Current value: feature_fraction=0.8876486687467628\n",
      "[LightGBM] [Warning] bagging_freq is set=1, subsample_freq=0 will be ignored. Current value: bagging_freq=1\n",
      "[LightGBM] [Warning] bagging_fraction is set=0.9289295728969253, subsample=1.0 will be ignored. Current value: bagging_fraction=0.9289295728969253\n",
      "[LightGBM] [Warning] feature_fraction is set=0.8876486687467628, colsample_bytree=1.0 will be ignored. Current value: feature_fraction=0.8876486687467628\n",
      "[LightGBM] [Warning] bagging_freq is set=1, subsample_freq=0 will be ignored. Current value: bagging_freq=1\n",
      "[CV] END bagging_fraction=0.8888838622374872, bagging_freq=5, feature_fraction=0.7778945738779521, learning_rate=0.05773131205866674, max_depth=14, metric=rmse, min_child_weight=0.01997759142330391, num_leaves=290; total time=   0.3s\n",
      "[LightGBM] [Warning] bagging_fraction is set=0.7041576823410487, subsample=1.0 will be ignored. Current value: bagging_fraction=0.7041576823410487\n",
      "[LightGBM] [Warning] feature_fraction is set=0.6676207651932649, colsample_bytree=1.0 will be ignored. Current value: feature_fraction=0.6676207651932649\n",
      "[LightGBM] [Warning] bagging_freq is set=6, subsample_freq=0 will be ignored. Current value: bagging_freq=6\n",
      "[CV] END bagging_fraction=0.9289295728969253, bagging_freq=1, feature_fraction=0.8876486687467628, learning_rate=0.05132498439821623, max_depth=6, metric=rmse, min_child_weight=0.49414436094243197, num_leaves=132; total time=   0.1s\n",
      "[LightGBM] [Warning] bagging_fraction is set=0.7041576823410487, subsample=1.0 will be ignored. Current value: bagging_fraction=0.7041576823410487\n",
      "[LightGBM] [Warning] feature_fraction is set=0.6676207651932649, colsample_bytree=1.0 will be ignored. Current value: feature_fraction=0.6676207651932649\n",
      "[LightGBM] [Warning] bagging_freq is set=6, subsample_freq=0 will be ignored. Current value: bagging_freq=6\n",
      "[LightGBM] [Warning] bagging_fraction is set=0.7041576823410487, subsample=1.0 will be ignored. Current value: bagging_fraction=0.7041576823410487\n",
      "[LightGBM] [Warning] feature_fraction is set=0.6676207651932649, colsample_bytree=1.0 will be ignored. Current value: feature_fraction=0.6676207651932649\n",
      "[LightGBM] [Warning] bagging_freq is set=6, subsample_freq=0 will be ignored. Current value: bagging_freq=6\n",
      "[CV] END bagging_fraction=0.7094297399034708, bagging_freq=8, feature_fraction=0.7387637005833726, learning_rate=0.05895997804207784, max_depth=6, metric=rmse, min_child_weight=0.08946164113399091, num_leaves=459; total time=   0.1s\n",
      "[LightGBM] [Warning] bagging_fraction is set=0.7041576823410487, subsample=1.0 will be ignored. Current value: bagging_fraction=0.7041576823410487\n",
      "[LightGBM] [Warning] feature_fraction is set=0.6676207651932649, colsample_bytree=1.0 will be ignored. Current value: feature_fraction=0.6676207651932649\n",
      "[LightGBM] [Warning] bagging_freq is set=6, subsample_freq=0 will be ignored. Current value: bagging_freq=6\n",
      "[CV] END bagging_fraction=0.9289295728969253, bagging_freq=1, feature_fraction=0.8876486687467628, learning_rate=0.05132498439821623, max_depth=6, metric=rmse, min_child_weight=0.49414436094243197, num_leaves=132; total time=   0.1s\n",
      "[LightGBM] [Warning] bagging_fraction is set=0.7041576823410487, subsample=1.0 will be ignored. Current value: bagging_fraction=0.7041576823410487\n",
      "[LightGBM] [Warning] feature_fraction is set=0.6676207651932649, colsample_bytree=1.0 will be ignored. Current value: feature_fraction=0.6676207651932649\n",
      "[LightGBM] [Warning] bagging_freq is set=6, subsample_freq=0 will be ignored. Current value: bagging_freq=6\n",
      "[LightGBM] [Warning] bagging_fraction is set=0.7392184761455416, subsample=1.0 will be ignored. Current value: bagging_fraction=0.7392184761455416\n",
      "[LightGBM] [Warning] feature_fraction is set=0.8684012102749618, colsample_bytree=1.0 will be ignored. Current value: feature_fraction=0.8684012102749618\n",
      "[LightGBM] [Warning] bagging_freq is set=2, subsample_freq=0 will be ignored. Current value: bagging_freq=2\n",
      "[CV] END bagging_fraction=0.7094297399034708, bagging_freq=8, feature_fraction=0.7387637005833726, learning_rate=0.05895997804207784, max_depth=6, metric=rmse, min_child_weight=0.08946164113399091, num_leaves=459; total time=   0.1s\n",
      "[CV] END bagging_fraction=0.9289295728969253, bagging_freq=1, feature_fraction=0.8876486687467628, learning_rate=0.05132498439821623, max_depth=6, metric=rmse, min_child_weight=0.49414436094243197, num_leaves=132; total time=   0.1s\n",
      "[LightGBM] [Warning] bagging_fraction is set=0.7392184761455416, subsample=1.0 will be ignored. Current value: bagging_fraction=0.7392184761455416\n",
      "[LightGBM] [Warning] feature_fraction is set=0.8684012102749618, colsample_bytree=1.0 will be ignored. Current value: feature_fraction=0.8684012102749618\n",
      "[LightGBM] [Warning] bagging_freq is set=2, subsample_freq=0 will be ignored. Current value: bagging_freq=2\n",
      "[CV] END bagging_fraction=0.9289295728969253, bagging_freq=1, feature_fraction=0.8876486687467628, learning_rate=0.05132498439821623, max_depth=6, metric=rmse, min_child_weight=0.49414436094243197, num_leaves=132; total time=   0.1s\n",
      "[CV] END bagging_fraction=0.9289295728969253, bagging_freq=1, feature_fraction=0.8876486687467628, learning_rate=0.05132498439821623, max_depth=6, metric=rmse, min_child_weight=0.49414436094243197, num_leaves=132; total time=   0.1s\n",
      "[LightGBM] [Warning] bagging_fraction is set=0.7392184761455416, subsample=1.0 will be ignored. Current value: bagging_fraction=0.7392184761455416\n",
      "[LightGBM] [Warning] feature_fraction is set=0.8684012102749618, colsample_bytree=1.0 will be ignored. Current value: feature_fraction=0.8684012102749618\n",
      "[LightGBM] [Warning] bagging_freq is set=2, subsample_freq=0 will be ignored. Current value: bagging_freq=2\n",
      "[LightGBM] [Warning] bagging_fraction is set=0.7392184761455416, subsample=1.0 will be ignored. Current value: bagging_fraction=0.7392184761455416\n",
      "[LightGBM] [Warning] feature_fraction is set=0.8684012102749618, colsample_bytree=1.0 will be ignored. Current value: feature_fraction=0.8684012102749618\n",
      "[LightGBM] [Warning] bagging_freq is set=2, subsample_freq=0 will be ignored. Current value: bagging_freq=2\n",
      "[LightGBM] [Warning] bagging_fraction is set=0.7392184761455416, subsample=1.0 will be ignored. Current value: bagging_fraction=0.7392184761455416\n",
      "[LightGBM] [Warning] feature_fraction is set=0.8684012102749618, colsample_bytree=1.0 will be ignored. Current value: feature_fraction=0.8684012102749618\n",
      "[LightGBM] [Warning] bagging_freq is set=2, subsample_freq=0 will be ignored. Current value: bagging_freq=2\n",
      "[CV] END bagging_fraction=0.7392184761455416, bagging_freq=2, feature_fraction=0.8684012102749618, learning_rate=0.08853548548861861, max_depth=7, metric=mae, min_child_weight=0.5611934159285242, num_leaves=458; total time=   0.2s\n",
      "[LightGBM] [Warning] bagging_fraction is set=0.773691243106928, subsample=1.0 will be ignored. Current value: bagging_fraction=0.773691243106928\n",
      "[LightGBM] [Warning] feature_fraction is set=0.8992320373973052, colsample_bytree=1.0 will be ignored. Current value: feature_fraction=0.8992320373973052\n",
      "[LightGBM] [Warning] bagging_freq is set=7, subsample_freq=0 will be ignored. Current value: bagging_freq=7\n",
      "[CV] END bagging_fraction=0.7392184761455416, bagging_freq=2, feature_fraction=0.8684012102749618, learning_rate=0.08853548548861861, max_depth=7, metric=mae, min_child_weight=0.5611934159285242, num_leaves=458; total time=   0.2s\n",
      "[CV] END bagging_fraction=0.7392184761455416, bagging_freq=2, feature_fraction=0.8684012102749618, learning_rate=0.08853548548861861, max_depth=7, metric=mae, min_child_weight=0.5611934159285242, num_leaves=458; total time=   0.2s\n",
      "[LightGBM] [Warning] bagging_fraction is set=0.773691243106928, subsample=1.0 will be ignored. Current value: bagging_fraction=0.773691243106928\n",
      "[LightGBM] [Warning] feature_fraction is set=0.8992320373973052, colsample_bytree=1.0 will be ignored. Current value: feature_fraction=0.8992320373973052\n",
      "[LightGBM] [Warning] bagging_freq is set=7, subsample_freq=0 will be ignored. Current value: bagging_freq=7\n",
      "[LightGBM] [Warning] bagging_fraction is set=0.773691243106928, subsample=1.0 will be ignored. Current value: bagging_fraction=0.773691243106928\n",
      "[LightGBM] [Warning] feature_fraction is set=0.8992320373973052, colsample_bytree=1.0 will be ignored. Current value: feature_fraction=0.8992320373973052\n",
      "[LightGBM] [Warning] bagging_freq is set=7, subsample_freq=0 will be ignored. Current value: bagging_freq=7\n",
      "[CV] END bagging_fraction=0.7392184761455416, bagging_freq=2, feature_fraction=0.8684012102749618, learning_rate=0.08853548548861861, max_depth=7, metric=mae, min_child_weight=0.5611934159285242, num_leaves=458; total time=   0.2s\n",
      "[LightGBM] [Warning] bagging_fraction is set=0.773691243106928, subsample=1.0 will be ignored. Current value: bagging_fraction=0.773691243106928\n",
      "[LightGBM] [Warning] feature_fraction is set=0.8992320373973052, colsample_bytree=1.0 will be ignored. Current value: feature_fraction=0.8992320373973052\n",
      "[LightGBM] [Warning] bagging_freq is set=7, subsample_freq=0 will be ignored. Current value: bagging_freq=7\n",
      "[CV] END bagging_fraction=0.7392184761455416, bagging_freq=2, feature_fraction=0.8684012102749618, learning_rate=0.08853548548861861, max_depth=7, metric=mae, min_child_weight=0.5611934159285242, num_leaves=458; total time=   0.2s\n",
      "[LightGBM] [Warning] bagging_fraction is set=0.773691243106928, subsample=1.0 will be ignored. Current value: bagging_fraction=0.773691243106928\n",
      "[LightGBM] [Warning] feature_fraction is set=0.8992320373973052, colsample_bytree=1.0 will be ignored. Current value: feature_fraction=0.8992320373973052\n",
      "[LightGBM] [Warning] bagging_freq is set=7, subsample_freq=0 will be ignored. Current value: bagging_freq=7\n",
      "[CV] END bagging_fraction=0.7041576823410487, bagging_freq=6, feature_fraction=0.6676207651932649, learning_rate=0.10721890372082933, max_depth=14, metric=rmse, min_child_weight=0.5721733227259004, num_leaves=139; total time=   0.3s\n",
      "[LightGBM] [Warning] bagging_fraction is set=0.9377391908413888, subsample=1.0 will be ignored. Current value: bagging_fraction=0.9377391908413888\n",
      "[LightGBM] [Warning] feature_fraction is set=0.9771588653537575, colsample_bytree=1.0 will be ignored. Current value: feature_fraction=0.9771588653537575\n",
      "[LightGBM] [Warning] bagging_freq is set=5, subsample_freq=0 will be ignored. Current value: bagging_freq=5\n",
      "[CV] END bagging_fraction=0.7041576823410487, bagging_freq=6, feature_fraction=0.6676207651932649, learning_rate=0.10721890372082933, max_depth=14, metric=rmse, min_child_weight=0.5721733227259004, num_leaves=139; total time=   0.3s\n",
      "[LightGBM] [Warning] bagging_fraction is set=0.9377391908413888, subsample=1.0 will be ignored. Current value: bagging_fraction=0.9377391908413888\n",
      "[LightGBM] [Warning] feature_fraction is set=0.9771588653537575, colsample_bytree=1.0 will be ignored. Current value: feature_fraction=0.9771588653537575\n",
      "[LightGBM] [Warning] bagging_freq is set=5, subsample_freq=0 will be ignored. Current value: bagging_freq=5\n",
      "[CV] END bagging_fraction=0.7041576823410487, bagging_freq=6, feature_fraction=0.6676207651932649, learning_rate=0.10721890372082933, max_depth=14, metric=rmse, min_child_weight=0.5721733227259004, num_leaves=139; total time=   0.3s\n",
      "[LightGBM] [Warning] bagging_fraction is set=0.9377391908413888, subsample=1.0 will be ignored. Current value: bagging_fraction=0.9377391908413888\n",
      "[LightGBM] [Warning] feature_fraction is set=0.9771588653537575, colsample_bytree=1.0 will be ignored. Current value: feature_fraction=0.9771588653537575\n",
      "[LightGBM] [Warning] bagging_freq is set=5, subsample_freq=0 will be ignored. Current value: bagging_freq=5\n",
      "[CV] END bagging_fraction=0.7041576823410487, bagging_freq=6, feature_fraction=0.6676207651932649, learning_rate=0.10721890372082933, max_depth=14, metric=rmse, min_child_weight=0.5721733227259004, num_leaves=139; total time=   0.3s\n",
      "[CV] END bagging_fraction=0.773691243106928, bagging_freq=7, feature_fraction=0.8992320373973052, learning_rate=0.03919137216584911, max_depth=7, metric=rmse, min_child_weight=0.23252037316379714, num_leaves=160; total time=   0.1s\n",
      "[LightGBM] [Warning] bagging_fraction is set=0.9377391908413888, subsample=1.0 will be ignored. Current value: bagging_fraction=0.9377391908413888\n",
      "[LightGBM] [Warning] feature_fraction is set=0.9771588653537575, colsample_bytree=1.0 will be ignored. Current value: feature_fraction=0.9771588653537575\n",
      "[LightGBM] [Warning] bagging_freq is set=5, subsample_freq=0 will be ignored. Current value: bagging_freq=5\n",
      "[LightGBM] [Warning] bagging_fraction is set=0.9377391908413888, subsample=1.0 will be ignored. Current value: bagging_fraction=0.9377391908413888\n",
      "[LightGBM] [Warning] feature_fraction is set=0.9771588653537575, colsample_bytree=1.0 will be ignored. Current value: feature_fraction=0.9771588653537575\n",
      "[LightGBM] [Warning] bagging_freq is set=5, subsample_freq=0 will be ignored. Current value: bagging_freq=5\n",
      "[CV] END bagging_fraction=0.773691243106928, bagging_freq=7, feature_fraction=0.8992320373973052, learning_rate=0.03919137216584911, max_depth=7, metric=rmse, min_child_weight=0.23252037316379714, num_leaves=160; total time=   0.1s\n",
      "[CV] END bagging_fraction=0.7041576823410487, bagging_freq=6, feature_fraction=0.6676207651932649, learning_rate=0.10721890372082933, max_depth=14, metric=rmse, min_child_weight=0.5721733227259004, num_leaves=139; total time=   0.3s\n",
      "[CV] END bagging_fraction=0.773691243106928, bagging_freq=7, feature_fraction=0.8992320373973052, learning_rate=0.03919137216584911, max_depth=7, metric=rmse, min_child_weight=0.23252037316379714, num_leaves=160; total time=   0.1s\n",
      "[CV] END bagging_fraction=0.773691243106928, bagging_freq=7, feature_fraction=0.8992320373973052, learning_rate=0.03919137216584911, max_depth=7, metric=rmse, min_child_weight=0.23252037316379714, num_leaves=160; total time=   0.1s\n",
      "[CV] END bagging_fraction=0.773691243106928, bagging_freq=7, feature_fraction=0.8992320373973052, learning_rate=0.03919137216584911, max_depth=7, metric=rmse, min_child_weight=0.23252037316379714, num_leaves=160; total time=   0.1s\n",
      "[CV] END bagging_fraction=0.9377391908413888, bagging_freq=5, feature_fraction=0.9771588653537575, learning_rate=0.06205652806837492, max_depth=8, metric=rmse, min_child_weight=0.13458738826591887, num_leaves=68; total time=   0.1s\n",
      "[CV] END bagging_fraction=0.9377391908413888, bagging_freq=5, feature_fraction=0.9771588653537575, learning_rate=0.06205652806837492, max_depth=8, metric=rmse, min_child_weight=0.13458738826591887, num_leaves=68; total time=   0.1s\n",
      "[CV] END bagging_fraction=0.9377391908413888, bagging_freq=5, feature_fraction=0.9771588653537575, learning_rate=0.06205652806837492, max_depth=8, metric=rmse, min_child_weight=0.13458738826591887, num_leaves=68; total time=   0.1s\n",
      "[CV] END bagging_fraction=0.9377391908413888, bagging_freq=5, feature_fraction=0.9771588653537575, learning_rate=0.06205652806837492, max_depth=8, metric=rmse, min_child_weight=0.13458738826591887, num_leaves=68; total time=   0.1s\n",
      "[CV] END bagging_fraction=0.9377391908413888, bagging_freq=5, feature_fraction=0.9771588653537575, learning_rate=0.06205652806837492, max_depth=8, metric=rmse, min_child_weight=0.13458738826591887, num_leaves=68; total time=   0.1s\n",
      "[LightGBM] [Warning] bagging_fraction is set=0.7557187306012338, subsample=1.0 will be ignored. Current value: bagging_fraction=0.7557187306012338\n",
      "[LightGBM] [Warning] feature_fraction is set=0.5344444760846191, colsample_bytree=1.0 will be ignored. Current value: feature_fraction=0.5344444760846191\n",
      "[LightGBM] [Warning] bagging_freq is set=1, subsample_freq=0 will be ignored. Current value: bagging_freq=1\n",
      "Fitting 5 folds for each of 50 candidates, totalling 250 fits\n",
      "[CV] END bagging_temperature=0.6952782350199227, depth=3, iterations=152, l2_leaf_reg=0.7406206859305662, learning_rate=0.06852348202202417; total time=   0.2s\n",
      "[CV] END bagging_temperature=0.6952782350199227, depth=3, iterations=152, l2_leaf_reg=0.7406206859305662, learning_rate=0.06852348202202417; total time=   0.2s\n",
      "[CV] END bagging_temperature=0.6952782350199227, depth=3, iterations=152, l2_leaf_reg=0.7406206859305662, learning_rate=0.06852348202202417; total time=   0.3s\n",
      "[CV] END bagging_temperature=0.6952782350199227, depth=3, iterations=152, l2_leaf_reg=0.7406206859305662, learning_rate=0.06852348202202417; total time=   0.3s\n",
      "[CV] END bagging_temperature=0.6952782350199227, depth=3, iterations=152, l2_leaf_reg=0.7406206859305662, learning_rate=0.06852348202202417; total time=   0.4s\n",
      "[CV] END bagging_temperature=0.002329907134497211, depth=5, iterations=60, l2_leaf_reg=0.9056272299845913, learning_rate=0.06757742704025278; total time=   0.1s\n",
      "[CV] END bagging_temperature=0.002329907134497211, depth=5, iterations=60, l2_leaf_reg=0.9056272299845913, learning_rate=0.06757742704025278; total time=   0.2s\n",
      "[CV] END bagging_temperature=0.002329907134497211, depth=5, iterations=60, l2_leaf_reg=0.9056272299845913, learning_rate=0.06757742704025278; total time=   0.2s\n",
      "[CV] END bagging_temperature=0.002329907134497211, depth=5, iterations=60, l2_leaf_reg=0.9056272299845913, learning_rate=0.06757742704025278; total time=   0.2s\n",
      "[CV] END bagging_temperature=0.6578781231401583, depth=9, iterations=70, l2_leaf_reg=0.7682268169318514, learning_rate=0.05048736475280529; total time=   0.5s\n",
      "[CV] END bagging_temperature=0.002329907134497211, depth=5, iterations=60, l2_leaf_reg=0.9056272299845913, learning_rate=0.06757742704025278; total time=   0.2s\n",
      "[CV] END bagging_temperature=0.6578781231401583, depth=9, iterations=70, l2_leaf_reg=0.7682268169318514, learning_rate=0.05048736475280529; total time=   0.6s\n",
      "[CV] END bagging_temperature=0.6578781231401583, depth=9, iterations=70, l2_leaf_reg=0.7682268169318514, learning_rate=0.05048736475280529; total time=   0.6s\n",
      "[CV] END bagging_temperature=0.6578781231401583, depth=9, iterations=70, l2_leaf_reg=0.7682268169318514, learning_rate=0.05048736475280529; total time=   0.6s\n",
      "[CV] END bagging_temperature=0.6578781231401583, depth=9, iterations=70, l2_leaf_reg=0.7682268169318514, learning_rate=0.05048736475280529; total time=   0.7s\n",
      "[CV] END bagging_temperature=0.49679297044437964, depth=5, iterations=173, l2_leaf_reg=0.832212584305767, learning_rate=0.051902730141128416; total time=   0.4s\n",
      "[CV] END bagging_temperature=0.08853460366507482, depth=5, iterations=113, l2_leaf_reg=0.9617027051961857, learning_rate=0.025754882734118092; total time=   0.2s\n",
      "[CV] END bagging_temperature=0.08853460366507482, depth=5, iterations=113, l2_leaf_reg=0.9617027051961857, learning_rate=0.025754882734118092; total time=   0.2s\n",
      "[CV] END bagging_temperature=0.49679297044437964, depth=5, iterations=173, l2_leaf_reg=0.832212584305767, learning_rate=0.051902730141128416; total time=   0.4s\n",
      "[CV] END bagging_temperature=0.49679297044437964, depth=5, iterations=173, l2_leaf_reg=0.832212584305767, learning_rate=0.051902730141128416; total time=   0.3s\n",
      "[CV] END bagging_temperature=0.08853460366507482, depth=5, iterations=113, l2_leaf_reg=0.9617027051961857, learning_rate=0.025754882734118092; total time=   0.3s\n",
      "[CV] END bagging_temperature=0.08853460366507482, depth=5, iterations=113, l2_leaf_reg=0.9617027051961857, learning_rate=0.025754882734118092; total time=   0.3s\n",
      "[CV] END bagging_temperature=0.49679297044437964, depth=5, iterations=173, l2_leaf_reg=0.832212584305767, learning_rate=0.051902730141128416; total time=   0.4s\n",
      "[CV] END bagging_temperature=0.08853460366507482, depth=5, iterations=113, l2_leaf_reg=0.9617027051961857, learning_rate=0.025754882734118092; total time=   0.3s\n",
      "[CV] END bagging_temperature=0.49679297044437964, depth=5, iterations=173, l2_leaf_reg=0.832212584305767, learning_rate=0.051902730141128416; total time=   0.4s\n",
      "[CV] END bagging_temperature=0.9705780003028992, depth=3, iterations=87, l2_leaf_reg=0.8166625258477374, learning_rate=0.10983204263168102; total time=   0.2s\n",
      "[CV] END bagging_temperature=0.9705780003028992, depth=3, iterations=87, l2_leaf_reg=0.8166625258477374, learning_rate=0.10983204263168102; total time=   0.2s\n",
      "[CV] END bagging_temperature=0.9705780003028992, depth=3, iterations=87, l2_leaf_reg=0.8166625258477374, learning_rate=0.10983204263168102; total time=   0.2s\n",
      "[CV] END bagging_temperature=0.9705780003028992, depth=3, iterations=87, l2_leaf_reg=0.8166625258477374, learning_rate=0.10983204263168102; total time=   0.2s\n",
      "[CV] END bagging_temperature=0.9705780003028992, depth=3, iterations=87, l2_leaf_reg=0.8166625258477374, learning_rate=0.10983204263168102; total time=   0.2s\n",
      "[CV] END bagging_temperature=0.2434053085160124, depth=8, iterations=65, l2_leaf_reg=0.26669776214799523, learning_rate=0.09621353853066969; total time=   0.3s\n",
      "[CV] END bagging_temperature=0.2434053085160124, depth=8, iterations=65, l2_leaf_reg=0.26669776214799523, learning_rate=0.09621353853066969; total time=   0.2s\n",
      "[CV] END bagging_temperature=0.2434053085160124, depth=8, iterations=65, l2_leaf_reg=0.26669776214799523, learning_rate=0.09621353853066969; total time=   0.3s\n",
      "[CV] END bagging_temperature=0.26706591702404614, depth=4, iterations=144, l2_leaf_reg=0.4170980509177433, learning_rate=0.016030042178418715; total time=   0.2s\n",
      "[CV] END bagging_temperature=0.2434053085160124, depth=8, iterations=65, l2_leaf_reg=0.26669776214799523, learning_rate=0.09621353853066969; total time=   0.3s\n",
      "[CV] END bagging_temperature=0.2434053085160124, depth=8, iterations=65, l2_leaf_reg=0.26669776214799523, learning_rate=0.09621353853066969; total time=   0.3s\n",
      "[CV] END bagging_temperature=0.26706591702404614, depth=4, iterations=144, l2_leaf_reg=0.4170980509177433, learning_rate=0.016030042178418715; total time=   0.3s\n",
      "[CV] END bagging_temperature=0.26706591702404614, depth=4, iterations=144, l2_leaf_reg=0.4170980509177433, learning_rate=0.016030042178418715; total time=   0.2s\n",
      "[CV] END bagging_temperature=0.26706591702404614, depth=4, iterations=144, l2_leaf_reg=0.4170980509177433, learning_rate=0.016030042178418715; total time=   0.2s\n",
      "[CV] END bagging_temperature=0.26706591702404614, depth=4, iterations=144, l2_leaf_reg=0.4170980509177433, learning_rate=0.016030042178418715; total time=   0.3s\n",
      "[CV] END bagging_temperature=0.4108816010095705, depth=3, iterations=160, l2_leaf_reg=0.5767060180819784, learning_rate=0.07897037325517306; total time=   0.3s\n",
      "[CV] END bagging_temperature=0.4108816010095705, depth=3, iterations=160, l2_leaf_reg=0.5767060180819784, learning_rate=0.07897037325517306; total time=   0.2s\n",
      "[CV] END bagging_temperature=0.4108816010095705, depth=3, iterations=160, l2_leaf_reg=0.5767060180819784, learning_rate=0.07897037325517306; total time=   0.3s\n",
      "[CV] END bagging_temperature=0.4108816010095705, depth=3, iterations=160, l2_leaf_reg=0.5767060180819784, learning_rate=0.07897037325517306; total time=   0.2s\n",
      "[CV] END bagging_temperature=0.4108816010095705, depth=3, iterations=160, l2_leaf_reg=0.5767060180819784, learning_rate=0.07897037325517306; total time=   0.2s\n",
      "[CV] END bagging_temperature=0.44379722757686557, depth=5, iterations=168, l2_leaf_reg=0.9652613261867367, learning_rate=0.01653198367740253; total time=   0.3s\n",
      "[CV] END bagging_temperature=0.1603488488138215, depth=4, iterations=123, l2_leaf_reg=0.6886940719774168, learning_rate=0.07674512551619994; total time=   0.2s\n",
      "[CV] END bagging_temperature=0.1603488488138215, depth=4, iterations=123, l2_leaf_reg=0.6886940719774168, learning_rate=0.07674512551619994; total time=   0.2s\n",
      "[CV] END bagging_temperature=0.44379722757686557, depth=5, iterations=168, l2_leaf_reg=0.9652613261867367, learning_rate=0.01653198367740253; total time=   0.3s\n",
      "[CV] END bagging_temperature=0.44379722757686557, depth=5, iterations=168, l2_leaf_reg=0.9652613261867367, learning_rate=0.01653198367740253; total time=   0.3s\n",
      "[CV] END bagging_temperature=0.44379722757686557, depth=5, iterations=168, l2_leaf_reg=0.9652613261867367, learning_rate=0.01653198367740253; total time=   0.3s\n",
      "[CV] END bagging_temperature=0.1603488488138215, depth=4, iterations=123, l2_leaf_reg=0.6886940719774168, learning_rate=0.07674512551619994; total time=   0.2s\n",
      "[CV] END bagging_temperature=0.44379722757686557, depth=5, iterations=168, l2_leaf_reg=0.9652613261867367, learning_rate=0.01653198367740253; total time=   0.4s\n",
      "[CV] END bagging_temperature=0.1603488488138215, depth=4, iterations=123, l2_leaf_reg=0.6886940719774168, learning_rate=0.07674512551619994; total time=   0.3s\n",
      "[CV] END bagging_temperature=0.1603488488138215, depth=4, iterations=123, l2_leaf_reg=0.6886940719774168, learning_rate=0.07674512551619994; total time=   0.3s\n",
      "[CV] END bagging_temperature=0.5472541976640616, depth=8, iterations=128, l2_leaf_reg=0.4406932115662364, learning_rate=0.07954099682102699; total time=   0.5s\n",
      "[CV] END bagging_temperature=0.5472541976640616, depth=8, iterations=128, l2_leaf_reg=0.4406932115662364, learning_rate=0.07954099682102699; total time=   0.5s\n",
      "[CV] END bagging_temperature=0.5472541976640616, depth=8, iterations=128, l2_leaf_reg=0.4406932115662364, learning_rate=0.07954099682102699; total time=   0.4s\n",
      "[CV] END bagging_temperature=0.5472541976640616, depth=8, iterations=128, l2_leaf_reg=0.4406932115662364, learning_rate=0.07954099682102699; total time=   0.5s\n",
      "[CV] END bagging_temperature=0.5472541976640616, depth=8, iterations=128, l2_leaf_reg=0.4406932115662364, learning_rate=0.07954099682102699; total time=   0.5s\n",
      "[CV] END bagging_temperature=0.07714969973325247, depth=8, iterations=144, l2_leaf_reg=0.5869340300683693, learning_rate=0.020660363080538816; total time=   0.5s\n",
      "[CV] END bagging_temperature=0.07714969973325247, depth=8, iterations=144, l2_leaf_reg=0.5869340300683693, learning_rate=0.020660363080538816; total time=   0.6s\n",
      "[CV] END bagging_temperature=0.07714969973325247, depth=8, iterations=144, l2_leaf_reg=0.5869340300683693, learning_rate=0.020660363080538816; total time=   0.6s\n",
      "[CV] END bagging_temperature=0.07714969973325247, depth=8, iterations=144, l2_leaf_reg=0.5869340300683693, learning_rate=0.020660363080538816; total time=   0.5s\n",
      "[CV] END bagging_temperature=0.30739079141929726, depth=8, iterations=53, l2_leaf_reg=0.9030385210264853, learning_rate=0.019194942812710537; total time=   0.2s\n",
      "[CV] END bagging_temperature=0.30739079141929726, depth=8, iterations=53, l2_leaf_reg=0.9030385210264853, learning_rate=0.019194942812710537; total time=   0.3s\n",
      "[CV] END bagging_temperature=0.07714969973325247, depth=8, iterations=144, l2_leaf_reg=0.5869340300683693, learning_rate=0.020660363080538816; total time=   0.6s\n",
      "[CV] END bagging_temperature=0.30739079141929726, depth=8, iterations=53, l2_leaf_reg=0.9030385210264853, learning_rate=0.019194942812710537; total time=   0.3s\n",
      "[CV] END bagging_temperature=0.30739079141929726, depth=8, iterations=53, l2_leaf_reg=0.9030385210264853, learning_rate=0.019194942812710537; total time=   0.3s\n",
      "[CV] END bagging_temperature=0.30739079141929726, depth=8, iterations=53, l2_leaf_reg=0.9030385210264853, learning_rate=0.019194942812710537; total time=   0.3s\n",
      "[CV] END bagging_temperature=0.6678889176599053, depth=6, iterations=141, l2_leaf_reg=0.8579062288275564, learning_rate=0.07863122625249967; total time=   0.3s\n",
      "[CV] END bagging_temperature=0.02089916039503148, depth=5, iterations=136, l2_leaf_reg=0.23537593290169867, learning_rate=0.0641696909433448; total time=   0.2s\n",
      "[CV] END bagging_temperature=0.02089916039503148, depth=5, iterations=136, l2_leaf_reg=0.23537593290169867, learning_rate=0.0641696909433448; total time=   0.2s\n",
      "[CV] END bagging_temperature=0.02089916039503148, depth=5, iterations=136, l2_leaf_reg=0.23537593290169867, learning_rate=0.0641696909433448; total time=   0.2s\n",
      "[CV] END bagging_temperature=0.6678889176599053, depth=6, iterations=141, l2_leaf_reg=0.8579062288275564, learning_rate=0.07863122625249967; total time=   0.3s\n",
      "[CV] END bagging_temperature=0.6678889176599053, depth=6, iterations=141, l2_leaf_reg=0.8579062288275564, learning_rate=0.07863122625249967; total time=   0.3s\n",
      "[CV] END bagging_temperature=0.02089916039503148, depth=5, iterations=136, l2_leaf_reg=0.23537593290169867, learning_rate=0.0641696909433448; total time=   0.3s\n",
      "[CV] END bagging_temperature=0.02089916039503148, depth=5, iterations=136, l2_leaf_reg=0.23537593290169867, learning_rate=0.0641696909433448; total time=   0.2s\n",
      "[CV] END bagging_temperature=0.6678889176599053, depth=6, iterations=141, l2_leaf_reg=0.8579062288275564, learning_rate=0.07863122625249967; total time=   0.3s\n",
      "[CV] END bagging_temperature=0.6678889176599053, depth=6, iterations=141, l2_leaf_reg=0.8579062288275564, learning_rate=0.07863122625249967; total time=   0.5s\n",
      "[CV] END bagging_temperature=0.19569706783391316, depth=8, iterations=161, l2_leaf_reg=0.43067720504869045, learning_rate=0.07326712836398538; total time=   0.6s\n",
      "[CV] END bagging_temperature=0.19569706783391316, depth=8, iterations=161, l2_leaf_reg=0.43067720504869045, learning_rate=0.07326712836398538; total time=   0.5s\n",
      "[CV] END bagging_temperature=0.17883612344630484, depth=9, iterations=95, l2_leaf_reg=0.3196560666167294, learning_rate=0.10559120079918831; total time=   0.5s\n",
      "[CV] END bagging_temperature=0.17883612344630484, depth=9, iterations=95, l2_leaf_reg=0.3196560666167294, learning_rate=0.10559120079918831; total time=   0.4s\n",
      "[CV] END bagging_temperature=0.17883612344630484, depth=9, iterations=95, l2_leaf_reg=0.3196560666167294, learning_rate=0.10559120079918831; total time=   0.5s\n",
      "[CV] END bagging_temperature=0.19569706783391316, depth=8, iterations=161, l2_leaf_reg=0.43067720504869045, learning_rate=0.07326712836398538; total time=   0.6s\n",
      "[CV] END bagging_temperature=0.19569706783391316, depth=8, iterations=161, l2_leaf_reg=0.43067720504869045, learning_rate=0.07326712836398538; total time=   0.6s\n",
      "[CV] END bagging_temperature=0.17883612344630484, depth=9, iterations=95, l2_leaf_reg=0.3196560666167294, learning_rate=0.10559120079918831; total time=   0.6s\n",
      "[CV] END bagging_temperature=0.17883612344630484, depth=9, iterations=95, l2_leaf_reg=0.3196560666167294, learning_rate=0.10559120079918831; total time=   0.6s\n",
      "[CV] END bagging_temperature=0.19569706783391316, depth=8, iterations=161, l2_leaf_reg=0.43067720504869045, learning_rate=0.07326712836398538; total time=   0.7s\n",
      "[CV] END bagging_temperature=0.8089943223950605, depth=6, iterations=103, l2_leaf_reg=0.37175758157507344, learning_rate=0.09657681364978865; total time=   0.3s\n",
      "[CV] END bagging_temperature=0.08783090993214315, depth=5, iterations=121, l2_leaf_reg=0.35159206703786006, learning_rate=0.09351713231577519; total time=   0.2s\n",
      "[CV] END bagging_temperature=0.8089943223950605, depth=6, iterations=103, l2_leaf_reg=0.37175758157507344, learning_rate=0.09657681364978865; total time=   0.3s\n",
      "[CV] END bagging_temperature=0.08783090993214315, depth=5, iterations=121, l2_leaf_reg=0.35159206703786006, learning_rate=0.09351713231577519; total time=   0.3s\n",
      "[CV] END bagging_temperature=0.8089943223950605, depth=6, iterations=103, l2_leaf_reg=0.37175758157507344, learning_rate=0.09657681364978865; total time=   0.3s\n",
      "[CV] END bagging_temperature=0.8089943223950605, depth=6, iterations=103, l2_leaf_reg=0.37175758157507344, learning_rate=0.09657681364978865; total time=   0.4s\n",
      "[CV] END bagging_temperature=0.08783090993214315, depth=5, iterations=121, l2_leaf_reg=0.35159206703786006, learning_rate=0.09351713231577519; total time=   0.3s\n",
      "[CV] END bagging_temperature=0.8089943223950605, depth=6, iterations=103, l2_leaf_reg=0.37175758157507344, learning_rate=0.09657681364978865; total time=   0.4s\n",
      "[CV] END bagging_temperature=0.08783090993214315, depth=5, iterations=121, l2_leaf_reg=0.35159206703786006, learning_rate=0.09351713231577519; total time=   0.3s\n",
      "[CV] END bagging_temperature=0.08783090993214315, depth=5, iterations=121, l2_leaf_reg=0.35159206703786006, learning_rate=0.09351713231577519; total time=   0.3s\n",
      "[CV] END bagging_temperature=0.8558612931724908, depth=4, iterations=88, l2_leaf_reg=0.19563989524329206, learning_rate=0.0816723495174387; total time=   0.1s\n",
      "[CV] END bagging_temperature=0.8558612931724908, depth=4, iterations=88, l2_leaf_reg=0.19563989524329206, learning_rate=0.0816723495174387; total time=   0.2s\n",
      "[CV] END bagging_temperature=0.8558612931724908, depth=4, iterations=88, l2_leaf_reg=0.19563989524329206, learning_rate=0.0816723495174387; total time=   0.2s\n",
      "[CV] END bagging_temperature=0.8558612931724908, depth=4, iterations=88, l2_leaf_reg=0.19563989524329206, learning_rate=0.0816723495174387; total time=   0.2s\n",
      "[CV] END bagging_temperature=0.8558612931724908, depth=4, iterations=88, l2_leaf_reg=0.19563989524329206, learning_rate=0.0816723495174387; total time=   0.2s\n",
      "[CV] END bagging_temperature=0.416356643449072, depth=7, iterations=66, l2_leaf_reg=0.8080109138675386, learning_rate=0.10856923511361781; total time=   0.2s\n",
      "[CV] END bagging_temperature=0.416356643449072, depth=7, iterations=66, l2_leaf_reg=0.8080109138675386, learning_rate=0.10856923511361781; total time=   0.2s\n",
      "[CV] END bagging_temperature=0.416356643449072, depth=7, iterations=66, l2_leaf_reg=0.8080109138675386, learning_rate=0.10856923511361781; total time=   0.2s\n",
      "[CV] END bagging_temperature=0.416356643449072, depth=7, iterations=66, l2_leaf_reg=0.8080109138675386, learning_rate=0.10856923511361781; total time=   0.2s\n",
      "[CV] END bagging_temperature=0.416356643449072, depth=7, iterations=66, l2_leaf_reg=0.8080109138675386, learning_rate=0.10856923511361781; total time=   0.3s\n",
      "[CV] END bagging_temperature=0.3694709038380779, depth=7, iterations=84, l2_leaf_reg=0.1493091149376613, learning_rate=0.07518939122189808; total time=   0.2s\n",
      "[CV] END bagging_temperature=0.3694709038380779, depth=7, iterations=84, l2_leaf_reg=0.1493091149376613, learning_rate=0.07518939122189808; total time=   0.3s\n",
      "[CV] END bagging_temperature=0.3694709038380779, depth=7, iterations=84, l2_leaf_reg=0.1493091149376613, learning_rate=0.07518939122189808; total time=   0.3s\n",
      "[CV] END bagging_temperature=0.3694709038380779, depth=7, iterations=84, l2_leaf_reg=0.1493091149376613, learning_rate=0.07518939122189808; total time=   0.4s\n",
      "[CV] END bagging_temperature=0.3694709038380779, depth=7, iterations=84, l2_leaf_reg=0.1493091149376613, learning_rate=0.07518939122189808; total time=   0.4s\n",
      "[CV] END bagging_temperature=0.5278694534549998, depth=6, iterations=183, l2_leaf_reg=0.6660858593346838, learning_rate=0.06241264837313771; total time=   0.4s\n",
      "[CV] END bagging_temperature=0.5278694534549998, depth=6, iterations=183, l2_leaf_reg=0.6660858593346838, learning_rate=0.06241264837313771; total time=   0.5s\n",
      "[CV] END bagging_temperature=0.5278694534549998, depth=6, iterations=183, l2_leaf_reg=0.6660858593346838, learning_rate=0.06241264837313771; total time=   0.5s\n",
      "[CV] END bagging_temperature=0.7815821056261709, depth=4, iterations=195, l2_leaf_reg=0.8655486679239452, learning_rate=0.03858593031711417; total time=   0.4s\n",
      "[CV] END bagging_temperature=0.7815821056261709, depth=4, iterations=195, l2_leaf_reg=0.8655486679239452, learning_rate=0.03858593031711417; total time=   0.4s\n",
      "[CV] END bagging_temperature=0.5278694534549998, depth=6, iterations=183, l2_leaf_reg=0.6660858593346838, learning_rate=0.06241264837313771; total time=   0.6s\n",
      "[CV] END bagging_temperature=0.7815821056261709, depth=4, iterations=195, l2_leaf_reg=0.8655486679239452, learning_rate=0.03858593031711417; total time=   0.3s\n",
      "[CV] END bagging_temperature=0.7815821056261709, depth=4, iterations=195, l2_leaf_reg=0.8655486679239452, learning_rate=0.03858593031711417; total time=   0.3s\n",
      "[CV] END bagging_temperature=0.5278694534549998, depth=6, iterations=183, l2_leaf_reg=0.6660858593346838, learning_rate=0.06241264837313771; total time=   0.6s\n",
      "[CV] END bagging_temperature=0.21574516595311843, depth=4, iterations=133, l2_leaf_reg=0.6193941895046874, learning_rate=0.10468791376639303; total time=   0.2s\n",
      "[CV] END bagging_temperature=0.7815821056261709, depth=4, iterations=195, l2_leaf_reg=0.8655486679239452, learning_rate=0.03858593031711417; total time=   0.3s\n",
      "[CV] END bagging_temperature=0.21574516595311843, depth=4, iterations=133, l2_leaf_reg=0.6193941895046874, learning_rate=0.10468791376639303; total time=   0.2s\n",
      "[CV] END bagging_temperature=0.21574516595311843, depth=4, iterations=133, l2_leaf_reg=0.6193941895046874, learning_rate=0.10468791376639303; total time=   0.1s\n",
      "[CV] END bagging_temperature=0.21574516595311843, depth=4, iterations=133, l2_leaf_reg=0.6193941895046874, learning_rate=0.10468791376639303; total time=   0.1s\n",
      "[CV] END bagging_temperature=0.21574516595311843, depth=4, iterations=133, l2_leaf_reg=0.6193941895046874, learning_rate=0.10468791376639303; total time=   0.2s\n",
      "[CV] END bagging_temperature=0.2622153453632743, depth=8, iterations=149, l2_leaf_reg=0.34125845013613765, learning_rate=0.08560170137812767; total time=   0.7s\n",
      "[CV] END bagging_temperature=0.2622153453632743, depth=8, iterations=149, l2_leaf_reg=0.34125845013613765, learning_rate=0.08560170137812767; total time=   0.9s\n",
      "[CV] END bagging_temperature=0.2622153453632743, depth=8, iterations=149, l2_leaf_reg=0.34125845013613765, learning_rate=0.08560170137812767; total time=   1.0s[CV] END bagging_temperature=0.2622153453632743, depth=8, iterations=149, l2_leaf_reg=0.34125845013613765, learning_rate=0.08560170137812767; total time=   1.0s\n",
      "\n",
      "[CV] END bagging_temperature=0.5605695004003235, depth=8, iterations=181, l2_leaf_reg=0.422740991683765, learning_rate=0.03243152367370297; total time=   0.9s\n",
      "[CV] END bagging_temperature=0.5605695004003235, depth=8, iterations=181, l2_leaf_reg=0.422740991683765, learning_rate=0.03243152367370297; total time=   0.9s\n",
      "[CV] END bagging_temperature=0.5605695004003235, depth=8, iterations=181, l2_leaf_reg=0.422740991683765, learning_rate=0.03243152367370297; total time=   0.9s\n",
      "[CV] END bagging_temperature=0.5605695004003235, depth=8, iterations=181, l2_leaf_reg=0.422740991683765, learning_rate=0.03243152367370297; total time=   0.9s\n",
      "[CV] END bagging_temperature=0.01826860519941309, depth=7, iterations=94, l2_leaf_reg=0.6652886393003493, learning_rate=0.010821797871834496; total time=   0.4s\n",
      "[CV] END bagging_temperature=0.2622153453632743, depth=8, iterations=149, l2_leaf_reg=0.34125845013613765, learning_rate=0.08560170137812767; total time=   1.1s\n",
      "[CV] END bagging_temperature=0.5605695004003235, depth=8, iterations=181, l2_leaf_reg=0.422740991683765, learning_rate=0.03243152367370297; total time=   0.9s\n",
      "[CV] END bagging_temperature=0.01826860519941309, depth=7, iterations=94, l2_leaf_reg=0.6652886393003493, learning_rate=0.010821797871834496; total time=   0.3s\n",
      "[CV] END bagging_temperature=0.5072311974955784, depth=7, iterations=52, l2_leaf_reg=0.7250682884397762, learning_rate=0.07592550884548058; total time=   0.1s\n",
      "[CV] END bagging_temperature=0.01826860519941309, depth=7, iterations=94, l2_leaf_reg=0.6652886393003493, learning_rate=0.010821797871834496; total time=   0.2s\n",
      "[CV] END bagging_temperature=0.5072311974955784, depth=7, iterations=52, l2_leaf_reg=0.7250682884397762, learning_rate=0.07592550884548058; total time=   0.2s\n",
      "[CV] END bagging_temperature=0.01826860519941309, depth=7, iterations=94, l2_leaf_reg=0.6652886393003493, learning_rate=0.010821797871834496; total time=   0.3s\n",
      "[CV] END bagging_temperature=0.5072311974955784, depth=7, iterations=52, l2_leaf_reg=0.7250682884397762, learning_rate=0.07592550884548058; total time=   0.2s\n",
      "[CV] END bagging_temperature=0.5072311974955784, depth=7, iterations=52, l2_leaf_reg=0.7250682884397762, learning_rate=0.07592550884548058; total time=   0.2s\n",
      "[CV] END bagging_temperature=0.8087677542032855, depth=3, iterations=127, l2_leaf_reg=0.7791844267109592, learning_rate=0.09224109965857434; total time=   0.2s\n",
      "[CV] END bagging_temperature=0.5072311974955784, depth=7, iterations=52, l2_leaf_reg=0.7250682884397762, learning_rate=0.07592550884548058; total time=   0.2s\n",
      "[CV] END bagging_temperature=0.01826860519941309, depth=7, iterations=94, l2_leaf_reg=0.6652886393003493, learning_rate=0.010821797871834496; total time=   0.3s\n",
      "[CV] END bagging_temperature=0.8087677542032855, depth=3, iterations=127, l2_leaf_reg=0.7791844267109592, learning_rate=0.09224109965857434; total time=   0.2s\n",
      "[CV] END bagging_temperature=0.8087677542032855, depth=3, iterations=127, l2_leaf_reg=0.7791844267109592, learning_rate=0.09224109965857434; total time=   0.2s\n",
      "[CV] END bagging_temperature=0.8087677542032855, depth=3, iterations=127, l2_leaf_reg=0.7791844267109592, learning_rate=0.09224109965857434; total time=   0.2s\n",
      "[CV] END bagging_temperature=0.14287407306409616, depth=3, iterations=122, l2_leaf_reg=0.3818658014509724, learning_rate=0.08711009704112489; total time=   0.2s\n",
      "[CV] END bagging_temperature=0.14287407306409616, depth=3, iterations=122, l2_leaf_reg=0.3818658014509724, learning_rate=0.08711009704112489; total time=   0.2s\n",
      "[CV] END bagging_temperature=0.8087677542032855, depth=3, iterations=127, l2_leaf_reg=0.7791844267109592, learning_rate=0.09224109965857434; total time=   0.3s\n",
      "[CV] END bagging_temperature=0.14287407306409616, depth=3, iterations=122, l2_leaf_reg=0.3818658014509724, learning_rate=0.08711009704112489; total time=   0.2s\n",
      "[CV] END bagging_temperature=0.14287407306409616, depth=3, iterations=122, l2_leaf_reg=0.3818658014509724, learning_rate=0.08711009704112489; total time=   0.2s\n",
      "[CV] END bagging_temperature=0.14287407306409616, depth=3, iterations=122, l2_leaf_reg=0.3818658014509724, learning_rate=0.08711009704112489; total time=   0.3s\n",
      "[CV] END bagging_temperature=0.21340468723546668, depth=6, iterations=102, l2_leaf_reg=0.15231181449869935, learning_rate=0.026065699954361282; total time=   0.2s\n",
      "[CV] END bagging_temperature=0.21340468723546668, depth=6, iterations=102, l2_leaf_reg=0.15231181449869935, learning_rate=0.026065699954361282; total time=   0.2s\n",
      "[CV] END bagging_temperature=0.21340468723546668, depth=6, iterations=102, l2_leaf_reg=0.15231181449869935, learning_rate=0.026065699954361282; total time=   0.2s\n",
      "[CV] END bagging_temperature=0.21340468723546668, depth=6, iterations=102, l2_leaf_reg=0.15231181449869935, learning_rate=0.026065699954361282; total time=   0.2s\n",
      "[CV] END bagging_temperature=0.21340468723546668, depth=6, iterations=102, l2_leaf_reg=0.15231181449869935, learning_rate=0.026065699954361282; total time=   0.3s\n",
      "[CV] END bagging_temperature=0.28568740235320544, depth=6, iterations=156, l2_leaf_reg=0.28876185403734245, learning_rate=0.04026244932077209; total time=   0.3s\n",
      "[CV] END bagging_temperature=0.28568740235320544, depth=6, iterations=156, l2_leaf_reg=0.28876185403734245, learning_rate=0.04026244932077209; total time=   0.3s\n",
      "[CV] END bagging_temperature=0.28568740235320544, depth=6, iterations=156, l2_leaf_reg=0.28876185403734245, learning_rate=0.04026244932077209; total time=   0.4s\n",
      "[CV] END bagging_temperature=0.28568740235320544, depth=6, iterations=156, l2_leaf_reg=0.28876185403734245, learning_rate=0.04026244932077209; total time=   0.4s\n",
      "[CV] END bagging_temperature=0.7920913808657801, depth=6, iterations=156, l2_leaf_reg=0.8841770911631809, learning_rate=0.040964077424628334; total time=   0.5s\n",
      "[CV] END bagging_temperature=0.7920913808657801, depth=6, iterations=156, l2_leaf_reg=0.8841770911631809, learning_rate=0.040964077424628334; total time=   0.5s\n",
      "[CV] END bagging_temperature=0.28568740235320544, depth=6, iterations=156, l2_leaf_reg=0.28876185403734245, learning_rate=0.04026244932077209; total time=   0.6s\n",
      "[CV] END bagging_temperature=0.7920913808657801, depth=6, iterations=156, l2_leaf_reg=0.8841770911631809, learning_rate=0.040964077424628334; total time=   0.5s\n",
      "[CV] END bagging_temperature=0.7920913808657801, depth=6, iterations=156, l2_leaf_reg=0.8841770911631809, learning_rate=0.040964077424628334; total time=   0.5s\n",
      "[CV] END bagging_temperature=0.7920913808657801, depth=6, iterations=156, l2_leaf_reg=0.8841770911631809, learning_rate=0.040964077424628334; total time=   0.6s\n",
      "[CV] END bagging_temperature=0.7221255476998633, depth=7, iterations=179, l2_leaf_reg=0.11131737914987638, learning_rate=0.10491999442115725; total time=   0.5s\n",
      "[CV] END bagging_temperature=0.7221255476998633, depth=7, iterations=179, l2_leaf_reg=0.11131737914987638, learning_rate=0.10491999442115725; total time=   0.5s\n",
      "[CV] END bagging_temperature=0.7221255476998633, depth=7, iterations=179, l2_leaf_reg=0.11131737914987638, learning_rate=0.10491999442115725; total time=   0.6s\n",
      "[CV] END bagging_temperature=0.7221255476998633, depth=7, iterations=179, l2_leaf_reg=0.11131737914987638, learning_rate=0.10491999442115725; total time=   0.6s\n",
      "[CV] END bagging_temperature=0.7221255476998633, depth=7, iterations=179, l2_leaf_reg=0.11131737914987638, learning_rate=0.10491999442115725; total time=   0.8s\n",
      "[CV] END bagging_temperature=0.21638456490452396, depth=7, iterations=67, l2_leaf_reg=0.13018462361412986, learning_rate=0.03943008026977494; total time=   0.5s\n",
      "[CV] END bagging_temperature=0.21638456490452396, depth=7, iterations=67, l2_leaf_reg=0.13018462361412986, learning_rate=0.03943008026977494; total time=   0.5s\n",
      "[CV] END bagging_temperature=0.21638456490452396, depth=7, iterations=67, l2_leaf_reg=0.13018462361412986, learning_rate=0.03943008026977494; total time=   0.5s\n",
      "[CV] END bagging_temperature=0.21638456490452396, depth=7, iterations=67, l2_leaf_reg=0.13018462361412986, learning_rate=0.03943008026977494; total time=   0.4s\n",
      "[CV] END bagging_temperature=0.21638456490452396, depth=7, iterations=67, l2_leaf_reg=0.13018462361412986, learning_rate=0.03943008026977494; total time=   0.2s\n",
      "[CV] END bagging_temperature=0.9368195542683732, depth=5, iterations=133, l2_leaf_reg=0.9090738106451199, learning_rate=0.09420573004427792; total time=   0.2s\n",
      "[CV] END bagging_temperature=0.9368195542683732, depth=5, iterations=133, l2_leaf_reg=0.9090738106451199, learning_rate=0.09420573004427792; total time=   0.2s\n",
      "[CV] END bagging_temperature=0.9368195542683732, depth=5, iterations=133, l2_leaf_reg=0.9090738106451199, learning_rate=0.09420573004427792; total time=   0.2s\n",
      "[CV] END bagging_temperature=0.9368195542683732, depth=5, iterations=133, l2_leaf_reg=0.9090738106451199, learning_rate=0.09420573004427792; total time=   0.3s\n",
      "[CV] END bagging_temperature=0.6890233042966263, depth=9, iterations=189, l2_leaf_reg=0.5282844381260774, learning_rate=0.09416364309691326; total time=   1.1s\n",
      "[CV] END bagging_temperature=0.9368195542683732, depth=5, iterations=133, l2_leaf_reg=0.9090738106451199, learning_rate=0.09420573004427792; total time=   0.2s\n",
      "[CV] END bagging_temperature=0.01232230446557403, depth=5, iterations=103, l2_leaf_reg=0.6395295149810987, learning_rate=0.058420663159063385; total time=   0.1s\n",
      "[CV] END bagging_temperature=0.9216783020536587, depth=9, iterations=90, l2_leaf_reg=0.5522838811086385, learning_rate=0.05021087768968308; total time=   0.5s\n",
      "[CV] END bagging_temperature=0.6890233042966263, depth=9, iterations=189, l2_leaf_reg=0.5282844381260774, learning_rate=0.09416364309691326; total time=   1.5s\n",
      "[CV] END bagging_temperature=0.6890233042966263, depth=9, iterations=189, l2_leaf_reg=0.5282844381260774, learning_rate=0.09416364309691326; total time=   1.5s\n",
      "[CV] END bagging_temperature=0.6890233042966263, depth=9, iterations=189, l2_leaf_reg=0.5282844381260774, learning_rate=0.09416364309691326; total time=   1.4s\n",
      "[CV] END bagging_temperature=0.9216783020536587, depth=9, iterations=90, l2_leaf_reg=0.5522838811086385, learning_rate=0.05021087768968308; total time=   0.5s\n",
      "[CV] END bagging_temperature=0.01232230446557403, depth=5, iterations=103, l2_leaf_reg=0.6395295149810987, learning_rate=0.058420663159063385; total time=   0.2s\n",
      "[CV] END bagging_temperature=0.9216783020536587, depth=9, iterations=90, l2_leaf_reg=0.5522838811086385, learning_rate=0.05021087768968308; total time=   0.5s\n",
      "[CV] END bagging_temperature=0.0750840471891725, depth=4, iterations=77, l2_leaf_reg=0.7129703733714771, learning_rate=0.09372851830349818; total time=   0.1s\n",
      "[CV] END bagging_temperature=0.9216783020536587, depth=9, iterations=90, l2_leaf_reg=0.5522838811086385, learning_rate=0.05021087768968308; total time=   0.7s\n",
      "[CV] END bagging_temperature=0.01232230446557403, depth=5, iterations=103, l2_leaf_reg=0.6395295149810987, learning_rate=0.058420663159063385; total time=   0.2s\n",
      "[CV] END bagging_temperature=0.0750840471891725, depth=4, iterations=77, l2_leaf_reg=0.7129703733714771, learning_rate=0.09372851830349818; total time=   0.1s\n",
      "[CV] END bagging_temperature=0.01232230446557403, depth=5, iterations=103, l2_leaf_reg=0.6395295149810987, learning_rate=0.058420663159063385; total time=   0.2s\n",
      "[CV] END bagging_temperature=0.0750840471891725, depth=4, iterations=77, l2_leaf_reg=0.7129703733714771, learning_rate=0.09372851830349818; total time=   0.1s\n",
      "[CV] END bagging_temperature=0.0750840471891725, depth=4, iterations=77, l2_leaf_reg=0.7129703733714771, learning_rate=0.09372851830349818; total time=   0.1s\n",
      "[CV] END bagging_temperature=0.01232230446557403, depth=5, iterations=103, l2_leaf_reg=0.6395295149810987, learning_rate=0.058420663159063385; total time=   0.2s\n",
      "[CV] END bagging_temperature=0.9216783020536587, depth=9, iterations=90, l2_leaf_reg=0.5522838811086385, learning_rate=0.05021087768968308; total time=   0.6s\n",
      "[CV] END bagging_temperature=0.0750840471891725, depth=4, iterations=77, l2_leaf_reg=0.7129703733714771, learning_rate=0.09372851830349818; total time=   0.2s\n",
      "[CV] END bagging_temperature=0.1727578269792538, depth=5, iterations=86, l2_leaf_reg=0.5039942186536076, learning_rate=0.08324321514672725; total time=   0.2s\n",
      "[CV] END bagging_temperature=0.6890233042966263, depth=9, iterations=189, l2_leaf_reg=0.5282844381260774, learning_rate=0.09416364309691326; total time=   1.9s\n",
      "[CV] END bagging_temperature=0.1727578269792538, depth=5, iterations=86, l2_leaf_reg=0.5039942186536076, learning_rate=0.08324321514672725; total time=   0.1s\n",
      "[CV] END bagging_temperature=0.1727578269792538, depth=5, iterations=86, l2_leaf_reg=0.5039942186536076, learning_rate=0.08324321514672725; total time=   0.2s\n",
      "[CV] END bagging_temperature=0.1727578269792538, depth=5, iterations=86, l2_leaf_reg=0.5039942186536076, learning_rate=0.08324321514672725; total time=   0.2s\n",
      "[CV] END bagging_temperature=0.1727578269792538, depth=5, iterations=86, l2_leaf_reg=0.5039942186536076, learning_rate=0.08324321514672725; total time=   0.2s\n",
      "[CV] END bagging_temperature=0.8078178807089234, depth=4, iterations=100, l2_leaf_reg=0.4227590933574613, learning_rate=0.04159294001185372; total time=   0.3s\n",
      "[CV] END bagging_temperature=0.8078178807089234, depth=4, iterations=100, l2_leaf_reg=0.4227590933574613, learning_rate=0.04159294001185372; total time=   0.3s\n",
      "[CV] END bagging_temperature=0.8078178807089234, depth=4, iterations=100, l2_leaf_reg=0.4227590933574613, learning_rate=0.04159294001185372; total time=   0.4s\n",
      "[CV] END bagging_temperature=0.8078178807089234, depth=4, iterations=100, l2_leaf_reg=0.4227590933574613, learning_rate=0.04159294001185372; total time=   0.4s\n",
      "[CV] END bagging_temperature=0.474059466893876, depth=4, iterations=79, l2_leaf_reg=0.8963926087159955, learning_rate=0.031617689921550944; total time=   0.2s\n",
      "[CV] END bagging_temperature=0.474059466893876, depth=4, iterations=79, l2_leaf_reg=0.8963926087159955, learning_rate=0.031617689921550944; total time=   0.1s\n",
      "[CV] END bagging_temperature=0.8078178807089234, depth=4, iterations=100, l2_leaf_reg=0.4227590933574613, learning_rate=0.04159294001185372; total time=   0.4s\n",
      "[CV] END bagging_temperature=0.474059466893876, depth=4, iterations=79, l2_leaf_reg=0.8963926087159955, learning_rate=0.031617689921550944; total time=   0.1s\n",
      "[CV] END bagging_temperature=0.474059466893876, depth=4, iterations=79, l2_leaf_reg=0.8963926087159955, learning_rate=0.031617689921550944; total time=   0.1s\n",
      "[CV] END bagging_temperature=0.3890780284101213, depth=9, iterations=94, l2_leaf_reg=0.25522913957639337, learning_rate=0.030101406621988507; total time=   0.8s\n",
      "[CV] END bagging_temperature=0.474059466893876, depth=4, iterations=79, l2_leaf_reg=0.8963926087159955, learning_rate=0.031617689921550944; total time=   0.1s\n",
      "[CV] END bagging_temperature=0.3890780284101213, depth=9, iterations=94, l2_leaf_reg=0.25522913957639337, learning_rate=0.030101406621988507; total time=   0.7s\n",
      "[CV] END bagging_temperature=0.3890780284101213, depth=9, iterations=94, l2_leaf_reg=0.25522913957639337, learning_rate=0.030101406621988507; total time=   0.7s\n",
      "[CV] END bagging_temperature=0.3890780284101213, depth=9, iterations=94, l2_leaf_reg=0.25522913957639337, learning_rate=0.030101406621988507; total time=   0.9s\n",
      "[CV] END bagging_temperature=0.3890780284101213, depth=9, iterations=94, l2_leaf_reg=0.25522913957639337, learning_rate=0.030101406621988507; total time=   1.1s\n",
      "[CV] END bagging_temperature=0.7830075994934007, depth=8, iterations=165, l2_leaf_reg=0.5029839390436139, learning_rate=0.10048820950358583; total time=   0.5s\n",
      "[CV] END bagging_temperature=0.4873742795736701, depth=9, iterations=130, l2_leaf_reg=0.9286586805305295, learning_rate=0.10704529323301992; total time=   0.7s\n",
      "[CV] END bagging_temperature=0.4873742795736701, depth=9, iterations=130, l2_leaf_reg=0.9286586805305295, learning_rate=0.10704529323301992; total time=   0.6s\n",
      "[CV] END bagging_temperature=0.4873742795736701, depth=9, iterations=130, l2_leaf_reg=0.9286586805305295, learning_rate=0.10704529323301992; total time=   0.8s\n",
      "[CV] END bagging_temperature=0.4873742795736701, depth=9, iterations=130, l2_leaf_reg=0.9286586805305295, learning_rate=0.10704529323301992; total time=   0.8s\n",
      "[CV] END bagging_temperature=0.4873742795736701, depth=9, iterations=130, l2_leaf_reg=0.9286586805305295, learning_rate=0.10704529323301992; total time=   0.9s\n",
      "[CV] END bagging_temperature=0.7830075994934007, depth=8, iterations=165, l2_leaf_reg=0.5029839390436139, learning_rate=0.10048820950358583; total time=   0.7s\n",
      "[CV] END bagging_temperature=0.7830075994934007, depth=8, iterations=165, l2_leaf_reg=0.5029839390436139, learning_rate=0.10048820950358583; total time=   0.8s\n",
      "[CV] END bagging_temperature=0.7830075994934007, depth=8, iterations=165, l2_leaf_reg=0.5029839390436139, learning_rate=0.10048820950358583; total time=   0.8s\n",
      "[CV] END bagging_temperature=0.7830075994934007, depth=8, iterations=165, l2_leaf_reg=0.5029839390436139, learning_rate=0.10048820950358583; total time=   0.6s\n",
      "[CV] END bagging_temperature=0.5822335058796629, depth=8, iterations=70, l2_leaf_reg=0.5447221192948106, learning_rate=0.013170431392317675; total time=   0.2s\n",
      "[CV] END bagging_temperature=0.5822335058796629, depth=8, iterations=70, l2_leaf_reg=0.5447221192948106, learning_rate=0.013170431392317675; total time=   0.2s\n",
      "[CV] END bagging_temperature=0.5822335058796629, depth=8, iterations=70, l2_leaf_reg=0.5447221192948106, learning_rate=0.013170431392317675; total time=   0.3s\n",
      "[CV] END bagging_temperature=0.5822335058796629, depth=8, iterations=70, l2_leaf_reg=0.5447221192948106, learning_rate=0.013170431392317675; total time=   0.3s\n",
      "[CV] END bagging_temperature=0.5822335058796629, depth=8, iterations=70, l2_leaf_reg=0.5447221192948106, learning_rate=0.013170431392317675; total time=   0.2s\n",
      "[CV] END bagging_temperature=0.8817324085047314, depth=9, iterations=154, l2_leaf_reg=0.1714718759791043, learning_rate=0.10787323724036955; total time=   0.7s\n",
      "[CV] END bagging_temperature=0.8817324085047314, depth=9, iterations=154, l2_leaf_reg=0.1714718759791043, learning_rate=0.10787323724036955; total time=   0.8s\n",
      "[CV] END bagging_temperature=0.8817324085047314, depth=9, iterations=154, l2_leaf_reg=0.1714718759791043, learning_rate=0.10787323724036955; total time=   0.7s\n",
      "[CV] END bagging_temperature=0.8817324085047314, depth=9, iterations=154, l2_leaf_reg=0.1714718759791043, learning_rate=0.10787323724036955; total time=   0.6s\n",
      "[CV] END bagging_temperature=0.8817324085047314, depth=9, iterations=154, l2_leaf_reg=0.1714718759791043, learning_rate=0.10787323724036955; total time=   0.7s\n",
      "Fitting 5 folds for each of 50 candidates, totalling 250 fits\n"
     ]
    },
    {
     "name": "stderr",
     "output_type": "stream",
     "text": [
      "/Users/matmang/opt/anaconda3/envs/bert-study/lib/python3.10/site-packages/sklearn/model_selection/_validation.py:686: DataConversionWarning: A column-vector y was passed when a 1d array was expected. Please change the shape of y to (n_samples,), for example using ravel().\n",
      "  estimator.fit(X_train, y_train, **fit_params)\n",
      "/Users/matmang/opt/anaconda3/envs/bert-study/lib/python3.10/site-packages/sklearn/model_selection/_validation.py:686: DataConversionWarning: A column-vector y was passed when a 1d array was expected. Please change the shape of y to (n_samples,), for example using ravel().\n",
      "  estimator.fit(X_train, y_train, **fit_params)\n",
      "/Users/matmang/opt/anaconda3/envs/bert-study/lib/python3.10/site-packages/sklearn/model_selection/_validation.py:686: DataConversionWarning: A column-vector y was passed when a 1d array was expected. Please change the shape of y to (n_samples,), for example using ravel().\n",
      "  estimator.fit(X_train, y_train, **fit_params)\n",
      "/Users/matmang/opt/anaconda3/envs/bert-study/lib/python3.10/site-packages/sklearn/model_selection/_validation.py:686: DataConversionWarning: A column-vector y was passed when a 1d array was expected. Please change the shape of y to (n_samples,), for example using ravel().\n",
      "  estimator.fit(X_train, y_train, **fit_params)\n",
      "/Users/matmang/opt/anaconda3/envs/bert-study/lib/python3.10/site-packages/sklearn/model_selection/_validation.py:686: DataConversionWarning: A column-vector y was passed when a 1d array was expected. Please change the shape of y to (n_samples,), for example using ravel().\n",
      "  estimator.fit(X_train, y_train, **fit_params)\n",
      "/Users/matmang/opt/anaconda3/envs/bert-study/lib/python3.10/site-packages/sklearn/model_selection/_validation.py:686: DataConversionWarning: A column-vector y was passed when a 1d array was expected. Please change the shape of y to (n_samples,), for example using ravel().\n",
      "  estimator.fit(X_train, y_train, **fit_params)\n",
      "/Users/matmang/opt/anaconda3/envs/bert-study/lib/python3.10/site-packages/sklearn/model_selection/_validation.py:686: DataConversionWarning: A column-vector y was passed when a 1d array was expected. Please change the shape of y to (n_samples,), for example using ravel().\n",
      "  estimator.fit(X_train, y_train, **fit_params)\n",
      "/Users/matmang/opt/anaconda3/envs/bert-study/lib/python3.10/site-packages/sklearn/model_selection/_validation.py:686: DataConversionWarning: A column-vector y was passed when a 1d array was expected. Please change the shape of y to (n_samples,), for example using ravel().\n",
      "  estimator.fit(X_train, y_train, **fit_params)\n",
      "/Users/matmang/opt/anaconda3/envs/bert-study/lib/python3.10/site-packages/sklearn/model_selection/_validation.py:686: DataConversionWarning: A column-vector y was passed when a 1d array was expected. Please change the shape of y to (n_samples,), for example using ravel().\n",
      "  estimator.fit(X_train, y_train, **fit_params)\n",
      "/Users/matmang/opt/anaconda3/envs/bert-study/lib/python3.10/site-packages/sklearn/model_selection/_validation.py:686: DataConversionWarning: A column-vector y was passed when a 1d array was expected. Please change the shape of y to (n_samples,), for example using ravel().\n",
      "  estimator.fit(X_train, y_train, **fit_params)\n"
     ]
    },
    {
     "name": "stdout",
     "output_type": "stream",
     "text": [
      "[CV] END max_depth=8, min_samples_leaf=6, min_samples_split=14, n_estimators=139; total time=   1.9s\n",
      "[CV] END max_depth=8, min_samples_leaf=6, min_samples_split=14, n_estimators=139; total time=   1.9s\n",
      "[CV] END max_depth=8, min_samples_leaf=6, min_samples_split=14, n_estimators=139; total time=   2.0s\n",
      "[CV] END max_depth=8, min_samples_leaf=6, min_samples_split=14, n_estimators=139; total time=   2.0s\n",
      "[CV] END max_depth=8, min_samples_leaf=6, min_samples_split=14, n_estimators=139; total time=   2.0s\n"
     ]
    },
    {
     "name": "stderr",
     "output_type": "stream",
     "text": [
      "/Users/matmang/opt/anaconda3/envs/bert-study/lib/python3.10/site-packages/sklearn/model_selection/_validation.py:686: DataConversionWarning: A column-vector y was passed when a 1d array was expected. Please change the shape of y to (n_samples,), for example using ravel().\n",
      "  estimator.fit(X_train, y_train, **fit_params)\n",
      "/Users/matmang/opt/anaconda3/envs/bert-study/lib/python3.10/site-packages/sklearn/model_selection/_validation.py:686: DataConversionWarning: A column-vector y was passed when a 1d array was expected. Please change the shape of y to (n_samples,), for example using ravel().\n",
      "  estimator.fit(X_train, y_train, **fit_params)\n",
      "/Users/matmang/opt/anaconda3/envs/bert-study/lib/python3.10/site-packages/sklearn/model_selection/_validation.py:686: DataConversionWarning: A column-vector y was passed when a 1d array was expected. Please change the shape of y to (n_samples,), for example using ravel().\n",
      "  estimator.fit(X_train, y_train, **fit_params)\n",
      "/Users/matmang/opt/anaconda3/envs/bert-study/lib/python3.10/site-packages/sklearn/model_selection/_validation.py:686: DataConversionWarning: A column-vector y was passed when a 1d array was expected. Please change the shape of y to (n_samples,), for example using ravel().\n",
      "  estimator.fit(X_train, y_train, **fit_params)\n",
      "/Users/matmang/opt/anaconda3/envs/bert-study/lib/python3.10/site-packages/sklearn/model_selection/_validation.py:686: DataConversionWarning: A column-vector y was passed when a 1d array was expected. Please change the shape of y to (n_samples,), for example using ravel().\n",
      "  estimator.fit(X_train, y_train, **fit_params)\n"
     ]
    },
    {
     "name": "stdout",
     "output_type": "stream",
     "text": [
      "[CV] END max_depth=10, min_samples_leaf=9, min_samples_split=16, n_estimators=146; total time=   2.4s\n",
      "[CV] END max_depth=10, min_samples_leaf=9, min_samples_split=16, n_estimators=146; total time=   2.4s\n",
      "[CV] END max_depth=10, min_samples_leaf=9, min_samples_split=16, n_estimators=146; total time=   2.4s\n",
      "[CV] END max_depth=10, min_samples_leaf=9, min_samples_split=16, n_estimators=146; total time=   2.4s\n",
      "[CV] END max_depth=10, min_samples_leaf=9, min_samples_split=16, n_estimators=146; total time=   2.5s\n"
     ]
    },
    {
     "name": "stderr",
     "output_type": "stream",
     "text": [
      "/Users/matmang/opt/anaconda3/envs/bert-study/lib/python3.10/site-packages/sklearn/model_selection/_validation.py:686: DataConversionWarning: A column-vector y was passed when a 1d array was expected. Please change the shape of y to (n_samples,), for example using ravel().\n",
      "  estimator.fit(X_train, y_train, **fit_params)\n",
      "/Users/matmang/opt/anaconda3/envs/bert-study/lib/python3.10/site-packages/sklearn/model_selection/_validation.py:686: DataConversionWarning: A column-vector y was passed when a 1d array was expected. Please change the shape of y to (n_samples,), for example using ravel().\n",
      "  estimator.fit(X_train, y_train, **fit_params)\n",
      "/Users/matmang/opt/anaconda3/envs/bert-study/lib/python3.10/site-packages/sklearn/model_selection/_validation.py:686: DataConversionWarning: A column-vector y was passed when a 1d array was expected. Please change the shape of y to (n_samples,), for example using ravel().\n",
      "  estimator.fit(X_train, y_train, **fit_params)\n",
      "/Users/matmang/opt/anaconda3/envs/bert-study/lib/python3.10/site-packages/sklearn/model_selection/_validation.py:686: DataConversionWarning: A column-vector y was passed when a 1d array was expected. Please change the shape of y to (n_samples,), for example using ravel().\n",
      "  estimator.fit(X_train, y_train, **fit_params)\n",
      "/Users/matmang/opt/anaconda3/envs/bert-study/lib/python3.10/site-packages/sklearn/model_selection/_validation.py:686: DataConversionWarning: A column-vector y was passed when a 1d array was expected. Please change the shape of y to (n_samples,), for example using ravel().\n",
      "  estimator.fit(X_train, y_train, **fit_params)\n"
     ]
    },
    {
     "name": "stdout",
     "output_type": "stream",
     "text": [
      "[CV] END max_depth=12, min_samples_leaf=3, min_samples_split=12, n_estimators=131; total time=   2.6s\n",
      "[CV] END max_depth=12, min_samples_leaf=3, min_samples_split=12, n_estimators=131; total time=   2.6s\n",
      "[CV] END max_depth=12, min_samples_leaf=3, min_samples_split=12, n_estimators=131; total time=   2.6s\n",
      "[CV] END max_depth=12, min_samples_leaf=3, min_samples_split=12, n_estimators=131; total time=   2.6s\n",
      "[CV] END max_depth=12, min_samples_leaf=3, min_samples_split=12, n_estimators=131; total time=   2.6s\n"
     ]
    },
    {
     "name": "stderr",
     "output_type": "stream",
     "text": [
      "/Users/matmang/opt/anaconda3/envs/bert-study/lib/python3.10/site-packages/sklearn/model_selection/_validation.py:686: DataConversionWarning: A column-vector y was passed when a 1d array was expected. Please change the shape of y to (n_samples,), for example using ravel().\n",
      "  estimator.fit(X_train, y_train, **fit_params)\n",
      "/Users/matmang/opt/anaconda3/envs/bert-study/lib/python3.10/site-packages/sklearn/model_selection/_validation.py:686: DataConversionWarning: A column-vector y was passed when a 1d array was expected. Please change the shape of y to (n_samples,), for example using ravel().\n",
      "  estimator.fit(X_train, y_train, **fit_params)\n",
      "/Users/matmang/opt/anaconda3/envs/bert-study/lib/python3.10/site-packages/sklearn/model_selection/_validation.py:686: DataConversionWarning: A column-vector y was passed when a 1d array was expected. Please change the shape of y to (n_samples,), for example using ravel().\n",
      "  estimator.fit(X_train, y_train, **fit_params)\n",
      "/Users/matmang/opt/anaconda3/envs/bert-study/lib/python3.10/site-packages/sklearn/model_selection/_validation.py:686: DataConversionWarning: A column-vector y was passed when a 1d array was expected. Please change the shape of y to (n_samples,), for example using ravel().\n",
      "  estimator.fit(X_train, y_train, **fit_params)\n",
      "/Users/matmang/opt/anaconda3/envs/bert-study/lib/python3.10/site-packages/sklearn/model_selection/_validation.py:686: DataConversionWarning: A column-vector y was passed when a 1d array was expected. Please change the shape of y to (n_samples,), for example using ravel().\n",
      "  estimator.fit(X_train, y_train, **fit_params)\n"
     ]
    },
    {
     "name": "stdout",
     "output_type": "stream",
     "text": [
      "[CV] END max_depth=13, min_samples_leaf=9, min_samples_split=19, n_estimators=190; total time=   3.8s\n",
      "[CV] END max_depth=13, min_samples_leaf=9, min_samples_split=19, n_estimators=190; total time=   3.8s\n",
      "[CV] END max_depth=13, min_samples_leaf=9, min_samples_split=19, n_estimators=190; total time=   3.8s\n",
      "[CV] END max_depth=13, min_samples_leaf=9, min_samples_split=19, n_estimators=190; total time=   3.9s\n",
      "[CV] END max_depth=13, min_samples_leaf=9, min_samples_split=19, n_estimators=190; total time=   3.8s\n"
     ]
    },
    {
     "name": "stderr",
     "output_type": "stream",
     "text": [
      "/Users/matmang/opt/anaconda3/envs/bert-study/lib/python3.10/site-packages/sklearn/model_selection/_validation.py:686: DataConversionWarning: A column-vector y was passed when a 1d array was expected. Please change the shape of y to (n_samples,), for example using ravel().\n",
      "  estimator.fit(X_train, y_train, **fit_params)\n",
      "/Users/matmang/opt/anaconda3/envs/bert-study/lib/python3.10/site-packages/sklearn/model_selection/_validation.py:686: DataConversionWarning: A column-vector y was passed when a 1d array was expected. Please change the shape of y to (n_samples,), for example using ravel().\n",
      "  estimator.fit(X_train, y_train, **fit_params)\n",
      "/Users/matmang/opt/anaconda3/envs/bert-study/lib/python3.10/site-packages/sklearn/model_selection/_validation.py:686: DataConversionWarning: A column-vector y was passed when a 1d array was expected. Please change the shape of y to (n_samples,), for example using ravel().\n",
      "  estimator.fit(X_train, y_train, **fit_params)\n",
      "/Users/matmang/opt/anaconda3/envs/bert-study/lib/python3.10/site-packages/sklearn/model_selection/_validation.py:686: DataConversionWarning: A column-vector y was passed when a 1d array was expected. Please change the shape of y to (n_samples,), for example using ravel().\n",
      "  estimator.fit(X_train, y_train, **fit_params)\n",
      "/Users/matmang/opt/anaconda3/envs/bert-study/lib/python3.10/site-packages/sklearn/model_selection/_validation.py:686: DataConversionWarning: A column-vector y was passed when a 1d array was expected. Please change the shape of y to (n_samples,), for example using ravel().\n",
      "  estimator.fit(X_train, y_train, **fit_params)\n"
     ]
    },
    {
     "name": "stdout",
     "output_type": "stream",
     "text": [
      "[CV] END max_depth=10, min_samples_leaf=4, min_samples_split=3, n_estimators=92; total time=   1.6s\n",
      "[CV] END max_depth=10, min_samples_leaf=4, min_samples_split=3, n_estimators=92; total time=   1.6s\n",
      "[CV] END max_depth=10, min_samples_leaf=4, min_samples_split=3, n_estimators=92; total time=   1.5s\n",
      "[CV] END max_depth=10, min_samples_leaf=4, min_samples_split=3, n_estimators=92; total time=   1.6s\n",
      "[CV] END max_depth=10, min_samples_leaf=4, min_samples_split=3, n_estimators=92; total time=   1.6s\n"
     ]
    },
    {
     "name": "stderr",
     "output_type": "stream",
     "text": [
      "/Users/matmang/opt/anaconda3/envs/bert-study/lib/python3.10/site-packages/sklearn/model_selection/_validation.py:686: DataConversionWarning: A column-vector y was passed when a 1d array was expected. Please change the shape of y to (n_samples,), for example using ravel().\n",
      "  estimator.fit(X_train, y_train, **fit_params)\n",
      "/Users/matmang/opt/anaconda3/envs/bert-study/lib/python3.10/site-packages/sklearn/model_selection/_validation.py:686: DataConversionWarning: A column-vector y was passed when a 1d array was expected. Please change the shape of y to (n_samples,), for example using ravel().\n",
      "  estimator.fit(X_train, y_train, **fit_params)\n",
      "/Users/matmang/opt/anaconda3/envs/bert-study/lib/python3.10/site-packages/sklearn/model_selection/_validation.py:686: DataConversionWarning: A column-vector y was passed when a 1d array was expected. Please change the shape of y to (n_samples,), for example using ravel().\n",
      "  estimator.fit(X_train, y_train, **fit_params)\n",
      "/Users/matmang/opt/anaconda3/envs/bert-study/lib/python3.10/site-packages/sklearn/model_selection/_validation.py:686: DataConversionWarning: A column-vector y was passed when a 1d array was expected. Please change the shape of y to (n_samples,), for example using ravel().\n",
      "  estimator.fit(X_train, y_train, **fit_params)\n",
      "/Users/matmang/opt/anaconda3/envs/bert-study/lib/python3.10/site-packages/sklearn/model_selection/_validation.py:686: DataConversionWarning: A column-vector y was passed when a 1d array was expected. Please change the shape of y to (n_samples,), for example using ravel().\n",
      "  estimator.fit(X_train, y_train, **fit_params)\n"
     ]
    },
    {
     "name": "stdout",
     "output_type": "stream",
     "text": [
      "[CV] END max_depth=8, min_samples_leaf=4, min_samples_split=14, n_estimators=115; total time=   1.6s\n",
      "[CV] END max_depth=8, min_samples_leaf=4, min_samples_split=14, n_estimators=115; total time=   1.7s\n",
      "[CV] END max_depth=8, min_samples_leaf=4, min_samples_split=14, n_estimators=115; total time=   1.6s\n",
      "[CV] END max_depth=8, min_samples_leaf=4, min_samples_split=14, n_estimators=115; total time=   1.6s\n",
      "[CV] END max_depth=8, min_samples_leaf=4, min_samples_split=14, n_estimators=115; total time=   1.6s\n"
     ]
    },
    {
     "name": "stderr",
     "output_type": "stream",
     "text": [
      "/Users/matmang/opt/anaconda3/envs/bert-study/lib/python3.10/site-packages/sklearn/model_selection/_validation.py:686: DataConversionWarning: A column-vector y was passed when a 1d array was expected. Please change the shape of y to (n_samples,), for example using ravel().\n",
      "  estimator.fit(X_train, y_train, **fit_params)\n",
      "/Users/matmang/opt/anaconda3/envs/bert-study/lib/python3.10/site-packages/sklearn/model_selection/_validation.py:686: DataConversionWarning: A column-vector y was passed when a 1d array was expected. Please change the shape of y to (n_samples,), for example using ravel().\n",
      "  estimator.fit(X_train, y_train, **fit_params)\n",
      "/Users/matmang/opt/anaconda3/envs/bert-study/lib/python3.10/site-packages/sklearn/model_selection/_validation.py:686: DataConversionWarning: A column-vector y was passed when a 1d array was expected. Please change the shape of y to (n_samples,), for example using ravel().\n",
      "  estimator.fit(X_train, y_train, **fit_params)\n",
      "/Users/matmang/opt/anaconda3/envs/bert-study/lib/python3.10/site-packages/sklearn/model_selection/_validation.py:686: DataConversionWarning: A column-vector y was passed when a 1d array was expected. Please change the shape of y to (n_samples,), for example using ravel().\n",
      "  estimator.fit(X_train, y_train, **fit_params)\n",
      "/Users/matmang/opt/anaconda3/envs/bert-study/lib/python3.10/site-packages/sklearn/model_selection/_validation.py:686: DataConversionWarning: A column-vector y was passed when a 1d array was expected. Please change the shape of y to (n_samples,), for example using ravel().\n",
      "  estimator.fit(X_train, y_train, **fit_params)\n"
     ]
    },
    {
     "name": "stdout",
     "output_type": "stream",
     "text": [
      "[CV] END max_depth=3, min_samples_leaf=7, min_samples_split=2, n_estimators=105; total time=   0.6s\n",
      "[CV] END max_depth=3, min_samples_leaf=7, min_samples_split=2, n_estimators=105; total time=   0.7s\n",
      "[CV] END max_depth=3, min_samples_leaf=7, min_samples_split=2, n_estimators=105; total time=   0.7s\n",
      "[CV] END max_depth=3, min_samples_leaf=7, min_samples_split=2, n_estimators=105; total time=   0.7s\n",
      "[CV] END max_depth=5, min_samples_leaf=4, min_samples_split=2, n_estimators=164; total time=   1.5s\n",
      "[CV] END max_depth=5, min_samples_leaf=4, min_samples_split=2, n_estimators=164; total time=   1.5s\n"
     ]
    },
    {
     "name": "stderr",
     "output_type": "stream",
     "text": [
      "/Users/matmang/opt/anaconda3/envs/bert-study/lib/python3.10/site-packages/sklearn/model_selection/_validation.py:686: DataConversionWarning: A column-vector y was passed when a 1d array was expected. Please change the shape of y to (n_samples,), for example using ravel().\n",
      "  estimator.fit(X_train, y_train, **fit_params)\n",
      "/Users/matmang/opt/anaconda3/envs/bert-study/lib/python3.10/site-packages/sklearn/model_selection/_validation.py:686: DataConversionWarning: A column-vector y was passed when a 1d array was expected. Please change the shape of y to (n_samples,), for example using ravel().\n",
      "  estimator.fit(X_train, y_train, **fit_params)\n",
      "/Users/matmang/opt/anaconda3/envs/bert-study/lib/python3.10/site-packages/sklearn/model_selection/_validation.py:686: DataConversionWarning: A column-vector y was passed when a 1d array was expected. Please change the shape of y to (n_samples,), for example using ravel().\n",
      "  estimator.fit(X_train, y_train, **fit_params)\n",
      "/Users/matmang/opt/anaconda3/envs/bert-study/lib/python3.10/site-packages/sklearn/model_selection/_validation.py:686: DataConversionWarning: A column-vector y was passed when a 1d array was expected. Please change the shape of y to (n_samples,), for example using ravel().\n",
      "  estimator.fit(X_train, y_train, **fit_params)\n",
      "/Users/matmang/opt/anaconda3/envs/bert-study/lib/python3.10/site-packages/sklearn/model_selection/_validation.py:686: DataConversionWarning: A column-vector y was passed when a 1d array was expected. Please change the shape of y to (n_samples,), for example using ravel().\n",
      "  estimator.fit(X_train, y_train, **fit_params)\n",
      "/Users/matmang/opt/anaconda3/envs/bert-study/lib/python3.10/site-packages/sklearn/model_selection/_validation.py:686: DataConversionWarning: A column-vector y was passed when a 1d array was expected. Please change the shape of y to (n_samples,), for example using ravel().\n",
      "  estimator.fit(X_train, y_train, **fit_params)\n"
     ]
    },
    {
     "name": "stdout",
     "output_type": "stream",
     "text": [
      "[CV] END max_depth=5, min_samples_leaf=4, min_samples_split=2, n_estimators=164; total time=   1.6s\n",
      "[CV] END max_depth=3, min_samples_leaf=7, min_samples_split=2, n_estimators=105; total time=   0.7s\n",
      "[CV] END max_depth=5, min_samples_leaf=4, min_samples_split=2, n_estimators=164; total time=   1.6s\n",
      "[CV] END max_depth=5, min_samples_leaf=4, min_samples_split=2, n_estimators=164; total time=   1.6s\n"
     ]
    },
    {
     "name": "stderr",
     "output_type": "stream",
     "text": [
      "/Users/matmang/opt/anaconda3/envs/bert-study/lib/python3.10/site-packages/sklearn/model_selection/_validation.py:686: DataConversionWarning: A column-vector y was passed when a 1d array was expected. Please change the shape of y to (n_samples,), for example using ravel().\n",
      "  estimator.fit(X_train, y_train, **fit_params)\n",
      "/Users/matmang/opt/anaconda3/envs/bert-study/lib/python3.10/site-packages/sklearn/model_selection/_validation.py:686: DataConversionWarning: A column-vector y was passed when a 1d array was expected. Please change the shape of y to (n_samples,), for example using ravel().\n",
      "  estimator.fit(X_train, y_train, **fit_params)\n",
      "/Users/matmang/opt/anaconda3/envs/bert-study/lib/python3.10/site-packages/sklearn/model_selection/_validation.py:686: DataConversionWarning: A column-vector y was passed when a 1d array was expected. Please change the shape of y to (n_samples,), for example using ravel().\n",
      "  estimator.fit(X_train, y_train, **fit_params)\n",
      "/Users/matmang/opt/anaconda3/envs/bert-study/lib/python3.10/site-packages/sklearn/model_selection/_validation.py:686: DataConversionWarning: A column-vector y was passed when a 1d array was expected. Please change the shape of y to (n_samples,), for example using ravel().\n",
      "  estimator.fit(X_train, y_train, **fit_params)\n"
     ]
    },
    {
     "name": "stdout",
     "output_type": "stream",
     "text": [
      "[CV] END max_depth=11, min_samples_leaf=1, min_samples_split=8, n_estimators=183; total time=   3.4s\n",
      "[CV] END max_depth=11, min_samples_leaf=1, min_samples_split=8, n_estimators=183; total time=   3.4s\n",
      "[CV] END max_depth=11, min_samples_leaf=1, min_samples_split=8, n_estimators=183; total time=   3.3s\n",
      "[CV] END max_depth=11, min_samples_leaf=1, min_samples_split=8, n_estimators=183; total time=   3.4s\n"
     ]
    },
    {
     "name": "stderr",
     "output_type": "stream",
     "text": [
      "/Users/matmang/opt/anaconda3/envs/bert-study/lib/python3.10/site-packages/sklearn/model_selection/_validation.py:686: DataConversionWarning: A column-vector y was passed when a 1d array was expected. Please change the shape of y to (n_samples,), for example using ravel().\n",
      "  estimator.fit(X_train, y_train, **fit_params)\n",
      "/Users/matmang/opt/anaconda3/envs/bert-study/lib/python3.10/site-packages/sklearn/model_selection/_validation.py:686: DataConversionWarning: A column-vector y was passed when a 1d array was expected. Please change the shape of y to (n_samples,), for example using ravel().\n",
      "  estimator.fit(X_train, y_train, **fit_params)\n",
      "/Users/matmang/opt/anaconda3/envs/bert-study/lib/python3.10/site-packages/sklearn/model_selection/_validation.py:686: DataConversionWarning: A column-vector y was passed when a 1d array was expected. Please change the shape of y to (n_samples,), for example using ravel().\n",
      "  estimator.fit(X_train, y_train, **fit_params)\n",
      "/Users/matmang/opt/anaconda3/envs/bert-study/lib/python3.10/site-packages/sklearn/model_selection/_validation.py:686: DataConversionWarning: A column-vector y was passed when a 1d array was expected. Please change the shape of y to (n_samples,), for example using ravel().\n",
      "  estimator.fit(X_train, y_train, **fit_params)\n"
     ]
    },
    {
     "name": "stdout",
     "output_type": "stream",
     "text": [
      "[CV] END max_depth=11, min_samples_leaf=1, min_samples_split=8, n_estimators=183; total time=   3.4s\n"
     ]
    },
    {
     "name": "stderr",
     "output_type": "stream",
     "text": [
      "/Users/matmang/opt/anaconda3/envs/bert-study/lib/python3.10/site-packages/sklearn/model_selection/_validation.py:686: DataConversionWarning: A column-vector y was passed when a 1d array was expected. Please change the shape of y to (n_samples,), for example using ravel().\n",
      "  estimator.fit(X_train, y_train, **fit_params)\n"
     ]
    },
    {
     "name": "stdout",
     "output_type": "stream",
     "text": [
      "[CV] END max_depth=14, min_samples_leaf=3, min_samples_split=19, n_estimators=189; total time=   4.0s\n",
      "[CV] END max_depth=14, min_samples_leaf=3, min_samples_split=19, n_estimators=189; total time=   4.1s\n",
      "[CV] END max_depth=14, min_samples_leaf=3, min_samples_split=19, n_estimators=189; total time=   4.1s\n",
      "[CV] END max_depth=14, min_samples_leaf=3, min_samples_split=19, n_estimators=189; total time=   4.1s\n",
      "[CV] END max_depth=14, min_samples_leaf=3, min_samples_split=19, n_estimators=189; total time=   4.1s\n"
     ]
    },
    {
     "name": "stderr",
     "output_type": "stream",
     "text": [
      "/Users/matmang/opt/anaconda3/envs/bert-study/lib/python3.10/site-packages/sklearn/model_selection/_validation.py:686: DataConversionWarning: A column-vector y was passed when a 1d array was expected. Please change the shape of y to (n_samples,), for example using ravel().\n",
      "  estimator.fit(X_train, y_train, **fit_params)\n",
      "/Users/matmang/opt/anaconda3/envs/bert-study/lib/python3.10/site-packages/sklearn/model_selection/_validation.py:686: DataConversionWarning: A column-vector y was passed when a 1d array was expected. Please change the shape of y to (n_samples,), for example using ravel().\n",
      "  estimator.fit(X_train, y_train, **fit_params)\n",
      "/Users/matmang/opt/anaconda3/envs/bert-study/lib/python3.10/site-packages/sklearn/model_selection/_validation.py:686: DataConversionWarning: A column-vector y was passed when a 1d array was expected. Please change the shape of y to (n_samples,), for example using ravel().\n",
      "  estimator.fit(X_train, y_train, **fit_params)\n",
      "/Users/matmang/opt/anaconda3/envs/bert-study/lib/python3.10/site-packages/sklearn/model_selection/_validation.py:686: DataConversionWarning: A column-vector y was passed when a 1d array was expected. Please change the shape of y to (n_samples,), for example using ravel().\n",
      "  estimator.fit(X_train, y_train, **fit_params)\n",
      "/Users/matmang/opt/anaconda3/envs/bert-study/lib/python3.10/site-packages/sklearn/model_selection/_validation.py:686: DataConversionWarning: A column-vector y was passed when a 1d array was expected. Please change the shape of y to (n_samples,), for example using ravel().\n",
      "  estimator.fit(X_train, y_train, **fit_params)\n"
     ]
    },
    {
     "name": "stdout",
     "output_type": "stream",
     "text": [
      "[CV] END max_depth=7, min_samples_leaf=1, min_samples_split=6, n_estimators=152; total time=   1.9s\n",
      "[CV] END max_depth=7, min_samples_leaf=1, min_samples_split=6, n_estimators=152; total time=   1.9s\n",
      "[CV] END max_depth=7, min_samples_leaf=1, min_samples_split=6, n_estimators=152; total time=   1.9s\n",
      "[CV] END max_depth=7, min_samples_leaf=1, min_samples_split=6, n_estimators=152; total time=   1.9s\n"
     ]
    },
    {
     "name": "stderr",
     "output_type": "stream",
     "text": [
      "/Users/matmang/opt/anaconda3/envs/bert-study/lib/python3.10/site-packages/sklearn/model_selection/_validation.py:686: DataConversionWarning: A column-vector y was passed when a 1d array was expected. Please change the shape of y to (n_samples,), for example using ravel().\n",
      "  estimator.fit(X_train, y_train, **fit_params)\n",
      "/Users/matmang/opt/anaconda3/envs/bert-study/lib/python3.10/site-packages/sklearn/model_selection/_validation.py:686: DataConversionWarning: A column-vector y was passed when a 1d array was expected. Please change the shape of y to (n_samples,), for example using ravel().\n",
      "  estimator.fit(X_train, y_train, **fit_params)\n",
      "/Users/matmang/opt/anaconda3/envs/bert-study/lib/python3.10/site-packages/sklearn/model_selection/_validation.py:686: DataConversionWarning: A column-vector y was passed when a 1d array was expected. Please change the shape of y to (n_samples,), for example using ravel().\n",
      "  estimator.fit(X_train, y_train, **fit_params)\n",
      "/Users/matmang/opt/anaconda3/envs/bert-study/lib/python3.10/site-packages/sklearn/model_selection/_validation.py:686: DataConversionWarning: A column-vector y was passed when a 1d array was expected. Please change the shape of y to (n_samples,), for example using ravel().\n",
      "  estimator.fit(X_train, y_train, **fit_params)\n"
     ]
    },
    {
     "name": "stdout",
     "output_type": "stream",
     "text": [
      "[CV] END max_depth=7, min_samples_leaf=1, min_samples_split=6, n_estimators=152; total time=   2.0s\n",
      "[CV] END max_depth=13, min_samples_leaf=1, min_samples_split=19, n_estimators=147; total time=   3.1s\n",
      "[CV] END max_depth=13, min_samples_leaf=1, min_samples_split=19, n_estimators=147; total time=   3.1s\n",
      "[CV] END max_depth=13, min_samples_leaf=1, min_samples_split=19, n_estimators=147; total time=   3.0s\n",
      "[CV] END max_depth=13, min_samples_leaf=1, min_samples_split=19, n_estimators=147; total time=   3.1s\n"
     ]
    },
    {
     "name": "stderr",
     "output_type": "stream",
     "text": [
      "/Users/matmang/opt/anaconda3/envs/bert-study/lib/python3.10/site-packages/sklearn/model_selection/_validation.py:686: DataConversionWarning: A column-vector y was passed when a 1d array was expected. Please change the shape of y to (n_samples,), for example using ravel().\n",
      "  estimator.fit(X_train, y_train, **fit_params)\n",
      "/Users/matmang/opt/anaconda3/envs/bert-study/lib/python3.10/site-packages/sklearn/model_selection/_validation.py:686: DataConversionWarning: A column-vector y was passed when a 1d array was expected. Please change the shape of y to (n_samples,), for example using ravel().\n",
      "  estimator.fit(X_train, y_train, **fit_params)\n",
      "/Users/matmang/opt/anaconda3/envs/bert-study/lib/python3.10/site-packages/sklearn/model_selection/_validation.py:686: DataConversionWarning: A column-vector y was passed when a 1d array was expected. Please change the shape of y to (n_samples,), for example using ravel().\n",
      "  estimator.fit(X_train, y_train, **fit_params)\n",
      "/Users/matmang/opt/anaconda3/envs/bert-study/lib/python3.10/site-packages/sklearn/model_selection/_validation.py:686: DataConversionWarning: A column-vector y was passed when a 1d array was expected. Please change the shape of y to (n_samples,), for example using ravel().\n",
      "  estimator.fit(X_train, y_train, **fit_params)\n",
      "/Users/matmang/opt/anaconda3/envs/bert-study/lib/python3.10/site-packages/sklearn/model_selection/_validation.py:686: DataConversionWarning: A column-vector y was passed when a 1d array was expected. Please change the shape of y to (n_samples,), for example using ravel().\n",
      "  estimator.fit(X_train, y_train, **fit_params)\n"
     ]
    },
    {
     "name": "stdout",
     "output_type": "stream",
     "text": [
      "[CV] END max_depth=13, min_samples_leaf=1, min_samples_split=19, n_estimators=147; total time=   3.1s\n"
     ]
    },
    {
     "name": "stderr",
     "output_type": "stream",
     "text": [
      "/Users/matmang/opt/anaconda3/envs/bert-study/lib/python3.10/site-packages/sklearn/model_selection/_validation.py:686: DataConversionWarning: A column-vector y was passed when a 1d array was expected. Please change the shape of y to (n_samples,), for example using ravel().\n",
      "  estimator.fit(X_train, y_train, **fit_params)\n"
     ]
    },
    {
     "name": "stdout",
     "output_type": "stream",
     "text": [
      "[CV] END max_depth=7, min_samples_leaf=5, min_samples_split=11, n_estimators=171; total time=   2.1s\n",
      "[CV] END max_depth=7, min_samples_leaf=5, min_samples_split=11, n_estimators=171; total time=   2.1s\n",
      "[CV] END max_depth=7, min_samples_leaf=5, min_samples_split=11, n_estimators=171; total time=   2.1s\n",
      "[CV] END max_depth=7, min_samples_leaf=5, min_samples_split=11, n_estimators=171; total time=   2.1s\n"
     ]
    },
    {
     "name": "stderr",
     "output_type": "stream",
     "text": [
      "/Users/matmang/opt/anaconda3/envs/bert-study/lib/python3.10/site-packages/sklearn/model_selection/_validation.py:686: DataConversionWarning: A column-vector y was passed when a 1d array was expected. Please change the shape of y to (n_samples,), for example using ravel().\n",
      "  estimator.fit(X_train, y_train, **fit_params)\n",
      "/Users/matmang/opt/anaconda3/envs/bert-study/lib/python3.10/site-packages/sklearn/model_selection/_validation.py:686: DataConversionWarning: A column-vector y was passed when a 1d array was expected. Please change the shape of y to (n_samples,), for example using ravel().\n",
      "  estimator.fit(X_train, y_train, **fit_params)\n",
      "/Users/matmang/opt/anaconda3/envs/bert-study/lib/python3.10/site-packages/sklearn/model_selection/_validation.py:686: DataConversionWarning: A column-vector y was passed when a 1d array was expected. Please change the shape of y to (n_samples,), for example using ravel().\n",
      "  estimator.fit(X_train, y_train, **fit_params)\n",
      "/Users/matmang/opt/anaconda3/envs/bert-study/lib/python3.10/site-packages/sklearn/model_selection/_validation.py:686: DataConversionWarning: A column-vector y was passed when a 1d array was expected. Please change the shape of y to (n_samples,), for example using ravel().\n",
      "  estimator.fit(X_train, y_train, **fit_params)\n"
     ]
    },
    {
     "name": "stdout",
     "output_type": "stream",
     "text": [
      "[CV] END max_depth=7, min_samples_leaf=5, min_samples_split=11, n_estimators=171; total time=   2.1s\n"
     ]
    },
    {
     "name": "stderr",
     "output_type": "stream",
     "text": [
      "/Users/matmang/opt/anaconda3/envs/bert-study/lib/python3.10/site-packages/sklearn/model_selection/_validation.py:686: DataConversionWarning: A column-vector y was passed when a 1d array was expected. Please change the shape of y to (n_samples,), for example using ravel().\n",
      "  estimator.fit(X_train, y_train, **fit_params)\n"
     ]
    },
    {
     "name": "stdout",
     "output_type": "stream",
     "text": [
      "[CV] END max_depth=3, min_samples_leaf=1, min_samples_split=9, n_estimators=189; total time=   1.1s\n",
      "[CV] END max_depth=3, min_samples_leaf=1, min_samples_split=9, n_estimators=189; total time=   1.1s\n",
      "[CV] END max_depth=3, min_samples_leaf=1, min_samples_split=9, n_estimators=189; total time=   1.1s\n",
      "[CV] END max_depth=3, min_samples_leaf=1, min_samples_split=9, n_estimators=189; total time=   1.1s\n",
      "[CV] END max_depth=13, min_samples_leaf=4, min_samples_split=5, n_estimators=146; total time=   3.0s\n",
      "[CV] END max_depth=13, min_samples_leaf=4, min_samples_split=5, n_estimators=146; total time=   3.0s\n"
     ]
    },
    {
     "name": "stderr",
     "output_type": "stream",
     "text": [
      "/Users/matmang/opt/anaconda3/envs/bert-study/lib/python3.10/site-packages/sklearn/model_selection/_validation.py:686: DataConversionWarning: A column-vector y was passed when a 1d array was expected. Please change the shape of y to (n_samples,), for example using ravel().\n",
      "  estimator.fit(X_train, y_train, **fit_params)\n",
      "/Users/matmang/opt/anaconda3/envs/bert-study/lib/python3.10/site-packages/sklearn/model_selection/_validation.py:686: DataConversionWarning: A column-vector y was passed when a 1d array was expected. Please change the shape of y to (n_samples,), for example using ravel().\n",
      "  estimator.fit(X_train, y_train, **fit_params)\n",
      "/Users/matmang/opt/anaconda3/envs/bert-study/lib/python3.10/site-packages/sklearn/model_selection/_validation.py:686: DataConversionWarning: A column-vector y was passed when a 1d array was expected. Please change the shape of y to (n_samples,), for example using ravel().\n",
      "  estimator.fit(X_train, y_train, **fit_params)\n",
      "/Users/matmang/opt/anaconda3/envs/bert-study/lib/python3.10/site-packages/sklearn/model_selection/_validation.py:686: DataConversionWarning: A column-vector y was passed when a 1d array was expected. Please change the shape of y to (n_samples,), for example using ravel().\n",
      "  estimator.fit(X_train, y_train, **fit_params)\n",
      "/Users/matmang/opt/anaconda3/envs/bert-study/lib/python3.10/site-packages/sklearn/model_selection/_validation.py:686: DataConversionWarning: A column-vector y was passed when a 1d array was expected. Please change the shape of y to (n_samples,), for example using ravel().\n",
      "  estimator.fit(X_train, y_train, **fit_params)\n",
      "/Users/matmang/opt/anaconda3/envs/bert-study/lib/python3.10/site-packages/sklearn/model_selection/_validation.py:686: DataConversionWarning: A column-vector y was passed when a 1d array was expected. Please change the shape of y to (n_samples,), for example using ravel().\n",
      "  estimator.fit(X_train, y_train, **fit_params)\n"
     ]
    },
    {
     "name": "stdout",
     "output_type": "stream",
     "text": [
      "[CV] END max_depth=13, min_samples_leaf=4, min_samples_split=5, n_estimators=146; total time=   3.0s\n",
      "[CV] END max_depth=13, min_samples_leaf=4, min_samples_split=5, n_estimators=146; total time=   3.1s\n",
      "[CV] END max_depth=3, min_samples_leaf=1, min_samples_split=9, n_estimators=189; total time=   1.1s\n"
     ]
    },
    {
     "name": "stderr",
     "output_type": "stream",
     "text": [
      "/Users/matmang/opt/anaconda3/envs/bert-study/lib/python3.10/site-packages/sklearn/model_selection/_validation.py:686: DataConversionWarning: A column-vector y was passed when a 1d array was expected. Please change the shape of y to (n_samples,), for example using ravel().\n",
      "  estimator.fit(X_train, y_train, **fit_params)\n",
      "/Users/matmang/opt/anaconda3/envs/bert-study/lib/python3.10/site-packages/sklearn/model_selection/_validation.py:686: DataConversionWarning: A column-vector y was passed when a 1d array was expected. Please change the shape of y to (n_samples,), for example using ravel().\n",
      "  estimator.fit(X_train, y_train, **fit_params)\n",
      "/Users/matmang/opt/anaconda3/envs/bert-study/lib/python3.10/site-packages/sklearn/model_selection/_validation.py:686: DataConversionWarning: A column-vector y was passed when a 1d array was expected. Please change the shape of y to (n_samples,), for example using ravel().\n",
      "  estimator.fit(X_train, y_train, **fit_params)\n"
     ]
    },
    {
     "name": "stdout",
     "output_type": "stream",
     "text": [
      "[CV] END max_depth=13, min_samples_leaf=4, min_samples_split=5, n_estimators=146; total time=   3.0s\n"
     ]
    },
    {
     "name": "stderr",
     "output_type": "stream",
     "text": [
      "/Users/matmang/opt/anaconda3/envs/bert-study/lib/python3.10/site-packages/sklearn/model_selection/_validation.py:686: DataConversionWarning: A column-vector y was passed when a 1d array was expected. Please change the shape of y to (n_samples,), for example using ravel().\n",
      "  estimator.fit(X_train, y_train, **fit_params)\n"
     ]
    },
    {
     "name": "stdout",
     "output_type": "stream",
     "text": [
      "[CV] END max_depth=9, min_samples_leaf=9, min_samples_split=17, n_estimators=144; total time=   2.2s\n",
      "[CV] END max_depth=9, min_samples_leaf=9, min_samples_split=17, n_estimators=144; total time=   2.2s\n",
      "[CV] END max_depth=9, min_samples_leaf=9, min_samples_split=17, n_estimators=144; total time=   2.2s\n",
      "[CV] END max_depth=9, min_samples_leaf=9, min_samples_split=17, n_estimators=144; total time=   2.3s\n",
      "[CV] END max_depth=9, min_samples_leaf=9, min_samples_split=17, n_estimators=144; total time=   2.2s\n"
     ]
    },
    {
     "name": "stderr",
     "output_type": "stream",
     "text": [
      "/Users/matmang/opt/anaconda3/envs/bert-study/lib/python3.10/site-packages/sklearn/model_selection/_validation.py:686: DataConversionWarning: A column-vector y was passed when a 1d array was expected. Please change the shape of y to (n_samples,), for example using ravel().\n",
      "  estimator.fit(X_train, y_train, **fit_params)\n",
      "/Users/matmang/opt/anaconda3/envs/bert-study/lib/python3.10/site-packages/sklearn/model_selection/_validation.py:686: DataConversionWarning: A column-vector y was passed when a 1d array was expected. Please change the shape of y to (n_samples,), for example using ravel().\n",
      "  estimator.fit(X_train, y_train, **fit_params)\n",
      "/Users/matmang/opt/anaconda3/envs/bert-study/lib/python3.10/site-packages/sklearn/model_selection/_validation.py:686: DataConversionWarning: A column-vector y was passed when a 1d array was expected. Please change the shape of y to (n_samples,), for example using ravel().\n",
      "  estimator.fit(X_train, y_train, **fit_params)\n",
      "/Users/matmang/opt/anaconda3/envs/bert-study/lib/python3.10/site-packages/sklearn/model_selection/_validation.py:686: DataConversionWarning: A column-vector y was passed when a 1d array was expected. Please change the shape of y to (n_samples,), for example using ravel().\n",
      "  estimator.fit(X_train, y_train, **fit_params)\n",
      "/Users/matmang/opt/anaconda3/envs/bert-study/lib/python3.10/site-packages/sklearn/model_selection/_validation.py:686: DataConversionWarning: A column-vector y was passed when a 1d array was expected. Please change the shape of y to (n_samples,), for example using ravel().\n",
      "  estimator.fit(X_train, y_train, **fit_params)\n"
     ]
    },
    {
     "name": "stdout",
     "output_type": "stream",
     "text": [
      "[CV] END max_depth=14, min_samples_leaf=1, min_samples_split=5, n_estimators=120; total time=   2.6s\n",
      "[CV] END max_depth=14, min_samples_leaf=1, min_samples_split=5, n_estimators=120; total time=   2.8s\n",
      "[CV] END max_depth=14, min_samples_leaf=1, min_samples_split=5, n_estimators=120; total time=   2.7s\n"
     ]
    },
    {
     "name": "stderr",
     "output_type": "stream",
     "text": [
      "/Users/matmang/opt/anaconda3/envs/bert-study/lib/python3.10/site-packages/sklearn/model_selection/_validation.py:686: DataConversionWarning: A column-vector y was passed when a 1d array was expected. Please change the shape of y to (n_samples,), for example using ravel().\n",
      "  estimator.fit(X_train, y_train, **fit_params)\n",
      "/Users/matmang/opt/anaconda3/envs/bert-study/lib/python3.10/site-packages/sklearn/model_selection/_validation.py:686: DataConversionWarning: A column-vector y was passed when a 1d array was expected. Please change the shape of y to (n_samples,), for example using ravel().\n",
      "  estimator.fit(X_train, y_train, **fit_params)\n",
      "/Users/matmang/opt/anaconda3/envs/bert-study/lib/python3.10/site-packages/sklearn/model_selection/_validation.py:686: DataConversionWarning: A column-vector y was passed when a 1d array was expected. Please change the shape of y to (n_samples,), for example using ravel().\n",
      "  estimator.fit(X_train, y_train, **fit_params)\n"
     ]
    },
    {
     "name": "stdout",
     "output_type": "stream",
     "text": [
      "[CV] END max_depth=14, min_samples_leaf=1, min_samples_split=5, n_estimators=120; total time=   2.7s\n",
      "[CV] END max_depth=14, min_samples_leaf=1, min_samples_split=5, n_estimators=120; total time=   2.7s\n"
     ]
    },
    {
     "name": "stderr",
     "output_type": "stream",
     "text": [
      "/Users/matmang/opt/anaconda3/envs/bert-study/lib/python3.10/site-packages/sklearn/model_selection/_validation.py:686: DataConversionWarning: A column-vector y was passed when a 1d array was expected. Please change the shape of y to (n_samples,), for example using ravel().\n",
      "  estimator.fit(X_train, y_train, **fit_params)\n",
      "/Users/matmang/opt/anaconda3/envs/bert-study/lib/python3.10/site-packages/sklearn/model_selection/_validation.py:686: DataConversionWarning: A column-vector y was passed when a 1d array was expected. Please change the shape of y to (n_samples,), for example using ravel().\n",
      "  estimator.fit(X_train, y_train, **fit_params)\n"
     ]
    },
    {
     "name": "stdout",
     "output_type": "stream",
     "text": [
      "[CV] END max_depth=4, min_samples_leaf=8, min_samples_split=10, n_estimators=164; total time=   1.3s\n",
      "[CV] END max_depth=5, min_samples_leaf=4, min_samples_split=8, n_estimators=73; total time=   0.7s\n",
      "[CV] END max_depth=4, min_samples_leaf=8, min_samples_split=10, n_estimators=164; total time=   1.3s\n",
      "[CV] END max_depth=4, min_samples_leaf=8, min_samples_split=10, n_estimators=164; total time=   1.3s\n",
      "[CV] END max_depth=4, min_samples_leaf=8, min_samples_split=10, n_estimators=164; total time=   1.3s\n",
      "[CV] END max_depth=5, min_samples_leaf=4, min_samples_split=8, n_estimators=73; total time=   0.7s\n",
      "[CV] END max_depth=4, min_samples_leaf=8, min_samples_split=10, n_estimators=164; total time=   1.2s\n",
      "[CV] END max_depth=5, min_samples_leaf=4, min_samples_split=8, n_estimators=73; total time=   0.7s\n"
     ]
    },
    {
     "name": "stderr",
     "output_type": "stream",
     "text": [
      "/Users/matmang/opt/anaconda3/envs/bert-study/lib/python3.10/site-packages/sklearn/model_selection/_validation.py:686: DataConversionWarning: A column-vector y was passed when a 1d array was expected. Please change the shape of y to (n_samples,), for example using ravel().\n",
      "  estimator.fit(X_train, y_train, **fit_params)\n",
      "/Users/matmang/opt/anaconda3/envs/bert-study/lib/python3.10/site-packages/sklearn/model_selection/_validation.py:686: DataConversionWarning: A column-vector y was passed when a 1d array was expected. Please change the shape of y to (n_samples,), for example using ravel().\n",
      "  estimator.fit(X_train, y_train, **fit_params)\n",
      "/Users/matmang/opt/anaconda3/envs/bert-study/lib/python3.10/site-packages/sklearn/model_selection/_validation.py:686: DataConversionWarning: A column-vector y was passed when a 1d array was expected. Please change the shape of y to (n_samples,), for example using ravel().\n",
      "  estimator.fit(X_train, y_train, **fit_params)\n",
      "/Users/matmang/opt/anaconda3/envs/bert-study/lib/python3.10/site-packages/sklearn/model_selection/_validation.py:686: DataConversionWarning: A column-vector y was passed when a 1d array was expected. Please change the shape of y to (n_samples,), for example using ravel().\n",
      "  estimator.fit(X_train, y_train, **fit_params)\n",
      "/Users/matmang/opt/anaconda3/envs/bert-study/lib/python3.10/site-packages/sklearn/model_selection/_validation.py:686: DataConversionWarning: A column-vector y was passed when a 1d array was expected. Please change the shape of y to (n_samples,), for example using ravel().\n",
      "  estimator.fit(X_train, y_train, **fit_params)\n",
      "/Users/matmang/opt/anaconda3/envs/bert-study/lib/python3.10/site-packages/sklearn/model_selection/_validation.py:686: DataConversionWarning: A column-vector y was passed when a 1d array was expected. Please change the shape of y to (n_samples,), for example using ravel().\n",
      "  estimator.fit(X_train, y_train, **fit_params)\n",
      "/Users/matmang/opt/anaconda3/envs/bert-study/lib/python3.10/site-packages/sklearn/model_selection/_validation.py:686: DataConversionWarning: A column-vector y was passed when a 1d array was expected. Please change the shape of y to (n_samples,), for example using ravel().\n",
      "  estimator.fit(X_train, y_train, **fit_params)\n",
      "/Users/matmang/opt/anaconda3/envs/bert-study/lib/python3.10/site-packages/sklearn/model_selection/_validation.py:686: DataConversionWarning: A column-vector y was passed when a 1d array was expected. Please change the shape of y to (n_samples,), for example using ravel().\n",
      "  estimator.fit(X_train, y_train, **fit_params)\n"
     ]
    },
    {
     "name": "stdout",
     "output_type": "stream",
     "text": [
      "[CV] END max_depth=5, min_samples_leaf=4, min_samples_split=8, n_estimators=73; total time=   0.7s\n",
      "[CV] END max_depth=5, min_samples_leaf=4, min_samples_split=8, n_estimators=73; total time=   0.7s\n"
     ]
    },
    {
     "name": "stderr",
     "output_type": "stream",
     "text": [
      "/Users/matmang/opt/anaconda3/envs/bert-study/lib/python3.10/site-packages/sklearn/model_selection/_validation.py:686: DataConversionWarning: A column-vector y was passed when a 1d array was expected. Please change the shape of y to (n_samples,), for example using ravel().\n",
      "  estimator.fit(X_train, y_train, **fit_params)\n",
      "/Users/matmang/opt/anaconda3/envs/bert-study/lib/python3.10/site-packages/sklearn/model_selection/_validation.py:686: DataConversionWarning: A column-vector y was passed when a 1d array was expected. Please change the shape of y to (n_samples,), for example using ravel().\n",
      "  estimator.fit(X_train, y_train, **fit_params)\n"
     ]
    },
    {
     "name": "stdout",
     "output_type": "stream",
     "text": [
      "[CV] END max_depth=9, min_samples_leaf=2, min_samples_split=19, n_estimators=190; total time=   2.9s\n",
      "[CV] END max_depth=9, min_samples_leaf=2, min_samples_split=19, n_estimators=190; total time=   3.0s\n",
      "[CV] END max_depth=9, min_samples_leaf=2, min_samples_split=19, n_estimators=190; total time=   3.0s\n"
     ]
    },
    {
     "name": "stderr",
     "output_type": "stream",
     "text": [
      "/Users/matmang/opt/anaconda3/envs/bert-study/lib/python3.10/site-packages/sklearn/model_selection/_validation.py:686: DataConversionWarning: A column-vector y was passed when a 1d array was expected. Please change the shape of y to (n_samples,), for example using ravel().\n",
      "  estimator.fit(X_train, y_train, **fit_params)\n",
      "/Users/matmang/opt/anaconda3/envs/bert-study/lib/python3.10/site-packages/sklearn/model_selection/_validation.py:686: DataConversionWarning: A column-vector y was passed when a 1d array was expected. Please change the shape of y to (n_samples,), for example using ravel().\n",
      "  estimator.fit(X_train, y_train, **fit_params)\n",
      "/Users/matmang/opt/anaconda3/envs/bert-study/lib/python3.10/site-packages/sklearn/model_selection/_validation.py:686: DataConversionWarning: A column-vector y was passed when a 1d array was expected. Please change the shape of y to (n_samples,), for example using ravel().\n",
      "  estimator.fit(X_train, y_train, **fit_params)\n"
     ]
    },
    {
     "name": "stdout",
     "output_type": "stream",
     "text": [
      "[CV] END max_depth=9, min_samples_leaf=2, min_samples_split=19, n_estimators=190; total time=   3.0s\n",
      "[CV] END max_depth=13, min_samples_leaf=5, min_samples_split=16, n_estimators=164; total time=   3.3s\n",
      "[CV] END max_depth=9, min_samples_leaf=2, min_samples_split=19, n_estimators=190; total time=   3.0s\n",
      "[CV] END max_depth=13, min_samples_leaf=5, min_samples_split=16, n_estimators=164; total time=   3.3s\n",
      "[CV] END max_depth=13, min_samples_leaf=5, min_samples_split=16, n_estimators=164; total time=   3.3s\n",
      "[CV] END max_depth=13, min_samples_leaf=5, min_samples_split=16, n_estimators=164; total time=   3.4s\n"
     ]
    },
    {
     "name": "stderr",
     "output_type": "stream",
     "text": [
      "/Users/matmang/opt/anaconda3/envs/bert-study/lib/python3.10/site-packages/sklearn/model_selection/_validation.py:686: DataConversionWarning: A column-vector y was passed when a 1d array was expected. Please change the shape of y to (n_samples,), for example using ravel().\n",
      "  estimator.fit(X_train, y_train, **fit_params)\n",
      "/Users/matmang/opt/anaconda3/envs/bert-study/lib/python3.10/site-packages/sklearn/model_selection/_validation.py:686: DataConversionWarning: A column-vector y was passed when a 1d array was expected. Please change the shape of y to (n_samples,), for example using ravel().\n",
      "  estimator.fit(X_train, y_train, **fit_params)\n",
      "/Users/matmang/opt/anaconda3/envs/bert-study/lib/python3.10/site-packages/sklearn/model_selection/_validation.py:686: DataConversionWarning: A column-vector y was passed when a 1d array was expected. Please change the shape of y to (n_samples,), for example using ravel().\n",
      "  estimator.fit(X_train, y_train, **fit_params)\n",
      "/Users/matmang/opt/anaconda3/envs/bert-study/lib/python3.10/site-packages/sklearn/model_selection/_validation.py:686: DataConversionWarning: A column-vector y was passed when a 1d array was expected. Please change the shape of y to (n_samples,), for example using ravel().\n",
      "  estimator.fit(X_train, y_train, **fit_params)\n",
      "/Users/matmang/opt/anaconda3/envs/bert-study/lib/python3.10/site-packages/sklearn/model_selection/_validation.py:686: DataConversionWarning: A column-vector y was passed when a 1d array was expected. Please change the shape of y to (n_samples,), for example using ravel().\n",
      "  estimator.fit(X_train, y_train, **fit_params)\n",
      "/Users/matmang/opt/anaconda3/envs/bert-study/lib/python3.10/site-packages/sklearn/model_selection/_validation.py:686: DataConversionWarning: A column-vector y was passed when a 1d array was expected. Please change the shape of y to (n_samples,), for example using ravel().\n",
      "  estimator.fit(X_train, y_train, **fit_params)\n"
     ]
    },
    {
     "name": "stdout",
     "output_type": "stream",
     "text": [
      "[CV] END max_depth=13, min_samples_leaf=5, min_samples_split=16, n_estimators=164; total time=   3.4s\n"
     ]
    },
    {
     "name": "stderr",
     "output_type": "stream",
     "text": [
      "/Users/matmang/opt/anaconda3/envs/bert-study/lib/python3.10/site-packages/sklearn/model_selection/_validation.py:686: DataConversionWarning: A column-vector y was passed when a 1d array was expected. Please change the shape of y to (n_samples,), for example using ravel().\n",
      "  estimator.fit(X_train, y_train, **fit_params)\n"
     ]
    },
    {
     "name": "stdout",
     "output_type": "stream",
     "text": [
      "[CV] END max_depth=7, min_samples_leaf=4, min_samples_split=6, n_estimators=92; total time=   1.2s\n",
      "[CV] END max_depth=7, min_samples_leaf=4, min_samples_split=6, n_estimators=92; total time=   1.3s\n",
      "[CV] END max_depth=7, min_samples_leaf=4, min_samples_split=6, n_estimators=92; total time=   1.2s\n",
      "[CV] END max_depth=7, min_samples_leaf=4, min_samples_split=6, n_estimators=92; total time=   1.2s\n",
      "[CV] END max_depth=7, min_samples_leaf=4, min_samples_split=6, n_estimators=92; total time=   1.2s\n"
     ]
    },
    {
     "name": "stderr",
     "output_type": "stream",
     "text": [
      "/Users/matmang/opt/anaconda3/envs/bert-study/lib/python3.10/site-packages/sklearn/model_selection/_validation.py:686: DataConversionWarning: A column-vector y was passed when a 1d array was expected. Please change the shape of y to (n_samples,), for example using ravel().\n",
      "  estimator.fit(X_train, y_train, **fit_params)\n",
      "/Users/matmang/opt/anaconda3/envs/bert-study/lib/python3.10/site-packages/sklearn/model_selection/_validation.py:686: DataConversionWarning: A column-vector y was passed when a 1d array was expected. Please change the shape of y to (n_samples,), for example using ravel().\n",
      "  estimator.fit(X_train, y_train, **fit_params)\n",
      "/Users/matmang/opt/anaconda3/envs/bert-study/lib/python3.10/site-packages/sklearn/model_selection/_validation.py:686: DataConversionWarning: A column-vector y was passed when a 1d array was expected. Please change the shape of y to (n_samples,), for example using ravel().\n",
      "  estimator.fit(X_train, y_train, **fit_params)\n",
      "/Users/matmang/opt/anaconda3/envs/bert-study/lib/python3.10/site-packages/sklearn/model_selection/_validation.py:686: DataConversionWarning: A column-vector y was passed when a 1d array was expected. Please change the shape of y to (n_samples,), for example using ravel().\n",
      "  estimator.fit(X_train, y_train, **fit_params)\n",
      "/Users/matmang/opt/anaconda3/envs/bert-study/lib/python3.10/site-packages/sklearn/model_selection/_validation.py:686: DataConversionWarning: A column-vector y was passed when a 1d array was expected. Please change the shape of y to (n_samples,), for example using ravel().\n",
      "  estimator.fit(X_train, y_train, **fit_params)\n"
     ]
    },
    {
     "name": "stdout",
     "output_type": "stream",
     "text": [
      "[CV] END max_depth=6, min_samples_leaf=5, min_samples_split=7, n_estimators=195; total time=   2.3s\n",
      "[CV] END max_depth=6, min_samples_leaf=5, min_samples_split=7, n_estimators=195; total time=   2.2s\n",
      "[CV] END max_depth=6, min_samples_leaf=5, min_samples_split=7, n_estimators=195; total time=   2.3s\n"
     ]
    },
    {
     "name": "stderr",
     "output_type": "stream",
     "text": [
      "/Users/matmang/opt/anaconda3/envs/bert-study/lib/python3.10/site-packages/sklearn/model_selection/_validation.py:686: DataConversionWarning: A column-vector y was passed when a 1d array was expected. Please change the shape of y to (n_samples,), for example using ravel().\n",
      "  estimator.fit(X_train, y_train, **fit_params)\n",
      "/Users/matmang/opt/anaconda3/envs/bert-study/lib/python3.10/site-packages/sklearn/model_selection/_validation.py:686: DataConversionWarning: A column-vector y was passed when a 1d array was expected. Please change the shape of y to (n_samples,), for example using ravel().\n",
      "  estimator.fit(X_train, y_train, **fit_params)\n",
      "/Users/matmang/opt/anaconda3/envs/bert-study/lib/python3.10/site-packages/sklearn/model_selection/_validation.py:686: DataConversionWarning: A column-vector y was passed when a 1d array was expected. Please change the shape of y to (n_samples,), for example using ravel().\n",
      "  estimator.fit(X_train, y_train, **fit_params)\n"
     ]
    },
    {
     "name": "stdout",
     "output_type": "stream",
     "text": [
      "[CV] END max_depth=6, min_samples_leaf=5, min_samples_split=7, n_estimators=195; total time=   2.2s\n",
      "[CV] END max_depth=6, min_samples_leaf=5, min_samples_split=7, n_estimators=195; total time=   2.3s\n"
     ]
    },
    {
     "name": "stderr",
     "output_type": "stream",
     "text": [
      "/Users/matmang/opt/anaconda3/envs/bert-study/lib/python3.10/site-packages/sklearn/model_selection/_validation.py:686: DataConversionWarning: A column-vector y was passed when a 1d array was expected. Please change the shape of y to (n_samples,), for example using ravel().\n",
      "  estimator.fit(X_train, y_train, **fit_params)\n",
      "/Users/matmang/opt/anaconda3/envs/bert-study/lib/python3.10/site-packages/sklearn/model_selection/_validation.py:686: DataConversionWarning: A column-vector y was passed when a 1d array was expected. Please change the shape of y to (n_samples,), for example using ravel().\n",
      "  estimator.fit(X_train, y_train, **fit_params)\n"
     ]
    },
    {
     "name": "stdout",
     "output_type": "stream",
     "text": [
      "[CV] END max_depth=8, min_samples_leaf=2, min_samples_split=4, n_estimators=169; total time=   2.4s\n",
      "[CV] END max_depth=8, min_samples_leaf=2, min_samples_split=4, n_estimators=169; total time=   2.4s\n",
      "[CV] END max_depth=8, min_samples_leaf=2, min_samples_split=4, n_estimators=169; total time=   2.4s\n"
     ]
    },
    {
     "name": "stderr",
     "output_type": "stream",
     "text": [
      "/Users/matmang/opt/anaconda3/envs/bert-study/lib/python3.10/site-packages/sklearn/model_selection/_validation.py:686: DataConversionWarning: A column-vector y was passed when a 1d array was expected. Please change the shape of y to (n_samples,), for example using ravel().\n",
      "  estimator.fit(X_train, y_train, **fit_params)\n",
      "/Users/matmang/opt/anaconda3/envs/bert-study/lib/python3.10/site-packages/sklearn/model_selection/_validation.py:686: DataConversionWarning: A column-vector y was passed when a 1d array was expected. Please change the shape of y to (n_samples,), for example using ravel().\n",
      "  estimator.fit(X_train, y_train, **fit_params)\n",
      "/Users/matmang/opt/anaconda3/envs/bert-study/lib/python3.10/site-packages/sklearn/model_selection/_validation.py:686: DataConversionWarning: A column-vector y was passed when a 1d array was expected. Please change the shape of y to (n_samples,), for example using ravel().\n",
      "  estimator.fit(X_train, y_train, **fit_params)\n"
     ]
    },
    {
     "name": "stdout",
     "output_type": "stream",
     "text": [
      "[CV] END max_depth=8, min_samples_leaf=2, min_samples_split=4, n_estimators=169; total time=   2.4s\n",
      "[CV] END max_depth=8, min_samples_leaf=2, min_samples_split=4, n_estimators=169; total time=   2.4s\n"
     ]
    },
    {
     "name": "stderr",
     "output_type": "stream",
     "text": [
      "/Users/matmang/opt/anaconda3/envs/bert-study/lib/python3.10/site-packages/sklearn/model_selection/_validation.py:686: DataConversionWarning: A column-vector y was passed when a 1d array was expected. Please change the shape of y to (n_samples,), for example using ravel().\n",
      "  estimator.fit(X_train, y_train, **fit_params)\n",
      "/Users/matmang/opt/anaconda3/envs/bert-study/lib/python3.10/site-packages/sklearn/model_selection/_validation.py:686: DataConversionWarning: A column-vector y was passed when a 1d array was expected. Please change the shape of y to (n_samples,), for example using ravel().\n",
      "  estimator.fit(X_train, y_train, **fit_params)\n"
     ]
    },
    {
     "name": "stdout",
     "output_type": "stream",
     "text": [
      "[CV] END max_depth=13, min_samples_leaf=6, min_samples_split=14, n_estimators=185; total time=   3.8s\n",
      "[CV] END max_depth=13, min_samples_leaf=6, min_samples_split=14, n_estimators=185; total time=   3.8s\n",
      "[CV] END max_depth=13, min_samples_leaf=6, min_samples_split=14, n_estimators=185; total time=   3.8s\n",
      "[CV] END max_depth=13, min_samples_leaf=6, min_samples_split=14, n_estimators=185; total time=   3.8s\n",
      "[CV] END max_depth=13, min_samples_leaf=6, min_samples_split=14, n_estimators=185; total time=   3.9s\n"
     ]
    },
    {
     "name": "stderr",
     "output_type": "stream",
     "text": [
      "/Users/matmang/opt/anaconda3/envs/bert-study/lib/python3.10/site-packages/sklearn/model_selection/_validation.py:686: DataConversionWarning: A column-vector y was passed when a 1d array was expected. Please change the shape of y to (n_samples,), for example using ravel().\n",
      "  estimator.fit(X_train, y_train, **fit_params)\n",
      "/Users/matmang/opt/anaconda3/envs/bert-study/lib/python3.10/site-packages/sklearn/model_selection/_validation.py:686: DataConversionWarning: A column-vector y was passed when a 1d array was expected. Please change the shape of y to (n_samples,), for example using ravel().\n",
      "  estimator.fit(X_train, y_train, **fit_params)\n",
      "/Users/matmang/opt/anaconda3/envs/bert-study/lib/python3.10/site-packages/sklearn/model_selection/_validation.py:686: DataConversionWarning: A column-vector y was passed when a 1d array was expected. Please change the shape of y to (n_samples,), for example using ravel().\n",
      "  estimator.fit(X_train, y_train, **fit_params)\n",
      "/Users/matmang/opt/anaconda3/envs/bert-study/lib/python3.10/site-packages/sklearn/model_selection/_validation.py:686: DataConversionWarning: A column-vector y was passed when a 1d array was expected. Please change the shape of y to (n_samples,), for example using ravel().\n",
      "  estimator.fit(X_train, y_train, **fit_params)\n",
      "/Users/matmang/opt/anaconda3/envs/bert-study/lib/python3.10/site-packages/sklearn/model_selection/_validation.py:686: DataConversionWarning: A column-vector y was passed when a 1d array was expected. Please change the shape of y to (n_samples,), for example using ravel().\n",
      "  estimator.fit(X_train, y_train, **fit_params)\n"
     ]
    },
    {
     "name": "stdout",
     "output_type": "stream",
     "text": [
      "[CV] END max_depth=7, min_samples_leaf=5, min_samples_split=4, n_estimators=105; total time=   1.3s\n",
      "[CV] END max_depth=7, min_samples_leaf=5, min_samples_split=4, n_estimators=105; total time=   1.3s\n",
      "[CV] END max_depth=7, min_samples_leaf=5, min_samples_split=4, n_estimators=105; total time=   1.3s\n"
     ]
    },
    {
     "name": "stderr",
     "output_type": "stream",
     "text": [
      "/Users/matmang/opt/anaconda3/envs/bert-study/lib/python3.10/site-packages/sklearn/model_selection/_validation.py:686: DataConversionWarning: A column-vector y was passed when a 1d array was expected. Please change the shape of y to (n_samples,), for example using ravel().\n",
      "  estimator.fit(X_train, y_train, **fit_params)\n",
      "/Users/matmang/opt/anaconda3/envs/bert-study/lib/python3.10/site-packages/sklearn/model_selection/_validation.py:686: DataConversionWarning: A column-vector y was passed when a 1d array was expected. Please change the shape of y to (n_samples,), for example using ravel().\n",
      "  estimator.fit(X_train, y_train, **fit_params)\n",
      "/Users/matmang/opt/anaconda3/envs/bert-study/lib/python3.10/site-packages/sklearn/model_selection/_validation.py:686: DataConversionWarning: A column-vector y was passed when a 1d array was expected. Please change the shape of y to (n_samples,), for example using ravel().\n",
      "  estimator.fit(X_train, y_train, **fit_params)\n"
     ]
    },
    {
     "name": "stdout",
     "output_type": "stream",
     "text": [
      "[CV] END max_depth=7, min_samples_leaf=5, min_samples_split=4, n_estimators=105; total time=   1.4s\n",
      "[CV] END max_depth=7, min_samples_leaf=5, min_samples_split=4, n_estimators=105; total time=   1.4s\n"
     ]
    },
    {
     "name": "stderr",
     "output_type": "stream",
     "text": [
      "/Users/matmang/opt/anaconda3/envs/bert-study/lib/python3.10/site-packages/sklearn/model_selection/_validation.py:686: DataConversionWarning: A column-vector y was passed when a 1d array was expected. Please change the shape of y to (n_samples,), for example using ravel().\n",
      "  estimator.fit(X_train, y_train, **fit_params)\n",
      "/Users/matmang/opt/anaconda3/envs/bert-study/lib/python3.10/site-packages/sklearn/model_selection/_validation.py:686: DataConversionWarning: A column-vector y was passed when a 1d array was expected. Please change the shape of y to (n_samples,), for example using ravel().\n",
      "  estimator.fit(X_train, y_train, **fit_params)\n"
     ]
    },
    {
     "name": "stdout",
     "output_type": "stream",
     "text": [
      "[CV] END max_depth=5, min_samples_leaf=2, min_samples_split=6, n_estimators=163; total time=   1.6s\n",
      "[CV] END max_depth=5, min_samples_leaf=2, min_samples_split=6, n_estimators=163; total time=   1.6s\n",
      "[CV] END max_depth=5, min_samples_leaf=2, min_samples_split=6, n_estimators=163; total time=   1.5s\n",
      "[CV] END max_depth=5, min_samples_leaf=2, min_samples_split=6, n_estimators=163; total time=   1.5s\n",
      "[CV] END max_depth=5, min_samples_leaf=2, min_samples_split=6, n_estimators=163; total time=   1.6s\n"
     ]
    },
    {
     "name": "stderr",
     "output_type": "stream",
     "text": [
      "/Users/matmang/opt/anaconda3/envs/bert-study/lib/python3.10/site-packages/sklearn/model_selection/_validation.py:686: DataConversionWarning: A column-vector y was passed when a 1d array was expected. Please change the shape of y to (n_samples,), for example using ravel().\n",
      "  estimator.fit(X_train, y_train, **fit_params)\n",
      "/Users/matmang/opt/anaconda3/envs/bert-study/lib/python3.10/site-packages/sklearn/model_selection/_validation.py:686: DataConversionWarning: A column-vector y was passed when a 1d array was expected. Please change the shape of y to (n_samples,), for example using ravel().\n",
      "  estimator.fit(X_train, y_train, **fit_params)\n",
      "/Users/matmang/opt/anaconda3/envs/bert-study/lib/python3.10/site-packages/sklearn/model_selection/_validation.py:686: DataConversionWarning: A column-vector y was passed when a 1d array was expected. Please change the shape of y to (n_samples,), for example using ravel().\n",
      "  estimator.fit(X_train, y_train, **fit_params)\n",
      "/Users/matmang/opt/anaconda3/envs/bert-study/lib/python3.10/site-packages/sklearn/model_selection/_validation.py:686: DataConversionWarning: A column-vector y was passed when a 1d array was expected. Please change the shape of y to (n_samples,), for example using ravel().\n",
      "  estimator.fit(X_train, y_train, **fit_params)\n",
      "/Users/matmang/opt/anaconda3/envs/bert-study/lib/python3.10/site-packages/sklearn/model_selection/_validation.py:686: DataConversionWarning: A column-vector y was passed when a 1d array was expected. Please change the shape of y to (n_samples,), for example using ravel().\n",
      "  estimator.fit(X_train, y_train, **fit_params)\n"
     ]
    },
    {
     "name": "stdout",
     "output_type": "stream",
     "text": [
      "[CV] END max_depth=7, min_samples_leaf=1, min_samples_split=9, n_estimators=171; total time=   2.0s\n",
      "[CV] END max_depth=7, min_samples_leaf=1, min_samples_split=9, n_estimators=171; total time=   2.1s\n",
      "[CV] END max_depth=7, min_samples_leaf=1, min_samples_split=9, n_estimators=171; total time=   2.1s\n",
      "[CV] END max_depth=7, min_samples_leaf=1, min_samples_split=9, n_estimators=171; total time=   2.1s\n"
     ]
    },
    {
     "name": "stderr",
     "output_type": "stream",
     "text": [
      "/Users/matmang/opt/anaconda3/envs/bert-study/lib/python3.10/site-packages/sklearn/model_selection/_validation.py:686: DataConversionWarning: A column-vector y was passed when a 1d array was expected. Please change the shape of y to (n_samples,), for example using ravel().\n",
      "  estimator.fit(X_train, y_train, **fit_params)\n",
      "/Users/matmang/opt/anaconda3/envs/bert-study/lib/python3.10/site-packages/sklearn/model_selection/_validation.py:686: DataConversionWarning: A column-vector y was passed when a 1d array was expected. Please change the shape of y to (n_samples,), for example using ravel().\n",
      "  estimator.fit(X_train, y_train, **fit_params)\n",
      "/Users/matmang/opt/anaconda3/envs/bert-study/lib/python3.10/site-packages/sklearn/model_selection/_validation.py:686: DataConversionWarning: A column-vector y was passed when a 1d array was expected. Please change the shape of y to (n_samples,), for example using ravel().\n",
      "  estimator.fit(X_train, y_train, **fit_params)\n",
      "/Users/matmang/opt/anaconda3/envs/bert-study/lib/python3.10/site-packages/sklearn/model_selection/_validation.py:686: DataConversionWarning: A column-vector y was passed when a 1d array was expected. Please change the shape of y to (n_samples,), for example using ravel().\n",
      "  estimator.fit(X_train, y_train, **fit_params)\n"
     ]
    },
    {
     "name": "stdout",
     "output_type": "stream",
     "text": [
      "[CV] END max_depth=7, min_samples_leaf=1, min_samples_split=9, n_estimators=171; total time=   2.1s\n",
      "[CV] END max_depth=10, min_samples_leaf=5, min_samples_split=13, n_estimators=199; total time=   3.3s\n",
      "[CV] END max_depth=10, min_samples_leaf=5, min_samples_split=13, n_estimators=199; total time=   3.2s\n"
     ]
    },
    {
     "name": "stderr",
     "output_type": "stream",
     "text": [
      "/Users/matmang/opt/anaconda3/envs/bert-study/lib/python3.10/site-packages/sklearn/model_selection/_validation.py:686: DataConversionWarning: A column-vector y was passed when a 1d array was expected. Please change the shape of y to (n_samples,), for example using ravel().\n",
      "  estimator.fit(X_train, y_train, **fit_params)\n",
      "/Users/matmang/opt/anaconda3/envs/bert-study/lib/python3.10/site-packages/sklearn/model_selection/_validation.py:686: DataConversionWarning: A column-vector y was passed when a 1d array was expected. Please change the shape of y to (n_samples,), for example using ravel().\n",
      "  estimator.fit(X_train, y_train, **fit_params)\n",
      "/Users/matmang/opt/anaconda3/envs/bert-study/lib/python3.10/site-packages/sklearn/model_selection/_validation.py:686: DataConversionWarning: A column-vector y was passed when a 1d array was expected. Please change the shape of y to (n_samples,), for example using ravel().\n",
      "  estimator.fit(X_train, y_train, **fit_params)\n"
     ]
    },
    {
     "name": "stdout",
     "output_type": "stream",
     "text": [
      "[CV] END max_depth=10, min_samples_leaf=5, min_samples_split=13, n_estimators=199; total time=   3.3s\n",
      "[CV] END max_depth=10, min_samples_leaf=5, min_samples_split=13, n_estimators=199; total time=   3.2s\n",
      "[CV] END max_depth=10, min_samples_leaf=5, min_samples_split=13, n_estimators=199; total time=   3.2s\n"
     ]
    },
    {
     "name": "stderr",
     "output_type": "stream",
     "text": [
      "/Users/matmang/opt/anaconda3/envs/bert-study/lib/python3.10/site-packages/sklearn/model_selection/_validation.py:686: DataConversionWarning: A column-vector y was passed when a 1d array was expected. Please change the shape of y to (n_samples,), for example using ravel().\n",
      "  estimator.fit(X_train, y_train, **fit_params)\n",
      "/Users/matmang/opt/anaconda3/envs/bert-study/lib/python3.10/site-packages/sklearn/model_selection/_validation.py:686: DataConversionWarning: A column-vector y was passed when a 1d array was expected. Please change the shape of y to (n_samples,), for example using ravel().\n",
      "  estimator.fit(X_train, y_train, **fit_params)\n",
      "/Users/matmang/opt/anaconda3/envs/bert-study/lib/python3.10/site-packages/sklearn/model_selection/_validation.py:686: DataConversionWarning: A column-vector y was passed when a 1d array was expected. Please change the shape of y to (n_samples,), for example using ravel().\n",
      "  estimator.fit(X_train, y_train, **fit_params)\n"
     ]
    },
    {
     "name": "stdout",
     "output_type": "stream",
     "text": [
      "[CV] END max_depth=6, min_samples_leaf=7, min_samples_split=18, n_estimators=78; total time=   0.8s\n",
      "[CV] END max_depth=6, min_samples_leaf=7, min_samples_split=18, n_estimators=78; total time=   0.8s\n",
      "[CV] END max_depth=6, min_samples_leaf=7, min_samples_split=18, n_estimators=78; total time=   0.8s\n",
      "[CV] END max_depth=6, min_samples_leaf=7, min_samples_split=18, n_estimators=78; total time=   0.8s\n",
      "[CV] END max_depth=6, min_samples_leaf=7, min_samples_split=18, n_estimators=78; total time=   0.8s\n"
     ]
    },
    {
     "name": "stderr",
     "output_type": "stream",
     "text": [
      "/Users/matmang/opt/anaconda3/envs/bert-study/lib/python3.10/site-packages/sklearn/model_selection/_validation.py:686: DataConversionWarning: A column-vector y was passed when a 1d array was expected. Please change the shape of y to (n_samples,), for example using ravel().\n",
      "  estimator.fit(X_train, y_train, **fit_params)\n",
      "/Users/matmang/opt/anaconda3/envs/bert-study/lib/python3.10/site-packages/sklearn/model_selection/_validation.py:686: DataConversionWarning: A column-vector y was passed when a 1d array was expected. Please change the shape of y to (n_samples,), for example using ravel().\n",
      "  estimator.fit(X_train, y_train, **fit_params)\n",
      "/Users/matmang/opt/anaconda3/envs/bert-study/lib/python3.10/site-packages/sklearn/model_selection/_validation.py:686: DataConversionWarning: A column-vector y was passed when a 1d array was expected. Please change the shape of y to (n_samples,), for example using ravel().\n",
      "  estimator.fit(X_train, y_train, **fit_params)\n",
      "/Users/matmang/opt/anaconda3/envs/bert-study/lib/python3.10/site-packages/sklearn/model_selection/_validation.py:686: DataConversionWarning: A column-vector y was passed when a 1d array was expected. Please change the shape of y to (n_samples,), for example using ravel().\n",
      "  estimator.fit(X_train, y_train, **fit_params)\n",
      "/Users/matmang/opt/anaconda3/envs/bert-study/lib/python3.10/site-packages/sklearn/model_selection/_validation.py:686: DataConversionWarning: A column-vector y was passed when a 1d array was expected. Please change the shape of y to (n_samples,), for example using ravel().\n",
      "  estimator.fit(X_train, y_train, **fit_params)\n"
     ]
    },
    {
     "name": "stdout",
     "output_type": "stream",
     "text": [
      "[CV] END max_depth=4, min_samples_leaf=3, min_samples_split=17, n_estimators=137; total time=   1.0s\n",
      "[CV] END max_depth=4, min_samples_leaf=3, min_samples_split=17, n_estimators=137; total time=   1.0s\n",
      "[CV] END max_depth=4, min_samples_leaf=3, min_samples_split=17, n_estimators=137; total time=   1.0s\n"
     ]
    },
    {
     "name": "stderr",
     "output_type": "stream",
     "text": [
      "/Users/matmang/opt/anaconda3/envs/bert-study/lib/python3.10/site-packages/sklearn/model_selection/_validation.py:686: DataConversionWarning: A column-vector y was passed when a 1d array was expected. Please change the shape of y to (n_samples,), for example using ravel().\n",
      "  estimator.fit(X_train, y_train, **fit_params)\n",
      "/Users/matmang/opt/anaconda3/envs/bert-study/lib/python3.10/site-packages/sklearn/model_selection/_validation.py:686: DataConversionWarning: A column-vector y was passed when a 1d array was expected. Please change the shape of y to (n_samples,), for example using ravel().\n",
      "  estimator.fit(X_train, y_train, **fit_params)\n",
      "/Users/matmang/opt/anaconda3/envs/bert-study/lib/python3.10/site-packages/sklearn/model_selection/_validation.py:686: DataConversionWarning: A column-vector y was passed when a 1d array was expected. Please change the shape of y to (n_samples,), for example using ravel().\n",
      "  estimator.fit(X_train, y_train, **fit_params)\n"
     ]
    },
    {
     "name": "stdout",
     "output_type": "stream",
     "text": [
      "[CV] END max_depth=4, min_samples_leaf=3, min_samples_split=17, n_estimators=137; total time=   1.1s\n",
      "[CV] END max_depth=4, min_samples_leaf=3, min_samples_split=17, n_estimators=137; total time=   1.1s\n"
     ]
    },
    {
     "name": "stderr",
     "output_type": "stream",
     "text": [
      "/Users/matmang/opt/anaconda3/envs/bert-study/lib/python3.10/site-packages/sklearn/model_selection/_validation.py:686: DataConversionWarning: A column-vector y was passed when a 1d array was expected. Please change the shape of y to (n_samples,), for example using ravel().\n",
      "  estimator.fit(X_train, y_train, **fit_params)\n",
      "/Users/matmang/opt/anaconda3/envs/bert-study/lib/python3.10/site-packages/sklearn/model_selection/_validation.py:686: DataConversionWarning: A column-vector y was passed when a 1d array was expected. Please change the shape of y to (n_samples,), for example using ravel().\n",
      "  estimator.fit(X_train, y_train, **fit_params)\n"
     ]
    },
    {
     "name": "stdout",
     "output_type": "stream",
     "text": [
      "[CV] END max_depth=9, min_samples_leaf=6, min_samples_split=11, n_estimators=199; total time=   3.0s\n",
      "[CV] END max_depth=9, min_samples_leaf=6, min_samples_split=11, n_estimators=199; total time=   3.0s\n",
      "[CV] END max_depth=8, min_samples_leaf=3, min_samples_split=18, n_estimators=188; total time=   2.5s\n",
      "[CV] END max_depth=9, min_samples_leaf=6, min_samples_split=11, n_estimators=199; total time=   3.0s\n",
      "[CV] END max_depth=8, min_samples_leaf=3, min_samples_split=18, n_estimators=188; total time=   2.6s\n",
      "[CV] END max_depth=9, min_samples_leaf=6, min_samples_split=11, n_estimators=199; total time=   3.0s\n"
     ]
    },
    {
     "name": "stderr",
     "output_type": "stream",
     "text": [
      "/Users/matmang/opt/anaconda3/envs/bert-study/lib/python3.10/site-packages/sklearn/model_selection/_validation.py:686: DataConversionWarning: A column-vector y was passed when a 1d array was expected. Please change the shape of y to (n_samples,), for example using ravel().\n",
      "  estimator.fit(X_train, y_train, **fit_params)\n",
      "/Users/matmang/opt/anaconda3/envs/bert-study/lib/python3.10/site-packages/sklearn/model_selection/_validation.py:686: DataConversionWarning: A column-vector y was passed when a 1d array was expected. Please change the shape of y to (n_samples,), for example using ravel().\n",
      "  estimator.fit(X_train, y_train, **fit_params)\n",
      "/Users/matmang/opt/anaconda3/envs/bert-study/lib/python3.10/site-packages/sklearn/model_selection/_validation.py:686: DataConversionWarning: A column-vector y was passed when a 1d array was expected. Please change the shape of y to (n_samples,), for example using ravel().\n",
      "  estimator.fit(X_train, y_train, **fit_params)\n",
      "/Users/matmang/opt/anaconda3/envs/bert-study/lib/python3.10/site-packages/sklearn/model_selection/_validation.py:686: DataConversionWarning: A column-vector y was passed when a 1d array was expected. Please change the shape of y to (n_samples,), for example using ravel().\n",
      "  estimator.fit(X_train, y_train, **fit_params)\n",
      "/Users/matmang/opt/anaconda3/envs/bert-study/lib/python3.10/site-packages/sklearn/model_selection/_validation.py:686: DataConversionWarning: A column-vector y was passed when a 1d array was expected. Please change the shape of y to (n_samples,), for example using ravel().\n",
      "  estimator.fit(X_train, y_train, **fit_params)\n",
      "/Users/matmang/opt/anaconda3/envs/bert-study/lib/python3.10/site-packages/sklearn/model_selection/_validation.py:686: DataConversionWarning: A column-vector y was passed when a 1d array was expected. Please change the shape of y to (n_samples,), for example using ravel().\n",
      "  estimator.fit(X_train, y_train, **fit_params)\n"
     ]
    },
    {
     "name": "stdout",
     "output_type": "stream",
     "text": [
      "[CV] END max_depth=9, min_samples_leaf=6, min_samples_split=11, n_estimators=199; total time=   3.1s\n",
      "[CV] END max_depth=8, min_samples_leaf=3, min_samples_split=18, n_estimators=188; total time=   2.6s\n",
      "[CV] END max_depth=8, min_samples_leaf=3, min_samples_split=18, n_estimators=188; total time=   2.5s\n"
     ]
    },
    {
     "name": "stderr",
     "output_type": "stream",
     "text": [
      "/Users/matmang/opt/anaconda3/envs/bert-study/lib/python3.10/site-packages/sklearn/model_selection/_validation.py:686: DataConversionWarning: A column-vector y was passed when a 1d array was expected. Please change the shape of y to (n_samples,), for example using ravel().\n",
      "  estimator.fit(X_train, y_train, **fit_params)\n",
      "/Users/matmang/opt/anaconda3/envs/bert-study/lib/python3.10/site-packages/sklearn/model_selection/_validation.py:686: DataConversionWarning: A column-vector y was passed when a 1d array was expected. Please change the shape of y to (n_samples,), for example using ravel().\n",
      "  estimator.fit(X_train, y_train, **fit_params)\n",
      "/Users/matmang/opt/anaconda3/envs/bert-study/lib/python3.10/site-packages/sklearn/model_selection/_validation.py:686: DataConversionWarning: A column-vector y was passed when a 1d array was expected. Please change the shape of y to (n_samples,), for example using ravel().\n",
      "  estimator.fit(X_train, y_train, **fit_params)\n"
     ]
    },
    {
     "name": "stdout",
     "output_type": "stream",
     "text": [
      "[CV] END max_depth=8, min_samples_leaf=3, min_samples_split=18, n_estimators=188; total time=   2.6s\n"
     ]
    },
    {
     "name": "stderr",
     "output_type": "stream",
     "text": [
      "/Users/matmang/opt/anaconda3/envs/bert-study/lib/python3.10/site-packages/sklearn/model_selection/_validation.py:686: DataConversionWarning: A column-vector y was passed when a 1d array was expected. Please change the shape of y to (n_samples,), for example using ravel().\n",
      "  estimator.fit(X_train, y_train, **fit_params)\n"
     ]
    },
    {
     "name": "stdout",
     "output_type": "stream",
     "text": [
      "[CV] END max_depth=3, min_samples_leaf=2, min_samples_split=11, n_estimators=152; total time=   0.9s\n",
      "[CV] END max_depth=3, min_samples_leaf=2, min_samples_split=11, n_estimators=152; total time=   0.8s\n",
      "[CV] END max_depth=3, min_samples_leaf=2, min_samples_split=11, n_estimators=152; total time=   0.9s\n",
      "[CV] END max_depth=3, min_samples_leaf=2, min_samples_split=11, n_estimators=152; total time=   0.8s\n"
     ]
    },
    {
     "name": "stderr",
     "output_type": "stream",
     "text": [
      "/Users/matmang/opt/anaconda3/envs/bert-study/lib/python3.10/site-packages/sklearn/model_selection/_validation.py:686: DataConversionWarning: A column-vector y was passed when a 1d array was expected. Please change the shape of y to (n_samples,), for example using ravel().\n",
      "  estimator.fit(X_train, y_train, **fit_params)\n",
      "/Users/matmang/opt/anaconda3/envs/bert-study/lib/python3.10/site-packages/sklearn/model_selection/_validation.py:686: DataConversionWarning: A column-vector y was passed when a 1d array was expected. Please change the shape of y to (n_samples,), for example using ravel().\n",
      "  estimator.fit(X_train, y_train, **fit_params)\n",
      "/Users/matmang/opt/anaconda3/envs/bert-study/lib/python3.10/site-packages/sklearn/model_selection/_validation.py:686: DataConversionWarning: A column-vector y was passed when a 1d array was expected. Please change the shape of y to (n_samples,), for example using ravel().\n",
      "  estimator.fit(X_train, y_train, **fit_params)\n",
      "/Users/matmang/opt/anaconda3/envs/bert-study/lib/python3.10/site-packages/sklearn/model_selection/_validation.py:686: DataConversionWarning: A column-vector y was passed when a 1d array was expected. Please change the shape of y to (n_samples,), for example using ravel().\n",
      "  estimator.fit(X_train, y_train, **fit_params)\n"
     ]
    },
    {
     "name": "stdout",
     "output_type": "stream",
     "text": [
      "[CV] END max_depth=3, min_samples_leaf=2, min_samples_split=11, n_estimators=152; total time=   0.9s\n"
     ]
    },
    {
     "name": "stderr",
     "output_type": "stream",
     "text": [
      "/Users/matmang/opt/anaconda3/envs/bert-study/lib/python3.10/site-packages/sklearn/model_selection/_validation.py:686: DataConversionWarning: A column-vector y was passed when a 1d array was expected. Please change the shape of y to (n_samples,), for example using ravel().\n",
      "  estimator.fit(X_train, y_train, **fit_params)\n"
     ]
    },
    {
     "name": "stdout",
     "output_type": "stream",
     "text": [
      "[CV] END max_depth=14, min_samples_leaf=6, min_samples_split=13, n_estimators=82; total time=   1.7s\n",
      "[CV] END max_depth=14, min_samples_leaf=6, min_samples_split=13, n_estimators=82; total time=   1.7s\n",
      "[CV] END max_depth=14, min_samples_leaf=6, min_samples_split=13, n_estimators=82; total time=   1.6s\n",
      "[CV] END max_depth=14, min_samples_leaf=6, min_samples_split=13, n_estimators=82; total time=   1.8s\n",
      "[CV] END max_depth=14, min_samples_leaf=6, min_samples_split=13, n_estimators=82; total time=   1.8s\n"
     ]
    },
    {
     "name": "stderr",
     "output_type": "stream",
     "text": [
      "/Users/matmang/opt/anaconda3/envs/bert-study/lib/python3.10/site-packages/sklearn/model_selection/_validation.py:686: DataConversionWarning: A column-vector y was passed when a 1d array was expected. Please change the shape of y to (n_samples,), for example using ravel().\n",
      "  estimator.fit(X_train, y_train, **fit_params)\n",
      "/Users/matmang/opt/anaconda3/envs/bert-study/lib/python3.10/site-packages/sklearn/model_selection/_validation.py:686: DataConversionWarning: A column-vector y was passed when a 1d array was expected. Please change the shape of y to (n_samples,), for example using ravel().\n",
      "  estimator.fit(X_train, y_train, **fit_params)\n",
      "/Users/matmang/opt/anaconda3/envs/bert-study/lib/python3.10/site-packages/sklearn/model_selection/_validation.py:686: DataConversionWarning: A column-vector y was passed when a 1d array was expected. Please change the shape of y to (n_samples,), for example using ravel().\n",
      "  estimator.fit(X_train, y_train, **fit_params)\n",
      "/Users/matmang/opt/anaconda3/envs/bert-study/lib/python3.10/site-packages/sklearn/model_selection/_validation.py:686: DataConversionWarning: A column-vector y was passed when a 1d array was expected. Please change the shape of y to (n_samples,), for example using ravel().\n",
      "  estimator.fit(X_train, y_train, **fit_params)\n",
      "/Users/matmang/opt/anaconda3/envs/bert-study/lib/python3.10/site-packages/sklearn/model_selection/_validation.py:686: DataConversionWarning: A column-vector y was passed when a 1d array was expected. Please change the shape of y to (n_samples,), for example using ravel().\n",
      "  estimator.fit(X_train, y_train, **fit_params)\n"
     ]
    },
    {
     "name": "stdout",
     "output_type": "stream",
     "text": [
      "[CV] END max_depth=6, min_samples_leaf=7, min_samples_split=15, n_estimators=146; total time=   1.5s\n",
      "[CV] END max_depth=6, min_samples_leaf=7, min_samples_split=15, n_estimators=146; total time=   1.5s\n",
      "[CV] END max_depth=6, min_samples_leaf=7, min_samples_split=15, n_estimators=146; total time=   1.5s\n",
      "[CV] END max_depth=6, min_samples_leaf=7, min_samples_split=15, n_estimators=146; total time=   1.5s\n"
     ]
    },
    {
     "name": "stderr",
     "output_type": "stream",
     "text": [
      "/Users/matmang/opt/anaconda3/envs/bert-study/lib/python3.10/site-packages/sklearn/model_selection/_validation.py:686: DataConversionWarning: A column-vector y was passed when a 1d array was expected. Please change the shape of y to (n_samples,), for example using ravel().\n",
      "  estimator.fit(X_train, y_train, **fit_params)\n",
      "/Users/matmang/opt/anaconda3/envs/bert-study/lib/python3.10/site-packages/sklearn/model_selection/_validation.py:686: DataConversionWarning: A column-vector y was passed when a 1d array was expected. Please change the shape of y to (n_samples,), for example using ravel().\n",
      "  estimator.fit(X_train, y_train, **fit_params)\n",
      "/Users/matmang/opt/anaconda3/envs/bert-study/lib/python3.10/site-packages/sklearn/model_selection/_validation.py:686: DataConversionWarning: A column-vector y was passed when a 1d array was expected. Please change the shape of y to (n_samples,), for example using ravel().\n",
      "  estimator.fit(X_train, y_train, **fit_params)\n",
      "/Users/matmang/opt/anaconda3/envs/bert-study/lib/python3.10/site-packages/sklearn/model_selection/_validation.py:686: DataConversionWarning: A column-vector y was passed when a 1d array was expected. Please change the shape of y to (n_samples,), for example using ravel().\n",
      "  estimator.fit(X_train, y_train, **fit_params)\n"
     ]
    },
    {
     "name": "stdout",
     "output_type": "stream",
     "text": [
      "[CV] END max_depth=6, min_samples_leaf=7, min_samples_split=15, n_estimators=146; total time=   1.6s\n"
     ]
    },
    {
     "name": "stderr",
     "output_type": "stream",
     "text": [
      "/Users/matmang/opt/anaconda3/envs/bert-study/lib/python3.10/site-packages/sklearn/model_selection/_validation.py:686: DataConversionWarning: A column-vector y was passed when a 1d array was expected. Please change the shape of y to (n_samples,), for example using ravel().\n",
      "  estimator.fit(X_train, y_train, **fit_params)\n"
     ]
    },
    {
     "name": "stdout",
     "output_type": "stream",
     "text": [
      "[CV] END max_depth=7, min_samples_leaf=9, min_samples_split=11, n_estimators=135; total time=   1.6s\n",
      "[CV] END max_depth=7, min_samples_leaf=9, min_samples_split=11, n_estimators=135; total time=   1.6s\n",
      "[CV] END max_depth=7, min_samples_leaf=9, min_samples_split=11, n_estimators=135; total time=   1.6s\n",
      "[CV] END max_depth=7, min_samples_leaf=9, min_samples_split=11, n_estimators=135; total time=   1.6s\n"
     ]
    },
    {
     "name": "stderr",
     "output_type": "stream",
     "text": [
      "/Users/matmang/opt/anaconda3/envs/bert-study/lib/python3.10/site-packages/sklearn/model_selection/_validation.py:686: DataConversionWarning: A column-vector y was passed when a 1d array was expected. Please change the shape of y to (n_samples,), for example using ravel().\n",
      "  estimator.fit(X_train, y_train, **fit_params)\n",
      "/Users/matmang/opt/anaconda3/envs/bert-study/lib/python3.10/site-packages/sklearn/model_selection/_validation.py:686: DataConversionWarning: A column-vector y was passed when a 1d array was expected. Please change the shape of y to (n_samples,), for example using ravel().\n",
      "  estimator.fit(X_train, y_train, **fit_params)\n",
      "/Users/matmang/opt/anaconda3/envs/bert-study/lib/python3.10/site-packages/sklearn/model_selection/_validation.py:686: DataConversionWarning: A column-vector y was passed when a 1d array was expected. Please change the shape of y to (n_samples,), for example using ravel().\n",
      "  estimator.fit(X_train, y_train, **fit_params)\n",
      "/Users/matmang/opt/anaconda3/envs/bert-study/lib/python3.10/site-packages/sklearn/model_selection/_validation.py:686: DataConversionWarning: A column-vector y was passed when a 1d array was expected. Please change the shape of y to (n_samples,), for example using ravel().\n",
      "  estimator.fit(X_train, y_train, **fit_params)\n"
     ]
    },
    {
     "name": "stdout",
     "output_type": "stream",
     "text": [
      "[CV] END max_depth=7, min_samples_leaf=9, min_samples_split=11, n_estimators=135; total time=   1.6s\n"
     ]
    },
    {
     "name": "stderr",
     "output_type": "stream",
     "text": [
      "/Users/matmang/opt/anaconda3/envs/bert-study/lib/python3.10/site-packages/sklearn/model_selection/_validation.py:686: DataConversionWarning: A column-vector y was passed when a 1d array was expected. Please change the shape of y to (n_samples,), for example using ravel().\n",
      "  estimator.fit(X_train, y_train, **fit_params)\n"
     ]
    },
    {
     "name": "stdout",
     "output_type": "stream",
     "text": [
      "[CV] END max_depth=14, min_samples_leaf=4, min_samples_split=5, n_estimators=153; total time=   3.2s\n",
      "[CV] END max_depth=14, min_samples_leaf=4, min_samples_split=5, n_estimators=153; total time=   3.3s\n",
      "[CV] END max_depth=14, min_samples_leaf=4, min_samples_split=5, n_estimators=153; total time=   3.2s\n",
      "[CV] END max_depth=14, min_samples_leaf=4, min_samples_split=5, n_estimators=153; total time=   3.3s\n",
      "[CV] END max_depth=14, min_samples_leaf=4, min_samples_split=5, n_estimators=153; total time=   3.2s\n"
     ]
    },
    {
     "name": "stderr",
     "output_type": "stream",
     "text": [
      "/Users/matmang/opt/anaconda3/envs/bert-study/lib/python3.10/site-packages/sklearn/model_selection/_validation.py:686: DataConversionWarning: A column-vector y was passed when a 1d array was expected. Please change the shape of y to (n_samples,), for example using ravel().\n",
      "  estimator.fit(X_train, y_train, **fit_params)\n",
      "/Users/matmang/opt/anaconda3/envs/bert-study/lib/python3.10/site-packages/sklearn/model_selection/_validation.py:686: DataConversionWarning: A column-vector y was passed when a 1d array was expected. Please change the shape of y to (n_samples,), for example using ravel().\n",
      "  estimator.fit(X_train, y_train, **fit_params)\n",
      "/Users/matmang/opt/anaconda3/envs/bert-study/lib/python3.10/site-packages/sklearn/model_selection/_validation.py:686: DataConversionWarning: A column-vector y was passed when a 1d array was expected. Please change the shape of y to (n_samples,), for example using ravel().\n",
      "  estimator.fit(X_train, y_train, **fit_params)\n",
      "/Users/matmang/opt/anaconda3/envs/bert-study/lib/python3.10/site-packages/sklearn/model_selection/_validation.py:686: DataConversionWarning: A column-vector y was passed when a 1d array was expected. Please change the shape of y to (n_samples,), for example using ravel().\n",
      "  estimator.fit(X_train, y_train, **fit_params)\n",
      "/Users/matmang/opt/anaconda3/envs/bert-study/lib/python3.10/site-packages/sklearn/model_selection/_validation.py:686: DataConversionWarning: A column-vector y was passed when a 1d array was expected. Please change the shape of y to (n_samples,), for example using ravel().\n",
      "  estimator.fit(X_train, y_train, **fit_params)\n"
     ]
    },
    {
     "name": "stdout",
     "output_type": "stream",
     "text": [
      "[CV] END max_depth=5, min_samples_leaf=8, min_samples_split=2, n_estimators=108; total time=   1.0s\n",
      "[CV] END max_depth=5, min_samples_leaf=8, min_samples_split=2, n_estimators=108; total time=   1.0s\n",
      "[CV] END max_depth=5, min_samples_leaf=8, min_samples_split=2, n_estimators=108; total time=   1.0s\n",
      "[CV] END max_depth=5, min_samples_leaf=8, min_samples_split=2, n_estimators=108; total time=   1.0s\n"
     ]
    },
    {
     "name": "stderr",
     "output_type": "stream",
     "text": [
      "/Users/matmang/opt/anaconda3/envs/bert-study/lib/python3.10/site-packages/sklearn/model_selection/_validation.py:686: DataConversionWarning: A column-vector y was passed when a 1d array was expected. Please change the shape of y to (n_samples,), for example using ravel().\n",
      "  estimator.fit(X_train, y_train, **fit_params)\n",
      "/Users/matmang/opt/anaconda3/envs/bert-study/lib/python3.10/site-packages/sklearn/model_selection/_validation.py:686: DataConversionWarning: A column-vector y was passed when a 1d array was expected. Please change the shape of y to (n_samples,), for example using ravel().\n",
      "  estimator.fit(X_train, y_train, **fit_params)\n",
      "/Users/matmang/opt/anaconda3/envs/bert-study/lib/python3.10/site-packages/sklearn/model_selection/_validation.py:686: DataConversionWarning: A column-vector y was passed when a 1d array was expected. Please change the shape of y to (n_samples,), for example using ravel().\n",
      "  estimator.fit(X_train, y_train, **fit_params)\n",
      "/Users/matmang/opt/anaconda3/envs/bert-study/lib/python3.10/site-packages/sklearn/model_selection/_validation.py:686: DataConversionWarning: A column-vector y was passed when a 1d array was expected. Please change the shape of y to (n_samples,), for example using ravel().\n",
      "  estimator.fit(X_train, y_train, **fit_params)\n"
     ]
    },
    {
     "name": "stdout",
     "output_type": "stream",
     "text": [
      "[CV] END max_depth=5, min_samples_leaf=8, min_samples_split=2, n_estimators=108; total time=   1.0s\n"
     ]
    },
    {
     "name": "stderr",
     "output_type": "stream",
     "text": [
      "/Users/matmang/opt/anaconda3/envs/bert-study/lib/python3.10/site-packages/sklearn/model_selection/_validation.py:686: DataConversionWarning: A column-vector y was passed when a 1d array was expected. Please change the shape of y to (n_samples,), for example using ravel().\n",
      "  estimator.fit(X_train, y_train, **fit_params)\n"
     ]
    },
    {
     "name": "stdout",
     "output_type": "stream",
     "text": [
      "[CV] END max_depth=7, min_samples_leaf=2, min_samples_split=9, n_estimators=83; total time=   1.0s\n",
      "[CV] END max_depth=7, min_samples_leaf=2, min_samples_split=9, n_estimators=83; total time=   1.0s\n",
      "[CV] END max_depth=7, min_samples_leaf=2, min_samples_split=9, n_estimators=83; total time=   1.0s\n",
      "[CV] END max_depth=7, min_samples_leaf=2, min_samples_split=9, n_estimators=83; total time=   1.1s\n",
      "[CV] END max_depth=7, min_samples_leaf=2, min_samples_split=9, n_estimators=83; total time=   1.0s\n"
     ]
    },
    {
     "name": "stderr",
     "output_type": "stream",
     "text": [
      "/Users/matmang/opt/anaconda3/envs/bert-study/lib/python3.10/site-packages/sklearn/model_selection/_validation.py:686: DataConversionWarning: A column-vector y was passed when a 1d array was expected. Please change the shape of y to (n_samples,), for example using ravel().\n",
      "  estimator.fit(X_train, y_train, **fit_params)\n",
      "/Users/matmang/opt/anaconda3/envs/bert-study/lib/python3.10/site-packages/sklearn/model_selection/_validation.py:686: DataConversionWarning: A column-vector y was passed when a 1d array was expected. Please change the shape of y to (n_samples,), for example using ravel().\n",
      "  estimator.fit(X_train, y_train, **fit_params)\n",
      "/Users/matmang/opt/anaconda3/envs/bert-study/lib/python3.10/site-packages/sklearn/model_selection/_validation.py:686: DataConversionWarning: A column-vector y was passed when a 1d array was expected. Please change the shape of y to (n_samples,), for example using ravel().\n",
      "  estimator.fit(X_train, y_train, **fit_params)\n",
      "/Users/matmang/opt/anaconda3/envs/bert-study/lib/python3.10/site-packages/sklearn/model_selection/_validation.py:686: DataConversionWarning: A column-vector y was passed when a 1d array was expected. Please change the shape of y to (n_samples,), for example using ravel().\n",
      "  estimator.fit(X_train, y_train, **fit_params)\n",
      "/Users/matmang/opt/anaconda3/envs/bert-study/lib/python3.10/site-packages/sklearn/model_selection/_validation.py:686: DataConversionWarning: A column-vector y was passed when a 1d array was expected. Please change the shape of y to (n_samples,), for example using ravel().\n",
      "  estimator.fit(X_train, y_train, **fit_params)\n"
     ]
    },
    {
     "name": "stdout",
     "output_type": "stream",
     "text": [
      "[CV] END max_depth=7, min_samples_leaf=4, min_samples_split=12, n_estimators=138; total time=   1.7s\n",
      "[CV] END max_depth=7, min_samples_leaf=4, min_samples_split=12, n_estimators=138; total time=   1.8s\n",
      "[CV] END max_depth=7, min_samples_leaf=4, min_samples_split=12, n_estimators=138; total time=   1.7s\n",
      "[CV] END max_depth=7, min_samples_leaf=4, min_samples_split=12, n_estimators=138; total time=   1.8s\n"
     ]
    },
    {
     "name": "stderr",
     "output_type": "stream",
     "text": [
      "/Users/matmang/opt/anaconda3/envs/bert-study/lib/python3.10/site-packages/sklearn/model_selection/_validation.py:686: DataConversionWarning: A column-vector y was passed when a 1d array was expected. Please change the shape of y to (n_samples,), for example using ravel().\n",
      "  estimator.fit(X_train, y_train, **fit_params)\n",
      "/Users/matmang/opt/anaconda3/envs/bert-study/lib/python3.10/site-packages/sklearn/model_selection/_validation.py:686: DataConversionWarning: A column-vector y was passed when a 1d array was expected. Please change the shape of y to (n_samples,), for example using ravel().\n",
      "  estimator.fit(X_train, y_train, **fit_params)\n",
      "/Users/matmang/opt/anaconda3/envs/bert-study/lib/python3.10/site-packages/sklearn/model_selection/_validation.py:686: DataConversionWarning: A column-vector y was passed when a 1d array was expected. Please change the shape of y to (n_samples,), for example using ravel().\n",
      "  estimator.fit(X_train, y_train, **fit_params)\n",
      "/Users/matmang/opt/anaconda3/envs/bert-study/lib/python3.10/site-packages/sklearn/model_selection/_validation.py:686: DataConversionWarning: A column-vector y was passed when a 1d array was expected. Please change the shape of y to (n_samples,), for example using ravel().\n",
      "  estimator.fit(X_train, y_train, **fit_params)\n"
     ]
    },
    {
     "name": "stdout",
     "output_type": "stream",
     "text": [
      "[CV] END max_depth=7, min_samples_leaf=4, min_samples_split=12, n_estimators=138; total time=   1.8s\n"
     ]
    },
    {
     "name": "stderr",
     "output_type": "stream",
     "text": [
      "/Users/matmang/opt/anaconda3/envs/bert-study/lib/python3.10/site-packages/sklearn/model_selection/_validation.py:686: DataConversionWarning: A column-vector y was passed when a 1d array was expected. Please change the shape of y to (n_samples,), for example using ravel().\n",
      "  estimator.fit(X_train, y_train, **fit_params)\n"
     ]
    },
    {
     "name": "stdout",
     "output_type": "stream",
     "text": [
      "[CV] END max_depth=13, min_samples_leaf=9, min_samples_split=17, n_estimators=113; total time=   2.3s\n",
      "[CV] END max_depth=5, min_samples_leaf=1, min_samples_split=3, n_estimators=136; total time=   1.3s\n",
      "[CV] END max_depth=13, min_samples_leaf=9, min_samples_split=17, n_estimators=113; total time=   2.3s\n",
      "[CV] END max_depth=5, min_samples_leaf=1, min_samples_split=3, n_estimators=136; total time=   1.4s\n",
      "[CV] END max_depth=13, min_samples_leaf=9, min_samples_split=17, n_estimators=113; total time=   2.3s\n",
      "[CV] END max_depth=5, min_samples_leaf=1, min_samples_split=3, n_estimators=136; total time=   1.3s\n",
      "[CV] END max_depth=13, min_samples_leaf=9, min_samples_split=17, n_estimators=113; total time=   2.3s\n",
      "[CV] END max_depth=13, min_samples_leaf=9, min_samples_split=17, n_estimators=113; total time=   2.3s\n",
      "[CV] END max_depth=5, min_samples_leaf=1, min_samples_split=3, n_estimators=136; total time=   1.3s\n"
     ]
    },
    {
     "name": "stderr",
     "output_type": "stream",
     "text": [
      "/Users/matmang/opt/anaconda3/envs/bert-study/lib/python3.10/site-packages/sklearn/model_selection/_validation.py:686: DataConversionWarning: A column-vector y was passed when a 1d array was expected. Please change the shape of y to (n_samples,), for example using ravel().\n",
      "  estimator.fit(X_train, y_train, **fit_params)\n",
      "/Users/matmang/opt/anaconda3/envs/bert-study/lib/python3.10/site-packages/sklearn/model_selection/_validation.py:686: DataConversionWarning: A column-vector y was passed when a 1d array was expected. Please change the shape of y to (n_samples,), for example using ravel().\n",
      "  estimator.fit(X_train, y_train, **fit_params)\n",
      "/Users/matmang/opt/anaconda3/envs/bert-study/lib/python3.10/site-packages/sklearn/model_selection/_validation.py:686: DataConversionWarning: A column-vector y was passed when a 1d array was expected. Please change the shape of y to (n_samples,), for example using ravel().\n",
      "  estimator.fit(X_train, y_train, **fit_params)\n",
      "/Users/matmang/opt/anaconda3/envs/bert-study/lib/python3.10/site-packages/sklearn/model_selection/_validation.py:686: DataConversionWarning: A column-vector y was passed when a 1d array was expected. Please change the shape of y to (n_samples,), for example using ravel().\n",
      "  estimator.fit(X_train, y_train, **fit_params)\n",
      "/Users/matmang/opt/anaconda3/envs/bert-study/lib/python3.10/site-packages/sklearn/model_selection/_validation.py:686: DataConversionWarning: A column-vector y was passed when a 1d array was expected. Please change the shape of y to (n_samples,), for example using ravel().\n",
      "  estimator.fit(X_train, y_train, **fit_params)\n",
      "/Users/matmang/opt/anaconda3/envs/bert-study/lib/python3.10/site-packages/sklearn/model_selection/_validation.py:686: DataConversionWarning: A column-vector y was passed when a 1d array was expected. Please change the shape of y to (n_samples,), for example using ravel().\n",
      "  estimator.fit(X_train, y_train, **fit_params)\n",
      "/Users/matmang/opt/anaconda3/envs/bert-study/lib/python3.10/site-packages/sklearn/model_selection/_validation.py:686: DataConversionWarning: A column-vector y was passed when a 1d array was expected. Please change the shape of y to (n_samples,), for example using ravel().\n",
      "  estimator.fit(X_train, y_train, **fit_params)\n",
      "/Users/matmang/opt/anaconda3/envs/bert-study/lib/python3.10/site-packages/sklearn/model_selection/_validation.py:686: DataConversionWarning: A column-vector y was passed when a 1d array was expected. Please change the shape of y to (n_samples,), for example using ravel().\n",
      "  estimator.fit(X_train, y_train, **fit_params)\n",
      "/Users/matmang/opt/anaconda3/envs/bert-study/lib/python3.10/site-packages/sklearn/model_selection/_validation.py:686: DataConversionWarning: A column-vector y was passed when a 1d array was expected. Please change the shape of y to (n_samples,), for example using ravel().\n",
      "  estimator.fit(X_train, y_train, **fit_params)\n"
     ]
    },
    {
     "name": "stdout",
     "output_type": "stream",
     "text": [
      "[CV] END max_depth=5, min_samples_leaf=1, min_samples_split=3, n_estimators=136; total time=   1.3s\n"
     ]
    },
    {
     "name": "stderr",
     "output_type": "stream",
     "text": [
      "/Users/matmang/opt/anaconda3/envs/bert-study/lib/python3.10/site-packages/sklearn/model_selection/_validation.py:686: DataConversionWarning: A column-vector y was passed when a 1d array was expected. Please change the shape of y to (n_samples,), for example using ravel().\n",
      "  estimator.fit(X_train, y_train, **fit_params)\n"
     ]
    },
    {
     "name": "stdout",
     "output_type": "stream",
     "text": [
      "[CV] END max_depth=10, min_samples_leaf=6, min_samples_split=11, n_estimators=57; total time=   0.9s\n",
      "[CV] END max_depth=10, min_samples_leaf=6, min_samples_split=11, n_estimators=57; total time=   0.9s\n",
      "[CV] END max_depth=10, min_samples_leaf=6, min_samples_split=11, n_estimators=57; total time=   0.9s\n",
      "[CV] END max_depth=10, min_samples_leaf=6, min_samples_split=11, n_estimators=57; total time=   1.0s\n"
     ]
    },
    {
     "name": "stderr",
     "output_type": "stream",
     "text": [
      "/Users/matmang/opt/anaconda3/envs/bert-study/lib/python3.10/site-packages/sklearn/model_selection/_validation.py:686: DataConversionWarning: A column-vector y was passed when a 1d array was expected. Please change the shape of y to (n_samples,), for example using ravel().\n",
      "  estimator.fit(X_train, y_train, **fit_params)\n",
      "/Users/matmang/opt/anaconda3/envs/bert-study/lib/python3.10/site-packages/sklearn/model_selection/_validation.py:686: DataConversionWarning: A column-vector y was passed when a 1d array was expected. Please change the shape of y to (n_samples,), for example using ravel().\n",
      "  estimator.fit(X_train, y_train, **fit_params)\n",
      "/Users/matmang/opt/anaconda3/envs/bert-study/lib/python3.10/site-packages/sklearn/model_selection/_validation.py:686: DataConversionWarning: A column-vector y was passed when a 1d array was expected. Please change the shape of y to (n_samples,), for example using ravel().\n",
      "  estimator.fit(X_train, y_train, **fit_params)\n",
      "/Users/matmang/opt/anaconda3/envs/bert-study/lib/python3.10/site-packages/sklearn/model_selection/_validation.py:686: DataConversionWarning: A column-vector y was passed when a 1d array was expected. Please change the shape of y to (n_samples,), for example using ravel().\n",
      "  estimator.fit(X_train, y_train, **fit_params)\n"
     ]
    },
    {
     "name": "stdout",
     "output_type": "stream",
     "text": [
      "[CV] END max_depth=10, min_samples_leaf=6, min_samples_split=11, n_estimators=57; total time=   0.9s\n"
     ]
    },
    {
     "name": "stderr",
     "output_type": "stream",
     "text": [
      "/Users/matmang/opt/anaconda3/envs/bert-study/lib/python3.10/site-packages/sklearn/model_selection/_validation.py:686: DataConversionWarning: A column-vector y was passed when a 1d array was expected. Please change the shape of y to (n_samples,), for example using ravel().\n",
      "  estimator.fit(X_train, y_train, **fit_params)\n"
     ]
    },
    {
     "name": "stdout",
     "output_type": "stream",
     "text": [
      "[CV] END max_depth=7, min_samples_leaf=1, min_samples_split=8, n_estimators=178; total time=   2.2s\n",
      "[CV] END max_depth=7, min_samples_leaf=1, min_samples_split=8, n_estimators=178; total time=   2.2s\n",
      "[CV] END max_depth=7, min_samples_leaf=1, min_samples_split=8, n_estimators=178; total time=   2.2s\n",
      "[CV] END max_depth=7, min_samples_leaf=1, min_samples_split=8, n_estimators=178; total time=   2.2s\n",
      "[CV] END max_depth=7, min_samples_leaf=1, min_samples_split=8, n_estimators=178; total time=   2.2s\n"
     ]
    },
    {
     "name": "stderr",
     "output_type": "stream",
     "text": [
      "/Users/matmang/opt/anaconda3/envs/bert-study/lib/python3.10/site-packages/sklearn/model_selection/_validation.py:686: DataConversionWarning: A column-vector y was passed when a 1d array was expected. Please change the shape of y to (n_samples,), for example using ravel().\n",
      "  estimator.fit(X_train, y_train, **fit_params)\n",
      "/Users/matmang/opt/anaconda3/envs/bert-study/lib/python3.10/site-packages/sklearn/model_selection/_validation.py:686: DataConversionWarning: A column-vector y was passed when a 1d array was expected. Please change the shape of y to (n_samples,), for example using ravel().\n",
      "  estimator.fit(X_train, y_train, **fit_params)\n",
      "/Users/matmang/opt/anaconda3/envs/bert-study/lib/python3.10/site-packages/sklearn/model_selection/_validation.py:686: DataConversionWarning: A column-vector y was passed when a 1d array was expected. Please change the shape of y to (n_samples,), for example using ravel().\n",
      "  estimator.fit(X_train, y_train, **fit_params)\n",
      "/Users/matmang/opt/anaconda3/envs/bert-study/lib/python3.10/site-packages/sklearn/model_selection/_validation.py:686: DataConversionWarning: A column-vector y was passed when a 1d array was expected. Please change the shape of y to (n_samples,), for example using ravel().\n",
      "  estimator.fit(X_train, y_train, **fit_params)\n",
      "/Users/matmang/opt/anaconda3/envs/bert-study/lib/python3.10/site-packages/sklearn/model_selection/_validation.py:686: DataConversionWarning: A column-vector y was passed when a 1d array was expected. Please change the shape of y to (n_samples,), for example using ravel().\n",
      "  estimator.fit(X_train, y_train, **fit_params)\n"
     ]
    },
    {
     "name": "stdout",
     "output_type": "stream",
     "text": [
      "[CV] END max_depth=6, min_samples_leaf=2, min_samples_split=3, n_estimators=145; total time=   1.5s\n",
      "[CV] END max_depth=6, min_samples_leaf=2, min_samples_split=3, n_estimators=145; total time=   1.6s\n",
      "[CV] END max_depth=6, min_samples_leaf=2, min_samples_split=3, n_estimators=145; total time=   1.5s\n",
      "[CV] END max_depth=6, min_samples_leaf=2, min_samples_split=3, n_estimators=145; total time=   1.5s\n"
     ]
    },
    {
     "name": "stderr",
     "output_type": "stream",
     "text": [
      "/Users/matmang/opt/anaconda3/envs/bert-study/lib/python3.10/site-packages/sklearn/model_selection/_validation.py:686: DataConversionWarning: A column-vector y was passed when a 1d array was expected. Please change the shape of y to (n_samples,), for example using ravel().\n",
      "  estimator.fit(X_train, y_train, **fit_params)\n",
      "/Users/matmang/opt/anaconda3/envs/bert-study/lib/python3.10/site-packages/sklearn/model_selection/_validation.py:686: DataConversionWarning: A column-vector y was passed when a 1d array was expected. Please change the shape of y to (n_samples,), for example using ravel().\n",
      "  estimator.fit(X_train, y_train, **fit_params)\n",
      "/Users/matmang/opt/anaconda3/envs/bert-study/lib/python3.10/site-packages/sklearn/model_selection/_validation.py:686: DataConversionWarning: A column-vector y was passed when a 1d array was expected. Please change the shape of y to (n_samples,), for example using ravel().\n",
      "  estimator.fit(X_train, y_train, **fit_params)\n",
      "/Users/matmang/opt/anaconda3/envs/bert-study/lib/python3.10/site-packages/sklearn/model_selection/_validation.py:686: DataConversionWarning: A column-vector y was passed when a 1d array was expected. Please change the shape of y to (n_samples,), for example using ravel().\n",
      "  estimator.fit(X_train, y_train, **fit_params)\n"
     ]
    },
    {
     "name": "stdout",
     "output_type": "stream",
     "text": [
      "[CV] END max_depth=6, min_samples_leaf=2, min_samples_split=3, n_estimators=145; total time=   1.5s\n"
     ]
    },
    {
     "name": "stderr",
     "output_type": "stream",
     "text": [
      "/Users/matmang/opt/anaconda3/envs/bert-study/lib/python3.10/site-packages/sklearn/model_selection/_validation.py:686: DataConversionWarning: A column-vector y was passed when a 1d array was expected. Please change the shape of y to (n_samples,), for example using ravel().\n",
      "  estimator.fit(X_train, y_train, **fit_params)\n"
     ]
    },
    {
     "name": "stdout",
     "output_type": "stream",
     "text": [
      "[CV] END max_depth=7, min_samples_leaf=3, min_samples_split=16, n_estimators=103; total time=   1.3s\n",
      "[CV] END max_depth=7, min_samples_leaf=3, min_samples_split=16, n_estimators=103; total time=   1.3s\n",
      "[CV] END max_depth=7, min_samples_leaf=3, min_samples_split=16, n_estimators=103; total time=   1.3s\n",
      "[CV] END max_depth=7, min_samples_leaf=3, min_samples_split=16, n_estimators=103; total time=   1.3s\n",
      "[CV] END max_depth=7, min_samples_leaf=3, min_samples_split=16, n_estimators=103; total time=   1.3s\n"
     ]
    },
    {
     "name": "stderr",
     "output_type": "stream",
     "text": [
      "/Users/matmang/opt/anaconda3/envs/bert-study/lib/python3.10/site-packages/sklearn/model_selection/_validation.py:686: DataConversionWarning: A column-vector y was passed when a 1d array was expected. Please change the shape of y to (n_samples,), for example using ravel().\n",
      "  estimator.fit(X_train, y_train, **fit_params)\n",
      "/Users/matmang/opt/anaconda3/envs/bert-study/lib/python3.10/site-packages/sklearn/model_selection/_validation.py:686: DataConversionWarning: A column-vector y was passed when a 1d array was expected. Please change the shape of y to (n_samples,), for example using ravel().\n",
      "  estimator.fit(X_train, y_train, **fit_params)\n",
      "/Users/matmang/opt/anaconda3/envs/bert-study/lib/python3.10/site-packages/sklearn/model_selection/_validation.py:686: DataConversionWarning: A column-vector y was passed when a 1d array was expected. Please change the shape of y to (n_samples,), for example using ravel().\n",
      "  estimator.fit(X_train, y_train, **fit_params)\n",
      "/Users/matmang/opt/anaconda3/envs/bert-study/lib/python3.10/site-packages/sklearn/model_selection/_validation.py:686: DataConversionWarning: A column-vector y was passed when a 1d array was expected. Please change the shape of y to (n_samples,), for example using ravel().\n",
      "  estimator.fit(X_train, y_train, **fit_params)\n",
      "/Users/matmang/opt/anaconda3/envs/bert-study/lib/python3.10/site-packages/sklearn/model_selection/_validation.py:686: DataConversionWarning: A column-vector y was passed when a 1d array was expected. Please change the shape of y to (n_samples,), for example using ravel().\n",
      "  estimator.fit(X_train, y_train, **fit_params)\n"
     ]
    },
    {
     "name": "stdout",
     "output_type": "stream",
     "text": [
      "[CV] END max_depth=7, min_samples_leaf=5, min_samples_split=7, n_estimators=123; total time=   1.5s\n",
      "[CV] END max_depth=7, min_samples_leaf=5, min_samples_split=7, n_estimators=123; total time=   1.5s\n",
      "[CV] END max_depth=7, min_samples_leaf=5, min_samples_split=7, n_estimators=123; total time=   1.5s\n",
      "[CV] END max_depth=7, min_samples_leaf=5, min_samples_split=7, n_estimators=123; total time=   1.6s\n"
     ]
    },
    {
     "name": "stderr",
     "output_type": "stream",
     "text": [
      "/Users/matmang/opt/anaconda3/envs/bert-study/lib/python3.10/site-packages/sklearn/model_selection/_validation.py:686: DataConversionWarning: A column-vector y was passed when a 1d array was expected. Please change the shape of y to (n_samples,), for example using ravel().\n",
      "  estimator.fit(X_train, y_train, **fit_params)\n",
      "/Users/matmang/opt/anaconda3/envs/bert-study/lib/python3.10/site-packages/sklearn/model_selection/_validation.py:686: DataConversionWarning: A column-vector y was passed when a 1d array was expected. Please change the shape of y to (n_samples,), for example using ravel().\n",
      "  estimator.fit(X_train, y_train, **fit_params)\n",
      "/Users/matmang/opt/anaconda3/envs/bert-study/lib/python3.10/site-packages/sklearn/model_selection/_validation.py:686: DataConversionWarning: A column-vector y was passed when a 1d array was expected. Please change the shape of y to (n_samples,), for example using ravel().\n",
      "  estimator.fit(X_train, y_train, **fit_params)\n",
      "/Users/matmang/opt/anaconda3/envs/bert-study/lib/python3.10/site-packages/sklearn/model_selection/_validation.py:686: DataConversionWarning: A column-vector y was passed when a 1d array was expected. Please change the shape of y to (n_samples,), for example using ravel().\n",
      "  estimator.fit(X_train, y_train, **fit_params)\n"
     ]
    },
    {
     "name": "stdout",
     "output_type": "stream",
     "text": [
      "[CV] END max_depth=7, min_samples_leaf=5, min_samples_split=7, n_estimators=123; total time=   1.5s\n"
     ]
    },
    {
     "name": "stderr",
     "output_type": "stream",
     "text": [
      "/Users/matmang/opt/anaconda3/envs/bert-study/lib/python3.10/site-packages/sklearn/model_selection/_validation.py:686: DataConversionWarning: A column-vector y was passed when a 1d array was expected. Please change the shape of y to (n_samples,), for example using ravel().\n",
      "  estimator.fit(X_train, y_train, **fit_params)\n"
     ]
    },
    {
     "name": "stdout",
     "output_type": "stream",
     "text": [
      "[CV] END max_depth=3, min_samples_leaf=3, min_samples_split=4, n_estimators=156; total time=   0.9s\n",
      "[CV] END max_depth=3, min_samples_leaf=3, min_samples_split=4, n_estimators=156; total time=   0.9s\n",
      "[CV] END max_depth=3, min_samples_leaf=3, min_samples_split=4, n_estimators=156; total time=   0.9s\n",
      "[CV] END max_depth=3, min_samples_leaf=3, min_samples_split=4, n_estimators=156; total time=   0.9s\n",
      "[CV] END max_depth=3, min_samples_leaf=3, min_samples_split=4, n_estimators=156; total time=   0.8s\n",
      "[CV] END max_depth=14, min_samples_leaf=2, min_samples_split=3, n_estimators=173; total time=   3.3s\n",
      "[CV] END max_depth=14, min_samples_leaf=2, min_samples_split=3, n_estimators=173; total time=   3.4s\n",
      "[CV] END max_depth=14, min_samples_leaf=2, min_samples_split=3, n_estimators=173; total time=   3.4s\n",
      "[CV] END max_depth=14, min_samples_leaf=2, min_samples_split=3, n_estimators=173; total time=   3.4s\n",
      "[CV] END max_depth=14, min_samples_leaf=2, min_samples_split=3, n_estimators=173; total time=   3.4s\n"
     ]
    },
    {
     "name": "stderr",
     "output_type": "stream",
     "text": [
      "/Users/matmang/opt/anaconda3/envs/bert-study/lib/python3.10/site-packages/sklearn/model_selection/_search.py:909: DataConversionWarning: A column-vector y was passed when a 1d array was expected. Please change the shape of y to (n_samples,), for example using ravel().\n",
      "  self.best_estimator_.fit(X, y, **fit_params)\n"
     ]
    },
    {
     "name": "stdout",
     "output_type": "stream",
     "text": [
      "Fitting 5 folds for each of 50 candidates, totalling 250 fits\n",
      "[CV] END colsample_bytree=0.7329389728628188, gamma=0.4326250959253708, learning_rate=0.0564604184003363, max_depth=8, min_child_weight=0.0761014532629537, subsample=0.8911973850592334; total time=   1.6s\n",
      "[CV] END colsample_bytree=0.7329389728628188, gamma=0.4326250959253708, learning_rate=0.0564604184003363, max_depth=8, min_child_weight=0.0761014532629537, subsample=0.8911973850592334; total time=   1.7s\n",
      "[CV] END colsample_bytree=0.7329389728628188, gamma=0.4326250959253708, learning_rate=0.0564604184003363, max_depth=8, min_child_weight=0.0761014532629537, subsample=0.8911973850592334; total time=   1.8s\n",
      "[CV] END colsample_bytree=0.7329389728628188, gamma=0.4326250959253708, learning_rate=0.0564604184003363, max_depth=8, min_child_weight=0.0761014532629537, subsample=0.8911973850592334; total time=   1.8s\n",
      "[CV] END colsample_bytree=0.5351986453796191, gamma=0.9999997773680521, learning_rate=0.02782001808466464, max_depth=11, min_child_weight=0.5845499215503924, subsample=0.5613076685639204; total time=   2.0s\n",
      "[CV] END colsample_bytree=0.5351986453796191, gamma=0.9999997773680521, learning_rate=0.02782001808466464, max_depth=11, min_child_weight=0.5845499215503924, subsample=0.5613076685639204; total time=   2.0s\n",
      "[CV] END colsample_bytree=0.5351986453796191, gamma=0.9999997773680521, learning_rate=0.02782001808466464, max_depth=11, min_child_weight=0.5845499215503924, subsample=0.5613076685639204; total time=   2.0s\n",
      "[CV] END colsample_bytree=0.5351986453796191, gamma=0.9999997773680521, learning_rate=0.02782001808466464, max_depth=11, min_child_weight=0.5845499215503924, subsample=0.5613076685639204; total time=   2.0s\n",
      "[CV] END colsample_bytree=0.7329389728628188, gamma=0.4326250959253708, learning_rate=0.0564604184003363, max_depth=8, min_child_weight=0.0761014532629537, subsample=0.8911973850592334; total time=   2.1s\n",
      "[CV] END colsample_bytree=0.5351986453796191, gamma=0.9999997773680521, learning_rate=0.02782001808466464, max_depth=11, min_child_weight=0.5845499215503924, subsample=0.5613076685639204; total time=   2.0s\n",
      "[CV] END colsample_bytree=0.686729166802671, gamma=0.2525345227950542, learning_rate=0.019202920944708095, max_depth=3, min_child_weight=0.5124566693982104, subsample=0.8627519602838915; total time=   0.7s\n",
      "[CV] END colsample_bytree=0.686729166802671, gamma=0.2525345227950542, learning_rate=0.019202920944708095, max_depth=3, min_child_weight=0.5124566693982104, subsample=0.8627519602838915; total time=   0.8s\n",
      "[CV] END colsample_bytree=0.686729166802671, gamma=0.2525345227950542, learning_rate=0.019202920944708095, max_depth=3, min_child_weight=0.5124566693982104, subsample=0.8627519602838915; total time=   0.8s\n",
      "[CV] END colsample_bytree=0.686729166802671, gamma=0.2525345227950542, learning_rate=0.019202920944708095, max_depth=3, min_child_weight=0.5124566693982104, subsample=0.8627519602838915; total time=   0.6s\n",
      "[CV] END colsample_bytree=0.686729166802671, gamma=0.2525345227950542, learning_rate=0.019202920944708095, max_depth=3, min_child_weight=0.5124566693982104, subsample=0.8627519602838915; total time=   0.9s\n",
      "[CV] END colsample_bytree=0.9012844276356864, gamma=0.7987636083559577, learning_rate=0.03749704525426875, max_depth=5, min_child_weight=0.4403041848413992, subsample=0.8198144938252212; total time=   1.3s\n",
      "[CV] END colsample_bytree=0.6322534515939271, gamma=0.7463408847160927, learning_rate=0.027380315835110282, max_depth=10, min_child_weight=0.08386614310667329, subsample=0.9357844557425681; total time=   1.8s\n",
      "[CV] END colsample_bytree=0.6322534515939271, gamma=0.7463408847160927, learning_rate=0.027380315835110282, max_depth=10, min_child_weight=0.08386614310667329, subsample=0.9357844557425681; total time=   1.8s\n",
      "[CV] END colsample_bytree=0.6322534515939271, gamma=0.7463408847160927, learning_rate=0.027380315835110282, max_depth=10, min_child_weight=0.08386614310667329, subsample=0.9357844557425681; total time=   1.8s\n",
      "[CV] END colsample_bytree=0.9012844276356864, gamma=0.7987636083559577, learning_rate=0.03749704525426875, max_depth=5, min_child_weight=0.4403041848413992, subsample=0.8198144938252212; total time=   1.3s\n",
      "[CV] END colsample_bytree=0.6322534515939271, gamma=0.7463408847160927, learning_rate=0.027380315835110282, max_depth=10, min_child_weight=0.08386614310667329, subsample=0.9357844557425681; total time=   1.9s\n",
      "[CV] END colsample_bytree=0.9012844276356864, gamma=0.7987636083559577, learning_rate=0.03749704525426875, max_depth=5, min_child_weight=0.4403041848413992, subsample=0.8198144938252212; total time=   1.3s\n",
      "[CV] END colsample_bytree=0.9012844276356864, gamma=0.7987636083559577, learning_rate=0.03749704525426875, max_depth=5, min_child_weight=0.4403041848413992, subsample=0.8198144938252212; total time=   1.5s\n",
      "[CV] END colsample_bytree=0.9012844276356864, gamma=0.7987636083559577, learning_rate=0.03749704525426875, max_depth=5, min_child_weight=0.4403041848413992, subsample=0.8198144938252212; total time=   1.5s\n",
      "[CV] END colsample_bytree=0.6322534515939271, gamma=0.7463408847160927, learning_rate=0.027380315835110282, max_depth=10, min_child_weight=0.08386614310667329, subsample=0.9357844557425681; total time=   2.2s\n",
      "[CV] END colsample_bytree=0.5191626757664287, gamma=0.31946423223112685, learning_rate=0.07964028683964922, max_depth=9, min_child_weight=0.46817546268611354, subsample=0.743340433435979; total time=   1.5s\n",
      "[CV] END colsample_bytree=0.5191626757664287, gamma=0.31946423223112685, learning_rate=0.07964028683964922, max_depth=9, min_child_weight=0.46817546268611354, subsample=0.743340433435979; total time=   1.4s\n",
      "[CV] END colsample_bytree=0.5191626757664287, gamma=0.31946423223112685, learning_rate=0.07964028683964922, max_depth=9, min_child_weight=0.46817546268611354, subsample=0.743340433435979; total time=   1.4s\n",
      "[CV] END colsample_bytree=0.5191626757664287, gamma=0.31946423223112685, learning_rate=0.07964028683964922, max_depth=9, min_child_weight=0.46817546268611354, subsample=0.743340433435979; total time=   1.4s\n",
      "[CV] END colsample_bytree=0.5191626757664287, gamma=0.31946423223112685, learning_rate=0.07964028683964922, max_depth=9, min_child_weight=0.46817546268611354, subsample=0.743340433435979; total time=   1.5s\n",
      "[CV] END colsample_bytree=0.9656875210693694, gamma=0.9804125572400485, learning_rate=0.027245930632502968, max_depth=13, min_child_weight=0.33604887475977396, subsample=0.7453618632940486; total time=   3.9s\n",
      "[CV] END colsample_bytree=0.9656875210693694, gamma=0.9804125572400485, learning_rate=0.027245930632502968, max_depth=13, min_child_weight=0.33604887475977396, subsample=0.7453618632940486; total time=   4.0s\n",
      "[CV] END colsample_bytree=0.9656875210693694, gamma=0.9804125572400485, learning_rate=0.027245930632502968, max_depth=13, min_child_weight=0.33604887475977396, subsample=0.7453618632940486; total time=   3.9s\n",
      "[CV] END colsample_bytree=0.9656875210693694, gamma=0.9804125572400485, learning_rate=0.027245930632502968, max_depth=13, min_child_weight=0.33604887475977396, subsample=0.7453618632940486; total time=   4.1s\n",
      "[CV] END colsample_bytree=0.9656875210693694, gamma=0.9804125572400485, learning_rate=0.027245930632502968, max_depth=13, min_child_weight=0.33604887475977396, subsample=0.7453618632940486; total time=   4.0s\n",
      "[CV] END colsample_bytree=0.9663238555525185, gamma=0.9733292925356503, learning_rate=0.04750428603469752, max_depth=13, min_child_weight=0.1959399329603272, subsample=0.6321683663111161; total time=   3.4s\n",
      "[CV] END colsample_bytree=0.9663238555525185, gamma=0.9733292925356503, learning_rate=0.04750428603469752, max_depth=13, min_child_weight=0.1959399329603272, subsample=0.6321683663111161; total time=   4.0s\n",
      "[CV] END colsample_bytree=0.6332270897846797, gamma=0.9977678115232406, learning_rate=0.060781298100776746, max_depth=7, min_child_weight=0.061030712596002346, subsample=0.8992558143498219; total time=   1.3s\n",
      "[CV] END colsample_bytree=0.9663238555525185, gamma=0.9733292925356503, learning_rate=0.04750428603469752, max_depth=13, min_child_weight=0.1959399329603272, subsample=0.6321683663111161; total time=   4.1s\n",
      "[CV] END colsample_bytree=0.6332270897846797, gamma=0.9977678115232406, learning_rate=0.060781298100776746, max_depth=7, min_child_weight=0.061030712596002346, subsample=0.8992558143498219; total time=   1.4s\n",
      "[CV] END colsample_bytree=0.9663238555525185, gamma=0.9733292925356503, learning_rate=0.04750428603469752, max_depth=13, min_child_weight=0.1959399329603272, subsample=0.6321683663111161; total time=   4.1s\n",
      "[CV] END colsample_bytree=0.6332270897846797, gamma=0.9977678115232406, learning_rate=0.060781298100776746, max_depth=7, min_child_weight=0.061030712596002346, subsample=0.8992558143498219; total time=   1.4s\n",
      "[CV] END colsample_bytree=0.9068866881369921, gamma=0.8336451829416677, learning_rate=0.02577323847539073, max_depth=3, min_child_weight=0.12206670941277598, subsample=0.5129278450896899; total time=   0.7s\n",
      "[CV] END colsample_bytree=0.9663238555525185, gamma=0.9733292925356503, learning_rate=0.04750428603469752, max_depth=13, min_child_weight=0.1959399329603272, subsample=0.6321683663111161; total time=   4.0s\n",
      "[CV] END colsample_bytree=0.6332270897846797, gamma=0.9977678115232406, learning_rate=0.060781298100776746, max_depth=7, min_child_weight=0.061030712596002346, subsample=0.8992558143498219; total time=   1.4s\n",
      "[CV] END colsample_bytree=0.6332270897846797, gamma=0.9977678115232406, learning_rate=0.060781298100776746, max_depth=7, min_child_weight=0.061030712596002346, subsample=0.8992558143498219; total time=   1.4s\n",
      "[CV] END colsample_bytree=0.9068866881369921, gamma=0.8336451829416677, learning_rate=0.02577323847539073, max_depth=3, min_child_weight=0.12206670941277598, subsample=0.5129278450896899; total time=   0.9s\n",
      "[CV] END colsample_bytree=0.9068866881369921, gamma=0.8336451829416677, learning_rate=0.02577323847539073, max_depth=3, min_child_weight=0.12206670941277598, subsample=0.5129278450896899; total time=   0.8s\n",
      "[CV] END colsample_bytree=0.9068866881369921, gamma=0.8336451829416677, learning_rate=0.02577323847539073, max_depth=3, min_child_weight=0.12206670941277598, subsample=0.5129278450896899; total time=   0.9s\n",
      "[CV] END colsample_bytree=0.9068866881369921, gamma=0.8336451829416677, learning_rate=0.02577323847539073, max_depth=3, min_child_weight=0.12206670941277598, subsample=0.5129278450896899; total time=   0.9s\n",
      "[CV] END colsample_bytree=0.9920635658469488, gamma=0.23795314880124574, learning_rate=0.045120344999247546, max_depth=4, min_child_weight=0.8564559592985012, subsample=0.9312631085534873; total time=   1.0s\n",
      "[CV] END colsample_bytree=0.9920635658469488, gamma=0.23795314880124574, learning_rate=0.045120344999247546, max_depth=4, min_child_weight=0.8564559592985012, subsample=0.9312631085534873; total time=   1.1s\n",
      "[CV] END colsample_bytree=0.9920635658469488, gamma=0.23795314880124574, learning_rate=0.045120344999247546, max_depth=4, min_child_weight=0.8564559592985012, subsample=0.9312631085534873; total time=   1.1s\n",
      "[CV] END colsample_bytree=0.9920635658469488, gamma=0.23795314880124574, learning_rate=0.045120344999247546, max_depth=4, min_child_weight=0.8564559592985012, subsample=0.9312631085534873; total time=   1.1s\n",
      "[CV] END colsample_bytree=0.9920635658469488, gamma=0.23795314880124574, learning_rate=0.045120344999247546, max_depth=4, min_child_weight=0.8564559592985012, subsample=0.9312631085534873; total time=   1.2s\n",
      "[CV] END colsample_bytree=0.5976876011780983, gamma=0.16010614435345238, learning_rate=0.011701243327428227, max_depth=5, min_child_weight=0.4269831454693602, subsample=0.9601774969587682; total time=   0.9s\n",
      "[CV] END colsample_bytree=0.5976876011780983, gamma=0.16010614435345238, learning_rate=0.011701243327428227, max_depth=5, min_child_weight=0.4269831454693602, subsample=0.9601774969587682; total time=   0.9s\n",
      "[CV] END colsample_bytree=0.5976876011780983, gamma=0.16010614435345238, learning_rate=0.011701243327428227, max_depth=5, min_child_weight=0.4269831454693602, subsample=0.9601774969587682; total time=   0.9s\n",
      "[CV] END colsample_bytree=0.5976876011780983, gamma=0.16010614435345238, learning_rate=0.011701243327428227, max_depth=5, min_child_weight=0.4269831454693602, subsample=0.9601774969587682; total time=   0.9s\n",
      "[CV] END colsample_bytree=0.5976876011780983, gamma=0.16010614435345238, learning_rate=0.011701243327428227, max_depth=5, min_child_weight=0.4269831454693602, subsample=0.9601774969587682; total time=   0.9s\n",
      "[CV] END colsample_bytree=0.8685657904209596, gamma=0.8417941062780444, learning_rate=0.1048583006122004, max_depth=5, min_child_weight=0.13335084997795965, subsample=0.7939750024314409; total time=   1.3s\n",
      "[CV] END colsample_bytree=0.868757679331225, gamma=0.7607233427820498, learning_rate=0.08132772934011617, max_depth=14, min_child_weight=0.813439183511019, subsample=0.7618642418407017; total time=   3.7s\n",
      "[CV] END colsample_bytree=0.8685657904209596, gamma=0.8417941062780444, learning_rate=0.1048583006122004, max_depth=5, min_child_weight=0.13335084997795965, subsample=0.7939750024314409; total time=   1.3s\n",
      "[CV] END colsample_bytree=0.868757679331225, gamma=0.7607233427820498, learning_rate=0.08132772934011617, max_depth=14, min_child_weight=0.813439183511019, subsample=0.7618642418407017; total time=   4.0s\n",
      "[CV] END colsample_bytree=0.868757679331225, gamma=0.7607233427820498, learning_rate=0.08132772934011617, max_depth=14, min_child_weight=0.813439183511019, subsample=0.7618642418407017; total time=   4.1s\n",
      "[CV] END colsample_bytree=0.868757679331225, gamma=0.7607233427820498, learning_rate=0.08132772934011617, max_depth=14, min_child_weight=0.813439183511019, subsample=0.7618642418407017; total time=   4.1s\n",
      "[CV] END colsample_bytree=0.8685657904209596, gamma=0.8417941062780444, learning_rate=0.1048583006122004, max_depth=5, min_child_weight=0.13335084997795965, subsample=0.7939750024314409; total time=   1.3s\n",
      "[CV] END colsample_bytree=0.868757679331225, gamma=0.7607233427820498, learning_rate=0.08132772934011617, max_depth=14, min_child_weight=0.813439183511019, subsample=0.7618642418407017; total time=   4.0s\n",
      "[CV] END colsample_bytree=0.8685657904209596, gamma=0.8417941062780444, learning_rate=0.1048583006122004, max_depth=5, min_child_weight=0.13335084997795965, subsample=0.7939750024314409; total time=   1.3s\n",
      "[CV] END colsample_bytree=0.8685657904209596, gamma=0.8417941062780444, learning_rate=0.1048583006122004, max_depth=5, min_child_weight=0.13335084997795965, subsample=0.7939750024314409; total time=   1.3s\n",
      "[CV] END colsample_bytree=0.5452364214505775, gamma=0.2839790611352927, learning_rate=0.03698661555781844, max_depth=5, min_child_weight=0.7695391225828379, subsample=0.9334093326382076; total time=   0.9s\n",
      "[CV] END colsample_bytree=0.5452364214505775, gamma=0.2839790611352927, learning_rate=0.03698661555781844, max_depth=5, min_child_weight=0.7695391225828379, subsample=0.9334093326382076; total time=   0.9s\n",
      "[CV] END colsample_bytree=0.5452364214505775, gamma=0.2839790611352927, learning_rate=0.03698661555781844, max_depth=5, min_child_weight=0.7695391225828379, subsample=0.9334093326382076; total time=   0.8s\n",
      "[CV] END colsample_bytree=0.5452364214505775, gamma=0.2839790611352927, learning_rate=0.03698661555781844, max_depth=5, min_child_weight=0.7695391225828379, subsample=0.9334093326382076; total time=   0.8s\n",
      "[CV] END colsample_bytree=0.5452364214505775, gamma=0.2839790611352927, learning_rate=0.03698661555781844, max_depth=5, min_child_weight=0.7695391225828379, subsample=0.9334093326382076; total time=   0.8s\n",
      "[CV] END colsample_bytree=0.6252867327248994, gamma=0.64550997251242, learning_rate=0.03859150923215872, max_depth=5, min_child_weight=0.9514782769305148, subsample=0.5721481998709481; total time=   1.0s\n",
      "[CV] END colsample_bytree=0.5862025420944497, gamma=0.30351466423027595, learning_rate=0.08277338533979363, max_depth=7, min_child_weight=0.18502645791955719, subsample=0.6663606300436422; total time=   1.3s\n",
      "[CV] END colsample_bytree=0.5862025420944497, gamma=0.30351466423027595, learning_rate=0.08277338533979363, max_depth=7, min_child_weight=0.18502645791955719, subsample=0.6663606300436422; total time=   1.3s\n",
      "[CV] END colsample_bytree=0.5862025420944497, gamma=0.30351466423027595, learning_rate=0.08277338533979363, max_depth=7, min_child_weight=0.18502645791955719, subsample=0.6663606300436422; total time=   1.4s\n",
      "[CV] END colsample_bytree=0.5862025420944497, gamma=0.30351466423027595, learning_rate=0.08277338533979363, max_depth=7, min_child_weight=0.18502645791955719, subsample=0.6663606300436422; total time=   1.4s\n",
      "[CV] END colsample_bytree=0.6252867327248994, gamma=0.64550997251242, learning_rate=0.03859150923215872, max_depth=5, min_child_weight=0.9514782769305148, subsample=0.5721481998709481; total time=   1.1s\n",
      "[CV] END colsample_bytree=0.5862025420944497, gamma=0.30351466423027595, learning_rate=0.08277338533979363, max_depth=7, min_child_weight=0.18502645791955719, subsample=0.6663606300436422; total time=   1.4s\n",
      "[CV] END colsample_bytree=0.6252867327248994, gamma=0.64550997251242, learning_rate=0.03859150923215872, max_depth=5, min_child_weight=0.9514782769305148, subsample=0.5721481998709481; total time=   1.1s\n",
      "[CV] END colsample_bytree=0.6252867327248994, gamma=0.64550997251242, learning_rate=0.03859150923215872, max_depth=5, min_child_weight=0.9514782769305148, subsample=0.5721481998709481; total time=   1.1s\n",
      "[CV] END colsample_bytree=0.6252867327248994, gamma=0.64550997251242, learning_rate=0.03859150923215872, max_depth=5, min_child_weight=0.9514782769305148, subsample=0.5721481998709481; total time=   1.1s\n",
      "[CV] END colsample_bytree=0.665352891215971, gamma=0.8773728025337931, learning_rate=0.07588991979944905, max_depth=6, min_child_weight=0.9308724306212122, subsample=0.782345887227758; total time=   1.1s\n",
      "[CV] END colsample_bytree=0.665352891215971, gamma=0.8773728025337931, learning_rate=0.07588991979944905, max_depth=6, min_child_weight=0.9308724306212122, subsample=0.782345887227758; total time=   1.2s\n",
      "[CV] END colsample_bytree=0.665352891215971, gamma=0.8773728025337931, learning_rate=0.07588991979944905, max_depth=6, min_child_weight=0.9308724306212122, subsample=0.782345887227758; total time=   1.2s\n",
      "[CV] END colsample_bytree=0.665352891215971, gamma=0.8773728025337931, learning_rate=0.07588991979944905, max_depth=6, min_child_weight=0.9308724306212122, subsample=0.782345887227758; total time=   1.3s\n",
      "[CV] END colsample_bytree=0.665352891215971, gamma=0.8773728025337931, learning_rate=0.07588991979944905, max_depth=6, min_child_weight=0.9308724306212122, subsample=0.782345887227758; total time=   1.2s\n",
      "[CV] END colsample_bytree=0.6379515416574212, gamma=0.5191648429277556, learning_rate=0.07530974758595663, max_depth=4, min_child_weight=0.08929399275927075, subsample=0.704808928096876; total time=   0.8s\n",
      "[CV] END colsample_bytree=0.6379515416574212, gamma=0.5191648429277556, learning_rate=0.07530974758595663, max_depth=4, min_child_weight=0.08929399275927075, subsample=0.704808928096876; total time=   0.9s\n",
      "[CV] END colsample_bytree=0.6379515416574212, gamma=0.5191648429277556, learning_rate=0.07530974758595663, max_depth=4, min_child_weight=0.08929399275927075, subsample=0.704808928096876; total time=   0.8s\n",
      "[CV] END colsample_bytree=0.6379515416574212, gamma=0.5191648429277556, learning_rate=0.07530974758595663, max_depth=4, min_child_weight=0.08929399275927075, subsample=0.704808928096876; total time=   0.8s\n",
      "[CV] END colsample_bytree=0.6379515416574212, gamma=0.5191648429277556, learning_rate=0.07530974758595663, max_depth=4, min_child_weight=0.08929399275927075, subsample=0.704808928096876; total time=   0.8s\n",
      "[CV] END colsample_bytree=0.8710943729121244, gamma=0.7768181489813225, learning_rate=0.10276458237202572, max_depth=10, min_child_weight=0.808075956101908, subsample=0.6705643997563895; total time=   2.8s\n",
      "[CV] END colsample_bytree=0.8710943729121244, gamma=0.7768181489813225, learning_rate=0.10276458237202572, max_depth=10, min_child_weight=0.808075956101908, subsample=0.6705643997563895; total time=   2.8s\n",
      "[CV] END colsample_bytree=0.8710943729121244, gamma=0.7768181489813225, learning_rate=0.10276458237202572, max_depth=10, min_child_weight=0.808075956101908, subsample=0.6705643997563895; total time=   3.0s\n",
      "[CV] END colsample_bytree=0.8710943729121244, gamma=0.7768181489813225, learning_rate=0.10276458237202572, max_depth=10, min_child_weight=0.808075956101908, subsample=0.6705643997563895; total time=   2.8s\n",
      "[CV] END colsample_bytree=0.8710943729121244, gamma=0.7768181489813225, learning_rate=0.10276458237202572, max_depth=10, min_child_weight=0.808075956101908, subsample=0.6705643997563895; total time=   2.8s\n",
      "[CV] END colsample_bytree=0.5456555155356009, gamma=0.4860058062241791, learning_rate=0.016513135624696865, max_depth=13, min_child_weight=0.27780235330124103, subsample=0.7001724597048085; total time=   2.5s\n",
      "[CV] END colsample_bytree=0.5456555155356009, gamma=0.4860058062241791, learning_rate=0.016513135624696865, max_depth=13, min_child_weight=0.27780235330124103, subsample=0.7001724597048085; total time=   2.5s\n",
      "[CV] END colsample_bytree=0.5456555155356009, gamma=0.4860058062241791, learning_rate=0.016513135624696865, max_depth=13, min_child_weight=0.27780235330124103, subsample=0.7001724597048085; total time=   2.6s\n",
      "[CV] END colsample_bytree=0.5456555155356009, gamma=0.4860058062241791, learning_rate=0.016513135624696865, max_depth=13, min_child_weight=0.27780235330124103, subsample=0.7001724597048085; total time=   2.5s\n",
      "[CV] END colsample_bytree=0.5456555155356009, gamma=0.4860058062241791, learning_rate=0.016513135624696865, max_depth=13, min_child_weight=0.27780235330124103, subsample=0.7001724597048085; total time=   2.6s\n",
      "[CV] END colsample_bytree=0.8515205880677381, gamma=0.026832165555256915, learning_rate=0.1089924407855856, max_depth=10, min_child_weight=0.759093111732385, subsample=0.8085107514034238; total time=   2.4s\n",
      "[CV] END colsample_bytree=0.8515205880677381, gamma=0.026832165555256915, learning_rate=0.1089924407855856, max_depth=10, min_child_weight=0.759093111732385, subsample=0.8085107514034238; total time=   2.5s\n",
      "[CV] END colsample_bytree=0.8515205880677381, gamma=0.026832165555256915, learning_rate=0.1089924407855856, max_depth=10, min_child_weight=0.759093111732385, subsample=0.8085107514034238; total time=   2.5s\n",
      "[CV] END colsample_bytree=0.8515205880677381, gamma=0.026832165555256915, learning_rate=0.1089924407855856, max_depth=10, min_child_weight=0.759093111732385, subsample=0.8085107514034238; total time=   2.6s\n",
      "[CV] END colsample_bytree=0.8515205880677381, gamma=0.026832165555256915, learning_rate=0.1089924407855856, max_depth=10, min_child_weight=0.759093111732385, subsample=0.8085107514034238; total time=   2.6s\n",
      "[CV] END colsample_bytree=0.8109987891907278, gamma=0.6416124779045235, learning_rate=0.10073028771077094, max_depth=11, min_child_weight=0.9348171281174004, subsample=0.6147650709306304; total time=   2.7s\n",
      "[CV] END colsample_bytree=0.8109987891907278, gamma=0.6416124779045235, learning_rate=0.10073028771077094, max_depth=11, min_child_weight=0.9348171281174004, subsample=0.6147650709306304; total time=   2.8s\n",
      "[CV] END colsample_bytree=0.8109987891907278, gamma=0.6416124779045235, learning_rate=0.10073028771077094, max_depth=11, min_child_weight=0.9348171281174004, subsample=0.6147650709306304; total time=   2.9s\n",
      "[CV] END colsample_bytree=0.8109987891907278, gamma=0.6416124779045235, learning_rate=0.10073028771077094, max_depth=11, min_child_weight=0.9348171281174004, subsample=0.6147650709306304; total time=   2.9s\n",
      "[CV] END colsample_bytree=0.8109987891907278, gamma=0.6416124779045235, learning_rate=0.10073028771077094, max_depth=11, min_child_weight=0.9348171281174004, subsample=0.6147650709306304; total time=   2.8s\n",
      "[CV] END colsample_bytree=0.8250817073248724, gamma=0.9503446101462971, learning_rate=0.05956425686567626, max_depth=4, min_child_weight=0.4954637507524273, subsample=0.7777520006318519; total time=   1.0s\n",
      "[CV] END colsample_bytree=0.8250817073248724, gamma=0.9503446101462971, learning_rate=0.05956425686567626, max_depth=4, min_child_weight=0.4954637507524273, subsample=0.7777520006318519; total time=   1.0s\n",
      "[CV] END colsample_bytree=0.8250817073248724, gamma=0.9503446101462971, learning_rate=0.05956425686567626, max_depth=4, min_child_weight=0.4954637507524273, subsample=0.7777520006318519; total time=   0.9s\n",
      "[CV] END colsample_bytree=0.8250817073248724, gamma=0.9503446101462971, learning_rate=0.05956425686567626, max_depth=4, min_child_weight=0.4954637507524273, subsample=0.7777520006318519; total time=   1.0s\n",
      "[CV] END colsample_bytree=0.8250817073248724, gamma=0.9503446101462971, learning_rate=0.05956425686567626, max_depth=4, min_child_weight=0.4954637507524273, subsample=0.7777520006318519; total time=   1.0s\n",
      "[CV] END colsample_bytree=0.9702622562949789, gamma=0.9705809802419636, learning_rate=0.05358572948400533, max_depth=14, min_child_weight=0.6746238649261284, subsample=0.8192649604492612; total time=   4.2s\n",
      "[CV] END colsample_bytree=0.9702622562949789, gamma=0.9705809802419636, learning_rate=0.05358572948400533, max_depth=14, min_child_weight=0.6746238649261284, subsample=0.8192649604492612; total time=   4.2s\n",
      "[CV] END colsample_bytree=0.9702622562949789, gamma=0.9705809802419636, learning_rate=0.05358572948400533, max_depth=14, min_child_weight=0.6746238649261284, subsample=0.8192649604492612; total time=   4.2s\n",
      "[CV] END colsample_bytree=0.9702622562949789, gamma=0.9705809802419636, learning_rate=0.05358572948400533, max_depth=14, min_child_weight=0.6746238649261284, subsample=0.8192649604492612; total time=   4.3s\n",
      "[CV] END colsample_bytree=0.9702622562949789, gamma=0.9705809802419636, learning_rate=0.05358572948400533, max_depth=14, min_child_weight=0.6746238649261284, subsample=0.8192649604492612; total time=   4.2s\n",
      "[CV] END colsample_bytree=0.5857407314217666, gamma=0.06239875963949615, learning_rate=0.06891241194892639, max_depth=8, min_child_weight=0.6508235743133339, subsample=0.5528471293519723; total time=   1.5s\n",
      "[CV] END colsample_bytree=0.5857407314217666, gamma=0.06239875963949615, learning_rate=0.06891241194892639, max_depth=8, min_child_weight=0.6508235743133339, subsample=0.5528471293519723; total time=   1.5s\n",
      "[CV] END colsample_bytree=0.5857407314217666, gamma=0.06239875963949615, learning_rate=0.06891241194892639, max_depth=8, min_child_weight=0.6508235743133339, subsample=0.5528471293519723; total time=   1.6s\n",
      "[CV] END colsample_bytree=0.5857407314217666, gamma=0.06239875963949615, learning_rate=0.06891241194892639, max_depth=8, min_child_weight=0.6508235743133339, subsample=0.5528471293519723; total time=   1.5s\n",
      "[CV] END colsample_bytree=0.5857407314217666, gamma=0.06239875963949615, learning_rate=0.06891241194892639, max_depth=8, min_child_weight=0.6508235743133339, subsample=0.5528471293519723; total time=   1.5s\n",
      "[CV] END colsample_bytree=0.6450857057360868, gamma=0.7685722024338394, learning_rate=0.09786258512277685, max_depth=3, min_child_weight=0.5818124103895183, subsample=0.7399435224567039; total time=   0.6s\n",
      "[CV] END colsample_bytree=0.6450857057360868, gamma=0.7685722024338394, learning_rate=0.09786258512277685, max_depth=3, min_child_weight=0.5818124103895183, subsample=0.7399435224567039; total time=   0.6s\n",
      "[CV] END colsample_bytree=0.6450857057360868, gamma=0.7685722024338394, learning_rate=0.09786258512277685, max_depth=3, min_child_weight=0.5818124103895183, subsample=0.7399435224567039; total time=   0.6s\n",
      "[CV] END colsample_bytree=0.6450857057360868, gamma=0.7685722024338394, learning_rate=0.09786258512277685, max_depth=3, min_child_weight=0.5818124103895183, subsample=0.7399435224567039; total time=   0.6s\n",
      "[CV] END colsample_bytree=0.6450857057360868, gamma=0.7685722024338394, learning_rate=0.09786258512277685, max_depth=3, min_child_weight=0.5818124103895183, subsample=0.7399435224567039; total time=   0.7s\n",
      "[CV] END colsample_bytree=0.925293536396534, gamma=0.8862673241175024, learning_rate=0.09250653637290326, max_depth=13, min_child_weight=0.43339670326224744, subsample=0.5218007464006045; total time=   3.9s\n",
      "[CV] END colsample_bytree=0.925293536396534, gamma=0.8862673241175024, learning_rate=0.09250653637290326, max_depth=13, min_child_weight=0.43339670326224744, subsample=0.5218007464006045; total time=   4.1s\n",
      "[CV] END colsample_bytree=0.925293536396534, gamma=0.8862673241175024, learning_rate=0.09250653637290326, max_depth=13, min_child_weight=0.43339670326224744, subsample=0.5218007464006045; total time=   3.8s\n",
      "[CV] END colsample_bytree=0.925293536396534, gamma=0.8862673241175024, learning_rate=0.09250653637290326, max_depth=13, min_child_weight=0.43339670326224744, subsample=0.5218007464006045; total time=   3.9s\n",
      "[CV] END colsample_bytree=0.925293536396534, gamma=0.8862673241175024, learning_rate=0.09250653637290326, max_depth=13, min_child_weight=0.43339670326224744, subsample=0.5218007464006045; total time=   4.0s\n",
      "[CV] END colsample_bytree=0.8396657808880009, gamma=0.9495580127418495, learning_rate=0.10128447953706697, max_depth=4, min_child_weight=0.18289187929894946, subsample=0.9354032215918475; total time=   0.9s\n",
      "[CV] END colsample_bytree=0.8396657808880009, gamma=0.9495580127418495, learning_rate=0.10128447953706697, max_depth=4, min_child_weight=0.18289187929894946, subsample=0.9354032215918475; total time=   0.9s\n",
      "[CV] END colsample_bytree=0.8396657808880009, gamma=0.9495580127418495, learning_rate=0.10128447953706697, max_depth=4, min_child_weight=0.18289187929894946, subsample=0.9354032215918475; total time=   0.9s\n",
      "[CV] END colsample_bytree=0.8396657808880009, gamma=0.9495580127418495, learning_rate=0.10128447953706697, max_depth=4, min_child_weight=0.18289187929894946, subsample=0.9354032215918475; total time=   1.0s\n",
      "[CV] END colsample_bytree=0.8396657808880009, gamma=0.9495580127418495, learning_rate=0.10128447953706697, max_depth=4, min_child_weight=0.18289187929894946, subsample=0.9354032215918475; total time=   0.9s\n",
      "[CV] END colsample_bytree=0.9962748207163614, gamma=0.47999767285177186, learning_rate=0.01136332145863769, max_depth=10, min_child_weight=0.23685023510524905, subsample=0.728395007553762; total time=   3.0s\n",
      "[CV] END colsample_bytree=0.9962748207163614, gamma=0.47999767285177186, learning_rate=0.01136332145863769, max_depth=10, min_child_weight=0.23685023510524905, subsample=0.728395007553762; total time=   3.0s\n",
      "[CV] END colsample_bytree=0.9962748207163614, gamma=0.47999767285177186, learning_rate=0.01136332145863769, max_depth=10, min_child_weight=0.23685023510524905, subsample=0.728395007553762; total time=   3.0s\n",
      "[CV] END colsample_bytree=0.9962748207163614, gamma=0.47999767285177186, learning_rate=0.01136332145863769, max_depth=10, min_child_weight=0.23685023510524905, subsample=0.728395007553762; total time=   2.9s\n",
      "[CV] END colsample_bytree=0.9962748207163614, gamma=0.47999767285177186, learning_rate=0.01136332145863769, max_depth=10, min_child_weight=0.23685023510524905, subsample=0.728395007553762; total time=   3.0s\n",
      "[CV] END colsample_bytree=0.9322880384003807, gamma=0.48731108906862675, learning_rate=0.03459906632375442, max_depth=4, min_child_weight=0.873297795305808, subsample=0.5121445479204008; total time=   1.2s\n",
      "[CV] END colsample_bytree=0.9322880384003807, gamma=0.48731108906862675, learning_rate=0.03459906632375442, max_depth=4, min_child_weight=0.873297795305808, subsample=0.5121445479204008; total time=   1.2s\n",
      "[CV] END colsample_bytree=0.9322880384003807, gamma=0.48731108906862675, learning_rate=0.03459906632375442, max_depth=4, min_child_weight=0.873297795305808, subsample=0.5121445479204008; total time=   1.2s\n",
      "[CV] END colsample_bytree=0.9322880384003807, gamma=0.48731108906862675, learning_rate=0.03459906632375442, max_depth=4, min_child_weight=0.873297795305808, subsample=0.5121445479204008; total time=   1.1s\n",
      "[CV] END colsample_bytree=0.9322880384003807, gamma=0.48731108906862675, learning_rate=0.03459906632375442, max_depth=4, min_child_weight=0.873297795305808, subsample=0.5121445479204008; total time=   1.1s\n",
      "[CV] END colsample_bytree=0.9350260912973876, gamma=0.5958952968688728, learning_rate=0.028648972622863658, max_depth=11, min_child_weight=0.8928866285595101, subsample=0.57989371349453; total time=   3.2s\n",
      "[CV] END colsample_bytree=0.9350260912973876, gamma=0.5958952968688728, learning_rate=0.028648972622863658, max_depth=11, min_child_weight=0.8928866285595101, subsample=0.57989371349453; total time=   3.1s\n",
      "[CV] END colsample_bytree=0.9350260912973876, gamma=0.5958952968688728, learning_rate=0.028648972622863658, max_depth=11, min_child_weight=0.8928866285595101, subsample=0.57989371349453; total time=   3.3s\n",
      "[CV] END colsample_bytree=0.9350260912973876, gamma=0.5958952968688728, learning_rate=0.028648972622863658, max_depth=11, min_child_weight=0.8928866285595101, subsample=0.57989371349453; total time=   3.3s\n",
      "[CV] END colsample_bytree=0.9350260912973876, gamma=0.5958952968688728, learning_rate=0.028648972622863658, max_depth=11, min_child_weight=0.8928866285595101, subsample=0.57989371349453; total time=   3.3s\n",
      "[CV] END colsample_bytree=0.8050884490176353, gamma=0.3212650792539735, learning_rate=0.09484797205483539, max_depth=8, min_child_weight=0.2062256912372007, subsample=0.5617821624482735; total time=   1.9s\n",
      "[CV] END colsample_bytree=0.8050884490176353, gamma=0.3212650792539735, learning_rate=0.09484797205483539, max_depth=8, min_child_weight=0.2062256912372007, subsample=0.5617821624482735; total time=   2.0s\n",
      "[CV] END colsample_bytree=0.8050884490176353, gamma=0.3212650792539735, learning_rate=0.09484797205483539, max_depth=8, min_child_weight=0.2062256912372007, subsample=0.5617821624482735; total time=   2.1s\n",
      "[CV] END colsample_bytree=0.8050884490176353, gamma=0.3212650792539735, learning_rate=0.09484797205483539, max_depth=8, min_child_weight=0.2062256912372007, subsample=0.5617821624482735; total time=   2.0s\n",
      "[CV] END colsample_bytree=0.8050884490176353, gamma=0.3212650792539735, learning_rate=0.09484797205483539, max_depth=8, min_child_weight=0.2062256912372007, subsample=0.5617821624482735; total time=   2.0s\n",
      "[CV] END colsample_bytree=0.6165079251169612, gamma=0.34299538264237117, learning_rate=0.07460620845024192, max_depth=9, min_child_weight=0.4867913058155223, subsample=0.7956516581791434; total time=   1.8s\n",
      "[CV] END colsample_bytree=0.6165079251169612, gamma=0.34299538264237117, learning_rate=0.07460620845024192, max_depth=9, min_child_weight=0.4867913058155223, subsample=0.7956516581791434; total time=   1.7s\n",
      "[CV] END colsample_bytree=0.6165079251169612, gamma=0.34299538264237117, learning_rate=0.07460620845024192, max_depth=9, min_child_weight=0.4867913058155223, subsample=0.7956516581791434; total time=   1.7s\n",
      "[CV] END colsample_bytree=0.6165079251169612, gamma=0.34299538264237117, learning_rate=0.07460620845024192, max_depth=9, min_child_weight=0.4867913058155223, subsample=0.7956516581791434; total time=   1.7s\n",
      "[CV] END colsample_bytree=0.6165079251169612, gamma=0.34299538264237117, learning_rate=0.07460620845024192, max_depth=9, min_child_weight=0.4867913058155223, subsample=0.7956516581791434; total time=   1.7s\n",
      "[CV] END colsample_bytree=0.5171317263303701, gamma=0.2795625224603525, learning_rate=0.0824431292334074, max_depth=8, min_child_weight=0.067150959573551, subsample=0.7779522586767869; total time=   1.3s\n",
      "[CV] END colsample_bytree=0.5171317263303701, gamma=0.2795625224603525, learning_rate=0.0824431292334074, max_depth=8, min_child_weight=0.067150959573551, subsample=0.7779522586767869; total time=   1.3s\n",
      "[CV] END colsample_bytree=0.5171317263303701, gamma=0.2795625224603525, learning_rate=0.0824431292334074, max_depth=8, min_child_weight=0.067150959573551, subsample=0.7779522586767869; total time=   1.3s\n",
      "[CV] END colsample_bytree=0.5171317263303701, gamma=0.2795625224603525, learning_rate=0.0824431292334074, max_depth=8, min_child_weight=0.067150959573551, subsample=0.7779522586767869; total time=   1.4s\n",
      "[CV] END colsample_bytree=0.545612666667344, gamma=0.2649732362001226, learning_rate=0.10169888264626736, max_depth=13, min_child_weight=0.8414625999634537, subsample=0.6032150598081392; total time=   2.5s\n",
      "[CV] END colsample_bytree=0.5171317263303701, gamma=0.2795625224603525, learning_rate=0.0824431292334074, max_depth=8, min_child_weight=0.067150959573551, subsample=0.7779522586767869; total time=   1.3s\n",
      "[CV] END colsample_bytree=0.545612666667344, gamma=0.2649732362001226, learning_rate=0.10169888264626736, max_depth=13, min_child_weight=0.8414625999634537, subsample=0.6032150598081392; total time=   2.6s\n",
      "[CV] END colsample_bytree=0.545612666667344, gamma=0.2649732362001226, learning_rate=0.10169888264626736, max_depth=13, min_child_weight=0.8414625999634537, subsample=0.6032150598081392; total time=   2.6s\n",
      "[CV] END colsample_bytree=0.545612666667344, gamma=0.2649732362001226, learning_rate=0.10169888264626736, max_depth=13, min_child_weight=0.8414625999634537, subsample=0.6032150598081392; total time=   2.6s\n",
      "[CV] END colsample_bytree=0.545612666667344, gamma=0.2649732362001226, learning_rate=0.10169888264626736, max_depth=13, min_child_weight=0.8414625999634537, subsample=0.6032150598081392; total time=   2.6s\n",
      "[CV] END colsample_bytree=0.7335295902297644, gamma=0.6535544084748975, learning_rate=0.09046238803675727, max_depth=8, min_child_weight=0.898657519722195, subsample=0.6900856900895505; total time=   1.7s\n",
      "[CV] END colsample_bytree=0.9104487960111612, gamma=0.3600775559327809, learning_rate=0.03531581461849458, max_depth=4, min_child_weight=0.23876777883436517, subsample=0.5595847272044536; total time=   1.1s\n",
      "[CV] END colsample_bytree=0.9104487960111612, gamma=0.3600775559327809, learning_rate=0.03531581461849458, max_depth=4, min_child_weight=0.23876777883436517, subsample=0.5595847272044536; total time=   1.1s\n",
      "[CV] END colsample_bytree=0.9104487960111612, gamma=0.3600775559327809, learning_rate=0.03531581461849458, max_depth=4, min_child_weight=0.23876777883436517, subsample=0.5595847272044536; total time=   1.1s\n",
      "[CV] END colsample_bytree=0.7335295902297644, gamma=0.6535544084748975, learning_rate=0.09046238803675727, max_depth=8, min_child_weight=0.898657519722195, subsample=0.6900856900895505; total time=   1.9s\n",
      "[CV] END colsample_bytree=0.9104487960111612, gamma=0.3600775559327809, learning_rate=0.03531581461849458, max_depth=4, min_child_weight=0.23876777883436517, subsample=0.5595847272044536; total time=   1.1s\n",
      "[CV] END colsample_bytree=0.9104487960111612, gamma=0.3600775559327809, learning_rate=0.03531581461849458, max_depth=4, min_child_weight=0.23876777883436517, subsample=0.5595847272044536; total time=   1.1s\n",
      "[CV] END colsample_bytree=0.7335295902297644, gamma=0.6535544084748975, learning_rate=0.09046238803675727, max_depth=8, min_child_weight=0.898657519722195, subsample=0.6900856900895505; total time=   1.9s\n",
      "[CV] END colsample_bytree=0.5045670278722967, gamma=0.2761624116185448, learning_rate=0.07448421050402307, max_depth=3, min_child_weight=0.18627312649589867, subsample=0.706974094019977; total time=   0.6s\n",
      "[CV] END colsample_bytree=0.5045670278722967, gamma=0.2761624116185448, learning_rate=0.07448421050402307, max_depth=3, min_child_weight=0.18627312649589867, subsample=0.706974094019977; total time=   0.5s\n",
      "[CV] END colsample_bytree=0.7335295902297644, gamma=0.6535544084748975, learning_rate=0.09046238803675727, max_depth=8, min_child_weight=0.898657519722195, subsample=0.6900856900895505; total time=   1.9s\n",
      "[CV] END colsample_bytree=0.5045670278722967, gamma=0.2761624116185448, learning_rate=0.07448421050402307, max_depth=3, min_child_weight=0.18627312649589867, subsample=0.706974094019977; total time=   0.6s\n",
      "[CV] END colsample_bytree=0.5045670278722967, gamma=0.2761624116185448, learning_rate=0.07448421050402307, max_depth=3, min_child_weight=0.18627312649589867, subsample=0.706974094019977; total time=   0.6s\n",
      "[CV] END colsample_bytree=0.7335295902297644, gamma=0.6535544084748975, learning_rate=0.09046238803675727, max_depth=8, min_child_weight=0.898657519722195, subsample=0.6900856900895505; total time=   2.0s\n",
      "[CV] END colsample_bytree=0.5045670278722967, gamma=0.2761624116185448, learning_rate=0.07448421050402307, max_depth=3, min_child_weight=0.18627312649589867, subsample=0.706974094019977; total time=   0.5s\n",
      "[CV] END colsample_bytree=0.7192361950232216, gamma=0.12263844960238479, learning_rate=0.09592226403320891, max_depth=4, min_child_weight=0.3111771056542554, subsample=0.8433308668083896; total time=   0.9s\n",
      "[CV] END colsample_bytree=0.7192361950232216, gamma=0.12263844960238479, learning_rate=0.09592226403320891, max_depth=4, min_child_weight=0.3111771056542554, subsample=0.8433308668083896; total time=   0.9s\n",
      "[CV] END colsample_bytree=0.7192361950232216, gamma=0.12263844960238479, learning_rate=0.09592226403320891, max_depth=4, min_child_weight=0.3111771056542554, subsample=0.8433308668083896; total time=   0.9s\n",
      "[CV] END colsample_bytree=0.7192361950232216, gamma=0.12263844960238479, learning_rate=0.09592226403320891, max_depth=4, min_child_weight=0.3111771056542554, subsample=0.8433308668083896; total time=   0.9s\n",
      "[CV] END colsample_bytree=0.7192361950232216, gamma=0.12263844960238479, learning_rate=0.09592226403320891, max_depth=4, min_child_weight=0.3111771056542554, subsample=0.8433308668083896; total time=   0.9s\n",
      "[CV] END colsample_bytree=0.9111032581947136, gamma=0.43105436030404065, learning_rate=0.09936105712024032, max_depth=5, min_child_weight=0.8625894017234167, subsample=0.8725970579010417; total time=   1.4s\n",
      "[CV] END colsample_bytree=0.9111032581947136, gamma=0.43105436030404065, learning_rate=0.09936105712024032, max_depth=5, min_child_weight=0.8625894017234167, subsample=0.8725970579010417; total time=   1.3s\n",
      "[CV] END colsample_bytree=0.9111032581947136, gamma=0.43105436030404065, learning_rate=0.09936105712024032, max_depth=5, min_child_weight=0.8625894017234167, subsample=0.8725970579010417; total time=   1.3s\n",
      "[CV] END colsample_bytree=0.9111032581947136, gamma=0.43105436030404065, learning_rate=0.09936105712024032, max_depth=5, min_child_weight=0.8625894017234167, subsample=0.8725970579010417; total time=   1.3s\n",
      "[CV] END colsample_bytree=0.9111032581947136, gamma=0.43105436030404065, learning_rate=0.09936105712024032, max_depth=5, min_child_weight=0.8625894017234167, subsample=0.8725970579010417; total time=   1.3s\n",
      "[CV] END colsample_bytree=0.6218813781047836, gamma=0.40593171848654575, learning_rate=0.10443240101907618, max_depth=4, min_child_weight=0.2118887802563364, subsample=0.961497477258868; total time=   0.8s\n",
      "[CV] END colsample_bytree=0.6218813781047836, gamma=0.40593171848654575, learning_rate=0.10443240101907618, max_depth=4, min_child_weight=0.2118887802563364, subsample=0.961497477258868; total time=   0.8s\n",
      "[CV] END colsample_bytree=0.6218813781047836, gamma=0.40593171848654575, learning_rate=0.10443240101907618, max_depth=4, min_child_weight=0.2118887802563364, subsample=0.961497477258868; total time=   0.7s\n",
      "[CV] END colsample_bytree=0.6218813781047836, gamma=0.40593171848654575, learning_rate=0.10443240101907618, max_depth=4, min_child_weight=0.2118887802563364, subsample=0.961497477258868; total time=   0.7s\n",
      "[CV] END colsample_bytree=0.6218813781047836, gamma=0.40593171848654575, learning_rate=0.10443240101907618, max_depth=4, min_child_weight=0.2118887802563364, subsample=0.961497477258868; total time=   0.8s\n",
      "[CV] END colsample_bytree=0.9922397235245279, gamma=0.3648814606147075, learning_rate=0.07015091569661577, max_depth=10, min_child_weight=0.49195729370594776, subsample=0.7176036628757627; total time=   3.2s\n",
      "[CV] END colsample_bytree=0.9922397235245279, gamma=0.3648814606147075, learning_rate=0.07015091569661577, max_depth=10, min_child_weight=0.49195729370594776, subsample=0.7176036628757627; total time=   3.2s\n",
      "[CV] END colsample_bytree=0.9922397235245279, gamma=0.3648814606147075, learning_rate=0.07015091569661577, max_depth=10, min_child_weight=0.49195729370594776, subsample=0.7176036628757627; total time=   3.3s\n",
      "[CV] END colsample_bytree=0.9922397235245279, gamma=0.3648814606147075, learning_rate=0.07015091569661577, max_depth=10, min_child_weight=0.49195729370594776, subsample=0.7176036628757627; total time=   3.2s\n",
      "[CV] END colsample_bytree=0.9922397235245279, gamma=0.3648814606147075, learning_rate=0.07015091569661577, max_depth=10, min_child_weight=0.49195729370594776, subsample=0.7176036628757627; total time=   3.2s\n",
      "[CV] END colsample_bytree=0.9746944187446329, gamma=0.40955778466642967, learning_rate=0.10503968661099171, max_depth=4, min_child_weight=0.4844764552514469, subsample=0.7504634779093007; total time=   1.1s\n",
      "[CV] END colsample_bytree=0.9746944187446329, gamma=0.40955778466642967, learning_rate=0.10503968661099171, max_depth=4, min_child_weight=0.4844764552514469, subsample=0.7504634779093007; total time=   1.2s\n",
      "[CV] END colsample_bytree=0.9746944187446329, gamma=0.40955778466642967, learning_rate=0.10503968661099171, max_depth=4, min_child_weight=0.4844764552514469, subsample=0.7504634779093007; total time=   1.2s\n",
      "[CV] END colsample_bytree=0.9746944187446329, gamma=0.40955778466642967, learning_rate=0.10503968661099171, max_depth=4, min_child_weight=0.4844764552514469, subsample=0.7504634779093007; total time=   1.1s\n",
      "[CV] END colsample_bytree=0.9746944187446329, gamma=0.40955778466642967, learning_rate=0.10503968661099171, max_depth=4, min_child_weight=0.4844764552514469, subsample=0.7504634779093007; total time=   1.1s\n",
      "[CV] END colsample_bytree=0.9693113795495023, gamma=0.21904544548534, learning_rate=0.041915118494864484, max_depth=11, min_child_weight=0.2434469297155798, subsample=0.8261473137650516; total time=   3.2s\n",
      "[CV] END colsample_bytree=0.9693113795495023, gamma=0.21904544548534, learning_rate=0.041915118494864484, max_depth=11, min_child_weight=0.2434469297155798, subsample=0.8261473137650516; total time=   3.4s\n",
      "[CV] END colsample_bytree=0.9693113795495023, gamma=0.21904544548534, learning_rate=0.041915118494864484, max_depth=11, min_child_weight=0.2434469297155798, subsample=0.8261473137650516; total time=   3.4s\n",
      "[CV] END colsample_bytree=0.9693113795495023, gamma=0.21904544548534, learning_rate=0.041915118494864484, max_depth=11, min_child_weight=0.2434469297155798, subsample=0.8261473137650516; total time=   3.4s\n",
      "[CV] END colsample_bytree=0.9693113795495023, gamma=0.21904544548534, learning_rate=0.041915118494864484, max_depth=11, min_child_weight=0.2434469297155798, subsample=0.8261473137650516; total time=   3.4s\n",
      "[CV] END colsample_bytree=0.5600720444559063, gamma=0.1850563651617021, learning_rate=0.030853665526038604, max_depth=3, min_child_weight=0.6986379496511026, subsample=0.8394385023297178; total time=   0.6s\n",
      "[CV] END colsample_bytree=0.5600720444559063, gamma=0.1850563651617021, learning_rate=0.030853665526038604, max_depth=3, min_child_weight=0.6986379496511026, subsample=0.8394385023297178; total time=   0.6s\n",
      "[CV] END colsample_bytree=0.8593793871516779, gamma=0.6479234390779335, learning_rate=0.07485054536919888, max_depth=5, min_child_weight=0.6062724848190536, subsample=0.5289645927569478; total time=   1.3s\n",
      "[CV] END colsample_bytree=0.5600720444559063, gamma=0.1850563651617021, learning_rate=0.030853665526038604, max_depth=3, min_child_weight=0.6986379496511026, subsample=0.8394385023297178; total time=   0.5s\n",
      "[CV] END colsample_bytree=0.5600720444559063, gamma=0.1850563651617021, learning_rate=0.030853665526038604, max_depth=3, min_child_weight=0.6986379496511026, subsample=0.8394385023297178; total time=   0.6s\n",
      "[CV] END colsample_bytree=0.5600720444559063, gamma=0.1850563651617021, learning_rate=0.030853665526038604, max_depth=3, min_child_weight=0.6986379496511026, subsample=0.8394385023297178; total time=   0.6s\n",
      "[CV] END colsample_bytree=0.8593793871516779, gamma=0.6479234390779335, learning_rate=0.07485054536919888, max_depth=5, min_child_weight=0.6062724848190536, subsample=0.5289645927569478; total time=   1.3s\n",
      "[CV] END colsample_bytree=0.8593793871516779, gamma=0.6479234390779335, learning_rate=0.07485054536919888, max_depth=5, min_child_weight=0.6062724848190536, subsample=0.5289645927569478; total time=   1.4s\n",
      "[CV] END colsample_bytree=0.8593793871516779, gamma=0.6479234390779335, learning_rate=0.07485054536919888, max_depth=5, min_child_weight=0.6062724848190536, subsample=0.5289645927569478; total time=   1.3s\n",
      "[CV] END colsample_bytree=0.8593793871516779, gamma=0.6479234390779335, learning_rate=0.07485054536919888, max_depth=5, min_child_weight=0.6062724848190536, subsample=0.5289645927569478; total time=   1.3s\n",
      "[CV] END colsample_bytree=0.8108921374242033, gamma=0.3150938271454058, learning_rate=0.10633288196402134, max_depth=9, min_child_weight=0.6370277788999013, subsample=0.8600709661300499; total time=   2.1s\n",
      "[CV] END colsample_bytree=0.8108921374242033, gamma=0.3150938271454058, learning_rate=0.10633288196402134, max_depth=9, min_child_weight=0.6370277788999013, subsample=0.8600709661300499; total time=   2.1s\n",
      "[CV] END colsample_bytree=0.8108921374242033, gamma=0.3150938271454058, learning_rate=0.10633288196402134, max_depth=9, min_child_weight=0.6370277788999013, subsample=0.8600709661300499; total time=   2.1s\n",
      "[CV] END colsample_bytree=0.8108921374242033, gamma=0.3150938271454058, learning_rate=0.10633288196402134, max_depth=9, min_child_weight=0.6370277788999013, subsample=0.8600709661300499; total time=   2.1s\n",
      "[CV] END colsample_bytree=0.8108921374242033, gamma=0.3150938271454058, learning_rate=0.10633288196402134, max_depth=9, min_child_weight=0.6370277788999013, subsample=0.8600709661300499; total time=   2.2s\n",
      "[CV] END colsample_bytree=0.8540874421248147, gamma=0.02510285819473279, learning_rate=0.05877447443526376, max_depth=4, min_child_weight=0.41184136691622575, subsample=0.5570053978777592; total time=   1.0s\n",
      "[CV] END colsample_bytree=0.7612217286568355, gamma=0.31737130200065444, learning_rate=0.08903769704039034, max_depth=11, min_child_weight=0.7394044088451669, subsample=0.5770460137031255; total time=   2.7s\n",
      "[CV] END colsample_bytree=0.7612217286568355, gamma=0.31737130200065444, learning_rate=0.08903769704039034, max_depth=11, min_child_weight=0.7394044088451669, subsample=0.5770460137031255; total time=   2.7s\n",
      "[CV] END colsample_bytree=0.7612217286568355, gamma=0.31737130200065444, learning_rate=0.08903769704039034, max_depth=11, min_child_weight=0.7394044088451669, subsample=0.5770460137031255; total time=   2.7s\n",
      "[CV] END colsample_bytree=0.7612217286568355, gamma=0.31737130200065444, learning_rate=0.08903769704039034, max_depth=11, min_child_weight=0.7394044088451669, subsample=0.5770460137031255; total time=   2.7s\n",
      "[CV] END colsample_bytree=0.7612217286568355, gamma=0.31737130200065444, learning_rate=0.08903769704039034, max_depth=11, min_child_weight=0.7394044088451669, subsample=0.5770460137031255; total time=   2.7s\n",
      "[CV] END colsample_bytree=0.8540874421248147, gamma=0.02510285819473279, learning_rate=0.05877447443526376, max_depth=4, min_child_weight=0.41184136691622575, subsample=0.5570053978777592; total time=   0.9s\n",
      "[CV] END colsample_bytree=0.8540874421248147, gamma=0.02510285819473279, learning_rate=0.05877447443526376, max_depth=4, min_child_weight=0.41184136691622575, subsample=0.5570053978777592; total time=   0.9s\n",
      "[CV] END colsample_bytree=0.8540874421248147, gamma=0.02510285819473279, learning_rate=0.05877447443526376, max_depth=4, min_child_weight=0.41184136691622575, subsample=0.5570053978777592; total time=   1.0s\n",
      "[CV] END colsample_bytree=0.8540874421248147, gamma=0.02510285819473279, learning_rate=0.05877447443526376, max_depth=4, min_child_weight=0.41184136691622575, subsample=0.5570053978777592; total time=   0.9s\n",
      "Fitting 5 folds for each of 50 candidates, totalling 250 fits\n"
     ]
    },
    {
     "name": "stderr",
     "output_type": "stream",
     "text": [
      "/Users/matmang/opt/anaconda3/envs/bert-study/lib/python3.10/site-packages/sklearn/ensemble/_gb.py:437: DataConversionWarning: A column-vector y was passed when a 1d array was expected. Please change the shape of y to (n_samples, ), for example using ravel().\n",
      "  y = column_or_1d(y, warn=True)\n",
      "/Users/matmang/opt/anaconda3/envs/bert-study/lib/python3.10/site-packages/sklearn/ensemble/_gb.py:437: DataConversionWarning: A column-vector y was passed when a 1d array was expected. Please change the shape of y to (n_samples, ), for example using ravel().\n",
      "  y = column_or_1d(y, warn=True)\n",
      "/Users/matmang/opt/anaconda3/envs/bert-study/lib/python3.10/site-packages/sklearn/ensemble/_gb.py:437: DataConversionWarning: A column-vector y was passed when a 1d array was expected. Please change the shape of y to (n_samples, ), for example using ravel().\n",
      "  y = column_or_1d(y, warn=True)\n",
      "/Users/matmang/opt/anaconda3/envs/bert-study/lib/python3.10/site-packages/sklearn/ensemble/_gb.py:437: DataConversionWarning: A column-vector y was passed when a 1d array was expected. Please change the shape of y to (n_samples, ), for example using ravel().\n",
      "  y = column_or_1d(y, warn=True)\n",
      "/Users/matmang/opt/anaconda3/envs/bert-study/lib/python3.10/site-packages/sklearn/ensemble/_gb.py:437: DataConversionWarning: A column-vector y was passed when a 1d array was expected. Please change the shape of y to (n_samples, ), for example using ravel().\n",
      "  y = column_or_1d(y, warn=True)\n",
      "/Users/matmang/opt/anaconda3/envs/bert-study/lib/python3.10/site-packages/sklearn/ensemble/_gb.py:437: DataConversionWarning: A column-vector y was passed when a 1d array was expected. Please change the shape of y to (n_samples, ), for example using ravel().\n",
      "  y = column_or_1d(y, warn=True)\n",
      "/Users/matmang/opt/anaconda3/envs/bert-study/lib/python3.10/site-packages/sklearn/ensemble/_gb.py:437: DataConversionWarning: A column-vector y was passed when a 1d array was expected. Please change the shape of y to (n_samples, ), for example using ravel().\n",
      "  y = column_or_1d(y, warn=True)\n",
      "/Users/matmang/opt/anaconda3/envs/bert-study/lib/python3.10/site-packages/sklearn/ensemble/_gb.py:437: DataConversionWarning: A column-vector y was passed when a 1d array was expected. Please change the shape of y to (n_samples, ), for example using ravel().\n",
      "  y = column_or_1d(y, warn=True)\n",
      "/Users/matmang/opt/anaconda3/envs/bert-study/lib/python3.10/site-packages/sklearn/ensemble/_gb.py:437: DataConversionWarning: A column-vector y was passed when a 1d array was expected. Please change the shape of y to (n_samples, ), for example using ravel().\n",
      "  y = column_or_1d(y, warn=True)\n",
      "/Users/matmang/opt/anaconda3/envs/bert-study/lib/python3.10/site-packages/sklearn/ensemble/_gb.py:437: DataConversionWarning: A column-vector y was passed when a 1d array was expected. Please change the shape of y to (n_samples, ), for example using ravel().\n",
      "  y = column_or_1d(y, warn=True)\n"
     ]
    },
    {
     "name": "stdout",
     "output_type": "stream",
     "text": [
      "[CV] END learning_rate=0.02069922246245332, max_depth=3, min_samples_leaf=8, min_samples_split=6, n_estimators=184; total time=   1.6s\n",
      "[CV] END learning_rate=0.02069922246245332, max_depth=3, min_samples_leaf=8, min_samples_split=6, n_estimators=184; total time=   1.6s\n",
      "[CV] END learning_rate=0.02069922246245332, max_depth=3, min_samples_leaf=8, min_samples_split=6, n_estimators=184; total time=   1.6s\n",
      "[CV] END learning_rate=0.02069922246245332, max_depth=3, min_samples_leaf=8, min_samples_split=6, n_estimators=184; total time=   1.6s\n",
      "[CV] END learning_rate=0.02069922246245332, max_depth=3, min_samples_leaf=8, min_samples_split=6, n_estimators=184; total time=   1.7s\n"
     ]
    },
    {
     "name": "stderr",
     "output_type": "stream",
     "text": [
      "/Users/matmang/opt/anaconda3/envs/bert-study/lib/python3.10/site-packages/sklearn/ensemble/_gb.py:437: DataConversionWarning: A column-vector y was passed when a 1d array was expected. Please change the shape of y to (n_samples, ), for example using ravel().\n",
      "  y = column_or_1d(y, warn=True)\n",
      "/Users/matmang/opt/anaconda3/envs/bert-study/lib/python3.10/site-packages/sklearn/ensemble/_gb.py:437: DataConversionWarning: A column-vector y was passed when a 1d array was expected. Please change the shape of y to (n_samples, ), for example using ravel().\n",
      "  y = column_or_1d(y, warn=True)\n",
      "/Users/matmang/opt/anaconda3/envs/bert-study/lib/python3.10/site-packages/sklearn/ensemble/_gb.py:437: DataConversionWarning: A column-vector y was passed when a 1d array was expected. Please change the shape of y to (n_samples, ), for example using ravel().\n",
      "  y = column_or_1d(y, warn=True)\n",
      "/Users/matmang/opt/anaconda3/envs/bert-study/lib/python3.10/site-packages/sklearn/ensemble/_gb.py:437: DataConversionWarning: A column-vector y was passed when a 1d array was expected. Please change the shape of y to (n_samples, ), for example using ravel().\n",
      "  y = column_or_1d(y, warn=True)\n",
      "/Users/matmang/opt/anaconda3/envs/bert-study/lib/python3.10/site-packages/sklearn/ensemble/_gb.py:437: DataConversionWarning: A column-vector y was passed when a 1d array was expected. Please change the shape of y to (n_samples, ), for example using ravel().\n",
      "  y = column_or_1d(y, warn=True)\n"
     ]
    },
    {
     "name": "stdout",
     "output_type": "stream",
     "text": [
      "[CV] END learning_rate=0.012744730752196013, max_depth=14, min_samples_leaf=6, min_samples_split=2, n_estimators=76; total time=   2.6s\n",
      "[CV] END learning_rate=0.012744730752196013, max_depth=14, min_samples_leaf=6, min_samples_split=2, n_estimators=76; total time=   2.6s\n",
      "[CV] END learning_rate=0.012744730752196013, max_depth=14, min_samples_leaf=6, min_samples_split=2, n_estimators=76; total time=   2.7s\n",
      "[CV] END learning_rate=0.012744730752196013, max_depth=14, min_samples_leaf=6, min_samples_split=2, n_estimators=76; total time=   2.7s\n",
      "[CV] END learning_rate=0.012744730752196013, max_depth=14, min_samples_leaf=6, min_samples_split=2, n_estimators=76; total time=   2.7s\n"
     ]
    },
    {
     "name": "stderr",
     "output_type": "stream",
     "text": [
      "/Users/matmang/opt/anaconda3/envs/bert-study/lib/python3.10/site-packages/sklearn/ensemble/_gb.py:437: DataConversionWarning: A column-vector y was passed when a 1d array was expected. Please change the shape of y to (n_samples, ), for example using ravel().\n",
      "  y = column_or_1d(y, warn=True)\n",
      "/Users/matmang/opt/anaconda3/envs/bert-study/lib/python3.10/site-packages/sklearn/ensemble/_gb.py:437: DataConversionWarning: A column-vector y was passed when a 1d array was expected. Please change the shape of y to (n_samples, ), for example using ravel().\n",
      "  y = column_or_1d(y, warn=True)\n",
      "/Users/matmang/opt/anaconda3/envs/bert-study/lib/python3.10/site-packages/sklearn/ensemble/_gb.py:437: DataConversionWarning: A column-vector y was passed when a 1d array was expected. Please change the shape of y to (n_samples, ), for example using ravel().\n",
      "  y = column_or_1d(y, warn=True)\n",
      "/Users/matmang/opt/anaconda3/envs/bert-study/lib/python3.10/site-packages/sklearn/ensemble/_gb.py:437: DataConversionWarning: A column-vector y was passed when a 1d array was expected. Please change the shape of y to (n_samples, ), for example using ravel().\n",
      "  y = column_or_1d(y, warn=True)\n",
      "/Users/matmang/opt/anaconda3/envs/bert-study/lib/python3.10/site-packages/sklearn/ensemble/_gb.py:437: DataConversionWarning: A column-vector y was passed when a 1d array was expected. Please change the shape of y to (n_samples, ), for example using ravel().\n",
      "  y = column_or_1d(y, warn=True)\n"
     ]
    },
    {
     "name": "stdout",
     "output_type": "stream",
     "text": [
      "[CV] END learning_rate=0.022744331359445084, max_depth=10, min_samples_leaf=3, min_samples_split=8, n_estimators=59; total time=   1.5s\n",
      "[CV] END learning_rate=0.022744331359445084, max_depth=10, min_samples_leaf=3, min_samples_split=8, n_estimators=59; total time=   1.5s\n",
      "[CV] END learning_rate=0.022744331359445084, max_depth=10, min_samples_leaf=3, min_samples_split=8, n_estimators=59; total time=   1.5s\n",
      "[CV] END learning_rate=0.022744331359445084, max_depth=10, min_samples_leaf=3, min_samples_split=8, n_estimators=59; total time=   1.5s\n",
      "[CV] END learning_rate=0.022744331359445084, max_depth=10, min_samples_leaf=3, min_samples_split=8, n_estimators=59; total time=   1.6s\n"
     ]
    },
    {
     "name": "stderr",
     "output_type": "stream",
     "text": [
      "/Users/matmang/opt/anaconda3/envs/bert-study/lib/python3.10/site-packages/sklearn/ensemble/_gb.py:437: DataConversionWarning: A column-vector y was passed when a 1d array was expected. Please change the shape of y to (n_samples, ), for example using ravel().\n",
      "  y = column_or_1d(y, warn=True)\n",
      "/Users/matmang/opt/anaconda3/envs/bert-study/lib/python3.10/site-packages/sklearn/ensemble/_gb.py:437: DataConversionWarning: A column-vector y was passed when a 1d array was expected. Please change the shape of y to (n_samples, ), for example using ravel().\n",
      "  y = column_or_1d(y, warn=True)\n",
      "/Users/matmang/opt/anaconda3/envs/bert-study/lib/python3.10/site-packages/sklearn/ensemble/_gb.py:437: DataConversionWarning: A column-vector y was passed when a 1d array was expected. Please change the shape of y to (n_samples, ), for example using ravel().\n",
      "  y = column_or_1d(y, warn=True)\n",
      "/Users/matmang/opt/anaconda3/envs/bert-study/lib/python3.10/site-packages/sklearn/ensemble/_gb.py:437: DataConversionWarning: A column-vector y was passed when a 1d array was expected. Please change the shape of y to (n_samples, ), for example using ravel().\n",
      "  y = column_or_1d(y, warn=True)\n",
      "/Users/matmang/opt/anaconda3/envs/bert-study/lib/python3.10/site-packages/sklearn/ensemble/_gb.py:437: DataConversionWarning: A column-vector y was passed when a 1d array was expected. Please change the shape of y to (n_samples, ), for example using ravel().\n",
      "  y = column_or_1d(y, warn=True)\n"
     ]
    },
    {
     "name": "stdout",
     "output_type": "stream",
     "text": [
      "[CV] END learning_rate=0.10960987921949811, max_depth=3, min_samples_leaf=5, min_samples_split=10, n_estimators=151; total time=   1.2s\n",
      "[CV] END learning_rate=0.10960987921949811, max_depth=3, min_samples_leaf=5, min_samples_split=10, n_estimators=151; total time=   1.2s\n",
      "[CV] END learning_rate=0.10960987921949811, max_depth=3, min_samples_leaf=5, min_samples_split=10, n_estimators=151; total time=   1.2s\n",
      "[CV] END learning_rate=0.10960987921949811, max_depth=3, min_samples_leaf=5, min_samples_split=10, n_estimators=151; total time=   1.3s\n",
      "[CV] END learning_rate=0.10960987921949811, max_depth=3, min_samples_leaf=5, min_samples_split=10, n_estimators=151; total time=   1.3s\n"
     ]
    },
    {
     "name": "stderr",
     "output_type": "stream",
     "text": [
      "/Users/matmang/opt/anaconda3/envs/bert-study/lib/python3.10/site-packages/sklearn/ensemble/_gb.py:437: DataConversionWarning: A column-vector y was passed when a 1d array was expected. Please change the shape of y to (n_samples, ), for example using ravel().\n",
      "  y = column_or_1d(y, warn=True)\n",
      "/Users/matmang/opt/anaconda3/envs/bert-study/lib/python3.10/site-packages/sklearn/ensemble/_gb.py:437: DataConversionWarning: A column-vector y was passed when a 1d array was expected. Please change the shape of y to (n_samples, ), for example using ravel().\n",
      "  y = column_or_1d(y, warn=True)\n",
      "/Users/matmang/opt/anaconda3/envs/bert-study/lib/python3.10/site-packages/sklearn/ensemble/_gb.py:437: DataConversionWarning: A column-vector y was passed when a 1d array was expected. Please change the shape of y to (n_samples, ), for example using ravel().\n",
      "  y = column_or_1d(y, warn=True)\n",
      "/Users/matmang/opt/anaconda3/envs/bert-study/lib/python3.10/site-packages/sklearn/ensemble/_gb.py:437: DataConversionWarning: A column-vector y was passed when a 1d array was expected. Please change the shape of y to (n_samples, ), for example using ravel().\n",
      "  y = column_or_1d(y, warn=True)\n",
      "/Users/matmang/opt/anaconda3/envs/bert-study/lib/python3.10/site-packages/sklearn/ensemble/_gb.py:437: DataConversionWarning: A column-vector y was passed when a 1d array was expected. Please change the shape of y to (n_samples, ), for example using ravel().\n",
      "  y = column_or_1d(y, warn=True)\n"
     ]
    },
    {
     "name": "stdout",
     "output_type": "stream",
     "text": [
      "[CV] END learning_rate=0.09445807315647221, max_depth=10, min_samples_leaf=3, min_samples_split=2, n_estimators=71; total time=   1.7s\n",
      "[CV] END learning_rate=0.09445807315647221, max_depth=10, min_samples_leaf=3, min_samples_split=2, n_estimators=71; total time=   1.8s\n",
      "[CV] END learning_rate=0.09445807315647221, max_depth=10, min_samples_leaf=3, min_samples_split=2, n_estimators=71; total time=   1.8s\n",
      "[CV] END learning_rate=0.09445807315647221, max_depth=10, min_samples_leaf=3, min_samples_split=2, n_estimators=71; total time=   1.7s\n",
      "[CV] END learning_rate=0.09445807315647221, max_depth=10, min_samples_leaf=3, min_samples_split=2, n_estimators=71; total time=   1.8s\n"
     ]
    },
    {
     "name": "stderr",
     "output_type": "stream",
     "text": [
      "/Users/matmang/opt/anaconda3/envs/bert-study/lib/python3.10/site-packages/sklearn/ensemble/_gb.py:437: DataConversionWarning: A column-vector y was passed when a 1d array was expected. Please change the shape of y to (n_samples, ), for example using ravel().\n",
      "  y = column_or_1d(y, warn=True)\n",
      "/Users/matmang/opt/anaconda3/envs/bert-study/lib/python3.10/site-packages/sklearn/ensemble/_gb.py:437: DataConversionWarning: A column-vector y was passed when a 1d array was expected. Please change the shape of y to (n_samples, ), for example using ravel().\n",
      "  y = column_or_1d(y, warn=True)\n",
      "/Users/matmang/opt/anaconda3/envs/bert-study/lib/python3.10/site-packages/sklearn/ensemble/_gb.py:437: DataConversionWarning: A column-vector y was passed when a 1d array was expected. Please change the shape of y to (n_samples, ), for example using ravel().\n",
      "  y = column_or_1d(y, warn=True)\n",
      "/Users/matmang/opt/anaconda3/envs/bert-study/lib/python3.10/site-packages/sklearn/ensemble/_gb.py:437: DataConversionWarning: A column-vector y was passed when a 1d array was expected. Please change the shape of y to (n_samples, ), for example using ravel().\n",
      "  y = column_or_1d(y, warn=True)\n",
      "/Users/matmang/opt/anaconda3/envs/bert-study/lib/python3.10/site-packages/sklearn/ensemble/_gb.py:437: DataConversionWarning: A column-vector y was passed when a 1d array was expected. Please change the shape of y to (n_samples, ), for example using ravel().\n",
      "  y = column_or_1d(y, warn=True)\n"
     ]
    },
    {
     "name": "stdout",
     "output_type": "stream",
     "text": [
      "[CV] END learning_rate=0.013647259563958816, max_depth=3, min_samples_leaf=4, min_samples_split=11, n_estimators=187; total time=   1.6s\n",
      "[CV] END learning_rate=0.013647259563958816, max_depth=3, min_samples_leaf=4, min_samples_split=11, n_estimators=187; total time=   1.5s\n",
      "[CV] END learning_rate=0.013647259563958816, max_depth=3, min_samples_leaf=4, min_samples_split=11, n_estimators=187; total time=   1.5s\n",
      "[CV] END learning_rate=0.013647259563958816, max_depth=3, min_samples_leaf=4, min_samples_split=11, n_estimators=187; total time=   1.6s\n",
      "[CV] END learning_rate=0.013647259563958816, max_depth=3, min_samples_leaf=4, min_samples_split=11, n_estimators=187; total time=   1.5s\n"
     ]
    },
    {
     "name": "stderr",
     "output_type": "stream",
     "text": [
      "/Users/matmang/opt/anaconda3/envs/bert-study/lib/python3.10/site-packages/sklearn/ensemble/_gb.py:437: DataConversionWarning: A column-vector y was passed when a 1d array was expected. Please change the shape of y to (n_samples, ), for example using ravel().\n",
      "  y = column_or_1d(y, warn=True)\n",
      "/Users/matmang/opt/anaconda3/envs/bert-study/lib/python3.10/site-packages/sklearn/ensemble/_gb.py:437: DataConversionWarning: A column-vector y was passed when a 1d array was expected. Please change the shape of y to (n_samples, ), for example using ravel().\n",
      "  y = column_or_1d(y, warn=True)\n",
      "/Users/matmang/opt/anaconda3/envs/bert-study/lib/python3.10/site-packages/sklearn/ensemble/_gb.py:437: DataConversionWarning: A column-vector y was passed when a 1d array was expected. Please change the shape of y to (n_samples, ), for example using ravel().\n",
      "  y = column_or_1d(y, warn=True)\n",
      "/Users/matmang/opt/anaconda3/envs/bert-study/lib/python3.10/site-packages/sklearn/ensemble/_gb.py:437: DataConversionWarning: A column-vector y was passed when a 1d array was expected. Please change the shape of y to (n_samples, ), for example using ravel().\n",
      "  y = column_or_1d(y, warn=True)\n",
      "/Users/matmang/opt/anaconda3/envs/bert-study/lib/python3.10/site-packages/sklearn/ensemble/_gb.py:437: DataConversionWarning: A column-vector y was passed when a 1d array was expected. Please change the shape of y to (n_samples, ), for example using ravel().\n",
      "  y = column_or_1d(y, warn=True)\n"
     ]
    },
    {
     "name": "stdout",
     "output_type": "stream",
     "text": [
      "[CV] END learning_rate=0.08162037862762248, max_depth=6, min_samples_leaf=2, min_samples_split=14, n_estimators=94; total time=   1.6s\n",
      "[CV] END learning_rate=0.08162037862762248, max_depth=6, min_samples_leaf=2, min_samples_split=14, n_estimators=94; total time=   1.5s\n",
      "[CV] END learning_rate=0.08162037862762248, max_depth=6, min_samples_leaf=2, min_samples_split=14, n_estimators=94; total time=   1.6s\n",
      "[CV] END learning_rate=0.08162037862762248, max_depth=6, min_samples_leaf=2, min_samples_split=14, n_estimators=94; total time=   1.7s\n",
      "[CV] END learning_rate=0.08162037862762248, max_depth=6, min_samples_leaf=2, min_samples_split=14, n_estimators=94; total time=   1.6s\n"
     ]
    },
    {
     "name": "stderr",
     "output_type": "stream",
     "text": [
      "/Users/matmang/opt/anaconda3/envs/bert-study/lib/python3.10/site-packages/sklearn/ensemble/_gb.py:437: DataConversionWarning: A column-vector y was passed when a 1d array was expected. Please change the shape of y to (n_samples, ), for example using ravel().\n",
      "  y = column_or_1d(y, warn=True)\n",
      "/Users/matmang/opt/anaconda3/envs/bert-study/lib/python3.10/site-packages/sklearn/ensemble/_gb.py:437: DataConversionWarning: A column-vector y was passed when a 1d array was expected. Please change the shape of y to (n_samples, ), for example using ravel().\n",
      "  y = column_or_1d(y, warn=True)\n",
      "/Users/matmang/opt/anaconda3/envs/bert-study/lib/python3.10/site-packages/sklearn/ensemble/_gb.py:437: DataConversionWarning: A column-vector y was passed when a 1d array was expected. Please change the shape of y to (n_samples, ), for example using ravel().\n",
      "  y = column_or_1d(y, warn=True)\n",
      "/Users/matmang/opt/anaconda3/envs/bert-study/lib/python3.10/site-packages/sklearn/ensemble/_gb.py:437: DataConversionWarning: A column-vector y was passed when a 1d array was expected. Please change the shape of y to (n_samples, ), for example using ravel().\n",
      "  y = column_or_1d(y, warn=True)\n",
      "/Users/matmang/opt/anaconda3/envs/bert-study/lib/python3.10/site-packages/sklearn/ensemble/_gb.py:437: DataConversionWarning: A column-vector y was passed when a 1d array was expected. Please change the shape of y to (n_samples, ), for example using ravel().\n",
      "  y = column_or_1d(y, warn=True)\n"
     ]
    },
    {
     "name": "stdout",
     "output_type": "stream",
     "text": [
      "[CV] END learning_rate=0.038089414561547956, max_depth=4, min_samples_leaf=4, min_samples_split=10, n_estimators=117; total time=   1.3s\n",
      "[CV] END learning_rate=0.038089414561547956, max_depth=4, min_samples_leaf=4, min_samples_split=10, n_estimators=117; total time=   1.3s\n",
      "[CV] END learning_rate=0.038089414561547956, max_depth=4, min_samples_leaf=4, min_samples_split=10, n_estimators=117; total time=   1.3s\n",
      "[CV] END learning_rate=0.038089414561547956, max_depth=4, min_samples_leaf=4, min_samples_split=10, n_estimators=117; total time=   1.3s\n"
     ]
    },
    {
     "name": "stderr",
     "output_type": "stream",
     "text": [
      "/Users/matmang/opt/anaconda3/envs/bert-study/lib/python3.10/site-packages/sklearn/ensemble/_gb.py:437: DataConversionWarning: A column-vector y was passed when a 1d array was expected. Please change the shape of y to (n_samples, ), for example using ravel().\n",
      "  y = column_or_1d(y, warn=True)\n",
      "/Users/matmang/opt/anaconda3/envs/bert-study/lib/python3.10/site-packages/sklearn/ensemble/_gb.py:437: DataConversionWarning: A column-vector y was passed when a 1d array was expected. Please change the shape of y to (n_samples, ), for example using ravel().\n",
      "  y = column_or_1d(y, warn=True)\n",
      "/Users/matmang/opt/anaconda3/envs/bert-study/lib/python3.10/site-packages/sklearn/ensemble/_gb.py:437: DataConversionWarning: A column-vector y was passed when a 1d array was expected. Please change the shape of y to (n_samples, ), for example using ravel().\n",
      "  y = column_or_1d(y, warn=True)\n",
      "/Users/matmang/opt/anaconda3/envs/bert-study/lib/python3.10/site-packages/sklearn/ensemble/_gb.py:437: DataConversionWarning: A column-vector y was passed when a 1d array was expected. Please change the shape of y to (n_samples, ), for example using ravel().\n",
      "  y = column_or_1d(y, warn=True)\n",
      "/Users/matmang/opt/anaconda3/envs/bert-study/lib/python3.10/site-packages/sklearn/ensemble/_gb.py:437: DataConversionWarning: A column-vector y was passed when a 1d array was expected. Please change the shape of y to (n_samples, ), for example using ravel().\n",
      "  y = column_or_1d(y, warn=True)\n"
     ]
    },
    {
     "name": "stdout",
     "output_type": "stream",
     "text": [
      "[CV] END learning_rate=0.038089414561547956, max_depth=4, min_samples_leaf=4, min_samples_split=10, n_estimators=117; total time=   1.4s\n",
      "[CV] END learning_rate=0.01214529109742796, max_depth=3, min_samples_leaf=7, min_samples_split=15, n_estimators=110; total time=   1.0s\n",
      "[CV] END learning_rate=0.01214529109742796, max_depth=3, min_samples_leaf=7, min_samples_split=15, n_estimators=110; total time=   1.2s\n",
      "[CV] END learning_rate=0.01214529109742796, max_depth=3, min_samples_leaf=7, min_samples_split=15, n_estimators=110; total time=   1.1s\n",
      "[CV] END learning_rate=0.01214529109742796, max_depth=3, min_samples_leaf=7, min_samples_split=15, n_estimators=110; total time=   1.2s\n",
      "[CV] END learning_rate=0.01214529109742796, max_depth=3, min_samples_leaf=7, min_samples_split=15, n_estimators=110; total time=   1.1s\n"
     ]
    },
    {
     "name": "stderr",
     "output_type": "stream",
     "text": [
      "/Users/matmang/opt/anaconda3/envs/bert-study/lib/python3.10/site-packages/sklearn/ensemble/_gb.py:437: DataConversionWarning: A column-vector y was passed when a 1d array was expected. Please change the shape of y to (n_samples, ), for example using ravel().\n",
      "  y = column_or_1d(y, warn=True)\n",
      "/Users/matmang/opt/anaconda3/envs/bert-study/lib/python3.10/site-packages/sklearn/ensemble/_gb.py:437: DataConversionWarning: A column-vector y was passed when a 1d array was expected. Please change the shape of y to (n_samples, ), for example using ravel().\n",
      "  y = column_or_1d(y, warn=True)\n",
      "/Users/matmang/opt/anaconda3/envs/bert-study/lib/python3.10/site-packages/sklearn/ensemble/_gb.py:437: DataConversionWarning: A column-vector y was passed when a 1d array was expected. Please change the shape of y to (n_samples, ), for example using ravel().\n",
      "  y = column_or_1d(y, warn=True)\n",
      "/Users/matmang/opt/anaconda3/envs/bert-study/lib/python3.10/site-packages/sklearn/ensemble/_gb.py:437: DataConversionWarning: A column-vector y was passed when a 1d array was expected. Please change the shape of y to (n_samples, ), for example using ravel().\n",
      "  y = column_or_1d(y, warn=True)\n",
      "/Users/matmang/opt/anaconda3/envs/bert-study/lib/python3.10/site-packages/sklearn/ensemble/_gb.py:437: DataConversionWarning: A column-vector y was passed when a 1d array was expected. Please change the shape of y to (n_samples, ), for example using ravel().\n",
      "  y = column_or_1d(y, warn=True)\n"
     ]
    },
    {
     "name": "stdout",
     "output_type": "stream",
     "text": [
      "[CV] END learning_rate=0.017854235258267105, max_depth=9, min_samples_leaf=7, min_samples_split=3, n_estimators=111; total time=   2.8s\n",
      "[CV] END learning_rate=0.017854235258267105, max_depth=9, min_samples_leaf=7, min_samples_split=3, n_estimators=111; total time=   2.7s\n",
      "[CV] END learning_rate=0.017854235258267105, max_depth=9, min_samples_leaf=7, min_samples_split=3, n_estimators=111; total time=   2.7s\n",
      "[CV] END learning_rate=0.017854235258267105, max_depth=9, min_samples_leaf=7, min_samples_split=3, n_estimators=111; total time=   2.6s\n",
      "[CV] END learning_rate=0.017854235258267105, max_depth=9, min_samples_leaf=7, min_samples_split=3, n_estimators=111; total time=   2.8s\n"
     ]
    },
    {
     "name": "stderr",
     "output_type": "stream",
     "text": [
      "/Users/matmang/opt/anaconda3/envs/bert-study/lib/python3.10/site-packages/sklearn/ensemble/_gb.py:437: DataConversionWarning: A column-vector y was passed when a 1d array was expected. Please change the shape of y to (n_samples, ), for example using ravel().\n",
      "  y = column_or_1d(y, warn=True)\n",
      "/Users/matmang/opt/anaconda3/envs/bert-study/lib/python3.10/site-packages/sklearn/ensemble/_gb.py:437: DataConversionWarning: A column-vector y was passed when a 1d array was expected. Please change the shape of y to (n_samples, ), for example using ravel().\n",
      "  y = column_or_1d(y, warn=True)\n",
      "/Users/matmang/opt/anaconda3/envs/bert-study/lib/python3.10/site-packages/sklearn/ensemble/_gb.py:437: DataConversionWarning: A column-vector y was passed when a 1d array was expected. Please change the shape of y to (n_samples, ), for example using ravel().\n",
      "  y = column_or_1d(y, warn=True)\n",
      "/Users/matmang/opt/anaconda3/envs/bert-study/lib/python3.10/site-packages/sklearn/ensemble/_gb.py:437: DataConversionWarning: A column-vector y was passed when a 1d array was expected. Please change the shape of y to (n_samples, ), for example using ravel().\n",
      "  y = column_or_1d(y, warn=True)\n",
      "/Users/matmang/opt/anaconda3/envs/bert-study/lib/python3.10/site-packages/sklearn/ensemble/_gb.py:437: DataConversionWarning: A column-vector y was passed when a 1d array was expected. Please change the shape of y to (n_samples, ), for example using ravel().\n",
      "  y = column_or_1d(y, warn=True)\n"
     ]
    },
    {
     "name": "stdout",
     "output_type": "stream",
     "text": [
      "[CV] END learning_rate=0.015333652326983629, max_depth=9, min_samples_leaf=8, min_samples_split=4, n_estimators=185; total time=   4.3s\n",
      "[CV] END learning_rate=0.015333652326983629, max_depth=9, min_samples_leaf=8, min_samples_split=4, n_estimators=185; total time=   4.5s\n",
      "[CV] END learning_rate=0.015333652326983629, max_depth=9, min_samples_leaf=8, min_samples_split=4, n_estimators=185; total time=   4.6s\n"
     ]
    },
    {
     "name": "stderr",
     "output_type": "stream",
     "text": [
      "/Users/matmang/opt/anaconda3/envs/bert-study/lib/python3.10/site-packages/sklearn/ensemble/_gb.py:437: DataConversionWarning: A column-vector y was passed when a 1d array was expected. Please change the shape of y to (n_samples, ), for example using ravel().\n",
      "  y = column_or_1d(y, warn=True)\n",
      "/Users/matmang/opt/anaconda3/envs/bert-study/lib/python3.10/site-packages/sklearn/ensemble/_gb.py:437: DataConversionWarning: A column-vector y was passed when a 1d array was expected. Please change the shape of y to (n_samples, ), for example using ravel().\n",
      "  y = column_or_1d(y, warn=True)\n",
      "/Users/matmang/opt/anaconda3/envs/bert-study/lib/python3.10/site-packages/sklearn/ensemble/_gb.py:437: DataConversionWarning: A column-vector y was passed when a 1d array was expected. Please change the shape of y to (n_samples, ), for example using ravel().\n",
      "  y = column_or_1d(y, warn=True)\n"
     ]
    },
    {
     "name": "stdout",
     "output_type": "stream",
     "text": [
      "[CV] END learning_rate=0.015333652326983629, max_depth=9, min_samples_leaf=8, min_samples_split=4, n_estimators=185; total time=   4.6s\n",
      "[CV] END learning_rate=0.015333652326983629, max_depth=9, min_samples_leaf=8, min_samples_split=4, n_estimators=185; total time=   4.6s\n"
     ]
    },
    {
     "name": "stderr",
     "output_type": "stream",
     "text": [
      "/Users/matmang/opt/anaconda3/envs/bert-study/lib/python3.10/site-packages/sklearn/ensemble/_gb.py:437: DataConversionWarning: A column-vector y was passed when a 1d array was expected. Please change the shape of y to (n_samples, ), for example using ravel().\n",
      "  y = column_or_1d(y, warn=True)\n",
      "/Users/matmang/opt/anaconda3/envs/bert-study/lib/python3.10/site-packages/sklearn/ensemble/_gb.py:437: DataConversionWarning: A column-vector y was passed when a 1d array was expected. Please change the shape of y to (n_samples, ), for example using ravel().\n",
      "  y = column_or_1d(y, warn=True)\n"
     ]
    },
    {
     "name": "stdout",
     "output_type": "stream",
     "text": [
      "[CV] END learning_rate=0.050282334188009946, max_depth=8, min_samples_leaf=8, min_samples_split=6, n_estimators=121; total time=   2.4s\n",
      "[CV] END learning_rate=0.050282334188009946, max_depth=8, min_samples_leaf=8, min_samples_split=6, n_estimators=121; total time=   2.4s\n"
     ]
    },
    {
     "name": "stderr",
     "output_type": "stream",
     "text": [
      "/Users/matmang/opt/anaconda3/envs/bert-study/lib/python3.10/site-packages/sklearn/ensemble/_gb.py:437: DataConversionWarning: A column-vector y was passed when a 1d array was expected. Please change the shape of y to (n_samples, ), for example using ravel().\n",
      "  y = column_or_1d(y, warn=True)\n",
      "/Users/matmang/opt/anaconda3/envs/bert-study/lib/python3.10/site-packages/sklearn/ensemble/_gb.py:437: DataConversionWarning: A column-vector y was passed when a 1d array was expected. Please change the shape of y to (n_samples, ), for example using ravel().\n",
      "  y = column_or_1d(y, warn=True)\n"
     ]
    },
    {
     "name": "stdout",
     "output_type": "stream",
     "text": [
      "[CV] END learning_rate=0.050282334188009946, max_depth=8, min_samples_leaf=8, min_samples_split=6, n_estimators=121; total time=   2.4s\n",
      "[CV] END learning_rate=0.050282334188009946, max_depth=8, min_samples_leaf=8, min_samples_split=6, n_estimators=121; total time=   2.4s\n",
      "[CV] END learning_rate=0.050282334188009946, max_depth=8, min_samples_leaf=8, min_samples_split=6, n_estimators=121; total time=   2.5s\n"
     ]
    },
    {
     "name": "stderr",
     "output_type": "stream",
     "text": [
      "/Users/matmang/opt/anaconda3/envs/bert-study/lib/python3.10/site-packages/sklearn/ensemble/_gb.py:437: DataConversionWarning: A column-vector y was passed when a 1d array was expected. Please change the shape of y to (n_samples, ), for example using ravel().\n",
      "  y = column_or_1d(y, warn=True)\n",
      "/Users/matmang/opt/anaconda3/envs/bert-study/lib/python3.10/site-packages/sklearn/ensemble/_gb.py:437: DataConversionWarning: A column-vector y was passed when a 1d array was expected. Please change the shape of y to (n_samples, ), for example using ravel().\n",
      "  y = column_or_1d(y, warn=True)\n",
      "/Users/matmang/opt/anaconda3/envs/bert-study/lib/python3.10/site-packages/sklearn/ensemble/_gb.py:437: DataConversionWarning: A column-vector y was passed when a 1d array was expected. Please change the shape of y to (n_samples, ), for example using ravel().\n",
      "  y = column_or_1d(y, warn=True)\n"
     ]
    },
    {
     "name": "stdout",
     "output_type": "stream",
     "text": [
      "[CV] END learning_rate=0.046810242452001265, max_depth=8, min_samples_leaf=3, min_samples_split=18, n_estimators=192; total time=   3.9s\n",
      "[CV] END learning_rate=0.046810242452001265, max_depth=8, min_samples_leaf=3, min_samples_split=18, n_estimators=192; total time=   4.0s\n",
      "[CV] END learning_rate=0.046810242452001265, max_depth=8, min_samples_leaf=3, min_samples_split=18, n_estimators=192; total time=   4.1s\n",
      "[CV] END learning_rate=0.046810242452001265, max_depth=8, min_samples_leaf=3, min_samples_split=18, n_estimators=192; total time=   4.0s\n"
     ]
    },
    {
     "name": "stderr",
     "output_type": "stream",
     "text": [
      "/Users/matmang/opt/anaconda3/envs/bert-study/lib/python3.10/site-packages/sklearn/ensemble/_gb.py:437: DataConversionWarning: A column-vector y was passed when a 1d array was expected. Please change the shape of y to (n_samples, ), for example using ravel().\n",
      "  y = column_or_1d(y, warn=True)\n",
      "/Users/matmang/opt/anaconda3/envs/bert-study/lib/python3.10/site-packages/sklearn/ensemble/_gb.py:437: DataConversionWarning: A column-vector y was passed when a 1d array was expected. Please change the shape of y to (n_samples, ), for example using ravel().\n",
      "  y = column_or_1d(y, warn=True)\n",
      "/Users/matmang/opt/anaconda3/envs/bert-study/lib/python3.10/site-packages/sklearn/ensemble/_gb.py:437: DataConversionWarning: A column-vector y was passed when a 1d array was expected. Please change the shape of y to (n_samples, ), for example using ravel().\n",
      "  y = column_or_1d(y, warn=True)\n",
      "/Users/matmang/opt/anaconda3/envs/bert-study/lib/python3.10/site-packages/sklearn/ensemble/_gb.py:437: DataConversionWarning: A column-vector y was passed when a 1d array was expected. Please change the shape of y to (n_samples, ), for example using ravel().\n",
      "  y = column_or_1d(y, warn=True)\n"
     ]
    },
    {
     "name": "stdout",
     "output_type": "stream",
     "text": [
      "[CV] END learning_rate=0.046810242452001265, max_depth=8, min_samples_leaf=3, min_samples_split=18, n_estimators=192; total time=   4.1s\n"
     ]
    },
    {
     "name": "stderr",
     "output_type": "stream",
     "text": [
      "/Users/matmang/opt/anaconda3/envs/bert-study/lib/python3.10/site-packages/sklearn/ensemble/_gb.py:437: DataConversionWarning: A column-vector y was passed when a 1d array was expected. Please change the shape of y to (n_samples, ), for example using ravel().\n",
      "  y = column_or_1d(y, warn=True)\n"
     ]
    },
    {
     "name": "stdout",
     "output_type": "stream",
     "text": [
      "[CV] END learning_rate=0.0979086893902023, max_depth=10, min_samples_leaf=8, min_samples_split=19, n_estimators=155; total time=   3.9s\n"
     ]
    },
    {
     "name": "stderr",
     "output_type": "stream",
     "text": [
      "/Users/matmang/opt/anaconda3/envs/bert-study/lib/python3.10/site-packages/sklearn/ensemble/_gb.py:437: DataConversionWarning: A column-vector y was passed when a 1d array was expected. Please change the shape of y to (n_samples, ), for example using ravel().\n",
      "  y = column_or_1d(y, warn=True)\n"
     ]
    },
    {
     "name": "stdout",
     "output_type": "stream",
     "text": [
      "[CV] END learning_rate=0.0979086893902023, max_depth=10, min_samples_leaf=8, min_samples_split=19, n_estimators=155; total time=   4.0s\n",
      "[CV] END learning_rate=0.0979086893902023, max_depth=10, min_samples_leaf=8, min_samples_split=19, n_estimators=155; total time=   4.0s\n",
      "[CV] END learning_rate=0.0979086893902023, max_depth=10, min_samples_leaf=8, min_samples_split=19, n_estimators=155; total time=   4.0s\n"
     ]
    },
    {
     "name": "stderr",
     "output_type": "stream",
     "text": [
      "/Users/matmang/opt/anaconda3/envs/bert-study/lib/python3.10/site-packages/sklearn/ensemble/_gb.py:437: DataConversionWarning: A column-vector y was passed when a 1d array was expected. Please change the shape of y to (n_samples, ), for example using ravel().\n",
      "  y = column_or_1d(y, warn=True)\n",
      "/Users/matmang/opt/anaconda3/envs/bert-study/lib/python3.10/site-packages/sklearn/ensemble/_gb.py:437: DataConversionWarning: A column-vector y was passed when a 1d array was expected. Please change the shape of y to (n_samples, ), for example using ravel().\n",
      "  y = column_or_1d(y, warn=True)\n",
      "/Users/matmang/opt/anaconda3/envs/bert-study/lib/python3.10/site-packages/sklearn/ensemble/_gb.py:437: DataConversionWarning: A column-vector y was passed when a 1d array was expected. Please change the shape of y to (n_samples, ), for example using ravel().\n",
      "  y = column_or_1d(y, warn=True)\n",
      "/Users/matmang/opt/anaconda3/envs/bert-study/lib/python3.10/site-packages/sklearn/ensemble/_gb.py:437: DataConversionWarning: A column-vector y was passed when a 1d array was expected. Please change the shape of y to (n_samples, ), for example using ravel().\n",
      "  y = column_or_1d(y, warn=True)\n"
     ]
    },
    {
     "name": "stdout",
     "output_type": "stream",
     "text": [
      "[CV] END learning_rate=0.0979086893902023, max_depth=10, min_samples_leaf=8, min_samples_split=19, n_estimators=155; total time=   3.9s\n",
      "[CV] END learning_rate=0.026451563817597695, max_depth=7, min_samples_leaf=5, min_samples_split=5, n_estimators=183; total time=   3.3s\n",
      "[CV] END learning_rate=0.026451563817597695, max_depth=7, min_samples_leaf=5, min_samples_split=5, n_estimators=183; total time=   3.4s\n",
      "[CV] END learning_rate=0.026451563817597695, max_depth=7, min_samples_leaf=5, min_samples_split=5, n_estimators=183; total time=   3.3s\n",
      "[CV] END learning_rate=0.026451563817597695, max_depth=7, min_samples_leaf=5, min_samples_split=5, n_estimators=183; total time=   3.4s\n",
      "[CV] END learning_rate=0.026451563817597695, max_depth=7, min_samples_leaf=5, min_samples_split=5, n_estimators=183; total time=   3.3s\n"
     ]
    },
    {
     "name": "stderr",
     "output_type": "stream",
     "text": [
      "/Users/matmang/opt/anaconda3/envs/bert-study/lib/python3.10/site-packages/sklearn/ensemble/_gb.py:437: DataConversionWarning: A column-vector y was passed when a 1d array was expected. Please change the shape of y to (n_samples, ), for example using ravel().\n",
      "  y = column_or_1d(y, warn=True)\n",
      "/Users/matmang/opt/anaconda3/envs/bert-study/lib/python3.10/site-packages/sklearn/ensemble/_gb.py:437: DataConversionWarning: A column-vector y was passed when a 1d array was expected. Please change the shape of y to (n_samples, ), for example using ravel().\n",
      "  y = column_or_1d(y, warn=True)\n",
      "/Users/matmang/opt/anaconda3/envs/bert-study/lib/python3.10/site-packages/sklearn/ensemble/_gb.py:437: DataConversionWarning: A column-vector y was passed when a 1d array was expected. Please change the shape of y to (n_samples, ), for example using ravel().\n",
      "  y = column_or_1d(y, warn=True)\n",
      "/Users/matmang/opt/anaconda3/envs/bert-study/lib/python3.10/site-packages/sklearn/ensemble/_gb.py:437: DataConversionWarning: A column-vector y was passed when a 1d array was expected. Please change the shape of y to (n_samples, ), for example using ravel().\n",
      "  y = column_or_1d(y, warn=True)\n",
      "/Users/matmang/opt/anaconda3/envs/bert-study/lib/python3.10/site-packages/sklearn/ensemble/_gb.py:437: DataConversionWarning: A column-vector y was passed when a 1d array was expected. Please change the shape of y to (n_samples, ), for example using ravel().\n",
      "  y = column_or_1d(y, warn=True)\n"
     ]
    },
    {
     "name": "stdout",
     "output_type": "stream",
     "text": [
      "[CV] END learning_rate=0.022504965603911346, max_depth=6, min_samples_leaf=4, min_samples_split=9, n_estimators=163; total time=   2.5s\n",
      "[CV] END learning_rate=0.022504965603911346, max_depth=6, min_samples_leaf=4, min_samples_split=9, n_estimators=163; total time=   2.4s\n"
     ]
    },
    {
     "name": "stderr",
     "output_type": "stream",
     "text": [
      "/Users/matmang/opt/anaconda3/envs/bert-study/lib/python3.10/site-packages/sklearn/ensemble/_gb.py:437: DataConversionWarning: A column-vector y was passed when a 1d array was expected. Please change the shape of y to (n_samples, ), for example using ravel().\n",
      "  y = column_or_1d(y, warn=True)\n",
      "/Users/matmang/opt/anaconda3/envs/bert-study/lib/python3.10/site-packages/sklearn/ensemble/_gb.py:437: DataConversionWarning: A column-vector y was passed when a 1d array was expected. Please change the shape of y to (n_samples, ), for example using ravel().\n",
      "  y = column_or_1d(y, warn=True)\n",
      "/Users/matmang/opt/anaconda3/envs/bert-study/lib/python3.10/site-packages/sklearn/ensemble/_gb.py:437: DataConversionWarning: A column-vector y was passed when a 1d array was expected. Please change the shape of y to (n_samples, ), for example using ravel().\n",
      "  y = column_or_1d(y, warn=True)\n"
     ]
    },
    {
     "name": "stdout",
     "output_type": "stream",
     "text": [
      "[CV] END learning_rate=0.022504965603911346, max_depth=6, min_samples_leaf=4, min_samples_split=9, n_estimators=163; total time=   2.5s\n",
      "[CV] END learning_rate=0.022504965603911346, max_depth=6, min_samples_leaf=4, min_samples_split=9, n_estimators=163; total time=   2.6s\n",
      "[CV] END learning_rate=0.022504965603911346, max_depth=6, min_samples_leaf=4, min_samples_split=9, n_estimators=163; total time=   2.5s\n"
     ]
    },
    {
     "name": "stderr",
     "output_type": "stream",
     "text": [
      "/Users/matmang/opt/anaconda3/envs/bert-study/lib/python3.10/site-packages/sklearn/ensemble/_gb.py:437: DataConversionWarning: A column-vector y was passed when a 1d array was expected. Please change the shape of y to (n_samples, ), for example using ravel().\n",
      "  y = column_or_1d(y, warn=True)\n",
      "/Users/matmang/opt/anaconda3/envs/bert-study/lib/python3.10/site-packages/sklearn/ensemble/_gb.py:437: DataConversionWarning: A column-vector y was passed when a 1d array was expected. Please change the shape of y to (n_samples, ), for example using ravel().\n",
      "  y = column_or_1d(y, warn=True)\n"
     ]
    },
    {
     "name": "stdout",
     "output_type": "stream",
     "text": [
      "[CV] END learning_rate=0.027129362468874846, max_depth=3, min_samples_leaf=7, min_samples_split=11, n_estimators=89; total time=   0.8s\n"
     ]
    },
    {
     "name": "stderr",
     "output_type": "stream",
     "text": [
      "/Users/matmang/opt/anaconda3/envs/bert-study/lib/python3.10/site-packages/sklearn/ensemble/_gb.py:437: DataConversionWarning: A column-vector y was passed when a 1d array was expected. Please change the shape of y to (n_samples, ), for example using ravel().\n",
      "  y = column_or_1d(y, warn=True)\n"
     ]
    },
    {
     "name": "stdout",
     "output_type": "stream",
     "text": [
      "[CV] END learning_rate=0.027129362468874846, max_depth=3, min_samples_leaf=7, min_samples_split=11, n_estimators=89; total time=   0.8s\n",
      "[CV] END learning_rate=0.027129362468874846, max_depth=3, min_samples_leaf=7, min_samples_split=11, n_estimators=89; total time=   0.8s\n",
      "[CV] END learning_rate=0.027129362468874846, max_depth=3, min_samples_leaf=7, min_samples_split=11, n_estimators=89; total time=   0.7s\n"
     ]
    },
    {
     "name": "stderr",
     "output_type": "stream",
     "text": [
      "/Users/matmang/opt/anaconda3/envs/bert-study/lib/python3.10/site-packages/sklearn/ensemble/_gb.py:437: DataConversionWarning: A column-vector y was passed when a 1d array was expected. Please change the shape of y to (n_samples, ), for example using ravel().\n",
      "  y = column_or_1d(y, warn=True)\n",
      "/Users/matmang/opt/anaconda3/envs/bert-study/lib/python3.10/site-packages/sklearn/ensemble/_gb.py:437: DataConversionWarning: A column-vector y was passed when a 1d array was expected. Please change the shape of y to (n_samples, ), for example using ravel().\n",
      "  y = column_or_1d(y, warn=True)\n",
      "/Users/matmang/opt/anaconda3/envs/bert-study/lib/python3.10/site-packages/sklearn/ensemble/_gb.py:437: DataConversionWarning: A column-vector y was passed when a 1d array was expected. Please change the shape of y to (n_samples, ), for example using ravel().\n",
      "  y = column_or_1d(y, warn=True)\n"
     ]
    },
    {
     "name": "stdout",
     "output_type": "stream",
     "text": [
      "[CV] END learning_rate=0.027129362468874846, max_depth=3, min_samples_leaf=7, min_samples_split=11, n_estimators=89; total time=   0.7s\n",
      "[CV] END learning_rate=0.08907054323463985, max_depth=14, min_samples_leaf=3, min_samples_split=18, n_estimators=94; total time=   3.2s\n"
     ]
    },
    {
     "name": "stderr",
     "output_type": "stream",
     "text": [
      "/Users/matmang/opt/anaconda3/envs/bert-study/lib/python3.10/site-packages/sklearn/ensemble/_gb.py:437: DataConversionWarning: A column-vector y was passed when a 1d array was expected. Please change the shape of y to (n_samples, ), for example using ravel().\n",
      "  y = column_or_1d(y, warn=True)\n",
      "/Users/matmang/opt/anaconda3/envs/bert-study/lib/python3.10/site-packages/sklearn/ensemble/_gb.py:437: DataConversionWarning: A column-vector y was passed when a 1d array was expected. Please change the shape of y to (n_samples, ), for example using ravel().\n",
      "  y = column_or_1d(y, warn=True)\n"
     ]
    },
    {
     "name": "stdout",
     "output_type": "stream",
     "text": [
      "[CV] END learning_rate=0.08907054323463985, max_depth=14, min_samples_leaf=3, min_samples_split=18, n_estimators=94; total time=   3.2s\n",
      "[CV] END learning_rate=0.08907054323463985, max_depth=14, min_samples_leaf=3, min_samples_split=18, n_estimators=94; total time=   3.3s\n",
      "[CV] END learning_rate=0.08907054323463985, max_depth=14, min_samples_leaf=3, min_samples_split=18, n_estimators=94; total time=   3.1s\n",
      "[CV] END learning_rate=0.08907054323463985, max_depth=14, min_samples_leaf=3, min_samples_split=18, n_estimators=94; total time=   3.3s\n"
     ]
    },
    {
     "name": "stderr",
     "output_type": "stream",
     "text": [
      "/Users/matmang/opt/anaconda3/envs/bert-study/lib/python3.10/site-packages/sklearn/ensemble/_gb.py:437: DataConversionWarning: A column-vector y was passed when a 1d array was expected. Please change the shape of y to (n_samples, ), for example using ravel().\n",
      "  y = column_or_1d(y, warn=True)\n",
      "/Users/matmang/opt/anaconda3/envs/bert-study/lib/python3.10/site-packages/sklearn/ensemble/_gb.py:437: DataConversionWarning: A column-vector y was passed when a 1d array was expected. Please change the shape of y to (n_samples, ), for example using ravel().\n",
      "  y = column_or_1d(y, warn=True)\n",
      "/Users/matmang/opt/anaconda3/envs/bert-study/lib/python3.10/site-packages/sklearn/ensemble/_gb.py:437: DataConversionWarning: A column-vector y was passed when a 1d array was expected. Please change the shape of y to (n_samples, ), for example using ravel().\n",
      "  y = column_or_1d(y, warn=True)\n",
      "/Users/matmang/opt/anaconda3/envs/bert-study/lib/python3.10/site-packages/sklearn/ensemble/_gb.py:437: DataConversionWarning: A column-vector y was passed when a 1d array was expected. Please change the shape of y to (n_samples, ), for example using ravel().\n",
      "  y = column_or_1d(y, warn=True)\n"
     ]
    },
    {
     "name": "stdout",
     "output_type": "stream",
     "text": [
      "[CV] END learning_rate=0.03756414607056444, max_depth=10, min_samples_leaf=5, min_samples_split=4, n_estimators=87; total time=   2.2s\n"
     ]
    },
    {
     "name": "stderr",
     "output_type": "stream",
     "text": [
      "/Users/matmang/opt/anaconda3/envs/bert-study/lib/python3.10/site-packages/sklearn/ensemble/_gb.py:437: DataConversionWarning: A column-vector y was passed when a 1d array was expected. Please change the shape of y to (n_samples, ), for example using ravel().\n",
      "  y = column_or_1d(y, warn=True)\n",
      "/Users/matmang/opt/anaconda3/envs/bert-study/lib/python3.10/site-packages/sklearn/ensemble/_gb.py:437: DataConversionWarning: A column-vector y was passed when a 1d array was expected. Please change the shape of y to (n_samples, ), for example using ravel().\n",
      "  y = column_or_1d(y, warn=True)\n"
     ]
    },
    {
     "name": "stdout",
     "output_type": "stream",
     "text": [
      "[CV] END learning_rate=0.03756414607056444, max_depth=10, min_samples_leaf=5, min_samples_split=4, n_estimators=87; total time=   2.2s\n",
      "[CV] END learning_rate=0.03756414607056444, max_depth=10, min_samples_leaf=5, min_samples_split=4, n_estimators=87; total time=   2.2s\n"
     ]
    },
    {
     "name": "stderr",
     "output_type": "stream",
     "text": [
      "/Users/matmang/opt/anaconda3/envs/bert-study/lib/python3.10/site-packages/sklearn/ensemble/_gb.py:437: DataConversionWarning: A column-vector y was passed when a 1d array was expected. Please change the shape of y to (n_samples, ), for example using ravel().\n",
      "  y = column_or_1d(y, warn=True)\n",
      "/Users/matmang/opt/anaconda3/envs/bert-study/lib/python3.10/site-packages/sklearn/ensemble/_gb.py:437: DataConversionWarning: A column-vector y was passed when a 1d array was expected. Please change the shape of y to (n_samples, ), for example using ravel().\n",
      "  y = column_or_1d(y, warn=True)\n",
      "/Users/matmang/opt/anaconda3/envs/bert-study/lib/python3.10/site-packages/sklearn/ensemble/_gb.py:437: DataConversionWarning: A column-vector y was passed when a 1d array was expected. Please change the shape of y to (n_samples, ), for example using ravel().\n",
      "  y = column_or_1d(y, warn=True)\n"
     ]
    },
    {
     "name": "stdout",
     "output_type": "stream",
     "text": [
      "[CV] END learning_rate=0.03756414607056444, max_depth=10, min_samples_leaf=5, min_samples_split=4, n_estimators=87; total time=   2.4s\n",
      "[CV] END learning_rate=0.03756414607056444, max_depth=10, min_samples_leaf=5, min_samples_split=4, n_estimators=87; total time=   2.4s\n",
      "[CV] END learning_rate=0.1042778725110528, max_depth=11, min_samples_leaf=4, min_samples_split=15, n_estimators=88; total time=   2.6s\n",
      "[CV] END learning_rate=0.1042778725110528, max_depth=11, min_samples_leaf=4, min_samples_split=15, n_estimators=88; total time=   2.5s\n",
      "[CV] END learning_rate=0.1042778725110528, max_depth=11, min_samples_leaf=4, min_samples_split=15, n_estimators=88; total time=   2.5s\n",
      "[CV] END learning_rate=0.1042778725110528, max_depth=11, min_samples_leaf=4, min_samples_split=15, n_estimators=88; total time=   2.5s\n",
      "[CV] END learning_rate=0.1042778725110528, max_depth=11, min_samples_leaf=4, min_samples_split=15, n_estimators=88; total time=   2.6s\n"
     ]
    },
    {
     "name": "stderr",
     "output_type": "stream",
     "text": [
      "/Users/matmang/opt/anaconda3/envs/bert-study/lib/python3.10/site-packages/sklearn/ensemble/_gb.py:437: DataConversionWarning: A column-vector y was passed when a 1d array was expected. Please change the shape of y to (n_samples, ), for example using ravel().\n",
      "  y = column_or_1d(y, warn=True)\n",
      "/Users/matmang/opt/anaconda3/envs/bert-study/lib/python3.10/site-packages/sklearn/ensemble/_gb.py:437: DataConversionWarning: A column-vector y was passed when a 1d array was expected. Please change the shape of y to (n_samples, ), for example using ravel().\n",
      "  y = column_or_1d(y, warn=True)\n",
      "/Users/matmang/opt/anaconda3/envs/bert-study/lib/python3.10/site-packages/sklearn/ensemble/_gb.py:437: DataConversionWarning: A column-vector y was passed when a 1d array was expected. Please change the shape of y to (n_samples, ), for example using ravel().\n",
      "  y = column_or_1d(y, warn=True)\n",
      "/Users/matmang/opt/anaconda3/envs/bert-study/lib/python3.10/site-packages/sklearn/ensemble/_gb.py:437: DataConversionWarning: A column-vector y was passed when a 1d array was expected. Please change the shape of y to (n_samples, ), for example using ravel().\n",
      "  y = column_or_1d(y, warn=True)\n",
      "/Users/matmang/opt/anaconda3/envs/bert-study/lib/python3.10/site-packages/sklearn/ensemble/_gb.py:437: DataConversionWarning: A column-vector y was passed when a 1d array was expected. Please change the shape of y to (n_samples, ), for example using ravel().\n",
      "  y = column_or_1d(y, warn=True)\n"
     ]
    },
    {
     "name": "stdout",
     "output_type": "stream",
     "text": [
      "[CV] END learning_rate=0.10527476303161039, max_depth=6, min_samples_leaf=1, min_samples_split=7, n_estimators=144; total time=   2.3s\n",
      "[CV] END learning_rate=0.10527476303161039, max_depth=6, min_samples_leaf=1, min_samples_split=7, n_estimators=144; total time=   2.2s\n",
      "[CV] END learning_rate=0.10527476303161039, max_depth=6, min_samples_leaf=1, min_samples_split=7, n_estimators=144; total time=   2.3s\n",
      "[CV] END learning_rate=0.10527476303161039, max_depth=6, min_samples_leaf=1, min_samples_split=7, n_estimators=144; total time=   2.2s\n",
      "[CV] END learning_rate=0.10527476303161039, max_depth=6, min_samples_leaf=1, min_samples_split=7, n_estimators=144; total time=   2.3s\n"
     ]
    },
    {
     "name": "stderr",
     "output_type": "stream",
     "text": [
      "/Users/matmang/opt/anaconda3/envs/bert-study/lib/python3.10/site-packages/sklearn/ensemble/_gb.py:437: DataConversionWarning: A column-vector y was passed when a 1d array was expected. Please change the shape of y to (n_samples, ), for example using ravel().\n",
      "  y = column_or_1d(y, warn=True)\n",
      "/Users/matmang/opt/anaconda3/envs/bert-study/lib/python3.10/site-packages/sklearn/ensemble/_gb.py:437: DataConversionWarning: A column-vector y was passed when a 1d array was expected. Please change the shape of y to (n_samples, ), for example using ravel().\n",
      "  y = column_or_1d(y, warn=True)\n",
      "/Users/matmang/opt/anaconda3/envs/bert-study/lib/python3.10/site-packages/sklearn/ensemble/_gb.py:437: DataConversionWarning: A column-vector y was passed when a 1d array was expected. Please change the shape of y to (n_samples, ), for example using ravel().\n",
      "  y = column_or_1d(y, warn=True)\n",
      "/Users/matmang/opt/anaconda3/envs/bert-study/lib/python3.10/site-packages/sklearn/ensemble/_gb.py:437: DataConversionWarning: A column-vector y was passed when a 1d array was expected. Please change the shape of y to (n_samples, ), for example using ravel().\n",
      "  y = column_or_1d(y, warn=True)\n",
      "/Users/matmang/opt/anaconda3/envs/bert-study/lib/python3.10/site-packages/sklearn/ensemble/_gb.py:437: DataConversionWarning: A column-vector y was passed when a 1d array was expected. Please change the shape of y to (n_samples, ), for example using ravel().\n",
      "  y = column_or_1d(y, warn=True)\n"
     ]
    },
    {
     "name": "stdout",
     "output_type": "stream",
     "text": [
      "[CV] END learning_rate=0.1054075000275179, max_depth=13, min_samples_leaf=7, min_samples_split=8, n_estimators=169; total time=   5.5s\n",
      "[CV] END learning_rate=0.1054075000275179, max_depth=13, min_samples_leaf=7, min_samples_split=8, n_estimators=169; total time=   5.2s\n",
      "[CV] END learning_rate=0.1054075000275179, max_depth=13, min_samples_leaf=7, min_samples_split=8, n_estimators=169; total time=   5.4s\n"
     ]
    },
    {
     "name": "stderr",
     "output_type": "stream",
     "text": [
      "/Users/matmang/opt/anaconda3/envs/bert-study/lib/python3.10/site-packages/sklearn/ensemble/_gb.py:437: DataConversionWarning: A column-vector y was passed when a 1d array was expected. Please change the shape of y to (n_samples, ), for example using ravel().\n",
      "  y = column_or_1d(y, warn=True)\n",
      "/Users/matmang/opt/anaconda3/envs/bert-study/lib/python3.10/site-packages/sklearn/ensemble/_gb.py:437: DataConversionWarning: A column-vector y was passed when a 1d array was expected. Please change the shape of y to (n_samples, ), for example using ravel().\n",
      "  y = column_or_1d(y, warn=True)\n",
      "/Users/matmang/opt/anaconda3/envs/bert-study/lib/python3.10/site-packages/sklearn/ensemble/_gb.py:437: DataConversionWarning: A column-vector y was passed when a 1d array was expected. Please change the shape of y to (n_samples, ), for example using ravel().\n",
      "  y = column_or_1d(y, warn=True)\n"
     ]
    },
    {
     "name": "stdout",
     "output_type": "stream",
     "text": [
      "[CV] END learning_rate=0.1054075000275179, max_depth=13, min_samples_leaf=7, min_samples_split=8, n_estimators=169; total time=   5.2s\n",
      "[CV] END learning_rate=0.1054075000275179, max_depth=13, min_samples_leaf=7, min_samples_split=8, n_estimators=169; total time=   5.3s\n"
     ]
    },
    {
     "name": "stderr",
     "output_type": "stream",
     "text": [
      "/Users/matmang/opt/anaconda3/envs/bert-study/lib/python3.10/site-packages/sklearn/ensemble/_gb.py:437: DataConversionWarning: A column-vector y was passed when a 1d array was expected. Please change the shape of y to (n_samples, ), for example using ravel().\n",
      "  y = column_or_1d(y, warn=True)\n",
      "/Users/matmang/opt/anaconda3/envs/bert-study/lib/python3.10/site-packages/sklearn/ensemble/_gb.py:437: DataConversionWarning: A column-vector y was passed when a 1d array was expected. Please change the shape of y to (n_samples, ), for example using ravel().\n",
      "  y = column_or_1d(y, warn=True)\n"
     ]
    },
    {
     "name": "stdout",
     "output_type": "stream",
     "text": [
      "[CV] END learning_rate=0.052557857058561946, max_depth=6, min_samples_leaf=1, min_samples_split=3, n_estimators=190; total time=   2.9s\n",
      "[CV] END learning_rate=0.052557857058561946, max_depth=6, min_samples_leaf=1, min_samples_split=3, n_estimators=190; total time=   2.9s\n",
      "[CV] END learning_rate=0.052557857058561946, max_depth=6, min_samples_leaf=1, min_samples_split=3, n_estimators=190; total time=   2.9s\n",
      "[CV] END learning_rate=0.052557857058561946, max_depth=6, min_samples_leaf=1, min_samples_split=3, n_estimators=190; total time=   3.0s\n",
      "[CV] END learning_rate=0.052557857058561946, max_depth=6, min_samples_leaf=1, min_samples_split=3, n_estimators=190; total time=   2.9s\n"
     ]
    },
    {
     "name": "stderr",
     "output_type": "stream",
     "text": [
      "/Users/matmang/opt/anaconda3/envs/bert-study/lib/python3.10/site-packages/sklearn/ensemble/_gb.py:437: DataConversionWarning: A column-vector y was passed when a 1d array was expected. Please change the shape of y to (n_samples, ), for example using ravel().\n",
      "  y = column_or_1d(y, warn=True)\n",
      "/Users/matmang/opt/anaconda3/envs/bert-study/lib/python3.10/site-packages/sklearn/ensemble/_gb.py:437: DataConversionWarning: A column-vector y was passed when a 1d array was expected. Please change the shape of y to (n_samples, ), for example using ravel().\n",
      "  y = column_or_1d(y, warn=True)\n",
      "/Users/matmang/opt/anaconda3/envs/bert-study/lib/python3.10/site-packages/sklearn/ensemble/_gb.py:437: DataConversionWarning: A column-vector y was passed when a 1d array was expected. Please change the shape of y to (n_samples, ), for example using ravel().\n",
      "  y = column_or_1d(y, warn=True)\n",
      "/Users/matmang/opt/anaconda3/envs/bert-study/lib/python3.10/site-packages/sklearn/ensemble/_gb.py:437: DataConversionWarning: A column-vector y was passed when a 1d array was expected. Please change the shape of y to (n_samples, ), for example using ravel().\n",
      "  y = column_or_1d(y, warn=True)\n",
      "/Users/matmang/opt/anaconda3/envs/bert-study/lib/python3.10/site-packages/sklearn/ensemble/_gb.py:437: DataConversionWarning: A column-vector y was passed when a 1d array was expected. Please change the shape of y to (n_samples, ), for example using ravel().\n",
      "  y = column_or_1d(y, warn=True)\n"
     ]
    },
    {
     "name": "stdout",
     "output_type": "stream",
     "text": [
      "[CV] END learning_rate=0.04528190766265205, max_depth=9, min_samples_leaf=8, min_samples_split=11, n_estimators=70; total time=   1.6s\n",
      "[CV] END learning_rate=0.04528190766265205, max_depth=9, min_samples_leaf=8, min_samples_split=11, n_estimators=70; total time=   1.5s\n",
      "[CV] END learning_rate=0.04528190766265205, max_depth=9, min_samples_leaf=8, min_samples_split=11, n_estimators=70; total time=   1.6s\n",
      "[CV] END learning_rate=0.04528190766265205, max_depth=9, min_samples_leaf=8, min_samples_split=11, n_estimators=70; total time=   1.5s\n",
      "[CV] END learning_rate=0.04528190766265205, max_depth=9, min_samples_leaf=8, min_samples_split=11, n_estimators=70; total time=   1.6s\n"
     ]
    },
    {
     "name": "stderr",
     "output_type": "stream",
     "text": [
      "/Users/matmang/opt/anaconda3/envs/bert-study/lib/python3.10/site-packages/sklearn/ensemble/_gb.py:437: DataConversionWarning: A column-vector y was passed when a 1d array was expected. Please change the shape of y to (n_samples, ), for example using ravel().\n",
      "  y = column_or_1d(y, warn=True)\n",
      "/Users/matmang/opt/anaconda3/envs/bert-study/lib/python3.10/site-packages/sklearn/ensemble/_gb.py:437: DataConversionWarning: A column-vector y was passed when a 1d array was expected. Please change the shape of y to (n_samples, ), for example using ravel().\n",
      "  y = column_or_1d(y, warn=True)\n",
      "/Users/matmang/opt/anaconda3/envs/bert-study/lib/python3.10/site-packages/sklearn/ensemble/_gb.py:437: DataConversionWarning: A column-vector y was passed when a 1d array was expected. Please change the shape of y to (n_samples, ), for example using ravel().\n",
      "  y = column_or_1d(y, warn=True)\n",
      "/Users/matmang/opt/anaconda3/envs/bert-study/lib/python3.10/site-packages/sklearn/ensemble/_gb.py:437: DataConversionWarning: A column-vector y was passed when a 1d array was expected. Please change the shape of y to (n_samples, ), for example using ravel().\n",
      "  y = column_or_1d(y, warn=True)\n",
      "/Users/matmang/opt/anaconda3/envs/bert-study/lib/python3.10/site-packages/sklearn/ensemble/_gb.py:437: DataConversionWarning: A column-vector y was passed when a 1d array was expected. Please change the shape of y to (n_samples, ), for example using ravel().\n",
      "  y = column_or_1d(y, warn=True)\n"
     ]
    },
    {
     "name": "stdout",
     "output_type": "stream",
     "text": [
      "[CV] END learning_rate=0.03038862817672973, max_depth=7, min_samples_leaf=8, min_samples_split=13, n_estimators=53; total time=   0.9s\n",
      "[CV] END learning_rate=0.03038862817672973, max_depth=7, min_samples_leaf=8, min_samples_split=13, n_estimators=53; total time=   0.9s\n",
      "[CV] END learning_rate=0.03038862817672973, max_depth=7, min_samples_leaf=8, min_samples_split=13, n_estimators=53; total time=   0.9s\n",
      "[CV] END learning_rate=0.03038862817672973, max_depth=7, min_samples_leaf=8, min_samples_split=13, n_estimators=53; total time=   0.9s\n",
      "[CV] END learning_rate=0.03038862817672973, max_depth=7, min_samples_leaf=8, min_samples_split=13, n_estimators=53; total time=   0.9s\n"
     ]
    },
    {
     "name": "stderr",
     "output_type": "stream",
     "text": [
      "/Users/matmang/opt/anaconda3/envs/bert-study/lib/python3.10/site-packages/sklearn/ensemble/_gb.py:437: DataConversionWarning: A column-vector y was passed when a 1d array was expected. Please change the shape of y to (n_samples, ), for example using ravel().\n",
      "  y = column_or_1d(y, warn=True)\n",
      "/Users/matmang/opt/anaconda3/envs/bert-study/lib/python3.10/site-packages/sklearn/ensemble/_gb.py:437: DataConversionWarning: A column-vector y was passed when a 1d array was expected. Please change the shape of y to (n_samples, ), for example using ravel().\n",
      "  y = column_or_1d(y, warn=True)\n",
      "/Users/matmang/opt/anaconda3/envs/bert-study/lib/python3.10/site-packages/sklearn/ensemble/_gb.py:437: DataConversionWarning: A column-vector y was passed when a 1d array was expected. Please change the shape of y to (n_samples, ), for example using ravel().\n",
      "  y = column_or_1d(y, warn=True)\n",
      "/Users/matmang/opt/anaconda3/envs/bert-study/lib/python3.10/site-packages/sklearn/ensemble/_gb.py:437: DataConversionWarning: A column-vector y was passed when a 1d array was expected. Please change the shape of y to (n_samples, ), for example using ravel().\n",
      "  y = column_or_1d(y, warn=True)\n",
      "/Users/matmang/opt/anaconda3/envs/bert-study/lib/python3.10/site-packages/sklearn/ensemble/_gb.py:437: DataConversionWarning: A column-vector y was passed when a 1d array was expected. Please change the shape of y to (n_samples, ), for example using ravel().\n",
      "  y = column_or_1d(y, warn=True)\n"
     ]
    },
    {
     "name": "stdout",
     "output_type": "stream",
     "text": [
      "[CV] END learning_rate=0.07538756476004124, max_depth=14, min_samples_leaf=2, min_samples_split=7, n_estimators=157; total time=   5.2s\n",
      "[CV] END learning_rate=0.07538756476004124, max_depth=14, min_samples_leaf=2, min_samples_split=7, n_estimators=157; total time=   5.2s\n",
      "[CV] END learning_rate=0.07538756476004124, max_depth=14, min_samples_leaf=2, min_samples_split=7, n_estimators=157; total time=   5.4s\n"
     ]
    },
    {
     "name": "stderr",
     "output_type": "stream",
     "text": [
      "/Users/matmang/opt/anaconda3/envs/bert-study/lib/python3.10/site-packages/sklearn/ensemble/_gb.py:437: DataConversionWarning: A column-vector y was passed when a 1d array was expected. Please change the shape of y to (n_samples, ), for example using ravel().\n",
      "  y = column_or_1d(y, warn=True)\n",
      "/Users/matmang/opt/anaconda3/envs/bert-study/lib/python3.10/site-packages/sklearn/ensemble/_gb.py:437: DataConversionWarning: A column-vector y was passed when a 1d array was expected. Please change the shape of y to (n_samples, ), for example using ravel().\n",
      "  y = column_or_1d(y, warn=True)\n"
     ]
    },
    {
     "name": "stdout",
     "output_type": "stream",
     "text": [
      "[CV] END learning_rate=0.07538756476004124, max_depth=14, min_samples_leaf=2, min_samples_split=7, n_estimators=157; total time=   5.3s\n",
      "[CV] END learning_rate=0.07538756476004124, max_depth=14, min_samples_leaf=2, min_samples_split=7, n_estimators=157; total time=   5.1s\n"
     ]
    },
    {
     "name": "stderr",
     "output_type": "stream",
     "text": [
      "/Users/matmang/opt/anaconda3/envs/bert-study/lib/python3.10/site-packages/sklearn/ensemble/_gb.py:437: DataConversionWarning: A column-vector y was passed when a 1d array was expected. Please change the shape of y to (n_samples, ), for example using ravel().\n",
      "  y = column_or_1d(y, warn=True)\n",
      "/Users/matmang/opt/anaconda3/envs/bert-study/lib/python3.10/site-packages/sklearn/ensemble/_gb.py:437: DataConversionWarning: A column-vector y was passed when a 1d array was expected. Please change the shape of y to (n_samples, ), for example using ravel().\n",
      "  y = column_or_1d(y, warn=True)\n",
      "/Users/matmang/opt/anaconda3/envs/bert-study/lib/python3.10/site-packages/sklearn/ensemble/_gb.py:437: DataConversionWarning: A column-vector y was passed when a 1d array was expected. Please change the shape of y to (n_samples, ), for example using ravel().\n",
      "  y = column_or_1d(y, warn=True)\n"
     ]
    },
    {
     "name": "stdout",
     "output_type": "stream",
     "text": [
      "[CV] END learning_rate=0.03143418855136239, max_depth=12, min_samples_leaf=1, min_samples_split=18, n_estimators=196; total time=   5.5s\n",
      "[CV] END learning_rate=0.03143418855136239, max_depth=12, min_samples_leaf=1, min_samples_split=18, n_estimators=196; total time=   5.7s\n",
      "[CV] END learning_rate=0.03143418855136239, max_depth=12, min_samples_leaf=1, min_samples_split=18, n_estimators=196; total time=   5.6s\n"
     ]
    },
    {
     "name": "stderr",
     "output_type": "stream",
     "text": [
      "/Users/matmang/opt/anaconda3/envs/bert-study/lib/python3.10/site-packages/sklearn/ensemble/_gb.py:437: DataConversionWarning: A column-vector y was passed when a 1d array was expected. Please change the shape of y to (n_samples, ), for example using ravel().\n",
      "  y = column_or_1d(y, warn=True)\n",
      "/Users/matmang/opt/anaconda3/envs/bert-study/lib/python3.10/site-packages/sklearn/ensemble/_gb.py:437: DataConversionWarning: A column-vector y was passed when a 1d array was expected. Please change the shape of y to (n_samples, ), for example using ravel().\n",
      "  y = column_or_1d(y, warn=True)\n",
      "/Users/matmang/opt/anaconda3/envs/bert-study/lib/python3.10/site-packages/sklearn/ensemble/_gb.py:437: DataConversionWarning: A column-vector y was passed when a 1d array was expected. Please change the shape of y to (n_samples, ), for example using ravel().\n",
      "  y = column_or_1d(y, warn=True)\n"
     ]
    },
    {
     "name": "stdout",
     "output_type": "stream",
     "text": [
      "[CV] END learning_rate=0.03143418855136239, max_depth=12, min_samples_leaf=1, min_samples_split=18, n_estimators=196; total time=   5.8s\n",
      "[CV] END learning_rate=0.03143418855136239, max_depth=12, min_samples_leaf=1, min_samples_split=18, n_estimators=196; total time=   5.8s\n"
     ]
    },
    {
     "name": "stderr",
     "output_type": "stream",
     "text": [
      "/Users/matmang/opt/anaconda3/envs/bert-study/lib/python3.10/site-packages/sklearn/ensemble/_gb.py:437: DataConversionWarning: A column-vector y was passed when a 1d array was expected. Please change the shape of y to (n_samples, ), for example using ravel().\n",
      "  y = column_or_1d(y, warn=True)\n",
      "/Users/matmang/opt/anaconda3/envs/bert-study/lib/python3.10/site-packages/sklearn/ensemble/_gb.py:437: DataConversionWarning: A column-vector y was passed when a 1d array was expected. Please change the shape of y to (n_samples, ), for example using ravel().\n",
      "  y = column_or_1d(y, warn=True)\n"
     ]
    },
    {
     "name": "stdout",
     "output_type": "stream",
     "text": [
      "[CV] END learning_rate=0.023045193510238128, max_depth=12, min_samples_leaf=5, min_samples_split=7, n_estimators=170; total time=   4.9s\n"
     ]
    },
    {
     "name": "stderr",
     "output_type": "stream",
     "text": [
      "/Users/matmang/opt/anaconda3/envs/bert-study/lib/python3.10/site-packages/sklearn/ensemble/_gb.py:437: DataConversionWarning: A column-vector y was passed when a 1d array was expected. Please change the shape of y to (n_samples, ), for example using ravel().\n",
      "  y = column_or_1d(y, warn=True)\n"
     ]
    },
    {
     "name": "stdout",
     "output_type": "stream",
     "text": [
      "[CV] END learning_rate=0.023045193510238128, max_depth=12, min_samples_leaf=5, min_samples_split=7, n_estimators=170; total time=   4.9s\n",
      "[CV] END learning_rate=0.023045193510238128, max_depth=12, min_samples_leaf=5, min_samples_split=7, n_estimators=170; total time=   4.9s\n",
      "[CV] END learning_rate=0.023045193510238128, max_depth=12, min_samples_leaf=5, min_samples_split=7, n_estimators=170; total time=   4.9s\n",
      "[CV] END learning_rate=0.023045193510238128, max_depth=12, min_samples_leaf=5, min_samples_split=7, n_estimators=170; total time=   4.9s\n"
     ]
    },
    {
     "name": "stderr",
     "output_type": "stream",
     "text": [
      "/Users/matmang/opt/anaconda3/envs/bert-study/lib/python3.10/site-packages/sklearn/ensemble/_gb.py:437: DataConversionWarning: A column-vector y was passed when a 1d array was expected. Please change the shape of y to (n_samples, ), for example using ravel().\n",
      "  y = column_or_1d(y, warn=True)\n",
      "/Users/matmang/opt/anaconda3/envs/bert-study/lib/python3.10/site-packages/sklearn/ensemble/_gb.py:437: DataConversionWarning: A column-vector y was passed when a 1d array was expected. Please change the shape of y to (n_samples, ), for example using ravel().\n",
      "  y = column_or_1d(y, warn=True)\n",
      "/Users/matmang/opt/anaconda3/envs/bert-study/lib/python3.10/site-packages/sklearn/ensemble/_gb.py:437: DataConversionWarning: A column-vector y was passed when a 1d array was expected. Please change the shape of y to (n_samples, ), for example using ravel().\n",
      "  y = column_or_1d(y, warn=True)\n",
      "/Users/matmang/opt/anaconda3/envs/bert-study/lib/python3.10/site-packages/sklearn/ensemble/_gb.py:437: DataConversionWarning: A column-vector y was passed when a 1d array was expected. Please change the shape of y to (n_samples, ), for example using ravel().\n",
      "  y = column_or_1d(y, warn=True)\n"
     ]
    },
    {
     "name": "stdout",
     "output_type": "stream",
     "text": [
      "[CV] END learning_rate=0.09188891586217138, max_depth=14, min_samples_leaf=7, min_samples_split=12, n_estimators=59; total time=   2.0s\n",
      "[CV] END learning_rate=0.09188891586217138, max_depth=14, min_samples_leaf=7, min_samples_split=12, n_estimators=59; total time=   1.9s\n",
      "[CV] END learning_rate=0.09188891586217138, max_depth=14, min_samples_leaf=7, min_samples_split=12, n_estimators=59; total time=   1.9s\n",
      "[CV] END learning_rate=0.09188891586217138, max_depth=14, min_samples_leaf=7, min_samples_split=12, n_estimators=59; total time=   1.8s\n"
     ]
    },
    {
     "name": "stderr",
     "output_type": "stream",
     "text": [
      "/Users/matmang/opt/anaconda3/envs/bert-study/lib/python3.10/site-packages/sklearn/ensemble/_gb.py:437: DataConversionWarning: A column-vector y was passed when a 1d array was expected. Please change the shape of y to (n_samples, ), for example using ravel().\n",
      "  y = column_or_1d(y, warn=True)\n",
      "/Users/matmang/opt/anaconda3/envs/bert-study/lib/python3.10/site-packages/sklearn/ensemble/_gb.py:437: DataConversionWarning: A column-vector y was passed when a 1d array was expected. Please change the shape of y to (n_samples, ), for example using ravel().\n",
      "  y = column_or_1d(y, warn=True)\n",
      "/Users/matmang/opt/anaconda3/envs/bert-study/lib/python3.10/site-packages/sklearn/ensemble/_gb.py:437: DataConversionWarning: A column-vector y was passed when a 1d array was expected. Please change the shape of y to (n_samples, ), for example using ravel().\n",
      "  y = column_or_1d(y, warn=True)\n",
      "/Users/matmang/opt/anaconda3/envs/bert-study/lib/python3.10/site-packages/sklearn/ensemble/_gb.py:437: DataConversionWarning: A column-vector y was passed when a 1d array was expected. Please change the shape of y to (n_samples, ), for example using ravel().\n",
      "  y = column_or_1d(y, warn=True)\n"
     ]
    },
    {
     "name": "stdout",
     "output_type": "stream",
     "text": [
      "[CV] END learning_rate=0.09188891586217138, max_depth=14, min_samples_leaf=7, min_samples_split=12, n_estimators=59; total time=   1.9s\n"
     ]
    },
    {
     "name": "stderr",
     "output_type": "stream",
     "text": [
      "/Users/matmang/opt/anaconda3/envs/bert-study/lib/python3.10/site-packages/sklearn/ensemble/_gb.py:437: DataConversionWarning: A column-vector y was passed when a 1d array was expected. Please change the shape of y to (n_samples, ), for example using ravel().\n",
      "  y = column_or_1d(y, warn=True)\n"
     ]
    },
    {
     "name": "stdout",
     "output_type": "stream",
     "text": [
      "[CV] END learning_rate=0.04587462997645387, max_depth=7, min_samples_leaf=7, min_samples_split=12, n_estimators=103; total time=   1.8s\n"
     ]
    },
    {
     "name": "stderr",
     "output_type": "stream",
     "text": [
      "/Users/matmang/opt/anaconda3/envs/bert-study/lib/python3.10/site-packages/sklearn/ensemble/_gb.py:437: DataConversionWarning: A column-vector y was passed when a 1d array was expected. Please change the shape of y to (n_samples, ), for example using ravel().\n",
      "  y = column_or_1d(y, warn=True)\n"
     ]
    },
    {
     "name": "stdout",
     "output_type": "stream",
     "text": [
      "[CV] END learning_rate=0.04587462997645387, max_depth=7, min_samples_leaf=7, min_samples_split=12, n_estimators=103; total time=   1.8s\n",
      "[CV] END learning_rate=0.04587462997645387, max_depth=7, min_samples_leaf=7, min_samples_split=12, n_estimators=103; total time=   1.9s\n",
      "[CV] END learning_rate=0.04587462997645387, max_depth=7, min_samples_leaf=7, min_samples_split=12, n_estimators=103; total time=   1.9s\n",
      "[CV] END learning_rate=0.04587462997645387, max_depth=7, min_samples_leaf=7, min_samples_split=12, n_estimators=103; total time=   1.9s\n"
     ]
    },
    {
     "name": "stderr",
     "output_type": "stream",
     "text": [
      "/Users/matmang/opt/anaconda3/envs/bert-study/lib/python3.10/site-packages/sklearn/ensemble/_gb.py:437: DataConversionWarning: A column-vector y was passed when a 1d array was expected. Please change the shape of y to (n_samples, ), for example using ravel().\n",
      "  y = column_or_1d(y, warn=True)\n",
      "/Users/matmang/opt/anaconda3/envs/bert-study/lib/python3.10/site-packages/sklearn/ensemble/_gb.py:437: DataConversionWarning: A column-vector y was passed when a 1d array was expected. Please change the shape of y to (n_samples, ), for example using ravel().\n",
      "  y = column_or_1d(y, warn=True)\n",
      "/Users/matmang/opt/anaconda3/envs/bert-study/lib/python3.10/site-packages/sklearn/ensemble/_gb.py:437: DataConversionWarning: A column-vector y was passed when a 1d array was expected. Please change the shape of y to (n_samples, ), for example using ravel().\n",
      "  y = column_or_1d(y, warn=True)\n",
      "/Users/matmang/opt/anaconda3/envs/bert-study/lib/python3.10/site-packages/sklearn/ensemble/_gb.py:437: DataConversionWarning: A column-vector y was passed when a 1d array was expected. Please change the shape of y to (n_samples, ), for example using ravel().\n",
      "  y = column_or_1d(y, warn=True)\n"
     ]
    },
    {
     "name": "stdout",
     "output_type": "stream",
     "text": [
      "[CV] END learning_rate=0.08849918590482457, max_depth=7, min_samples_leaf=6, min_samples_split=12, n_estimators=105; total time=   1.9s\n",
      "[CV] END learning_rate=0.08849918590482457, max_depth=7, min_samples_leaf=6, min_samples_split=12, n_estimators=105; total time=   1.9s\n"
     ]
    },
    {
     "name": "stderr",
     "output_type": "stream",
     "text": [
      "/Users/matmang/opt/anaconda3/envs/bert-study/lib/python3.10/site-packages/sklearn/ensemble/_gb.py:437: DataConversionWarning: A column-vector y was passed when a 1d array was expected. Please change the shape of y to (n_samples, ), for example using ravel().\n",
      "  y = column_or_1d(y, warn=True)\n",
      "/Users/matmang/opt/anaconda3/envs/bert-study/lib/python3.10/site-packages/sklearn/ensemble/_gb.py:437: DataConversionWarning: A column-vector y was passed when a 1d array was expected. Please change the shape of y to (n_samples, ), for example using ravel().\n",
      "  y = column_or_1d(y, warn=True)\n"
     ]
    },
    {
     "name": "stdout",
     "output_type": "stream",
     "text": [
      "[CV] END learning_rate=0.08849918590482457, max_depth=7, min_samples_leaf=6, min_samples_split=12, n_estimators=105; total time=   1.9s\n",
      "[CV] END learning_rate=0.08849918590482457, max_depth=7, min_samples_leaf=6, min_samples_split=12, n_estimators=105; total time=   1.9s\n",
      "[CV] END learning_rate=0.08849918590482457, max_depth=7, min_samples_leaf=6, min_samples_split=12, n_estimators=105; total time=   1.9s\n"
     ]
    },
    {
     "name": "stderr",
     "output_type": "stream",
     "text": [
      "/Users/matmang/opt/anaconda3/envs/bert-study/lib/python3.10/site-packages/sklearn/ensemble/_gb.py:437: DataConversionWarning: A column-vector y was passed when a 1d array was expected. Please change the shape of y to (n_samples, ), for example using ravel().\n",
      "  y = column_or_1d(y, warn=True)\n",
      "/Users/matmang/opt/anaconda3/envs/bert-study/lib/python3.10/site-packages/sklearn/ensemble/_gb.py:437: DataConversionWarning: A column-vector y was passed when a 1d array was expected. Please change the shape of y to (n_samples, ), for example using ravel().\n",
      "  y = column_or_1d(y, warn=True)\n",
      "/Users/matmang/opt/anaconda3/envs/bert-study/lib/python3.10/site-packages/sklearn/ensemble/_gb.py:437: DataConversionWarning: A column-vector y was passed when a 1d array was expected. Please change the shape of y to (n_samples, ), for example using ravel().\n",
      "  y = column_or_1d(y, warn=True)\n"
     ]
    },
    {
     "name": "stdout",
     "output_type": "stream",
     "text": [
      "[CV] END learning_rate=0.10506099975340837, max_depth=11, min_samples_leaf=7, min_samples_split=15, n_estimators=167; total time=   4.5s\n",
      "[CV] END learning_rate=0.10506099975340837, max_depth=11, min_samples_leaf=7, min_samples_split=15, n_estimators=167; total time=   4.4s\n",
      "[CV] END learning_rate=0.10506099975340837, max_depth=11, min_samples_leaf=7, min_samples_split=15, n_estimators=167; total time=   4.5s\n",
      "[CV] END learning_rate=0.10506099975340837, max_depth=11, min_samples_leaf=7, min_samples_split=15, n_estimators=167; total time=   4.5s\n"
     ]
    },
    {
     "name": "stderr",
     "output_type": "stream",
     "text": [
      "/Users/matmang/opt/anaconda3/envs/bert-study/lib/python3.10/site-packages/sklearn/ensemble/_gb.py:437: DataConversionWarning: A column-vector y was passed when a 1d array was expected. Please change the shape of y to (n_samples, ), for example using ravel().\n",
      "  y = column_or_1d(y, warn=True)\n",
      "/Users/matmang/opt/anaconda3/envs/bert-study/lib/python3.10/site-packages/sklearn/ensemble/_gb.py:437: DataConversionWarning: A column-vector y was passed when a 1d array was expected. Please change the shape of y to (n_samples, ), for example using ravel().\n",
      "  y = column_or_1d(y, warn=True)\n",
      "/Users/matmang/opt/anaconda3/envs/bert-study/lib/python3.10/site-packages/sklearn/ensemble/_gb.py:437: DataConversionWarning: A column-vector y was passed when a 1d array was expected. Please change the shape of y to (n_samples, ), for example using ravel().\n",
      "  y = column_or_1d(y, warn=True)\n",
      "/Users/matmang/opt/anaconda3/envs/bert-study/lib/python3.10/site-packages/sklearn/ensemble/_gb.py:437: DataConversionWarning: A column-vector y was passed when a 1d array was expected. Please change the shape of y to (n_samples, ), for example using ravel().\n",
      "  y = column_or_1d(y, warn=True)\n"
     ]
    },
    {
     "name": "stdout",
     "output_type": "stream",
     "text": [
      "[CV] END learning_rate=0.10506099975340837, max_depth=11, min_samples_leaf=7, min_samples_split=15, n_estimators=167; total time=   4.5s\n"
     ]
    },
    {
     "name": "stderr",
     "output_type": "stream",
     "text": [
      "/Users/matmang/opt/anaconda3/envs/bert-study/lib/python3.10/site-packages/sklearn/ensemble/_gb.py:437: DataConversionWarning: A column-vector y was passed when a 1d array was expected. Please change the shape of y to (n_samples, ), for example using ravel().\n",
      "  y = column_or_1d(y, warn=True)\n"
     ]
    },
    {
     "name": "stdout",
     "output_type": "stream",
     "text": [
      "[CV] END learning_rate=0.029524538911475398, max_depth=3, min_samples_leaf=7, min_samples_split=11, n_estimators=130; total time=   1.0s\n",
      "[CV] END learning_rate=0.029524538911475398, max_depth=3, min_samples_leaf=7, min_samples_split=11, n_estimators=130; total time=   1.0s\n",
      "[CV] END learning_rate=0.038059366419823805, max_depth=12, min_samples_leaf=6, min_samples_split=13, n_estimators=81; total time=   2.3s\n",
      "[CV] END learning_rate=0.029524538911475398, max_depth=3, min_samples_leaf=7, min_samples_split=11, n_estimators=130; total time=   1.0s\n",
      "[CV] END learning_rate=0.038059366419823805, max_depth=12, min_samples_leaf=6, min_samples_split=13, n_estimators=81; total time=   2.2s\n",
      "[CV] END learning_rate=0.029524538911475398, max_depth=3, min_samples_leaf=7, min_samples_split=11, n_estimators=130; total time=   1.0s\n"
     ]
    },
    {
     "name": "stderr",
     "output_type": "stream",
     "text": [
      "/Users/matmang/opt/anaconda3/envs/bert-study/lib/python3.10/site-packages/sklearn/ensemble/_gb.py:437: DataConversionWarning: A column-vector y was passed when a 1d array was expected. Please change the shape of y to (n_samples, ), for example using ravel().\n",
      "  y = column_or_1d(y, warn=True)\n",
      "/Users/matmang/opt/anaconda3/envs/bert-study/lib/python3.10/site-packages/sklearn/ensemble/_gb.py:437: DataConversionWarning: A column-vector y was passed when a 1d array was expected. Please change the shape of y to (n_samples, ), for example using ravel().\n",
      "  y = column_or_1d(y, warn=True)\n",
      "/Users/matmang/opt/anaconda3/envs/bert-study/lib/python3.10/site-packages/sklearn/ensemble/_gb.py:437: DataConversionWarning: A column-vector y was passed when a 1d array was expected. Please change the shape of y to (n_samples, ), for example using ravel().\n",
      "  y = column_or_1d(y, warn=True)\n",
      "/Users/matmang/opt/anaconda3/envs/bert-study/lib/python3.10/site-packages/sklearn/ensemble/_gb.py:437: DataConversionWarning: A column-vector y was passed when a 1d array was expected. Please change the shape of y to (n_samples, ), for example using ravel().\n",
      "  y = column_or_1d(y, warn=True)\n",
      "/Users/matmang/opt/anaconda3/envs/bert-study/lib/python3.10/site-packages/sklearn/ensemble/_gb.py:437: DataConversionWarning: A column-vector y was passed when a 1d array was expected. Please change the shape of y to (n_samples, ), for example using ravel().\n",
      "  y = column_or_1d(y, warn=True)\n",
      "/Users/matmang/opt/anaconda3/envs/bert-study/lib/python3.10/site-packages/sklearn/ensemble/_gb.py:437: DataConversionWarning: A column-vector y was passed when a 1d array was expected. Please change the shape of y to (n_samples, ), for example using ravel().\n",
      "  y = column_or_1d(y, warn=True)\n"
     ]
    },
    {
     "name": "stdout",
     "output_type": "stream",
     "text": [
      "[CV] END learning_rate=0.038059366419823805, max_depth=12, min_samples_leaf=6, min_samples_split=13, n_estimators=81; total time=   2.4s\n",
      "[CV] END learning_rate=0.038059366419823805, max_depth=12, min_samples_leaf=6, min_samples_split=13, n_estimators=81; total time=   2.2s\n",
      "[CV] END learning_rate=0.038059366419823805, max_depth=12, min_samples_leaf=6, min_samples_split=13, n_estimators=81; total time=   2.3s\n",
      "[CV] END learning_rate=0.029524538911475398, max_depth=3, min_samples_leaf=7, min_samples_split=11, n_estimators=130; total time=   1.1s\n"
     ]
    },
    {
     "name": "stderr",
     "output_type": "stream",
     "text": [
      "/Users/matmang/opt/anaconda3/envs/bert-study/lib/python3.10/site-packages/sklearn/ensemble/_gb.py:437: DataConversionWarning: A column-vector y was passed when a 1d array was expected. Please change the shape of y to (n_samples, ), for example using ravel().\n",
      "  y = column_or_1d(y, warn=True)\n",
      "/Users/matmang/opt/anaconda3/envs/bert-study/lib/python3.10/site-packages/sklearn/ensemble/_gb.py:437: DataConversionWarning: A column-vector y was passed when a 1d array was expected. Please change the shape of y to (n_samples, ), for example using ravel().\n",
      "  y = column_or_1d(y, warn=True)\n",
      "/Users/matmang/opt/anaconda3/envs/bert-study/lib/python3.10/site-packages/sklearn/ensemble/_gb.py:437: DataConversionWarning: A column-vector y was passed when a 1d array was expected. Please change the shape of y to (n_samples, ), for example using ravel().\n",
      "  y = column_or_1d(y, warn=True)\n",
      "/Users/matmang/opt/anaconda3/envs/bert-study/lib/python3.10/site-packages/sklearn/ensemble/_gb.py:437: DataConversionWarning: A column-vector y was passed when a 1d array was expected. Please change the shape of y to (n_samples, ), for example using ravel().\n",
      "  y = column_or_1d(y, warn=True)\n"
     ]
    },
    {
     "name": "stdout",
     "output_type": "stream",
     "text": [
      "[CV] END learning_rate=0.019422247954013067, max_depth=11, min_samples_leaf=7, min_samples_split=15, n_estimators=54; total time=   1.5s\n",
      "[CV] END learning_rate=0.019422247954013067, max_depth=11, min_samples_leaf=7, min_samples_split=15, n_estimators=54; total time=   1.6s\n",
      "[CV] END learning_rate=0.019422247954013067, max_depth=11, min_samples_leaf=7, min_samples_split=15, n_estimators=54; total time=   1.5s\n",
      "[CV] END learning_rate=0.019422247954013067, max_depth=11, min_samples_leaf=7, min_samples_split=15, n_estimators=54; total time=   1.6s\n"
     ]
    },
    {
     "name": "stderr",
     "output_type": "stream",
     "text": [
      "/Users/matmang/opt/anaconda3/envs/bert-study/lib/python3.10/site-packages/sklearn/ensemble/_gb.py:437: DataConversionWarning: A column-vector y was passed when a 1d array was expected. Please change the shape of y to (n_samples, ), for example using ravel().\n",
      "  y = column_or_1d(y, warn=True)\n",
      "/Users/matmang/opt/anaconda3/envs/bert-study/lib/python3.10/site-packages/sklearn/ensemble/_gb.py:437: DataConversionWarning: A column-vector y was passed when a 1d array was expected. Please change the shape of y to (n_samples, ), for example using ravel().\n",
      "  y = column_or_1d(y, warn=True)\n",
      "/Users/matmang/opt/anaconda3/envs/bert-study/lib/python3.10/site-packages/sklearn/ensemble/_gb.py:437: DataConversionWarning: A column-vector y was passed when a 1d array was expected. Please change the shape of y to (n_samples, ), for example using ravel().\n",
      "  y = column_or_1d(y, warn=True)\n",
      "/Users/matmang/opt/anaconda3/envs/bert-study/lib/python3.10/site-packages/sklearn/ensemble/_gb.py:437: DataConversionWarning: A column-vector y was passed when a 1d array was expected. Please change the shape of y to (n_samples, ), for example using ravel().\n",
      "  y = column_or_1d(y, warn=True)\n"
     ]
    },
    {
     "name": "stdout",
     "output_type": "stream",
     "text": [
      "[CV] END learning_rate=0.019422247954013067, max_depth=11, min_samples_leaf=7, min_samples_split=15, n_estimators=54; total time=   1.6s\n",
      "[CV] END learning_rate=0.09651209432626746, max_depth=3, min_samples_leaf=4, min_samples_split=17, n_estimators=189; total time=   1.7s\n",
      "[CV] END learning_rate=0.09651209432626746, max_depth=3, min_samples_leaf=4, min_samples_split=17, n_estimators=189; total time=   1.7s\n",
      "[CV] END learning_rate=0.09651209432626746, max_depth=3, min_samples_leaf=4, min_samples_split=17, n_estimators=189; total time=   1.7s\n"
     ]
    },
    {
     "name": "stderr",
     "output_type": "stream",
     "text": [
      "/Users/matmang/opt/anaconda3/envs/bert-study/lib/python3.10/site-packages/sklearn/ensemble/_gb.py:437: DataConversionWarning: A column-vector y was passed when a 1d array was expected. Please change the shape of y to (n_samples, ), for example using ravel().\n",
      "  y = column_or_1d(y, warn=True)\n",
      "/Users/matmang/opt/anaconda3/envs/bert-study/lib/python3.10/site-packages/sklearn/ensemble/_gb.py:437: DataConversionWarning: A column-vector y was passed when a 1d array was expected. Please change the shape of y to (n_samples, ), for example using ravel().\n",
      "  y = column_or_1d(y, warn=True)\n",
      "/Users/matmang/opt/anaconda3/envs/bert-study/lib/python3.10/site-packages/sklearn/ensemble/_gb.py:437: DataConversionWarning: A column-vector y was passed when a 1d array was expected. Please change the shape of y to (n_samples, ), for example using ravel().\n",
      "  y = column_or_1d(y, warn=True)\n",
      "/Users/matmang/opt/anaconda3/envs/bert-study/lib/python3.10/site-packages/sklearn/ensemble/_gb.py:437: DataConversionWarning: A column-vector y was passed when a 1d array was expected. Please change the shape of y to (n_samples, ), for example using ravel().\n",
      "  y = column_or_1d(y, warn=True)\n"
     ]
    },
    {
     "name": "stdout",
     "output_type": "stream",
     "text": [
      "[CV] END learning_rate=0.09651209432626746, max_depth=3, min_samples_leaf=4, min_samples_split=17, n_estimators=189; total time=   1.7s\n",
      "[CV] END learning_rate=0.09651209432626746, max_depth=3, min_samples_leaf=4, min_samples_split=17, n_estimators=189; total time=   1.7s\n"
     ]
    },
    {
     "name": "stderr",
     "output_type": "stream",
     "text": [
      "/Users/matmang/opt/anaconda3/envs/bert-study/lib/python3.10/site-packages/sklearn/ensemble/_gb.py:437: DataConversionWarning: A column-vector y was passed when a 1d array was expected. Please change the shape of y to (n_samples, ), for example using ravel().\n",
      "  y = column_or_1d(y, warn=True)\n",
      "/Users/matmang/opt/anaconda3/envs/bert-study/lib/python3.10/site-packages/sklearn/ensemble/_gb.py:437: DataConversionWarning: A column-vector y was passed when a 1d array was expected. Please change the shape of y to (n_samples, ), for example using ravel().\n",
      "  y = column_or_1d(y, warn=True)\n"
     ]
    },
    {
     "name": "stdout",
     "output_type": "stream",
     "text": [
      "[CV] END learning_rate=0.09043814416118089, max_depth=3, min_samples_leaf=5, min_samples_split=7, n_estimators=100; total time=   0.9s\n",
      "[CV] END learning_rate=0.09043814416118089, max_depth=3, min_samples_leaf=5, min_samples_split=7, n_estimators=100; total time=   0.9s\n",
      "[CV] END learning_rate=0.09043814416118089, max_depth=3, min_samples_leaf=5, min_samples_split=7, n_estimators=100; total time=   0.9s\n",
      "[CV] END learning_rate=0.09043814416118089, max_depth=3, min_samples_leaf=5, min_samples_split=7, n_estimators=100; total time=   0.8s\n",
      "[CV] END learning_rate=0.09043814416118089, max_depth=3, min_samples_leaf=5, min_samples_split=7, n_estimators=100; total time=   0.9s\n"
     ]
    },
    {
     "name": "stderr",
     "output_type": "stream",
     "text": [
      "/Users/matmang/opt/anaconda3/envs/bert-study/lib/python3.10/site-packages/sklearn/ensemble/_gb.py:437: DataConversionWarning: A column-vector y was passed when a 1d array was expected. Please change the shape of y to (n_samples, ), for example using ravel().\n",
      "  y = column_or_1d(y, warn=True)\n",
      "/Users/matmang/opt/anaconda3/envs/bert-study/lib/python3.10/site-packages/sklearn/ensemble/_gb.py:437: DataConversionWarning: A column-vector y was passed when a 1d array was expected. Please change the shape of y to (n_samples, ), for example using ravel().\n",
      "  y = column_or_1d(y, warn=True)\n",
      "/Users/matmang/opt/anaconda3/envs/bert-study/lib/python3.10/site-packages/sklearn/ensemble/_gb.py:437: DataConversionWarning: A column-vector y was passed when a 1d array was expected. Please change the shape of y to (n_samples, ), for example using ravel().\n",
      "  y = column_or_1d(y, warn=True)\n",
      "/Users/matmang/opt/anaconda3/envs/bert-study/lib/python3.10/site-packages/sklearn/ensemble/_gb.py:437: DataConversionWarning: A column-vector y was passed when a 1d array was expected. Please change the shape of y to (n_samples, ), for example using ravel().\n",
      "  y = column_or_1d(y, warn=True)\n",
      "/Users/matmang/opt/anaconda3/envs/bert-study/lib/python3.10/site-packages/sklearn/ensemble/_gb.py:437: DataConversionWarning: A column-vector y was passed when a 1d array was expected. Please change the shape of y to (n_samples, ), for example using ravel().\n",
      "  y = column_or_1d(y, warn=True)\n"
     ]
    },
    {
     "name": "stdout",
     "output_type": "stream",
     "text": [
      "[CV] END learning_rate=0.04162898454060659, max_depth=14, min_samples_leaf=5, min_samples_split=4, n_estimators=60; total time=   2.0s\n",
      "[CV] END learning_rate=0.04162898454060659, max_depth=14, min_samples_leaf=5, min_samples_split=4, n_estimators=60; total time=   2.1s\n",
      "[CV] END learning_rate=0.04162898454060659, max_depth=14, min_samples_leaf=5, min_samples_split=4, n_estimators=60; total time=   2.1s\n"
     ]
    },
    {
     "name": "stderr",
     "output_type": "stream",
     "text": [
      "/Users/matmang/opt/anaconda3/envs/bert-study/lib/python3.10/site-packages/sklearn/ensemble/_gb.py:437: DataConversionWarning: A column-vector y was passed when a 1d array was expected. Please change the shape of y to (n_samples, ), for example using ravel().\n",
      "  y = column_or_1d(y, warn=True)\n",
      "/Users/matmang/opt/anaconda3/envs/bert-study/lib/python3.10/site-packages/sklearn/ensemble/_gb.py:437: DataConversionWarning: A column-vector y was passed when a 1d array was expected. Please change the shape of y to (n_samples, ), for example using ravel().\n",
      "  y = column_or_1d(y, warn=True)\n",
      "/Users/matmang/opt/anaconda3/envs/bert-study/lib/python3.10/site-packages/sklearn/ensemble/_gb.py:437: DataConversionWarning: A column-vector y was passed when a 1d array was expected. Please change the shape of y to (n_samples, ), for example using ravel().\n",
      "  y = column_or_1d(y, warn=True)\n"
     ]
    },
    {
     "name": "stdout",
     "output_type": "stream",
     "text": [
      "[CV] END learning_rate=0.04162898454060659, max_depth=14, min_samples_leaf=5, min_samples_split=4, n_estimators=60; total time=   2.0s\n",
      "[CV] END learning_rate=0.04162898454060659, max_depth=14, min_samples_leaf=5, min_samples_split=4, n_estimators=60; total time=   2.1s\n"
     ]
    },
    {
     "name": "stderr",
     "output_type": "stream",
     "text": [
      "/Users/matmang/opt/anaconda3/envs/bert-study/lib/python3.10/site-packages/sklearn/ensemble/_gb.py:437: DataConversionWarning: A column-vector y was passed when a 1d array was expected. Please change the shape of y to (n_samples, ), for example using ravel().\n",
      "  y = column_or_1d(y, warn=True)\n",
      "/Users/matmang/opt/anaconda3/envs/bert-study/lib/python3.10/site-packages/sklearn/ensemble/_gb.py:437: DataConversionWarning: A column-vector y was passed when a 1d array was expected. Please change the shape of y to (n_samples, ), for example using ravel().\n",
      "  y = column_or_1d(y, warn=True)\n"
     ]
    },
    {
     "name": "stdout",
     "output_type": "stream",
     "text": [
      "[CV] END learning_rate=0.02863427011191127, max_depth=3, min_samples_leaf=6, min_samples_split=2, n_estimators=58; total time=   0.6s\n",
      "[CV] END learning_rate=0.02863427011191127, max_depth=3, min_samples_leaf=6, min_samples_split=2, n_estimators=58; total time=   0.5s\n",
      "[CV] END learning_rate=0.02863427011191127, max_depth=3, min_samples_leaf=6, min_samples_split=2, n_estimators=58; total time=   0.5s\n",
      "[CV] END learning_rate=0.02863427011191127, max_depth=3, min_samples_leaf=6, min_samples_split=2, n_estimators=58; total time=   0.5s\n"
     ]
    },
    {
     "name": "stderr",
     "output_type": "stream",
     "text": [
      "/Users/matmang/opt/anaconda3/envs/bert-study/lib/python3.10/site-packages/sklearn/ensemble/_gb.py:437: DataConversionWarning: A column-vector y was passed when a 1d array was expected. Please change the shape of y to (n_samples, ), for example using ravel().\n",
      "  y = column_or_1d(y, warn=True)\n",
      "/Users/matmang/opt/anaconda3/envs/bert-study/lib/python3.10/site-packages/sklearn/ensemble/_gb.py:437: DataConversionWarning: A column-vector y was passed when a 1d array was expected. Please change the shape of y to (n_samples, ), for example using ravel().\n",
      "  y = column_or_1d(y, warn=True)\n",
      "/Users/matmang/opt/anaconda3/envs/bert-study/lib/python3.10/site-packages/sklearn/ensemble/_gb.py:437: DataConversionWarning: A column-vector y was passed when a 1d array was expected. Please change the shape of y to (n_samples, ), for example using ravel().\n",
      "  y = column_or_1d(y, warn=True)\n",
      "/Users/matmang/opt/anaconda3/envs/bert-study/lib/python3.10/site-packages/sklearn/ensemble/_gb.py:437: DataConversionWarning: A column-vector y was passed when a 1d array was expected. Please change the shape of y to (n_samples, ), for example using ravel().\n",
      "  y = column_or_1d(y, warn=True)\n"
     ]
    },
    {
     "name": "stdout",
     "output_type": "stream",
     "text": [
      "[CV] END learning_rate=0.02863427011191127, max_depth=3, min_samples_leaf=6, min_samples_split=2, n_estimators=58; total time=   0.5s\n"
     ]
    },
    {
     "name": "stderr",
     "output_type": "stream",
     "text": [
      "/Users/matmang/opt/anaconda3/envs/bert-study/lib/python3.10/site-packages/sklearn/ensemble/_gb.py:437: DataConversionWarning: A column-vector y was passed when a 1d array was expected. Please change the shape of y to (n_samples, ), for example using ravel().\n",
      "  y = column_or_1d(y, warn=True)\n"
     ]
    },
    {
     "name": "stdout",
     "output_type": "stream",
     "text": [
      "[CV] END learning_rate=0.06024980641809569, max_depth=14, min_samples_leaf=5, min_samples_split=15, n_estimators=118; total time=   4.0s\n",
      "[CV] END learning_rate=0.06024980641809569, max_depth=14, min_samples_leaf=5, min_samples_split=15, n_estimators=118; total time=   4.1s\n",
      "[CV] END learning_rate=0.06024980641809569, max_depth=14, min_samples_leaf=5, min_samples_split=15, n_estimators=118; total time=   4.1s\n",
      "[CV] END learning_rate=0.06024980641809569, max_depth=14, min_samples_leaf=5, min_samples_split=15, n_estimators=118; total time=   4.1s\n"
     ]
    },
    {
     "name": "stderr",
     "output_type": "stream",
     "text": [
      "/Users/matmang/opt/anaconda3/envs/bert-study/lib/python3.10/site-packages/sklearn/ensemble/_gb.py:437: DataConversionWarning: A column-vector y was passed when a 1d array was expected. Please change the shape of y to (n_samples, ), for example using ravel().\n",
      "  y = column_or_1d(y, warn=True)\n",
      "/Users/matmang/opt/anaconda3/envs/bert-study/lib/python3.10/site-packages/sklearn/ensemble/_gb.py:437: DataConversionWarning: A column-vector y was passed when a 1d array was expected. Please change the shape of y to (n_samples, ), for example using ravel().\n",
      "  y = column_or_1d(y, warn=True)\n",
      "/Users/matmang/opt/anaconda3/envs/bert-study/lib/python3.10/site-packages/sklearn/ensemble/_gb.py:437: DataConversionWarning: A column-vector y was passed when a 1d array was expected. Please change the shape of y to (n_samples, ), for example using ravel().\n",
      "  y = column_or_1d(y, warn=True)\n",
      "/Users/matmang/opt/anaconda3/envs/bert-study/lib/python3.10/site-packages/sklearn/ensemble/_gb.py:437: DataConversionWarning: A column-vector y was passed when a 1d array was expected. Please change the shape of y to (n_samples, ), for example using ravel().\n",
      "  y = column_or_1d(y, warn=True)\n"
     ]
    },
    {
     "name": "stdout",
     "output_type": "stream",
     "text": [
      "[CV] END learning_rate=0.06024980641809569, max_depth=14, min_samples_leaf=5, min_samples_split=15, n_estimators=118; total time=   4.2s\n"
     ]
    },
    {
     "name": "stderr",
     "output_type": "stream",
     "text": [
      "/Users/matmang/opt/anaconda3/envs/bert-study/lib/python3.10/site-packages/sklearn/ensemble/_gb.py:437: DataConversionWarning: A column-vector y was passed when a 1d array was expected. Please change the shape of y to (n_samples, ), for example using ravel().\n",
      "  y = column_or_1d(y, warn=True)\n"
     ]
    },
    {
     "name": "stdout",
     "output_type": "stream",
     "text": [
      "[CV] END learning_rate=0.01451741895545985, max_depth=11, min_samples_leaf=9, min_samples_split=2, n_estimators=109; total time=   3.1s\n",
      "[CV] END learning_rate=0.01451741895545985, max_depth=11, min_samples_leaf=9, min_samples_split=2, n_estimators=109; total time=   3.0s\n",
      "[CV] END learning_rate=0.01451741895545985, max_depth=11, min_samples_leaf=9, min_samples_split=2, n_estimators=109; total time=   3.0s\n",
      "[CV] END learning_rate=0.01451741895545985, max_depth=11, min_samples_leaf=9, min_samples_split=2, n_estimators=109; total time=   3.0s\n",
      "[CV] END learning_rate=0.01451741895545985, max_depth=11, min_samples_leaf=9, min_samples_split=2, n_estimators=109; total time=   3.1s\n"
     ]
    },
    {
     "name": "stderr",
     "output_type": "stream",
     "text": [
      "/Users/matmang/opt/anaconda3/envs/bert-study/lib/python3.10/site-packages/sklearn/ensemble/_gb.py:437: DataConversionWarning: A column-vector y was passed when a 1d array was expected. Please change the shape of y to (n_samples, ), for example using ravel().\n",
      "  y = column_or_1d(y, warn=True)\n",
      "/Users/matmang/opt/anaconda3/envs/bert-study/lib/python3.10/site-packages/sklearn/ensemble/_gb.py:437: DataConversionWarning: A column-vector y was passed when a 1d array was expected. Please change the shape of y to (n_samples, ), for example using ravel().\n",
      "  y = column_or_1d(y, warn=True)\n",
      "/Users/matmang/opt/anaconda3/envs/bert-study/lib/python3.10/site-packages/sklearn/ensemble/_gb.py:437: DataConversionWarning: A column-vector y was passed when a 1d array was expected. Please change the shape of y to (n_samples, ), for example using ravel().\n",
      "  y = column_or_1d(y, warn=True)\n",
      "/Users/matmang/opt/anaconda3/envs/bert-study/lib/python3.10/site-packages/sklearn/ensemble/_gb.py:437: DataConversionWarning: A column-vector y was passed when a 1d array was expected. Please change the shape of y to (n_samples, ), for example using ravel().\n",
      "  y = column_or_1d(y, warn=True)\n",
      "/Users/matmang/opt/anaconda3/envs/bert-study/lib/python3.10/site-packages/sklearn/ensemble/_gb.py:437: DataConversionWarning: A column-vector y was passed when a 1d array was expected. Please change the shape of y to (n_samples, ), for example using ravel().\n",
      "  y = column_or_1d(y, warn=True)\n"
     ]
    },
    {
     "name": "stdout",
     "output_type": "stream",
     "text": [
      "[CV] END learning_rate=0.027441124008680977, max_depth=8, min_samples_leaf=7, min_samples_split=13, n_estimators=125; total time=   2.5s\n",
      "[CV] END learning_rate=0.027441124008680977, max_depth=8, min_samples_leaf=7, min_samples_split=13, n_estimators=125; total time=   2.6s\n",
      "[CV] END learning_rate=0.027441124008680977, max_depth=8, min_samples_leaf=7, min_samples_split=13, n_estimators=125; total time=   2.7s\n",
      "[CV] END learning_rate=0.027441124008680977, max_depth=8, min_samples_leaf=7, min_samples_split=13, n_estimators=125; total time=   2.7s\n"
     ]
    },
    {
     "name": "stderr",
     "output_type": "stream",
     "text": [
      "/Users/matmang/opt/anaconda3/envs/bert-study/lib/python3.10/site-packages/sklearn/ensemble/_gb.py:437: DataConversionWarning: A column-vector y was passed when a 1d array was expected. Please change the shape of y to (n_samples, ), for example using ravel().\n",
      "  y = column_or_1d(y, warn=True)\n",
      "/Users/matmang/opt/anaconda3/envs/bert-study/lib/python3.10/site-packages/sklearn/ensemble/_gb.py:437: DataConversionWarning: A column-vector y was passed when a 1d array was expected. Please change the shape of y to (n_samples, ), for example using ravel().\n",
      "  y = column_or_1d(y, warn=True)\n",
      "/Users/matmang/opt/anaconda3/envs/bert-study/lib/python3.10/site-packages/sklearn/ensemble/_gb.py:437: DataConversionWarning: A column-vector y was passed when a 1d array was expected. Please change the shape of y to (n_samples, ), for example using ravel().\n",
      "  y = column_or_1d(y, warn=True)\n",
      "/Users/matmang/opt/anaconda3/envs/bert-study/lib/python3.10/site-packages/sklearn/ensemble/_gb.py:437: DataConversionWarning: A column-vector y was passed when a 1d array was expected. Please change the shape of y to (n_samples, ), for example using ravel().\n",
      "  y = column_or_1d(y, warn=True)\n"
     ]
    },
    {
     "name": "stdout",
     "output_type": "stream",
     "text": [
      "[CV] END learning_rate=0.027441124008680977, max_depth=8, min_samples_leaf=7, min_samples_split=13, n_estimators=125; total time=   2.7s\n"
     ]
    },
    {
     "name": "stderr",
     "output_type": "stream",
     "text": [
      "/Users/matmang/opt/anaconda3/envs/bert-study/lib/python3.10/site-packages/sklearn/ensemble/_gb.py:437: DataConversionWarning: A column-vector y was passed when a 1d array was expected. Please change the shape of y to (n_samples, ), for example using ravel().\n",
      "  y = column_or_1d(y, warn=True)\n"
     ]
    },
    {
     "name": "stdout",
     "output_type": "stream",
     "text": [
      "[CV] END learning_rate=0.022524066293087567, max_depth=4, min_samples_leaf=4, min_samples_split=14, n_estimators=108; total time=   1.3s\n",
      "[CV] END learning_rate=0.022524066293087567, max_depth=4, min_samples_leaf=4, min_samples_split=14, n_estimators=108; total time=   1.2s\n",
      "[CV] END learning_rate=0.022524066293087567, max_depth=4, min_samples_leaf=4, min_samples_split=14, n_estimators=108; total time=   1.2s\n",
      "[CV] END learning_rate=0.022524066293087567, max_depth=4, min_samples_leaf=4, min_samples_split=14, n_estimators=108; total time=   1.2s\n"
     ]
    },
    {
     "name": "stderr",
     "output_type": "stream",
     "text": [
      "/Users/matmang/opt/anaconda3/envs/bert-study/lib/python3.10/site-packages/sklearn/ensemble/_gb.py:437: DataConversionWarning: A column-vector y was passed when a 1d array was expected. Please change the shape of y to (n_samples, ), for example using ravel().\n",
      "  y = column_or_1d(y, warn=True)\n",
      "/Users/matmang/opt/anaconda3/envs/bert-study/lib/python3.10/site-packages/sklearn/ensemble/_gb.py:437: DataConversionWarning: A column-vector y was passed when a 1d array was expected. Please change the shape of y to (n_samples, ), for example using ravel().\n",
      "  y = column_or_1d(y, warn=True)\n",
      "/Users/matmang/opt/anaconda3/envs/bert-study/lib/python3.10/site-packages/sklearn/ensemble/_gb.py:437: DataConversionWarning: A column-vector y was passed when a 1d array was expected. Please change the shape of y to (n_samples, ), for example using ravel().\n",
      "  y = column_or_1d(y, warn=True)\n",
      "/Users/matmang/opt/anaconda3/envs/bert-study/lib/python3.10/site-packages/sklearn/ensemble/_gb.py:437: DataConversionWarning: A column-vector y was passed when a 1d array was expected. Please change the shape of y to (n_samples, ), for example using ravel().\n",
      "  y = column_or_1d(y, warn=True)\n"
     ]
    },
    {
     "name": "stdout",
     "output_type": "stream",
     "text": [
      "[CV] END learning_rate=0.022524066293087567, max_depth=4, min_samples_leaf=4, min_samples_split=14, n_estimators=108; total time=   1.2s\n",
      "[CV] END learning_rate=0.04360048557003428, max_depth=7, min_samples_leaf=7, min_samples_split=10, n_estimators=117; total time=   2.1s\n",
      "[CV] END learning_rate=0.04360048557003428, max_depth=7, min_samples_leaf=7, min_samples_split=10, n_estimators=117; total time=   2.1s\n",
      "[CV] END learning_rate=0.04360048557003428, max_depth=7, min_samples_leaf=7, min_samples_split=10, n_estimators=117; total time=   2.2s\n"
     ]
    },
    {
     "name": "stderr",
     "output_type": "stream",
     "text": [
      "/Users/matmang/opt/anaconda3/envs/bert-study/lib/python3.10/site-packages/sklearn/ensemble/_gb.py:437: DataConversionWarning: A column-vector y was passed when a 1d array was expected. Please change the shape of y to (n_samples, ), for example using ravel().\n",
      "  y = column_or_1d(y, warn=True)\n",
      "/Users/matmang/opt/anaconda3/envs/bert-study/lib/python3.10/site-packages/sklearn/ensemble/_gb.py:437: DataConversionWarning: A column-vector y was passed when a 1d array was expected. Please change the shape of y to (n_samples, ), for example using ravel().\n",
      "  y = column_or_1d(y, warn=True)\n",
      "/Users/matmang/opt/anaconda3/envs/bert-study/lib/python3.10/site-packages/sklearn/ensemble/_gb.py:437: DataConversionWarning: A column-vector y was passed when a 1d array was expected. Please change the shape of y to (n_samples, ), for example using ravel().\n",
      "  y = column_or_1d(y, warn=True)\n",
      "/Users/matmang/opt/anaconda3/envs/bert-study/lib/python3.10/site-packages/sklearn/ensemble/_gb.py:437: DataConversionWarning: A column-vector y was passed when a 1d array was expected. Please change the shape of y to (n_samples, ), for example using ravel().\n",
      "  y = column_or_1d(y, warn=True)\n"
     ]
    },
    {
     "name": "stdout",
     "output_type": "stream",
     "text": [
      "[CV] END learning_rate=0.04360048557003428, max_depth=7, min_samples_leaf=7, min_samples_split=10, n_estimators=117; total time=   2.1s\n",
      "[CV] END learning_rate=0.04360048557003428, max_depth=7, min_samples_leaf=7, min_samples_split=10, n_estimators=117; total time=   2.1s\n"
     ]
    },
    {
     "name": "stderr",
     "output_type": "stream",
     "text": [
      "/Users/matmang/opt/anaconda3/envs/bert-study/lib/python3.10/site-packages/sklearn/ensemble/_gb.py:437: DataConversionWarning: A column-vector y was passed when a 1d array was expected. Please change the shape of y to (n_samples, ), for example using ravel().\n",
      "  y = column_or_1d(y, warn=True)\n",
      "/Users/matmang/opt/anaconda3/envs/bert-study/lib/python3.10/site-packages/sklearn/ensemble/_gb.py:437: DataConversionWarning: A column-vector y was passed when a 1d array was expected. Please change the shape of y to (n_samples, ), for example using ravel().\n",
      "  y = column_or_1d(y, warn=True)\n"
     ]
    },
    {
     "name": "stdout",
     "output_type": "stream",
     "text": [
      "[CV] END learning_rate=0.0259289183627641, max_depth=7, min_samples_leaf=6, min_samples_split=4, n_estimators=51; total time=   1.0s\n",
      "[CV] END learning_rate=0.0259289183627641, max_depth=7, min_samples_leaf=6, min_samples_split=4, n_estimators=51; total time=   1.0s\n",
      "[CV] END learning_rate=0.0259289183627641, max_depth=7, min_samples_leaf=6, min_samples_split=4, n_estimators=51; total time=   1.0s\n",
      "[CV] END learning_rate=0.0259289183627641, max_depth=7, min_samples_leaf=6, min_samples_split=4, n_estimators=51; total time=   1.0s\n",
      "[CV] END learning_rate=0.0259289183627641, max_depth=7, min_samples_leaf=6, min_samples_split=4, n_estimators=51; total time=   1.0s\n"
     ]
    },
    {
     "name": "stderr",
     "output_type": "stream",
     "text": [
      "/Users/matmang/opt/anaconda3/envs/bert-study/lib/python3.10/site-packages/sklearn/ensemble/_gb.py:437: DataConversionWarning: A column-vector y was passed when a 1d array was expected. Please change the shape of y to (n_samples, ), for example using ravel().\n",
      "  y = column_or_1d(y, warn=True)\n",
      "/Users/matmang/opt/anaconda3/envs/bert-study/lib/python3.10/site-packages/sklearn/ensemble/_gb.py:437: DataConversionWarning: A column-vector y was passed when a 1d array was expected. Please change the shape of y to (n_samples, ), for example using ravel().\n",
      "  y = column_or_1d(y, warn=True)\n",
      "/Users/matmang/opt/anaconda3/envs/bert-study/lib/python3.10/site-packages/sklearn/ensemble/_gb.py:437: DataConversionWarning: A column-vector y was passed when a 1d array was expected. Please change the shape of y to (n_samples, ), for example using ravel().\n",
      "  y = column_or_1d(y, warn=True)\n",
      "/Users/matmang/opt/anaconda3/envs/bert-study/lib/python3.10/site-packages/sklearn/ensemble/_gb.py:437: DataConversionWarning: A column-vector y was passed when a 1d array was expected. Please change the shape of y to (n_samples, ), for example using ravel().\n",
      "  y = column_or_1d(y, warn=True)\n",
      "/Users/matmang/opt/anaconda3/envs/bert-study/lib/python3.10/site-packages/sklearn/ensemble/_gb.py:437: DataConversionWarning: A column-vector y was passed when a 1d array was expected. Please change the shape of y to (n_samples, ), for example using ravel().\n",
      "  y = column_or_1d(y, warn=True)\n"
     ]
    },
    {
     "name": "stdout",
     "output_type": "stream",
     "text": [
      "[CV] END learning_rate=0.050305285961293564, max_depth=6, min_samples_leaf=2, min_samples_split=14, n_estimators=53; total time=   0.8s\n",
      "[CV] END learning_rate=0.050305285961293564, max_depth=6, min_samples_leaf=2, min_samples_split=14, n_estimators=53; total time=   0.9s\n",
      "[CV] END learning_rate=0.050305285961293564, max_depth=6, min_samples_leaf=2, min_samples_split=14, n_estimators=53; total time=   0.9s\n",
      "[CV] END learning_rate=0.050305285961293564, max_depth=6, min_samples_leaf=2, min_samples_split=14, n_estimators=53; total time=   0.9s\n",
      "[CV] END learning_rate=0.050305285961293564, max_depth=6, min_samples_leaf=2, min_samples_split=14, n_estimators=53; total time=   0.9s\n"
     ]
    },
    {
     "name": "stderr",
     "output_type": "stream",
     "text": [
      "/Users/matmang/opt/anaconda3/envs/bert-study/lib/python3.10/site-packages/sklearn/ensemble/_gb.py:437: DataConversionWarning: A column-vector y was passed when a 1d array was expected. Please change the shape of y to (n_samples, ), for example using ravel().\n",
      "  y = column_or_1d(y, warn=True)\n",
      "/Users/matmang/opt/anaconda3/envs/bert-study/lib/python3.10/site-packages/sklearn/ensemble/_gb.py:437: DataConversionWarning: A column-vector y was passed when a 1d array was expected. Please change the shape of y to (n_samples, ), for example using ravel().\n",
      "  y = column_or_1d(y, warn=True)\n",
      "/Users/matmang/opt/anaconda3/envs/bert-study/lib/python3.10/site-packages/sklearn/ensemble/_gb.py:437: DataConversionWarning: A column-vector y was passed when a 1d array was expected. Please change the shape of y to (n_samples, ), for example using ravel().\n",
      "  y = column_or_1d(y, warn=True)\n",
      "/Users/matmang/opt/anaconda3/envs/bert-study/lib/python3.10/site-packages/sklearn/ensemble/_gb.py:437: DataConversionWarning: A column-vector y was passed when a 1d array was expected. Please change the shape of y to (n_samples, ), for example using ravel().\n",
      "  y = column_or_1d(y, warn=True)\n",
      "/Users/matmang/opt/anaconda3/envs/bert-study/lib/python3.10/site-packages/sklearn/ensemble/_gb.py:437: DataConversionWarning: A column-vector y was passed when a 1d array was expected. Please change the shape of y to (n_samples, ), for example using ravel().\n",
      "  y = column_or_1d(y, warn=True)\n"
     ]
    },
    {
     "name": "stdout",
     "output_type": "stream",
     "text": [
      "[CV] END learning_rate=0.09592585548891995, max_depth=6, min_samples_leaf=6, min_samples_split=9, n_estimators=162; total time=   2.6s\n",
      "[CV] END learning_rate=0.09592585548891995, max_depth=6, min_samples_leaf=6, min_samples_split=9, n_estimators=162; total time=   2.6s\n"
     ]
    },
    {
     "name": "stderr",
     "output_type": "stream",
     "text": [
      "/Users/matmang/opt/anaconda3/envs/bert-study/lib/python3.10/site-packages/sklearn/ensemble/_gb.py:437: DataConversionWarning: A column-vector y was passed when a 1d array was expected. Please change the shape of y to (n_samples, ), for example using ravel().\n",
      "  y = column_or_1d(y, warn=True)\n",
      "/Users/matmang/opt/anaconda3/envs/bert-study/lib/python3.10/site-packages/sklearn/ensemble/_gb.py:437: DataConversionWarning: A column-vector y was passed when a 1d array was expected. Please change the shape of y to (n_samples, ), for example using ravel().\n",
      "  y = column_or_1d(y, warn=True)\n"
     ]
    },
    {
     "name": "stdout",
     "output_type": "stream",
     "text": [
      "[CV] END learning_rate=0.09592585548891995, max_depth=6, min_samples_leaf=6, min_samples_split=9, n_estimators=162; total time=   2.6s\n",
      "[CV] END learning_rate=0.09592585548891995, max_depth=6, min_samples_leaf=6, min_samples_split=9, n_estimators=162; total time=   2.6s\n"
     ]
    },
    {
     "name": "stderr",
     "output_type": "stream",
     "text": [
      "/Users/matmang/opt/anaconda3/envs/bert-study/lib/python3.10/site-packages/sklearn/ensemble/_gb.py:437: DataConversionWarning: A column-vector y was passed when a 1d array was expected. Please change the shape of y to (n_samples, ), for example using ravel().\n",
      "  y = column_or_1d(y, warn=True)\n",
      "/Users/matmang/opt/anaconda3/envs/bert-study/lib/python3.10/site-packages/sklearn/ensemble/_gb.py:437: DataConversionWarning: A column-vector y was passed when a 1d array was expected. Please change the shape of y to (n_samples, ), for example using ravel().\n",
      "  y = column_or_1d(y, warn=True)\n"
     ]
    },
    {
     "name": "stdout",
     "output_type": "stream",
     "text": [
      "[CV] END learning_rate=0.09592585548891995, max_depth=6, min_samples_leaf=6, min_samples_split=9, n_estimators=162; total time=   2.7s\n"
     ]
    },
    {
     "name": "stderr",
     "output_type": "stream",
     "text": [
      "/Users/matmang/opt/anaconda3/envs/bert-study/lib/python3.10/site-packages/sklearn/ensemble/_gb.py:437: DataConversionWarning: A column-vector y was passed when a 1d array was expected. Please change the shape of y to (n_samples, ), for example using ravel().\n",
      "  y = column_or_1d(y, warn=True)\n"
     ]
    },
    {
     "name": "stdout",
     "output_type": "stream",
     "text": [
      "[CV] END learning_rate=0.09595179458673936, max_depth=3, min_samples_leaf=7, min_samples_split=13, n_estimators=170; total time=   1.5s\n",
      "[CV] END learning_rate=0.09595179458673936, max_depth=3, min_samples_leaf=7, min_samples_split=13, n_estimators=170; total time=   1.5s\n",
      "[CV] END learning_rate=0.09595179458673936, max_depth=3, min_samples_leaf=7, min_samples_split=13, n_estimators=170; total time=   1.5s\n"
     ]
    },
    {
     "name": "stderr",
     "output_type": "stream",
     "text": [
      "/Users/matmang/opt/anaconda3/envs/bert-study/lib/python3.10/site-packages/sklearn/ensemble/_gb.py:437: DataConversionWarning: A column-vector y was passed when a 1d array was expected. Please change the shape of y to (n_samples, ), for example using ravel().\n",
      "  y = column_or_1d(y, warn=True)\n",
      "/Users/matmang/opt/anaconda3/envs/bert-study/lib/python3.10/site-packages/sklearn/ensemble/_gb.py:437: DataConversionWarning: A column-vector y was passed when a 1d array was expected. Please change the shape of y to (n_samples, ), for example using ravel().\n",
      "  y = column_or_1d(y, warn=True)\n",
      "/Users/matmang/opt/anaconda3/envs/bert-study/lib/python3.10/site-packages/sklearn/ensemble/_gb.py:437: DataConversionWarning: A column-vector y was passed when a 1d array was expected. Please change the shape of y to (n_samples, ), for example using ravel().\n",
      "  y = column_or_1d(y, warn=True)\n"
     ]
    },
    {
     "name": "stdout",
     "output_type": "stream",
     "text": [
      "[CV] END learning_rate=0.09595179458673936, max_depth=3, min_samples_leaf=7, min_samples_split=13, n_estimators=170; total time=   1.6s\n",
      "[CV] END learning_rate=0.09595179458673936, max_depth=3, min_samples_leaf=7, min_samples_split=13, n_estimators=170; total time=   1.6s\n"
     ]
    },
    {
     "name": "stderr",
     "output_type": "stream",
     "text": [
      "/Users/matmang/opt/anaconda3/envs/bert-study/lib/python3.10/site-packages/sklearn/ensemble/_gb.py:437: DataConversionWarning: A column-vector y was passed when a 1d array was expected. Please change the shape of y to (n_samples, ), for example using ravel().\n",
      "  y = column_or_1d(y, warn=True)\n",
      "/Users/matmang/opt/anaconda3/envs/bert-study/lib/python3.10/site-packages/sklearn/ensemble/_gb.py:437: DataConversionWarning: A column-vector y was passed when a 1d array was expected. Please change the shape of y to (n_samples, ), for example using ravel().\n",
      "  y = column_or_1d(y, warn=True)\n"
     ]
    },
    {
     "name": "stdout",
     "output_type": "stream",
     "text": [
      "[CV] END learning_rate=0.08963119558366088, max_depth=5, min_samples_leaf=3, min_samples_split=14, n_estimators=136; total time=   1.8s\n",
      "[CV] END learning_rate=0.08963119558366088, max_depth=5, min_samples_leaf=3, min_samples_split=14, n_estimators=136; total time=   1.8s\n",
      "[CV] END learning_rate=0.08963119558366088, max_depth=5, min_samples_leaf=3, min_samples_split=14, n_estimators=136; total time=   1.8s\n",
      "[CV] END learning_rate=0.08963119558366088, max_depth=5, min_samples_leaf=3, min_samples_split=14, n_estimators=136; total time=   1.8s\n",
      "[CV] END learning_rate=0.08963119558366088, max_depth=5, min_samples_leaf=3, min_samples_split=14, n_estimators=136; total time=   1.8s\n",
      "[CV] END learning_rate=0.08293730272752303, max_depth=11, min_samples_leaf=2, min_samples_split=6, n_estimators=121; total time=   3.4s\n",
      "[CV] END learning_rate=0.08293730272752303, max_depth=11, min_samples_leaf=2, min_samples_split=6, n_estimators=121; total time=   3.3s\n",
      "[CV] END learning_rate=0.08293730272752303, max_depth=11, min_samples_leaf=2, min_samples_split=6, n_estimators=121; total time=   3.4s\n",
      "[CV] END learning_rate=0.08293730272752303, max_depth=11, min_samples_leaf=2, min_samples_split=6, n_estimators=121; total time=   3.4s\n",
      "[CV] END learning_rate=0.08293730272752303, max_depth=11, min_samples_leaf=2, min_samples_split=6, n_estimators=121; total time=   3.3s\n"
     ]
    },
    {
     "name": "stderr",
     "output_type": "stream",
     "text": [
      "/Users/matmang/opt/anaconda3/envs/bert-study/lib/python3.10/site-packages/sklearn/ensemble/_gb.py:437: DataConversionWarning: A column-vector y was passed when a 1d array was expected. Please change the shape of y to (n_samples, ), for example using ravel().\n",
      "  y = column_or_1d(y, warn=True)\n",
      "/Users/matmang/opt/anaconda3/envs/bert-study/lib/python3.10/site-packages/lightgbm/engine.py:181: UserWarning: 'early_stopping_rounds' argument is deprecated and will be removed in a future release of LightGBM. Pass 'early_stopping()' callback via 'callbacks' argument instead.\n",
      "  _log_warning(\"'early_stopping_rounds' argument is deprecated and will be removed in a future release of LightGBM. \"\n",
      "/Users/matmang/opt/anaconda3/envs/bert-study/lib/python3.10/site-packages/lightgbm/engine.py:239: UserWarning: 'verbose_eval' argument is deprecated and will be removed in a future release of LightGBM. Pass 'log_evaluation()' callback via 'callbacks' argument instead.\n",
      "  _log_warning(\"'verbose_eval' argument is deprecated and will be removed in a future release of LightGBM. \"\n"
     ]
    },
    {
     "name": "stdout",
     "output_type": "stream",
     "text": [
      "[LightGBM] [Warning] Found whitespace in feature_names, replace with underlines\n",
      "[LightGBM] [Warning] Auto-choosing col-wise multi-threading, the overhead of testing was 0.001326 seconds.\n",
      "You can set `force_col_wise=true` to remove the overhead.\n",
      "[LightGBM] [Info] Total Bins 584\n",
      "[LightGBM] [Info] Number of data points in the train set: 6675, number of used features: 50\n",
      "[LightGBM] [Warning] Found whitespace in feature_names, replace with underlines\n",
      "[LightGBM] [Info] Start training from score 1.112210\n",
      "[LightGBM] [Warning] No further splits with positive gain, best gain: -inf\n",
      "[LightGBM] [Warning] No further splits with positive gain, best gain: -inf\n",
      "[LightGBM] [Warning] No further splits with positive gain, best gain: -inf\n",
      "[LightGBM] [Warning] No further splits with positive gain, best gain: -inf\n",
      "[LightGBM] [Warning] No further splits with positive gain, best gain: -inf\n",
      "[LightGBM] [Warning] No further splits with positive gain, best gain: -inf\n",
      "[LightGBM] [Warning] No further splits with positive gain, best gain: -inf\n",
      "[LightGBM] [Warning] No further splits with positive gain, best gain: -inf\n",
      "[LightGBM] [Warning] No further splits with positive gain, best gain: -inf\n",
      "[LightGBM] [Warning] No further splits with positive gain, best gain: -inf\n",
      "[LightGBM] [Warning] No further splits with positive gain, best gain: -inf\n",
      "[LightGBM] [Warning] No further splits with positive gain, best gain: -inf\n",
      "[LightGBM] [Warning] No further splits with positive gain, best gain: -inf\n",
      "[LightGBM] [Warning] No further splits with positive gain, best gain: -inf\n",
      "[LightGBM] [Warning] No further splits with positive gain, best gain: -inf\n",
      "[LightGBM] [Warning] No further splits with positive gain, best gain: -inf\n",
      "[LightGBM] [Warning] No further splits with positive gain, best gain: -inf\n",
      "[LightGBM] [Warning] No further splits with positive gain, best gain: -inf\n",
      "[LightGBM] [Warning] No further splits with positive gain, best gain: -inf\n",
      "[LightGBM] [Warning] No further splits with positive gain, best gain: -inf\n",
      "[LightGBM] [Warning] No further splits with positive gain, best gain: -inf\n",
      "[LightGBM] [Warning] No further splits with positive gain, best gain: -inf\n",
      "[LightGBM] [Warning] No further splits with positive gain, best gain: -inf\n",
      "[LightGBM] [Warning] No further splits with positive gain, best gain: -inf\n",
      "[LightGBM] [Warning] No further splits with positive gain, best gain: -inf\n",
      "[LightGBM] [Warning] No further splits with positive gain, best gain: -inf\n",
      "[LightGBM] [Warning] No further splits with positive gain, best gain: -inf\n",
      "[LightGBM] [Warning] No further splits with positive gain, best gain: -inf\n",
      "[LightGBM] [Warning] No further splits with positive gain, best gain: -inf\n",
      "[LightGBM] [Warning] No further splits with positive gain, best gain: -inf\n",
      "[LightGBM] [Warning] No further splits with positive gain, best gain: -inf\n",
      "[LightGBM] [Warning] No further splits with positive gain, best gain: -inf\n",
      "[LightGBM] [Warning] No further splits with positive gain, best gain: -inf\n",
      "[LightGBM] [Warning] No further splits with positive gain, best gain: -inf\n",
      "[LightGBM] [Warning] No further splits with positive gain, best gain: -inf\n",
      "[LightGBM] [Warning] No further splits with positive gain, best gain: -inf\n",
      "[LightGBM] [Warning] No further splits with positive gain, best gain: -inf\n",
      "[LightGBM] [Warning] No further splits with positive gain, best gain: -inf\n",
      "[LightGBM] [Warning] No further splits with positive gain, best gain: -inf\n",
      "[LightGBM] [Warning] No further splits with positive gain, best gain: -inf\n",
      "[LightGBM] [Warning] No further splits with positive gain, best gain: -inf\n",
      "[LightGBM] [Warning] No further splits with positive gain, best gain: -inf\n",
      "[LightGBM] [Warning] No further splits with positive gain, best gain: -inf\n",
      "[LightGBM] [Warning] No further splits with positive gain, best gain: -inf\n",
      "[LightGBM] [Warning] No further splits with positive gain, best gain: -inf\n",
      "[LightGBM] [Warning] No further splits with positive gain, best gain: -inf\n",
      "[LightGBM] [Warning] No further splits with positive gain, best gain: -inf\n",
      "[LightGBM] [Warning] No further splits with positive gain, best gain: -inf\n",
      "[LightGBM] [Warning] No further splits with positive gain, best gain: -inf\n",
      "[LightGBM] [Warning] No further splits with positive gain, best gain: -inf\n",
      "[LightGBM] [Warning] No further splits with positive gain, best gain: -inf\n",
      "[LightGBM] [Warning] No further splits with positive gain, best gain: -inf\n",
      "[LightGBM] [Warning] No further splits with positive gain, best gain: -inf\n",
      "[LightGBM] [Warning] No further splits with positive gain, best gain: -inf\n",
      "[LightGBM] [Warning] No further splits with positive gain, best gain: -inf\n",
      "[LightGBM] [Warning] No further splits with positive gain, best gain: -inf\n",
      "[LightGBM] [Warning] No further splits with positive gain, best gain: -inf\n",
      "[LightGBM] [Warning] No further splits with positive gain, best gain: -inf\n",
      "[LightGBM] [Warning] No further splits with positive gain, best gain: -inf\n",
      "[LightGBM] [Warning] No further splits with positive gain, best gain: -inf\n",
      "[LightGBM] [Warning] No further splits with positive gain, best gain: -inf\n",
      "[LightGBM] [Warning] No further splits with positive gain, best gain: -inf\n",
      "[LightGBM] [Warning] No further splits with positive gain, best gain: -inf\n",
      "[LightGBM] [Warning] No further splits with positive gain, best gain: -inf\n",
      "[LightGBM] [Warning] No further splits with positive gain, best gain: -inf\n",
      "[LightGBM] [Warning] No further splits with positive gain, best gain: -inf\n",
      "[LightGBM] [Warning] No further splits with positive gain, best gain: -inf\n",
      "[LightGBM] [Warning] No further splits with positive gain, best gain: -inf\n",
      "[LightGBM] [Warning] No further splits with positive gain, best gain: -inf\n",
      "[LightGBM] [Warning] No further splits with positive gain, best gain: -inf\n",
      "[LightGBM] [Warning] No further splits with positive gain, best gain: -inf\n",
      "[LightGBM] [Warning] No further splits with positive gain, best gain: -inf\n",
      "[LightGBM] [Warning] No further splits with positive gain, best gain: -inf\n",
      "[LightGBM] [Warning] No further splits with positive gain, best gain: -inf\n",
      "[LightGBM] [Warning] No further splits with positive gain, best gain: -inf\n",
      "[LightGBM] [Warning] No further splits with positive gain, best gain: -inf\n",
      "[LightGBM] [Warning] No further splits with positive gain, best gain: -inf\n",
      "[LightGBM] [Warning] No further splits with positive gain, best gain: -inf\n",
      "[LightGBM] [Warning] No further splits with positive gain, best gain: -inf\n",
      "[LightGBM] [Warning] No further splits with positive gain, best gain: -inf\n",
      "[LightGBM] [Warning] No further splits with positive gain, best gain: -inf\n",
      "[LightGBM] [Warning] No further splits with positive gain, best gain: -inf\n",
      "[LightGBM] [Warning] No further splits with positive gain, best gain: -inf\n",
      "[LightGBM] [Warning] No further splits with positive gain, best gain: -inf\n",
      "[LightGBM] [Warning] No further splits with positive gain, best gain: -inf\n",
      "[LightGBM] [Warning] No further splits with positive gain, best gain: -inf\n",
      "[LightGBM] [Warning] No further splits with positive gain, best gain: -inf\n",
      "[LightGBM] [Warning] No further splits with positive gain, best gain: -inf\n",
      "[LightGBM] [Warning] No further splits with positive gain, best gain: -inf\n",
      "[LightGBM] [Warning] No further splits with positive gain, best gain: -inf\n",
      "[LightGBM] [Warning] No further splits with positive gain, best gain: -inf\n",
      "[LightGBM] [Warning] No further splits with positive gain, best gain: -inf\n",
      "[LightGBM] [Warning] No further splits with positive gain, best gain: -inf\n",
      "[LightGBM] [Warning] No further splits with positive gain, best gain: -inf\n",
      "[LightGBM] [Warning] No further splits with positive gain, best gain: -inf\n",
      "[LightGBM] [Warning] No further splits with positive gain, best gain: -inf\n",
      "[LightGBM] [Warning] No further splits with positive gain, best gain: -inf\n",
      "[LightGBM] [Warning] No further splits with positive gain, best gain: -inf\n",
      "[LightGBM] [Warning] No further splits with positive gain, best gain: -inf\n",
      "[LightGBM] [Warning] No further splits with positive gain, best gain: -inf\n",
      "0:\tlearn: 0.6467066\ttotal: 2.11ms\tremaining: 146ms\n",
      "1:\tlearn: 0.6443552\ttotal: 5.24ms\tremaining: 178ms\n",
      "2:\tlearn: 0.6428226\ttotal: 7.41ms\tremaining: 166ms\n",
      "3:\tlearn: 0.6405412\ttotal: 8.53ms\tremaining: 141ms\n",
      "4:\tlearn: 0.6402263\ttotal: 10.3ms\tremaining: 134ms\n",
      "5:\tlearn: 0.6391319\ttotal: 12.2ms\tremaining: 130ms\n",
      "6:\tlearn: 0.6388580\ttotal: 17.3ms\tremaining: 156ms\n",
      "7:\tlearn: 0.6366004\ttotal: 19.3ms\tremaining: 149ms\n",
      "8:\tlearn: 0.6364123\ttotal: 20.6ms\tremaining: 140ms\n",
      "9:\tlearn: 0.6341852\ttotal: 22.6ms\tremaining: 135ms\n",
      "10:\tlearn: 0.6319503\ttotal: 25.2ms\tremaining: 135ms\n",
      "11:\tlearn: 0.6297019\ttotal: 27.9ms\tremaining: 135ms\n",
      "12:\tlearn: 0.6274126\ttotal: 32.4ms\tremaining: 142ms\n",
      "13:\tlearn: 0.6252933\ttotal: 34.8ms\tremaining: 139ms\n",
      "14:\tlearn: 0.6231600\ttotal: 36.9ms\tremaining: 135ms\n",
      "15:\tlearn: 0.6210423\ttotal: 38.7ms\tremaining: 131ms\n",
      "16:\tlearn: 0.6189872\ttotal: 40.7ms\tremaining: 127ms\n",
      "17:\tlearn: 0.6169309\ttotal: 42.1ms\tremaining: 122ms\n",
      "18:\tlearn: 0.6148836\ttotal: 43.8ms\tremaining: 118ms\n",
      "19:\tlearn: 0.6145912\ttotal: 46ms\tremaining: 115ms\n",
      "20:\tlearn: 0.6138881\ttotal: 48.2ms\tremaining: 112ms\n",
      "21:\tlearn: 0.6136986\ttotal: 50.1ms\tremaining: 109ms\n",
      "22:\tlearn: 0.6116368\ttotal: 51.8ms\tremaining: 106ms\n",
      "23:\tlearn: 0.6102769\ttotal: 53.5ms\tremaining: 103ms\n",
      "24:\tlearn: 0.6082506\ttotal: 55.5ms\tremaining: 100ms\n",
      "25:\tlearn: 0.6063824\ttotal: 57.4ms\tremaining: 97.1ms\n",
      "26:\tlearn: 0.6045462\ttotal: 59ms\tremaining: 94ms\n",
      "27:\tlearn: 0.6033493\ttotal: 60.9ms\tremaining: 91.4ms\n",
      "28:\tlearn: 0.6014288\ttotal: 63.9ms\tremaining: 90.3ms\n",
      "29:\tlearn: 0.6012252\ttotal: 65.9ms\tremaining: 87.8ms\n",
      "30:\tlearn: 0.6001000\ttotal: 68.1ms\tremaining: 85.7ms\n",
      "31:\tlearn: 0.5982373\ttotal: 70.3ms\tremaining: 83.5ms\n",
      "32:\tlearn: 0.5980013\ttotal: 72.5ms\tremaining: 81.3ms\n",
      "33:\tlearn: 0.5968308\ttotal: 73.8ms\tremaining: 78.1ms\n",
      "34:\tlearn: 0.5949671\ttotal: 76ms\tremaining: 76ms\n",
      "35:\tlearn: 0.5946983\ttotal: 78ms\tremaining: 73.6ms\n",
      "36:\tlearn: 0.5929737\ttotal: 79.3ms\tremaining: 70.8ms\n",
      "37:\tlearn: 0.5918509\ttotal: 81ms\tremaining: 68.2ms\n",
      "38:\tlearn: 0.5901676\ttotal: 82.7ms\tremaining: 65.7ms\n",
      "39:\tlearn: 0.5900282\ttotal: 84.7ms\tremaining: 63.6ms\n",
      "40:\tlearn: 0.5889291\ttotal: 87.6ms\tremaining: 61.9ms\n",
      "41:\tlearn: 0.5872943\ttotal: 89.7ms\tremaining: 59.8ms\n",
      "42:\tlearn: 0.5854655\ttotal: 92.3ms\tremaining: 58ms\n",
      "43:\tlearn: 0.5853110\ttotal: 94.2ms\tremaining: 55.7ms\n",
      "44:\tlearn: 0.5836357\ttotal: 96ms\tremaining: 53.3ms\n",
      "45:\tlearn: 0.5834765\ttotal: 97.7ms\tremaining: 51ms\n",
      "46:\tlearn: 0.5818602\ttotal: 99.5ms\tremaining: 48.7ms\n",
      "47:\tlearn: 0.5816089\ttotal: 102ms\tremaining: 46.9ms\n",
      "48:\tlearn: 0.5800397\ttotal: 106ms\tremaining: 45.5ms\n",
      "49:\tlearn: 0.5785764\ttotal: 110ms\tremaining: 44.2ms\n",
      "50:\tlearn: 0.5771056\ttotal: 112ms\tremaining: 41.8ms\n",
      "51:\tlearn: 0.5768305\ttotal: 114ms\tremaining: 39.4ms\n",
      "52:\tlearn: 0.5765716\ttotal: 117ms\tremaining: 37.6ms\n",
      "53:\tlearn: 0.5750975\ttotal: 120ms\tremaining: 35.6ms\n",
      "54:\tlearn: 0.5749162\ttotal: 122ms\tremaining: 33.4ms\n",
      "55:\tlearn: 0.5734038\ttotal: 125ms\tremaining: 31.2ms\n",
      "56:\tlearn: 0.5719657\ttotal: 128ms\tremaining: 29.1ms\n",
      "57:\tlearn: 0.5717978\ttotal: 129ms\tremaining: 26.8ms\n",
      "58:\tlearn: 0.5715922\ttotal: 131ms\tremaining: 24.5ms\n",
      "59:\tlearn: 0.5701197\ttotal: 134ms\tremaining: 22.3ms\n",
      "60:\tlearn: 0.5699291\ttotal: 135ms\tremaining: 19.9ms\n",
      "61:\tlearn: 0.5684481\ttotal: 137ms\tremaining: 17.7ms\n",
      "62:\tlearn: 0.5670555\ttotal: 139ms\tremaining: 15.5ms\n",
      "63:\tlearn: 0.5667750\ttotal: 141ms\tremaining: 13.2ms\n",
      "64:\tlearn: 0.5654084\ttotal: 143ms\tremaining: 11ms\n",
      "65:\tlearn: 0.5652744\ttotal: 146ms\tremaining: 8.86ms\n",
      "66:\tlearn: 0.5639021\ttotal: 148ms\tremaining: 6.64ms\n",
      "67:\tlearn: 0.5637115\ttotal: 150ms\tremaining: 4.42ms\n",
      "68:\tlearn: 0.5623963\ttotal: 152ms\tremaining: 2.21ms\n",
      "69:\tlearn: 0.5616937\ttotal: 154ms\tremaining: 0us\n"
     ]
    },
    {
     "name": "stderr",
     "output_type": "stream",
     "text": [
      "/var/folders/xn/dxdr0gzs2bld2s01df0dtst00000gn/T/ipykernel_69786/1001005934.py:88: DataConversionWarning: A column-vector y was passed when a 1d array was expected. Please change the shape of y to (n_samples,), for example using ravel().\n",
      "  rf_train.fit(X_train.iloc[train_index], y_train.iloc[train_index])\n",
      "/Users/matmang/opt/anaconda3/envs/bert-study/lib/python3.10/site-packages/sklearn/ensemble/_gb.py:437: DataConversionWarning: A column-vector y was passed when a 1d array was expected. Please change the shape of y to (n_samples, ), for example using ravel().\n",
      "  y = column_or_1d(y, warn=True)\n",
      "/Users/matmang/opt/anaconda3/envs/bert-study/lib/python3.10/site-packages/lightgbm/engine.py:181: UserWarning: 'early_stopping_rounds' argument is deprecated and will be removed in a future release of LightGBM. Pass 'early_stopping()' callback via 'callbacks' argument instead.\n",
      "  _log_warning(\"'early_stopping_rounds' argument is deprecated and will be removed in a future release of LightGBM. \"\n",
      "/Users/matmang/opt/anaconda3/envs/bert-study/lib/python3.10/site-packages/lightgbm/engine.py:239: UserWarning: 'verbose_eval' argument is deprecated and will be removed in a future release of LightGBM. Pass 'log_evaluation()' callback via 'callbacks' argument instead.\n",
      "  _log_warning(\"'verbose_eval' argument is deprecated and will be removed in a future release of LightGBM. \"\n"
     ]
    },
    {
     "name": "stdout",
     "output_type": "stream",
     "text": [
      "[LightGBM] [Warning] Found whitespace in feature_names, replace with underlines\n",
      "[LightGBM] [Warning] Auto-choosing row-wise multi-threading, the overhead of testing was 0.002527 seconds.\n",
      "You can set `force_row_wise=true` to remove the overhead.\n",
      "And if memory is not enough, you can set `force_col_wise=true`.\n",
      "[LightGBM] [Info] Total Bins 579\n",
      "[LightGBM] [Info] Number of data points in the train set: 6675, number of used features: 48\n",
      "[LightGBM] [Warning] Found whitespace in feature_names, replace with underlines\n",
      "[LightGBM] [Info] Start training from score 1.112659\n",
      "[LightGBM] [Warning] No further splits with positive gain, best gain: -inf\n",
      "[LightGBM] [Warning] No further splits with positive gain, best gain: -inf\n",
      "[LightGBM] [Warning] No further splits with positive gain, best gain: -inf\n",
      "[LightGBM] [Warning] No further splits with positive gain, best gain: -inf\n",
      "[LightGBM] [Warning] No further splits with positive gain, best gain: -inf\n",
      "[LightGBM] [Warning] No further splits with positive gain, best gain: -inf\n",
      "[LightGBM] [Warning] No further splits with positive gain, best gain: -inf\n",
      "[LightGBM] [Warning] No further splits with positive gain, best gain: -inf\n",
      "[LightGBM] [Warning] No further splits with positive gain, best gain: -inf\n",
      "[LightGBM] [Warning] No further splits with positive gain, best gain: -inf\n",
      "[LightGBM] [Warning] No further splits with positive gain, best gain: -inf\n",
      "[LightGBM] [Warning] No further splits with positive gain, best gain: -inf\n",
      "[LightGBM] [Warning] No further splits with positive gain, best gain: -inf\n",
      "[LightGBM] [Warning] No further splits with positive gain, best gain: -inf\n",
      "[LightGBM] [Warning] No further splits with positive gain, best gain: -inf\n",
      "[LightGBM] [Warning] No further splits with positive gain, best gain: -inf\n",
      "[LightGBM] [Warning] No further splits with positive gain, best gain: -inf\n",
      "[LightGBM] [Warning] No further splits with positive gain, best gain: -inf\n",
      "[LightGBM] [Warning] No further splits with positive gain, best gain: -inf\n",
      "[LightGBM] [Warning] No further splits with positive gain, best gain: -inf\n",
      "[LightGBM] [Warning] No further splits with positive gain, best gain: -inf\n",
      "[LightGBM] [Warning] No further splits with positive gain, best gain: -inf\n",
      "[LightGBM] [Warning] No further splits with positive gain, best gain: -inf\n",
      "[LightGBM] [Warning] No further splits with positive gain, best gain: -inf\n",
      "[LightGBM] [Warning] No further splits with positive gain, best gain: -inf\n",
      "[LightGBM] [Warning] No further splits with positive gain, best gain: -inf\n",
      "[LightGBM] [Warning] No further splits with positive gain, best gain: -inf\n",
      "[LightGBM] [Warning] No further splits with positive gain, best gain: -inf\n",
      "[LightGBM] [Warning] No further splits with positive gain, best gain: -inf\n",
      "[LightGBM] [Warning] No further splits with positive gain, best gain: -inf\n",
      "[LightGBM] [Warning] No further splits with positive gain, best gain: -inf\n",
      "[LightGBM] [Warning] No further splits with positive gain, best gain: -inf\n",
      "[LightGBM] [Warning] No further splits with positive gain, best gain: -inf\n",
      "[LightGBM] [Warning] No further splits with positive gain, best gain: -inf\n",
      "[LightGBM] [Warning] No further splits with positive gain, best gain: -inf\n",
      "[LightGBM] [Warning] No further splits with positive gain, best gain: -inf\n",
      "[LightGBM] [Warning] No further splits with positive gain, best gain: -inf\n",
      "[LightGBM] [Warning] No further splits with positive gain, best gain: -inf\n",
      "[LightGBM] [Warning] No further splits with positive gain, best gain: -inf\n",
      "[LightGBM] [Warning] No further splits with positive gain, best gain: -inf\n",
      "[LightGBM] [Warning] No further splits with positive gain, best gain: -inf\n",
      "[LightGBM] [Warning] No further splits with positive gain, best gain: -inf\n",
      "[LightGBM] [Warning] No further splits with positive gain, best gain: -inf\n",
      "[LightGBM] [Warning] No further splits with positive gain, best gain: -inf\n",
      "[LightGBM] [Warning] No further splits with positive gain, best gain: -inf\n",
      "[LightGBM] [Warning] No further splits with positive gain, best gain: -inf\n",
      "[LightGBM] [Warning] No further splits with positive gain, best gain: -inf\n",
      "[LightGBM] [Warning] No further splits with positive gain, best gain: -inf\n",
      "[LightGBM] [Warning] No further splits with positive gain, best gain: -inf\n",
      "[LightGBM] [Warning] No further splits with positive gain, best gain: -inf\n",
      "[LightGBM] [Warning] No further splits with positive gain, best gain: -inf\n",
      "[LightGBM] [Warning] No further splits with positive gain, best gain: -inf\n",
      "[LightGBM] [Warning] No further splits with positive gain, best gain: -inf\n",
      "[LightGBM] [Warning] No further splits with positive gain, best gain: -inf\n",
      "[LightGBM] [Warning] No further splits with positive gain, best gain: -inf\n",
      "[LightGBM] [Warning] No further splits with positive gain, best gain: -inf\n",
      "[LightGBM] [Warning] No further splits with positive gain, best gain: -inf\n",
      "[LightGBM] [Warning] No further splits with positive gain, best gain: -inf\n",
      "[LightGBM] [Warning] No further splits with positive gain, best gain: -inf\n",
      "[LightGBM] [Warning] No further splits with positive gain, best gain: -inf\n",
      "[LightGBM] [Warning] No further splits with positive gain, best gain: -inf\n",
      "[LightGBM] [Warning] No further splits with positive gain, best gain: -inf\n",
      "[LightGBM] [Warning] No further splits with positive gain, best gain: -inf\n",
      "[LightGBM] [Warning] No further splits with positive gain, best gain: -inf\n",
      "[LightGBM] [Warning] No further splits with positive gain, best gain: -inf\n",
      "[LightGBM] [Warning] No further splits with positive gain, best gain: -inf\n",
      "[LightGBM] [Warning] No further splits with positive gain, best gain: -inf\n",
      "[LightGBM] [Warning] No further splits with positive gain, best gain: -inf\n",
      "[LightGBM] [Warning] No further splits with positive gain, best gain: -inf\n",
      "[LightGBM] [Warning] No further splits with positive gain, best gain: -inf\n",
      "[LightGBM] [Warning] No further splits with positive gain, best gain: -inf\n",
      "[LightGBM] [Warning] No further splits with positive gain, best gain: -inf\n",
      "[LightGBM] [Warning] No further splits with positive gain, best gain: -inf\n",
      "[LightGBM] [Warning] No further splits with positive gain, best gain: -inf\n",
      "[LightGBM] [Warning] No further splits with positive gain, best gain: -inf\n",
      "[LightGBM] [Warning] No further splits with positive gain, best gain: -inf\n",
      "[LightGBM] [Warning] No further splits with positive gain, best gain: -inf\n",
      "[LightGBM] [Warning] No further splits with positive gain, best gain: -inf\n",
      "[LightGBM] [Warning] No further splits with positive gain, best gain: -inf\n",
      "[LightGBM] [Warning] No further splits with positive gain, best gain: -inf\n",
      "[LightGBM] [Warning] No further splits with positive gain, best gain: -inf\n",
      "[LightGBM] [Warning] No further splits with positive gain, best gain: -inf\n",
      "[LightGBM] [Warning] No further splits with positive gain, best gain: -inf\n",
      "[LightGBM] [Warning] No further splits with positive gain, best gain: -inf\n",
      "[LightGBM] [Warning] No further splits with positive gain, best gain: -inf\n",
      "[LightGBM] [Warning] No further splits with positive gain, best gain: -inf\n",
      "[LightGBM] [Warning] No further splits with positive gain, best gain: -inf\n",
      "[LightGBM] [Warning] No further splits with positive gain, best gain: -inf\n",
      "[LightGBM] [Warning] No further splits with positive gain, best gain: -inf\n",
      "[LightGBM] [Warning] No further splits with positive gain, best gain: -inf\n",
      "[LightGBM] [Warning] No further splits with positive gain, best gain: -inf\n",
      "[LightGBM] [Warning] No further splits with positive gain, best gain: -inf\n",
      "[LightGBM] [Warning] No further splits with positive gain, best gain: -inf\n",
      "[LightGBM] [Warning] No further splits with positive gain, best gain: -inf\n",
      "[LightGBM] [Warning] No further splits with positive gain, best gain: -inf\n",
      "[LightGBM] [Warning] No further splits with positive gain, best gain: -inf\n",
      "[LightGBM] [Warning] No further splits with positive gain, best gain: -inf\n",
      "[LightGBM] [Warning] No further splits with positive gain, best gain: -inf\n",
      "[LightGBM] [Warning] No further splits with positive gain, best gain: -inf\n",
      "[LightGBM] [Warning] No further splits with positive gain, best gain: -inf\n",
      "0:\tlearn: 0.5106759\ttotal: 1.92ms\tremaining: 133ms\n",
      "1:\tlearn: 0.5103659\ttotal: 4.33ms\tremaining: 147ms\n",
      "2:\tlearn: 0.5099032\ttotal: 7.04ms\tremaining: 157ms\n",
      "3:\tlearn: 0.5095639\ttotal: 9.02ms\tremaining: 149ms\n",
      "4:\tlearn: 0.5092740\ttotal: 11ms\tremaining: 143ms\n",
      "5:\tlearn: 0.5089201\ttotal: 12.9ms\tremaining: 138ms\n",
      "6:\tlearn: 0.5087009\ttotal: 15.5ms\tremaining: 139ms\n",
      "7:\tlearn: 0.5083412\ttotal: 17.8ms\tremaining: 138ms\n",
      "8:\tlearn: 0.5080501\ttotal: 19.8ms\tremaining: 134ms\n",
      "9:\tlearn: 0.5076257\ttotal: 21.7ms\tremaining: 130ms\n",
      "10:\tlearn: 0.5073387\ttotal: 24.1ms\tremaining: 129ms\n",
      "11:\tlearn: 0.5071023\ttotal: 26.3ms\tremaining: 127ms\n",
      "12:\tlearn: 0.5068143\ttotal: 28.2ms\tremaining: 124ms\n",
      "13:\tlearn: 0.5064918\ttotal: 30ms\tremaining: 120ms\n",
      "14:\tlearn: 0.5062632\ttotal: 31.9ms\tremaining: 117ms\n",
      "15:\tlearn: 0.5059314\ttotal: 34.2ms\tremaining: 115ms\n",
      "16:\tlearn: 0.5056729\ttotal: 36.3ms\tremaining: 113ms\n",
      "17:\tlearn: 0.5054164\ttotal: 38.2ms\tremaining: 110ms\n",
      "18:\tlearn: 0.5049941\ttotal: 40.5ms\tremaining: 109ms\n",
      "19:\tlearn: 0.5046801\ttotal: 43ms\tremaining: 107ms\n",
      "20:\tlearn: 0.5045109\ttotal: 45.7ms\tremaining: 107ms\n",
      "21:\tlearn: 0.5042683\ttotal: 48.2ms\tremaining: 105ms\n",
      "22:\tlearn: 0.5039220\ttotal: 50.2ms\tremaining: 102ms\n",
      "23:\tlearn: 0.5036706\ttotal: 51.9ms\tremaining: 99.4ms\n",
      "24:\tlearn: 0.5033687\ttotal: 54.1ms\tremaining: 97.4ms\n",
      "25:\tlearn: 0.5030858\ttotal: 56.3ms\tremaining: 95.4ms\n",
      "26:\tlearn: 0.5029665\ttotal: 58.8ms\tremaining: 93.7ms\n",
      "27:\tlearn: 0.5027369\ttotal: 61.1ms\tremaining: 91.7ms\n",
      "28:\tlearn: 0.5024441\ttotal: 64ms\tremaining: 90.5ms\n",
      "29:\tlearn: 0.5021609\ttotal: 65.6ms\tremaining: 87.4ms\n",
      "30:\tlearn: 0.5018448\ttotal: 67.7ms\tremaining: 85.1ms\n",
      "31:\tlearn: 0.5016532\ttotal: 69.7ms\tremaining: 82.7ms\n",
      "32:\tlearn: 0.5014193\ttotal: 72.8ms\tremaining: 81.6ms\n",
      "33:\tlearn: 0.5010746\ttotal: 74.6ms\tremaining: 79ms\n",
      "34:\tlearn: 0.5008078\ttotal: 77ms\tremaining: 77ms\n",
      "35:\tlearn: 0.5005112\ttotal: 79.9ms\tremaining: 75.5ms\n",
      "36:\tlearn: 0.5003118\ttotal: 82.1ms\tremaining: 73.2ms\n",
      "37:\tlearn: 0.5000184\ttotal: 84.2ms\tremaining: 70.9ms\n",
      "38:\tlearn: 0.4999524\ttotal: 85.7ms\tremaining: 68.1ms\n",
      "39:\tlearn: 0.4997629\ttotal: 88.1ms\tremaining: 66.1ms\n",
      "40:\tlearn: 0.4995738\ttotal: 90.2ms\tremaining: 63.8ms\n",
      "41:\tlearn: 0.4992573\ttotal: 92.7ms\tremaining: 61.8ms\n",
      "42:\tlearn: 0.4989863\ttotal: 94.9ms\tremaining: 59.6ms\n",
      "43:\tlearn: 0.4987323\ttotal: 96.9ms\tremaining: 57.3ms\n",
      "44:\tlearn: 0.4984696\ttotal: 98.9ms\tremaining: 55ms\n",
      "45:\tlearn: 0.4983205\ttotal: 101ms\tremaining: 52.7ms\n",
      "46:\tlearn: 0.4980958\ttotal: 103ms\tremaining: 50.6ms\n",
      "47:\tlearn: 0.4978018\ttotal: 106ms\tremaining: 48.6ms\n",
      "48:\tlearn: 0.4975821\ttotal: 108ms\tremaining: 46.3ms\n",
      "49:\tlearn: 0.4973782\ttotal: 110ms\tremaining: 44ms\n",
      "50:\tlearn: 0.4971439\ttotal: 112ms\tremaining: 41.9ms\n",
      "51:\tlearn: 0.4968984\ttotal: 115ms\tremaining: 39.7ms\n",
      "52:\tlearn: 0.4966809\ttotal: 117ms\tremaining: 37.5ms\n",
      "53:\tlearn: 0.4964577\ttotal: 120ms\tremaining: 35.4ms\n",
      "54:\tlearn: 0.4962937\ttotal: 123ms\tremaining: 33.5ms\n",
      "55:\tlearn: 0.4960918\ttotal: 125ms\tremaining: 31.1ms\n",
      "56:\tlearn: 0.4958913\ttotal: 127ms\tremaining: 28.9ms\n",
      "57:\tlearn: 0.4957047\ttotal: 129ms\tremaining: 26.7ms\n",
      "58:\tlearn: 0.4956676\ttotal: 130ms\tremaining: 24.1ms\n",
      "59:\tlearn: 0.4954419\ttotal: 133ms\tremaining: 22.2ms\n",
      "60:\tlearn: 0.4952268\ttotal: 136ms\tremaining: 20ms\n",
      "61:\tlearn: 0.4949361\ttotal: 137ms\tremaining: 17.7ms\n",
      "62:\tlearn: 0.4946675\ttotal: 140ms\tremaining: 15.5ms\n",
      "63:\tlearn: 0.4945287\ttotal: 141ms\tremaining: 13.2ms\n",
      "64:\tlearn: 0.4943171\ttotal: 143ms\tremaining: 11ms\n",
      "65:\tlearn: 0.4941142\ttotal: 145ms\tremaining: 8.77ms\n",
      "66:\tlearn: 0.4938851\ttotal: 147ms\tremaining: 6.58ms\n",
      "67:\tlearn: 0.4937131\ttotal: 149ms\tremaining: 4.39ms\n",
      "68:\tlearn: 0.4934201\ttotal: 151ms\tremaining: 2.19ms\n",
      "69:\tlearn: 0.4931928\ttotal: 153ms\tremaining: 0us\n"
     ]
    },
    {
     "name": "stderr",
     "output_type": "stream",
     "text": [
      "/var/folders/xn/dxdr0gzs2bld2s01df0dtst00000gn/T/ipykernel_69786/1001005934.py:88: DataConversionWarning: A column-vector y was passed when a 1d array was expected. Please change the shape of y to (n_samples,), for example using ravel().\n",
      "  rf_train.fit(X_train.iloc[train_index], y_train.iloc[train_index])\n",
      "/Users/matmang/opt/anaconda3/envs/bert-study/lib/python3.10/site-packages/sklearn/ensemble/_gb.py:437: DataConversionWarning: A column-vector y was passed when a 1d array was expected. Please change the shape of y to (n_samples, ), for example using ravel().\n",
      "  y = column_or_1d(y, warn=True)\n",
      "/Users/matmang/opt/anaconda3/envs/bert-study/lib/python3.10/site-packages/lightgbm/engine.py:181: UserWarning: 'early_stopping_rounds' argument is deprecated and will be removed in a future release of LightGBM. Pass 'early_stopping()' callback via 'callbacks' argument instead.\n",
      "  _log_warning(\"'early_stopping_rounds' argument is deprecated and will be removed in a future release of LightGBM. \"\n",
      "/Users/matmang/opt/anaconda3/envs/bert-study/lib/python3.10/site-packages/lightgbm/engine.py:239: UserWarning: 'verbose_eval' argument is deprecated and will be removed in a future release of LightGBM. Pass 'log_evaluation()' callback via 'callbacks' argument instead.\n",
      "  _log_warning(\"'verbose_eval' argument is deprecated and will be removed in a future release of LightGBM. \"\n"
     ]
    },
    {
     "name": "stdout",
     "output_type": "stream",
     "text": [
      "[LightGBM] [Warning] Found whitespace in feature_names, replace with underlines\n",
      "[LightGBM] [Warning] Auto-choosing row-wise multi-threading, the overhead of testing was 0.002895 seconds.\n",
      "You can set `force_row_wise=true` to remove the overhead.\n",
      "And if memory is not enough, you can set `force_col_wise=true`.\n",
      "[LightGBM] [Info] Total Bins 584\n",
      "[LightGBM] [Info] Number of data points in the train set: 6675, number of used features: 49\n",
      "[LightGBM] [Warning] Found whitespace in feature_names, replace with underlines\n",
      "[LightGBM] [Info] Start training from score 1.110712\n",
      "[LightGBM] [Warning] No further splits with positive gain, best gain: -inf\n",
      "[LightGBM] [Warning] No further splits with positive gain, best gain: -inf\n",
      "[LightGBM] [Warning] No further splits with positive gain, best gain: -inf\n",
      "[LightGBM] [Warning] No further splits with positive gain, best gain: -inf\n",
      "[LightGBM] [Warning] No further splits with positive gain, best gain: -inf\n",
      "[LightGBM] [Warning] No further splits with positive gain, best gain: -inf\n",
      "[LightGBM] [Warning] No further splits with positive gain, best gain: -inf\n",
      "[LightGBM] [Warning] No further splits with positive gain, best gain: -inf\n",
      "[LightGBM] [Warning] No further splits with positive gain, best gain: -inf\n",
      "[LightGBM] [Warning] No further splits with positive gain, best gain: -inf\n",
      "[LightGBM] [Warning] No further splits with positive gain, best gain: -inf\n",
      "[LightGBM] [Warning] No further splits with positive gain, best gain: -inf\n",
      "[LightGBM] [Warning] No further splits with positive gain, best gain: -inf\n",
      "[LightGBM] [Warning] No further splits with positive gain, best gain: -inf\n",
      "[LightGBM] [Warning] No further splits with positive gain, best gain: -inf\n",
      "[LightGBM] [Warning] No further splits with positive gain, best gain: -inf\n",
      "[LightGBM] [Warning] No further splits with positive gain, best gain: -inf\n",
      "[LightGBM] [Warning] No further splits with positive gain, best gain: -inf\n",
      "[LightGBM] [Warning] No further splits with positive gain, best gain: -inf\n",
      "0:\tlearn: 0.6478341\ttotal: 3.04ms\tremaining: 210ms\n",
      "1:\tlearn: 0.6454378\ttotal: 5.16ms\tremaining: 176ms\n",
      "2:\tlearn: 0.6430045\ttotal: 7.82ms\tremaining: 175ms\n",
      "3:\tlearn: 0.6426910\ttotal: 9.78ms\tremaining: 161ms\n",
      "4:\tlearn: 0.6422746\ttotal: 11.6ms\tremaining: 150ms\n",
      "5:\tlearn: 0.6399538\ttotal: 14.3ms\tremaining: 153ms\n",
      "6:\tlearn: 0.6376736\ttotal: 16ms\tremaining: 144ms\n",
      "7:\tlearn: 0.6361912\ttotal: 17.8ms\tremaining: 138ms\n",
      "8:\tlearn: 0.6358965\ttotal: 20.7ms\tremaining: 141ms\n",
      "9:\tlearn: 0.6356659\ttotal: 22.9ms\tremaining: 137ms\n",
      "10:\tlearn: 0.6333617\ttotal: 24.8ms\tremaining: 133ms\n",
      "11:\tlearn: 0.6310950\ttotal: 27.1ms\tremaining: 131ms\n",
      "12:\tlearn: 0.6289222\ttotal: 28.7ms\tremaining: 126ms\n",
      "13:\tlearn: 0.6267163\ttotal: 30.9ms\tremaining: 123ms\n",
      "14:\tlearn: 0.6264997\ttotal: 32.2ms\tremaining: 118ms\n",
      "15:\tlearn: 0.6243555\ttotal: 34.1ms\tremaining: 115ms\n",
      "16:\tlearn: 0.6240262\ttotal: 35.8ms\tremaining: 112ms\n",
      "17:\tlearn: 0.6218947\ttotal: 38.1ms\tremaining: 110ms\n",
      "18:\tlearn: 0.6198964\ttotal: 39.7ms\tremaining: 107ms\n",
      "19:\tlearn: 0.6197597\ttotal: 40.9ms\tremaining: 102ms\n",
      "20:\tlearn: 0.6176544\ttotal: 43.2ms\tremaining: 101ms\n",
      "21:\tlearn: 0.6174348\ttotal: 46ms\tremaining: 100ms\n",
      "22:\tlearn: 0.6153831\ttotal: 48.6ms\tremaining: 99.3ms\n",
      "23:\tlearn: 0.6133723\ttotal: 51.6ms\tremaining: 98.9ms\n",
      "24:\tlearn: 0.6131957\ttotal: 53.4ms\tremaining: 96.1ms\n",
      "25:\tlearn: 0.6129672\ttotal: 55.4ms\tremaining: 93.7ms\n",
      "26:\tlearn: 0.6110399\ttotal: 57.3ms\tremaining: 91.3ms\n",
      "27:\tlearn: 0.6105160\ttotal: 59.6ms\tremaining: 89.4ms\n",
      "28:\tlearn: 0.6085904\ttotal: 61.5ms\tremaining: 86.9ms\n",
      "29:\tlearn: 0.6084173\ttotal: 63.4ms\tremaining: 84.5ms\n",
      "30:\tlearn: 0.6064693\ttotal: 65.8ms\tremaining: 82.8ms\n",
      "31:\tlearn: 0.6062602\ttotal: 68ms\tremaining: 80.7ms\n",
      "32:\tlearn: 0.6042683\ttotal: 71.9ms\tremaining: 80.6ms\n",
      "33:\tlearn: 0.6040620\ttotal: 74ms\tremaining: 78.3ms\n",
      "34:\tlearn: 0.6021447\ttotal: 75.8ms\tremaining: 75.8ms\n",
      "35:\tlearn: 0.6002808\ttotal: 77.7ms\tremaining: 73.4ms\n",
      "36:\tlearn: 0.5999448\ttotal: 79.9ms\tremaining: 71.3ms\n",
      "37:\tlearn: 0.5997423\ttotal: 82.1ms\tremaining: 69.2ms\n",
      "38:\tlearn: 0.5995906\ttotal: 83.7ms\tremaining: 66.5ms\n",
      "39:\tlearn: 0.5978245\ttotal: 85.5ms\tremaining: 64.1ms\n",
      "40:\tlearn: 0.5976523\ttotal: 87.7ms\tremaining: 62ms\n",
      "41:\tlearn: 0.5959014\ttotal: 89.7ms\tremaining: 59.8ms\n",
      "42:\tlearn: 0.5946871\ttotal: 92.4ms\tremaining: 58ms\n",
      "43:\tlearn: 0.5929424\ttotal: 94.3ms\tremaining: 55.7ms\n",
      "44:\tlearn: 0.5911743\ttotal: 96.1ms\tremaining: 53.4ms\n",
      "45:\tlearn: 0.5910161\ttotal: 98.7ms\tremaining: 51.5ms\n",
      "46:\tlearn: 0.5892819\ttotal: 100ms\tremaining: 49ms\n",
      "47:\tlearn: 0.5891450\ttotal: 102ms\tremaining: 46.9ms\n",
      "48:\tlearn: 0.5874630\ttotal: 105ms\tremaining: 44.9ms\n",
      "49:\tlearn: 0.5858798\ttotal: 106ms\tremaining: 42.5ms\n",
      "50:\tlearn: 0.5842087\ttotal: 109ms\tremaining: 40.5ms\n",
      "51:\tlearn: 0.5840324\ttotal: 111ms\tremaining: 38.4ms\n",
      "52:\tlearn: 0.5838573\ttotal: 113ms\tremaining: 36.3ms\n",
      "53:\tlearn: 0.5836543\ttotal: 116ms\tremaining: 34.3ms\n",
      "54:\tlearn: 0.5835081\ttotal: 118ms\tremaining: 32.1ms\n",
      "55:\tlearn: 0.5833587\ttotal: 119ms\tremaining: 29.8ms\n",
      "56:\tlearn: 0.5831477\ttotal: 121ms\tremaining: 27.7ms\n",
      "57:\tlearn: 0.5829848\ttotal: 123ms\tremaining: 25.5ms\n",
      "58:\tlearn: 0.5813669\ttotal: 125ms\tremaining: 23.3ms\n",
      "59:\tlearn: 0.5797465\ttotal: 127ms\tremaining: 21.2ms\n",
      "60:\tlearn: 0.5795567\ttotal: 129ms\tremaining: 19.1ms\n",
      "61:\tlearn: 0.5792700\ttotal: 132ms\tremaining: 17ms\n",
      "62:\tlearn: 0.5790371\ttotal: 134ms\tremaining: 14.9ms\n",
      "63:\tlearn: 0.5774332\ttotal: 136ms\tremaining: 12.7ms\n",
      "64:\tlearn: 0.5772602\ttotal: 138ms\tremaining: 10.6ms\n",
      "65:\tlearn: 0.5760962\ttotal: 140ms\tremaining: 8.49ms\n",
      "66:\tlearn: 0.5745871\ttotal: 142ms\tremaining: 6.35ms\n",
      "67:\tlearn: 0.5731523\ttotal: 143ms\tremaining: 4.21ms\n",
      "68:\tlearn: 0.5715667\ttotal: 145ms\tremaining: 2.1ms\n",
      "69:\tlearn: 0.5713992\ttotal: 147ms\tremaining: 0us\n"
     ]
    },
    {
     "name": "stderr",
     "output_type": "stream",
     "text": [
      "/var/folders/xn/dxdr0gzs2bld2s01df0dtst00000gn/T/ipykernel_69786/1001005934.py:88: DataConversionWarning: A column-vector y was passed when a 1d array was expected. Please change the shape of y to (n_samples,), for example using ravel().\n",
      "  rf_train.fit(X_train.iloc[train_index], y_train.iloc[train_index])\n",
      "/Users/matmang/opt/anaconda3/envs/bert-study/lib/python3.10/site-packages/sklearn/ensemble/_gb.py:437: DataConversionWarning: A column-vector y was passed when a 1d array was expected. Please change the shape of y to (n_samples, ), for example using ravel().\n",
      "  y = column_or_1d(y, warn=True)\n",
      "/Users/matmang/opt/anaconda3/envs/bert-study/lib/python3.10/site-packages/lightgbm/engine.py:181: UserWarning: 'early_stopping_rounds' argument is deprecated and will be removed in a future release of LightGBM. Pass 'early_stopping()' callback via 'callbacks' argument instead.\n",
      "  _log_warning(\"'early_stopping_rounds' argument is deprecated and will be removed in a future release of LightGBM. \"\n",
      "/Users/matmang/opt/anaconda3/envs/bert-study/lib/python3.10/site-packages/lightgbm/engine.py:239: UserWarning: 'verbose_eval' argument is deprecated and will be removed in a future release of LightGBM. Pass 'log_evaluation()' callback via 'callbacks' argument instead.\n",
      "  _log_warning(\"'verbose_eval' argument is deprecated and will be removed in a future release of LightGBM. \"\n"
     ]
    },
    {
     "name": "stdout",
     "output_type": "stream",
     "text": [
      "[LightGBM] [Warning] Found whitespace in feature_names, replace with underlines\n",
      "[LightGBM] [Warning] Auto-choosing row-wise multi-threading, the overhead of testing was 0.001971 seconds.\n",
      "You can set `force_row_wise=true` to remove the overhead.\n",
      "And if memory is not enough, you can set `force_col_wise=true`.\n",
      "[LightGBM] [Info] Total Bins 585\n",
      "[LightGBM] [Info] Number of data points in the train set: 6675, number of used features: 50\n",
      "[LightGBM] [Warning] Found whitespace in feature_names, replace with underlines\n",
      "[LightGBM] [Info] Start training from score 1.112360\n",
      "[LightGBM] [Warning] No further splits with positive gain, best gain: -inf\n",
      "[LightGBM] [Warning] No further splits with positive gain, best gain: -inf\n",
      "[LightGBM] [Warning] No further splits with positive gain, best gain: -inf\n",
      "[LightGBM] [Warning] No further splits with positive gain, best gain: -inf\n",
      "[LightGBM] [Warning] No further splits with positive gain, best gain: -inf\n",
      "[LightGBM] [Warning] No further splits with positive gain, best gain: -inf\n",
      "[LightGBM] [Warning] No further splits with positive gain, best gain: -inf\n",
      "[LightGBM] [Warning] No further splits with positive gain, best gain: -inf\n",
      "[LightGBM] [Warning] No further splits with positive gain, best gain: -inf\n",
      "[LightGBM] [Warning] No further splits with positive gain, best gain: -inf\n",
      "[LightGBM] [Warning] No further splits with positive gain, best gain: -inf\n",
      "[LightGBM] [Warning] No further splits with positive gain, best gain: -inf\n",
      "[LightGBM] [Warning] No further splits with positive gain, best gain: -inf\n",
      "[LightGBM] [Warning] No further splits with positive gain, best gain: -inf\n",
      "[LightGBM] [Warning] No further splits with positive gain, best gain: -inf\n",
      "[LightGBM] [Warning] No further splits with positive gain, best gain: -inf\n",
      "[LightGBM] [Warning] No further splits with positive gain, best gain: -inf\n",
      "[LightGBM] [Warning] No further splits with positive gain, best gain: -inf\n",
      "[LightGBM] [Warning] No further splits with positive gain, best gain: -inf\n",
      "[LightGBM] [Warning] No further splits with positive gain, best gain: -inf\n",
      "[LightGBM] [Warning] No further splits with positive gain, best gain: -inf\n",
      "[LightGBM] [Warning] No further splits with positive gain, best gain: -inf\n",
      "[LightGBM] [Warning] No further splits with positive gain, best gain: -inf\n",
      "[LightGBM] [Warning] No further splits with positive gain, best gain: -inf\n",
      "[LightGBM] [Warning] No further splits with positive gain, best gain: -inf\n",
      "[LightGBM] [Warning] No further splits with positive gain, best gain: -inf\n",
      "[LightGBM] [Warning] No further splits with positive gain, best gain: -inf\n",
      "[LightGBM] [Warning] No further splits with positive gain, best gain: -inf\n",
      "[LightGBM] [Warning] No further splits with positive gain, best gain: -inf\n",
      "[LightGBM] [Warning] No further splits with positive gain, best gain: -inf\n",
      "[LightGBM] [Warning] No further splits with positive gain, best gain: -inf\n",
      "[LightGBM] [Warning] No further splits with positive gain, best gain: -inf\n",
      "[LightGBM] [Warning] No further splits with positive gain, best gain: -inf\n",
      "[LightGBM] [Warning] No further splits with positive gain, best gain: -inf\n",
      "[LightGBM] [Warning] No further splits with positive gain, best gain: -inf\n",
      "[LightGBM] [Warning] No further splits with positive gain, best gain: -inf\n",
      "[LightGBM] [Warning] No further splits with positive gain, best gain: -inf\n",
      "[LightGBM] [Warning] No further splits with positive gain, best gain: -inf\n",
      "[LightGBM] [Warning] No further splits with positive gain, best gain: -inf\n",
      "[LightGBM] [Warning] No further splits with positive gain, best gain: -inf\n",
      "[LightGBM] [Warning] No further splits with positive gain, best gain: -inf\n",
      "[LightGBM] [Warning] No further splits with positive gain, best gain: -inf\n",
      "[LightGBM] [Warning] No further splits with positive gain, best gain: -inf\n",
      "[LightGBM] [Warning] No further splits with positive gain, best gain: -inf\n",
      "[LightGBM] [Warning] No further splits with positive gain, best gain: -inf\n",
      "[LightGBM] [Warning] No further splits with positive gain, best gain: -inf\n",
      "[LightGBM] [Warning] No further splits with positive gain, best gain: -inf\n",
      "[LightGBM] [Warning] No further splits with positive gain, best gain: -inf\n",
      "[LightGBM] [Warning] No further splits with positive gain, best gain: -inf\n",
      "[LightGBM] [Warning] No further splits with positive gain, best gain: -inf\n",
      "[LightGBM] [Warning] No further splits with positive gain, best gain: -inf\n",
      "[LightGBM] [Warning] No further splits with positive gain, best gain: -inf\n",
      "[LightGBM] [Warning] No further splits with positive gain, best gain: -inf\n",
      "[LightGBM] [Warning] No further splits with positive gain, best gain: -inf\n",
      "[LightGBM] [Warning] No further splits with positive gain, best gain: -inf\n",
      "[LightGBM] [Warning] No further splits with positive gain, best gain: -inf\n",
      "[LightGBM] [Warning] No further splits with positive gain, best gain: -inf\n",
      "[LightGBM] [Warning] No further splits with positive gain, best gain: -inf\n",
      "[LightGBM] [Warning] No further splits with positive gain, best gain: -inf\n",
      "[LightGBM] [Warning] No further splits with positive gain, best gain: -inf\n",
      "[LightGBM] [Warning] No further splits with positive gain, best gain: -inf\n",
      "[LightGBM] [Warning] No further splits with positive gain, best gain: -inf\n",
      "[LightGBM] [Warning] No further splits with positive gain, best gain: -inf\n",
      "[LightGBM] [Warning] No further splits with positive gain, best gain: -inf\n",
      "[LightGBM] [Warning] No further splits with positive gain, best gain: -inf\n",
      "[LightGBM] [Warning] No further splits with positive gain, best gain: -inf\n",
      "[LightGBM] [Warning] No further splits with positive gain, best gain: -inf\n",
      "[LightGBM] [Warning] No further splits with positive gain, best gain: -inf\n",
      "[LightGBM] [Warning] No further splits with positive gain, best gain: -inf\n",
      "[LightGBM] [Warning] No further splits with positive gain, best gain: -inf\n",
      "[LightGBM] [Warning] No further splits with positive gain, best gain: -inf\n",
      "[LightGBM] [Warning] No further splits with positive gain, best gain: -inf\n",
      "[LightGBM] [Warning] No further splits with positive gain, best gain: -inf\n",
      "[LightGBM] [Warning] No further splits with positive gain, best gain: -inf\n",
      "[LightGBM] [Warning] No further splits with positive gain, best gain: -inf\n",
      "[LightGBM] [Warning] No further splits with positive gain, best gain: -inf\n",
      "[LightGBM] [Warning] No further splits with positive gain, best gain: -inf\n",
      "[LightGBM] [Warning] No further splits with positive gain, best gain: -inf\n",
      "[LightGBM] [Warning] No further splits with positive gain, best gain: -inf\n",
      "[LightGBM] [Warning] No further splits with positive gain, best gain: -inf\n",
      "[LightGBM] [Warning] No further splits with positive gain, best gain: -inf\n",
      "[LightGBM] [Warning] No further splits with positive gain, best gain: -inf\n",
      "[LightGBM] [Warning] No further splits with positive gain, best gain: -inf\n",
      "[LightGBM] [Warning] No further splits with positive gain, best gain: -inf\n",
      "[LightGBM] [Warning] No further splits with positive gain, best gain: -inf\n",
      "[LightGBM] [Warning] No further splits with positive gain, best gain: -inf\n",
      "[LightGBM] [Warning] No further splits with positive gain, best gain: -inf\n",
      "[LightGBM] [Warning] No further splits with positive gain, best gain: -inf\n",
      "[LightGBM] [Warning] No further splits with positive gain, best gain: -inf\n",
      "[LightGBM] [Warning] No further splits with positive gain, best gain: -inf\n",
      "[LightGBM] [Warning] No further splits with positive gain, best gain: -inf\n",
      "[LightGBM] [Warning] No further splits with positive gain, best gain: -inf\n",
      "[LightGBM] [Warning] No further splits with positive gain, best gain: -inf\n",
      "[LightGBM] [Warning] No further splits with positive gain, best gain: -inf\n",
      "[LightGBM] [Warning] No further splits with positive gain, best gain: -inf\n",
      "[LightGBM] [Warning] No further splits with positive gain, best gain: -inf\n",
      "[LightGBM] [Warning] No further splits with positive gain, best gain: -inf\n",
      "[LightGBM] [Warning] No further splits with positive gain, best gain: -inf\n",
      "[LightGBM] [Warning] No further splits with positive gain, best gain: -inf\n",
      "[LightGBM] [Warning] No further splits with positive gain, best gain: -inf\n",
      "0:\tlearn: 0.6502312\ttotal: 2.13ms\tremaining: 147ms\n",
      "1:\tlearn: 0.6489774\ttotal: 3.96ms\tremaining: 135ms\n",
      "2:\tlearn: 0.6466013\ttotal: 6.1ms\tremaining: 136ms\n",
      "3:\tlearn: 0.6443129\ttotal: 7.72ms\tremaining: 127ms\n",
      "4:\tlearn: 0.6419674\ttotal: 9.46ms\tremaining: 123ms\n",
      "5:\tlearn: 0.6417370\ttotal: 12.2ms\tremaining: 130ms\n",
      "6:\tlearn: 0.6394505\ttotal: 14.7ms\tremaining: 132ms\n",
      "7:\tlearn: 0.6371705\ttotal: 17ms\tremaining: 132ms\n",
      "8:\tlearn: 0.6358433\ttotal: 19.6ms\tremaining: 133ms\n",
      "9:\tlearn: 0.6343529\ttotal: 21.6ms\tremaining: 129ms\n",
      "10:\tlearn: 0.6328021\ttotal: 23.2ms\tremaining: 125ms\n",
      "11:\tlearn: 0.6306669\ttotal: 25.6ms\tremaining: 124ms\n",
      "12:\tlearn: 0.6284610\ttotal: 27.2ms\tremaining: 119ms\n",
      "13:\tlearn: 0.6263265\ttotal: 29ms\tremaining: 116ms\n",
      "14:\tlearn: 0.6241953\ttotal: 31.2ms\tremaining: 114ms\n",
      "15:\tlearn: 0.6221947\ttotal: 33.1ms\tremaining: 112ms\n",
      "16:\tlearn: 0.6201683\ttotal: 35.1ms\tremaining: 109ms\n",
      "17:\tlearn: 0.6199773\ttotal: 37.1ms\tremaining: 107ms\n",
      "18:\tlearn: 0.6180054\ttotal: 38.9ms\tremaining: 104ms\n",
      "19:\tlearn: 0.6166511\ttotal: 41.6ms\tremaining: 104ms\n",
      "20:\tlearn: 0.6164629\ttotal: 43.9ms\tremaining: 102ms\n",
      "21:\tlearn: 0.6162428\ttotal: 45.5ms\tremaining: 99.4ms\n",
      "22:\tlearn: 0.6142471\ttotal: 47.2ms\tremaining: 96.5ms\n",
      "23:\tlearn: 0.6137408\ttotal: 49.3ms\tremaining: 94.6ms\n",
      "24:\tlearn: 0.6117630\ttotal: 51.3ms\tremaining: 92.4ms\n",
      "25:\tlearn: 0.6098907\ttotal: 52.9ms\tremaining: 89.4ms\n",
      "26:\tlearn: 0.6079767\ttotal: 54.8ms\tremaining: 87.2ms\n",
      "27:\tlearn: 0.6067861\ttotal: 56.9ms\tremaining: 85.4ms\n",
      "28:\tlearn: 0.6049351\ttotal: 59ms\tremaining: 83.4ms\n",
      "29:\tlearn: 0.6039605\ttotal: 60.7ms\tremaining: 81ms\n",
      "30:\tlearn: 0.6031206\ttotal: 62.6ms\tremaining: 78.8ms\n",
      "31:\tlearn: 0.6013359\ttotal: 64.4ms\tremaining: 76.5ms\n",
      "32:\tlearn: 0.6010037\ttotal: 66.4ms\tremaining: 74.5ms\n",
      "33:\tlearn: 0.5992692\ttotal: 68.5ms\tremaining: 72.6ms\n",
      "34:\tlearn: 0.5975134\ttotal: 70.7ms\tremaining: 70.7ms\n",
      "35:\tlearn: 0.5964509\ttotal: 72.6ms\tremaining: 68.5ms\n",
      "36:\tlearn: 0.5961063\ttotal: 74.8ms\tremaining: 66.7ms\n",
      "37:\tlearn: 0.5943921\ttotal: 76.8ms\tremaining: 64.6ms\n",
      "38:\tlearn: 0.5927363\ttotal: 78.6ms\tremaining: 62.5ms\n",
      "39:\tlearn: 0.5911091\ttotal: 80.5ms\tremaining: 60.3ms\n",
      "40:\tlearn: 0.5909587\ttotal: 82.8ms\tremaining: 58.6ms\n",
      "41:\tlearn: 0.5893400\ttotal: 85.4ms\tremaining: 57ms\n",
      "42:\tlearn: 0.5891523\ttotal: 87.4ms\tremaining: 54.9ms\n",
      "43:\tlearn: 0.5889165\ttotal: 90.2ms\tremaining: 53.3ms\n",
      "44:\tlearn: 0.5872703\ttotal: 92.2ms\tremaining: 51.2ms\n",
      "45:\tlearn: 0.5870682\ttotal: 94ms\tremaining: 49ms\n",
      "46:\tlearn: 0.5866572\ttotal: 96.7ms\tremaining: 47.3ms\n",
      "47:\tlearn: 0.5850521\ttotal: 98.6ms\tremaining: 45.2ms\n",
      "48:\tlearn: 0.5834841\ttotal: 101ms\tremaining: 43.1ms\n",
      "49:\tlearn: 0.5828245\ttotal: 102ms\tremaining: 41ms\n",
      "50:\tlearn: 0.5822183\ttotal: 104ms\tremaining: 38.8ms\n",
      "51:\tlearn: 0.5806670\ttotal: 107ms\tremaining: 37ms\n",
      "52:\tlearn: 0.5804925\ttotal: 110ms\tremaining: 35.2ms\n",
      "53:\tlearn: 0.5789549\ttotal: 113ms\tremaining: 33.4ms\n",
      "54:\tlearn: 0.5788348\ttotal: 114ms\tremaining: 31.2ms\n",
      "55:\tlearn: 0.5773199\ttotal: 117ms\tremaining: 29.1ms\n",
      "56:\tlearn: 0.5758600\ttotal: 119ms\tremaining: 27.1ms\n",
      "57:\tlearn: 0.5756474\ttotal: 121ms\tremaining: 24.9ms\n",
      "58:\tlearn: 0.5754779\ttotal: 122ms\tremaining: 22.8ms\n",
      "59:\tlearn: 0.5744551\ttotal: 124ms\tremaining: 20.7ms\n",
      "60:\tlearn: 0.5730609\ttotal: 125ms\tremaining: 18.5ms\n",
      "61:\tlearn: 0.5728771\ttotal: 127ms\tremaining: 16.4ms\n",
      "62:\tlearn: 0.5714534\ttotal: 130ms\tremaining: 14.4ms\n",
      "63:\tlearn: 0.5700751\ttotal: 132ms\tremaining: 12.4ms\n",
      "64:\tlearn: 0.5686992\ttotal: 134ms\tremaining: 10.3ms\n",
      "65:\tlearn: 0.5678511\ttotal: 136ms\tremaining: 8.24ms\n",
      "66:\tlearn: 0.5677928\ttotal: 137ms\tremaining: 6.15ms\n",
      "67:\tlearn: 0.5673607\ttotal: 139ms\tremaining: 4.1ms\n",
      "68:\tlearn: 0.5660682\ttotal: 141ms\tremaining: 2.05ms\n",
      "69:\tlearn: 0.5659083\ttotal: 144ms\tremaining: 0us\n"
     ]
    },
    {
     "name": "stderr",
     "output_type": "stream",
     "text": [
      "/var/folders/xn/dxdr0gzs2bld2s01df0dtst00000gn/T/ipykernel_69786/1001005934.py:88: DataConversionWarning: A column-vector y was passed when a 1d array was expected. Please change the shape of y to (n_samples,), for example using ravel().\n",
      "  rf_train.fit(X_train.iloc[train_index], y_train.iloc[train_index])\n",
      "/Users/matmang/opt/anaconda3/envs/bert-study/lib/python3.10/site-packages/sklearn/ensemble/_gb.py:437: DataConversionWarning: A column-vector y was passed when a 1d array was expected. Please change the shape of y to (n_samples, ), for example using ravel().\n",
      "  y = column_or_1d(y, warn=True)\n",
      "/Users/matmang/opt/anaconda3/envs/bert-study/lib/python3.10/site-packages/lightgbm/engine.py:181: UserWarning: 'early_stopping_rounds' argument is deprecated and will be removed in a future release of LightGBM. Pass 'early_stopping()' callback via 'callbacks' argument instead.\n",
      "  _log_warning(\"'early_stopping_rounds' argument is deprecated and will be removed in a future release of LightGBM. \"\n",
      "/Users/matmang/opt/anaconda3/envs/bert-study/lib/python3.10/site-packages/lightgbm/engine.py:239: UserWarning: 'verbose_eval' argument is deprecated and will be removed in a future release of LightGBM. Pass 'log_evaluation()' callback via 'callbacks' argument instead.\n",
      "  _log_warning(\"'verbose_eval' argument is deprecated and will be removed in a future release of LightGBM. \"\n"
     ]
    },
    {
     "name": "stdout",
     "output_type": "stream",
     "text": [
      "[LightGBM] [Warning] Found whitespace in feature_names, replace with underlines\n",
      "[LightGBM] [Warning] Auto-choosing row-wise multi-threading, the overhead of testing was 0.001902 seconds.\n",
      "You can set `force_row_wise=true` to remove the overhead.\n",
      "And if memory is not enough, you can set `force_col_wise=true`.\n",
      "[LightGBM] [Info] Total Bins 583\n",
      "[LightGBM] [Info] Number of data points in the train set: 6676, number of used features: 49\n",
      "[LightGBM] [Warning] Found whitespace in feature_names, replace with underlines\n",
      "[LightGBM] [Info] Start training from score 1.111744\n",
      "[LightGBM] [Warning] No further splits with positive gain, best gain: -inf\n",
      "[LightGBM] [Warning] No further splits with positive gain, best gain: -inf\n",
      "[LightGBM] [Warning] No further splits with positive gain, best gain: -inf\n",
      "[LightGBM] [Warning] No further splits with positive gain, best gain: -inf\n",
      "[LightGBM] [Warning] No further splits with positive gain, best gain: -inf\n",
      "[LightGBM] [Warning] No further splits with positive gain, best gain: -inf\n",
      "[LightGBM] [Warning] No further splits with positive gain, best gain: -inf\n",
      "[LightGBM] [Warning] No further splits with positive gain, best gain: -inf\n",
      "[LightGBM] [Warning] No further splits with positive gain, best gain: -inf\n",
      "[LightGBM] [Warning] No further splits with positive gain, best gain: -inf\n",
      "[LightGBM] [Warning] No further splits with positive gain, best gain: -inf\n",
      "[LightGBM] [Warning] No further splits with positive gain, best gain: -inf\n",
      "[LightGBM] [Warning] No further splits with positive gain, best gain: -inf\n",
      "[LightGBM] [Warning] No further splits with positive gain, best gain: -inf\n",
      "[LightGBM] [Warning] No further splits with positive gain, best gain: -inf\n",
      "[LightGBM] [Warning] No further splits with positive gain, best gain: -inf\n",
      "[LightGBM] [Warning] No further splits with positive gain, best gain: -inf\n",
      "[LightGBM] [Warning] No further splits with positive gain, best gain: -inf\n",
      "[LightGBM] [Warning] No further splits with positive gain, best gain: -inf\n",
      "[LightGBM] [Warning] No further splits with positive gain, best gain: -inf\n",
      "[LightGBM] [Warning] No further splits with positive gain, best gain: -inf\n",
      "[LightGBM] [Warning] No further splits with positive gain, best gain: -inf\n",
      "[LightGBM] [Warning] No further splits with positive gain, best gain: -inf\n",
      "[LightGBM] [Warning] No further splits with positive gain, best gain: -inf\n",
      "[LightGBM] [Warning] No further splits with positive gain, best gain: -inf\n",
      "[LightGBM] [Warning] No further splits with positive gain, best gain: -inf\n",
      "[LightGBM] [Warning] No further splits with positive gain, best gain: -inf\n",
      "[LightGBM] [Warning] No further splits with positive gain, best gain: -inf\n",
      "[LightGBM] [Warning] No further splits with positive gain, best gain: -inf\n",
      "[LightGBM] [Warning] No further splits with positive gain, best gain: -inf\n",
      "[LightGBM] [Warning] No further splits with positive gain, best gain: -inf\n",
      "[LightGBM] [Warning] No further splits with positive gain, best gain: -inf\n",
      "[LightGBM] [Warning] No further splits with positive gain, best gain: -inf\n",
      "[LightGBM] [Warning] No further splits with positive gain, best gain: -inf\n",
      "[LightGBM] [Warning] No further splits with positive gain, best gain: -inf\n",
      "[LightGBM] [Warning] No further splits with positive gain, best gain: -inf\n",
      "[LightGBM] [Warning] No further splits with positive gain, best gain: -inf\n",
      "[LightGBM] [Warning] No further splits with positive gain, best gain: -inf\n",
      "[LightGBM] [Warning] No further splits with positive gain, best gain: -inf\n",
      "[LightGBM] [Warning] No further splits with positive gain, best gain: -inf\n",
      "[LightGBM] [Warning] No further splits with positive gain, best gain: -inf\n",
      "[LightGBM] [Warning] No further splits with positive gain, best gain: -inf\n",
      "[LightGBM] [Warning] No further splits with positive gain, best gain: -inf\n",
      "[LightGBM] [Warning] No further splits with positive gain, best gain: -inf\n",
      "[LightGBM] [Warning] No further splits with positive gain, best gain: -inf\n",
      "[LightGBM] [Warning] No further splits with positive gain, best gain: -inf\n",
      "[LightGBM] [Warning] No further splits with positive gain, best gain: -inf\n",
      "[LightGBM] [Warning] No further splits with positive gain, best gain: -inf\n",
      "[LightGBM] [Warning] No further splits with positive gain, best gain: -inf\n",
      "[LightGBM] [Warning] No further splits with positive gain, best gain: -inf\n",
      "[LightGBM] [Warning] No further splits with positive gain, best gain: -inf\n",
      "[LightGBM] [Warning] No further splits with positive gain, best gain: -inf\n",
      "[LightGBM] [Warning] No further splits with positive gain, best gain: -inf\n",
      "[LightGBM] [Warning] No further splits with positive gain, best gain: -inf\n",
      "[LightGBM] [Warning] No further splits with positive gain, best gain: -inf\n",
      "[LightGBM] [Warning] No further splits with positive gain, best gain: -inf\n",
      "[LightGBM] [Warning] No further splits with positive gain, best gain: -inf\n",
      "[LightGBM] [Warning] No further splits with positive gain, best gain: -inf\n",
      "[LightGBM] [Warning] No further splits with positive gain, best gain: -inf\n",
      "[LightGBM] [Warning] No further splits with positive gain, best gain: -inf\n",
      "[LightGBM] [Warning] No further splits with positive gain, best gain: -inf\n",
      "[LightGBM] [Warning] No further splits with positive gain, best gain: -inf\n",
      "[LightGBM] [Warning] No further splits with positive gain, best gain: -inf\n",
      "[LightGBM] [Warning] No further splits with positive gain, best gain: -inf\n",
      "[LightGBM] [Warning] No further splits with positive gain, best gain: -inf\n",
      "[LightGBM] [Warning] No further splits with positive gain, best gain: -inf\n",
      "[LightGBM] [Warning] No further splits with positive gain, best gain: -inf\n",
      "[LightGBM] [Warning] No further splits with positive gain, best gain: -inf\n",
      "[LightGBM] [Warning] No further splits with positive gain, best gain: -inf\n",
      "[LightGBM] [Warning] No further splits with positive gain, best gain: -inf\n",
      "[LightGBM] [Warning] No further splits with positive gain, best gain: -inf\n",
      "[LightGBM] [Warning] No further splits with positive gain, best gain: -inf\n",
      "[LightGBM] [Warning] No further splits with positive gain, best gain: -inf\n",
      "[LightGBM] [Warning] No further splits with positive gain, best gain: -inf\n",
      "[LightGBM] [Warning] No further splits with positive gain, best gain: -inf\n",
      "[LightGBM] [Warning] No further splits with positive gain, best gain: -inf\n",
      "[LightGBM] [Warning] No further splits with positive gain, best gain: -inf\n",
      "[LightGBM] [Warning] No further splits with positive gain, best gain: -inf\n",
      "[LightGBM] [Warning] No further splits with positive gain, best gain: -inf\n",
      "[LightGBM] [Warning] No further splits with positive gain, best gain: -inf\n",
      "[LightGBM] [Warning] No further splits with positive gain, best gain: -inf\n",
      "[LightGBM] [Warning] No further splits with positive gain, best gain: -inf\n",
      "[LightGBM] [Warning] No further splits with positive gain, best gain: -inf\n",
      "[LightGBM] [Warning] No further splits with positive gain, best gain: -inf\n",
      "[LightGBM] [Warning] No further splits with positive gain, best gain: -inf\n",
      "[LightGBM] [Warning] No further splits with positive gain, best gain: -inf\n",
      "[LightGBM] [Warning] No further splits with positive gain, best gain: -inf\n",
      "[LightGBM] [Warning] No further splits with positive gain, best gain: -inf\n",
      "[LightGBM] [Warning] No further splits with positive gain, best gain: -inf\n",
      "[LightGBM] [Warning] No further splits with positive gain, best gain: -inf\n",
      "[LightGBM] [Warning] No further splits with positive gain, best gain: -inf\n",
      "[LightGBM] [Warning] No further splits with positive gain, best gain: -inf\n",
      "[LightGBM] [Warning] No further splits with positive gain, best gain: -inf\n",
      "[LightGBM] [Warning] No further splits with positive gain, best gain: -inf\n",
      "[LightGBM] [Warning] No further splits with positive gain, best gain: -inf\n",
      "[LightGBM] [Warning] No further splits with positive gain, best gain: -inf\n",
      "[LightGBM] [Warning] No further splits with positive gain, best gain: -inf\n",
      "[LightGBM] [Warning] No further splits with positive gain, best gain: -inf\n",
      "[LightGBM] [Warning] No further splits with positive gain, best gain: -inf\n",
      "[LightGBM] [Warning] No further splits with positive gain, best gain: -inf\n",
      "0:\tlearn: 0.6413928\ttotal: 2.05ms\tremaining: 141ms\n",
      "1:\tlearn: 0.6389919\ttotal: 3.97ms\tremaining: 135ms\n",
      "2:\tlearn: 0.6364806\ttotal: 5.9ms\tremaining: 132ms\n",
      "3:\tlearn: 0.6341617\ttotal: 7.28ms\tremaining: 120ms\n",
      "4:\tlearn: 0.6326745\ttotal: 8.91ms\tremaining: 116ms\n",
      "5:\tlearn: 0.6303406\ttotal: 10.7ms\tremaining: 115ms\n",
      "6:\tlearn: 0.6298204\ttotal: 12.6ms\tremaining: 113ms\n",
      "7:\tlearn: 0.6275550\ttotal: 14.5ms\tremaining: 113ms\n",
      "8:\tlearn: 0.6252154\ttotal: 17ms\tremaining: 115ms\n",
      "9:\tlearn: 0.6230402\ttotal: 18.9ms\tremaining: 114ms\n",
      "10:\tlearn: 0.6208709\ttotal: 20.8ms\tremaining: 112ms\n",
      "11:\tlearn: 0.6187461\ttotal: 22.7ms\tremaining: 110ms\n",
      "12:\tlearn: 0.6165747\ttotal: 24.9ms\tremaining: 109ms\n",
      "13:\tlearn: 0.6155105\ttotal: 27ms\tremaining: 108ms\n",
      "14:\tlearn: 0.6133777\ttotal: 28.9ms\tremaining: 106ms\n",
      "15:\tlearn: 0.6112892\ttotal: 31.1ms\tremaining: 105ms\n",
      "16:\tlearn: 0.6092800\ttotal: 33.4ms\tremaining: 104ms\n",
      "17:\tlearn: 0.6072539\ttotal: 35.2ms\tremaining: 102ms\n",
      "18:\tlearn: 0.6052888\ttotal: 37.1ms\tremaining: 99.7ms\n",
      "19:\tlearn: 0.6032676\ttotal: 39ms\tremaining: 97.6ms\n",
      "20:\tlearn: 0.6025677\ttotal: 41.4ms\tremaining: 96.5ms\n",
      "21:\tlearn: 0.6023603\ttotal: 43.5ms\tremaining: 95ms\n",
      "22:\tlearn: 0.6003788\ttotal: 45.5ms\tremaining: 92.9ms\n",
      "23:\tlearn: 0.5984472\ttotal: 46.9ms\tremaining: 90ms\n",
      "24:\tlearn: 0.5965249\ttotal: 49.8ms\tremaining: 89.6ms\n",
      "25:\tlearn: 0.5947124\ttotal: 51.6ms\tremaining: 87.4ms\n",
      "26:\tlearn: 0.5928499\ttotal: 54ms\tremaining: 86ms\n",
      "27:\tlearn: 0.5910758\ttotal: 55.7ms\tremaining: 83.6ms\n",
      "28:\tlearn: 0.5891176\ttotal: 59.2ms\tremaining: 83.7ms\n",
      "29:\tlearn: 0.5873110\ttotal: 62.4ms\tremaining: 83.2ms\n",
      "30:\tlearn: 0.5855335\ttotal: 64.6ms\tremaining: 81.2ms\n",
      "31:\tlearn: 0.5838077\ttotal: 66.2ms\tremaining: 78.7ms\n",
      "32:\tlearn: 0.5820433\ttotal: 68.3ms\tremaining: 76.6ms\n",
      "33:\tlearn: 0.5818688\ttotal: 70.5ms\tremaining: 74.6ms\n",
      "34:\tlearn: 0.5802051\ttotal: 72.7ms\tremaining: 72.7ms\n",
      "35:\tlearn: 0.5791961\ttotal: 75.2ms\tremaining: 71.1ms\n",
      "36:\tlearn: 0.5774688\ttotal: 77.6ms\tremaining: 69.2ms\n",
      "37:\tlearn: 0.5770126\ttotal: 79.5ms\tremaining: 66.9ms\n",
      "38:\tlearn: 0.5754359\ttotal: 81.3ms\tremaining: 64.7ms\n",
      "39:\tlearn: 0.5738652\ttotal: 84.3ms\tremaining: 63.2ms\n",
      "40:\tlearn: 0.5723468\ttotal: 86.4ms\tremaining: 61.1ms\n",
      "41:\tlearn: 0.5712402\ttotal: 88.3ms\tremaining: 58.9ms\n",
      "42:\tlearn: 0.5710323\ttotal: 90.3ms\tremaining: 56.7ms\n",
      "43:\tlearn: 0.5695260\ttotal: 92.1ms\tremaining: 54.4ms\n",
      "44:\tlearn: 0.5692185\ttotal: 94ms\tremaining: 52.2ms\n",
      "45:\tlearn: 0.5677220\ttotal: 95.9ms\tremaining: 50.1ms\n",
      "46:\tlearn: 0.5661127\ttotal: 98.2ms\tremaining: 48.1ms\n",
      "47:\tlearn: 0.5659503\ttotal: 100ms\tremaining: 45.8ms\n",
      "48:\tlearn: 0.5658054\ttotal: 103ms\tremaining: 44.2ms\n",
      "49:\tlearn: 0.5644175\ttotal: 105ms\tremaining: 42.1ms\n",
      "50:\tlearn: 0.5629601\ttotal: 108ms\tremaining: 40.1ms\n",
      "51:\tlearn: 0.5614389\ttotal: 110ms\tremaining: 37.9ms\n",
      "52:\tlearn: 0.5607025\ttotal: 111ms\tremaining: 35.7ms\n",
      "53:\tlearn: 0.5604979\ttotal: 113ms\tremaining: 33.5ms\n",
      "54:\tlearn: 0.5591084\ttotal: 115ms\tremaining: 31.3ms\n",
      "55:\tlearn: 0.5588975\ttotal: 118ms\tremaining: 29.4ms\n",
      "56:\tlearn: 0.5574718\ttotal: 119ms\tremaining: 27.2ms\n",
      "57:\tlearn: 0.5572714\ttotal: 125ms\tremaining: 25.9ms\n",
      "58:\tlearn: 0.5559360\ttotal: 127ms\tremaining: 23.7ms\n",
      "59:\tlearn: 0.5552821\ttotal: 129ms\tremaining: 21.5ms\n",
      "60:\tlearn: 0.5549399\ttotal: 132ms\tremaining: 19.4ms\n",
      "61:\tlearn: 0.5535940\ttotal: 133ms\tremaining: 17.2ms\n",
      "62:\tlearn: 0.5522601\ttotal: 135ms\tremaining: 15.1ms\n",
      "63:\tlearn: 0.5509282\ttotal: 138ms\tremaining: 12.9ms\n",
      "64:\tlearn: 0.5506973\ttotal: 139ms\tremaining: 10.7ms\n",
      "65:\tlearn: 0.5498484\ttotal: 141ms\tremaining: 8.57ms\n",
      "66:\tlearn: 0.5485785\ttotal: 143ms\tremaining: 6.42ms\n",
      "67:\tlearn: 0.5473149\ttotal: 146ms\tremaining: 4.28ms\n",
      "68:\tlearn: 0.5460806\ttotal: 148ms\tremaining: 2.15ms\n",
      "69:\tlearn: 0.5448606\ttotal: 151ms\tremaining: 0us\n"
     ]
    },
    {
     "name": "stderr",
     "output_type": "stream",
     "text": [
      "/var/folders/xn/dxdr0gzs2bld2s01df0dtst00000gn/T/ipykernel_69786/1001005934.py:88: DataConversionWarning: A column-vector y was passed when a 1d array was expected. Please change the shape of y to (n_samples,), for example using ravel().\n",
      "  rf_train.fit(X_train.iloc[train_index], y_train.iloc[train_index])\n",
      "/Users/matmang/opt/anaconda3/envs/bert-study/lib/python3.10/site-packages/sklearn/ensemble/_gb.py:437: DataConversionWarning: A column-vector y was passed when a 1d array was expected. Please change the shape of y to (n_samples, ), for example using ravel().\n",
      "  y = column_or_1d(y, warn=True)\n"
     ]
    },
    {
     "name": "stdout",
     "output_type": "stream",
     "text": [
      "MSE: 0.32829169514874645\n"
     ]
    }
   ],
   "source": [
    "from sklearn.model_selection import RandomizedSearchCV\n",
    "from scipy.stats import randint as sp_randint\n",
    "from scipy.stats import uniform as sp_uniform\n",
    "\n",
    "## 주의!! 컴퓨터에 자신 없으면 돌리지 말 것. 돌렸다가 컴퓨터 터질뻔함.\n",
    "\n",
    "param_dist_lgb = {\n",
    "    'num_leaves': sp_randint(10, 500),\n",
    "    'learning_rate': sp_uniform(loc=0.01, scale=0.1),\n",
    "    'feature_fraction': sp_uniform(loc=0.5, scale=0.5),\n",
    "    'bagging_fraction': sp_uniform(loc=0.5, scale=0.5),\n",
    "    'bagging_freq': sp_randint(1, 10),\n",
    "    'max_depth': sp_randint(3, 15),\n",
    "    'min_child_weight': sp_uniform(loc=0, scale=1),\n",
    "    'metric': ['mae', 'rmse']\n",
    "}\n",
    "\n",
    "param_dist_cat = {\n",
    "    'learning_rate': sp_uniform(loc=0.01, scale=0.1),\n",
    "    'depth': sp_randint(3, 10),\n",
    "    'iterations': sp_randint(50, 200),\n",
    "    'bagging_temperature': sp_uniform(loc=0.0, scale=1.0),\n",
    "    'l2_leaf_reg': sp_uniform(loc=0.0, scale=1.0),\n",
    "}\n",
    "\n",
    "param_dist_rf = {\n",
    "    'n_estimators': sp_randint(50, 200),\n",
    "    'max_depth': sp_randint(3, 15),\n",
    "    'min_samples_split': sp_randint(2, 20),\n",
    "    'min_samples_leaf': sp_randint(1, 10)\n",
    "}\n",
    "\n",
    "param_dist_xgb = {\n",
    "    'learning_rate': sp_uniform(loc=0.01, scale=0.1),\n",
    "    'max_depth': sp_randint(3, 15),\n",
    "    'min_child_weight': sp_uniform(loc=0, scale=1),\n",
    "    'subsample': sp_uniform(loc=0.5, scale=0.5),\n",
    "    'colsample_bytree': sp_uniform(loc=0.5, scale=0.5),\n",
    "    'gamma': sp_uniform(loc=0.0, scale=1.0),\n",
    "}\n",
    "\n",
    "param_dist_gb = {\n",
    "    'n_estimators': sp_randint(50, 200),\n",
    "    'learning_rate': sp_uniform(loc=0.01, scale=0.1),\n",
    "    'max_depth': sp_randint(3, 15),\n",
    "    'min_samples_split': sp_randint(2, 20),\n",
    "    'min_samples_leaf': sp_randint(1, 10)\n",
    "}\n",
    "\n",
    "rs_lgb = RandomizedSearchCV(lgb.LGBMRegressor(), param_distributions=param_dist_lgb, n_iter=50, cv=5, n_jobs=-1, verbose=2)\n",
    "rs_lgb.fit(X_train, y_train)\n",
    "best_params_lgb = rs_lgb.best_params_\n",
    "\n",
    "rs_cat = RandomizedSearchCV(CatBoostRegressor(silent=True), param_distributions=param_dist_cat, n_iter=50, cv=5, n_jobs=-1, verbose=2)\n",
    "rs_cat.fit(X_train, y_train)\n",
    "best_params_cat = rs_cat.best_params_\n",
    "\n",
    "rs_rf = RandomizedSearchCV(RandomForestRegressor(), param_distributions=param_dist_rf, n_iter=50, cv=5, n_jobs=-1, verbose=2)\n",
    "rs_rf.fit(X_train, y_train)\n",
    "best_params_rf = rs_rf.best_params_\n",
    "\n",
    "rs_xgb = RandomizedSearchCV(XGBRegressor(), param_distributions=param_dist_xgb, n_iter=50, cv=5, n_jobs=-1, verbose=2)\n",
    "rs_xgb.fit(X_train, y_train)\n",
    "best_params_xgb = rs_xgb.best_params_\n",
    "\n",
    "rs_gb = RandomizedSearchCV(GradientBoostingRegressor(), param_distributions=param_dist_gb, n_iter=50, cv=5, n_jobs=-1, verbose=2)\n",
    "rs_gb.fit(X_train, y_train)\n",
    "best_params_gb = rs_gb.best_params_\n",
    "\n",
    "# KFold 교차 검증\n",
    "kf = KFold(n_splits=5, shuffle=True, random_state=42)\n",
    "\n",
    "# 모델 리스트 초기화\n",
    "models = []\n",
    "\n",
    "# 각 모델에 대한 KFold 교차 검증 수행\n",
    "for train_index, valid_index in kf.split(X_train):\n",
    "    \n",
    "    # LightGBM 모델 학습\n",
    "    lgb_train = lgb.Dataset(X_train.iloc[train_index], label=y_train.iloc[train_index])\n",
    "    lgb_valid = lgb.Dataset(X_train.iloc[valid_index], label=y_train.iloc[valid_index])\n",
    "    bst_lgb = lgb.train(best_params_lgb, lgb_train, valid_sets=[lgb_train, lgb_valid], early_stopping_rounds=10, verbose_eval=0)\n",
    "    \n",
    "    # CatBoost 모델 학습\n",
    "    cb_train = CatBoostRegressor(**best_params_cat)\n",
    "    cb_train.fit(X_train.iloc[train_index], y_train.iloc[train_index])\n",
    "    \n",
    "    # Random Forest 모델 학습\n",
    "    rf_train = RandomForestRegressor(**best_params_rf)\n",
    "    rf_train.fit(X_train.iloc[train_index], y_train.iloc[train_index])\n",
    "    \n",
    "    # XGBoost 모델 학습\n",
    "    xgb_train = XGBRegressor(**best_params_xgb)\n",
    "    xgb_train.fit(X_train.iloc[train_index], y_train.iloc[train_index])\n",
    "\n",
    "    # Gradient Boosting 모델 학습\n",
    "    gb_train = GradientBoostingRegressor(**best_params_gb)\n",
    "    gb_train.fit(X_train.iloc[train_index], y_train.iloc[train_index])\n",
    "\n",
    "# 모델 리스트에 학습된 모델 추가\n",
    "models.append((bst_lgb, cb_train, rf_train, xgb_train, gb_train))\n",
    "\n",
    "# 각 모델의 예측 결과를 더해줌\n",
    "\n",
    "predictions = np.zeros(len(X_test))\n",
    "\n",
    "for model in models:\n",
    "    predictions += model[0].predict(X_test)\n",
    "    predictions += model[1].predict(X_test)\n",
    "    predictions += model[2].predict(X_test)\n",
    "    predictions += model[3].predict(X_test)\n",
    "    predictions += model[4].predict(X_test)\n",
    "\n",
    "# 예측 결과의 평균을 구함\n",
    "\n",
    "predictions /= len(models) * 5\n",
    "\n",
    "# 예측 결과 출력\n",
    "\n",
    "print('MSE:', mean_squared_error(y_test, predictions))\n"
   ]
  },
  {
   "cell_type": "code",
   "execution_count": 12,
   "metadata": {},
   "outputs": [
    {
     "data": {
      "image/png": "[encoded data removed]",
      "text/plain": [
       "<Figure size 1200x500 with 2 Axes>"
      ]
     },
     "metadata": {},
     "output_type": "display_data"
    }
   ],
   "source": [
    "# 모델 예측값과 y 레이블의 정답값 분포 시각화\n",
    "import matplotlib.pyplot as plt\n",
    "import numpy as np\n",
    "import pandas as pd\n",
    "\n",
    "# 예측값과 실제값의 분포 시각화\n",
    "fig, axs = plt.subplots(1, 2, figsize=(12, 5))\n",
    "fig.suptitle('Actual vs Predicted')\n",
    "\n",
    "# y_test 히스토그램\n",
    "axs[0].hist(y_test, bins=30, alpha=0.5, color='blue', label='Actual')\n",
    "axs[0].set_xlabel('Damage Scale')\n",
    "axs[0].set_ylabel('Frequency')\n",
    "\n",
    "# y_pred_lgb 히스토그램\n",
    "axs[1].hist(predictions, bins=30, alpha=0.5, color='red', label='Predicted')\n",
    "axs[1].set_xlabel('Damage Scale')\n",
    "axs[1].set_ylabel('Frequency')\n",
    "\n",
    "plt.show()\n",
    "\n"
   ]
  },
  {
   "cell_type": "code",
   "execution_count": 1,
   "metadata": {},
   "outputs": [
    {
     "ename": "NameError",
     "evalue": "name 'plt' is not defined",
     "output_type": "error",
     "traceback": [
      "\u001b[0;31m---------------------------------------------------------------------------\u001b[0m",
      "\u001b[0;31mNameError\u001b[0m                                 Traceback (most recent call last)",
      "\u001b[1;32m/Users/matmang/Documents/GitHub/bool-bird-project/model/k-fold.ipynb 셀 5\u001b[0m in \u001b[0;36m<cell line: 1>\u001b[0;34m()\u001b[0m\n\u001b[0;32m----> <a href='vscode-notebook-cell:/Users/matmang/Documents/GitHub/bool-bird-project/model/k-fold.ipynb#W4sZmlsZQ%3D%3D?line=0'>1</a>\u001b[0m fig, ax \u001b[39m=\u001b[39m plt\u001b[39m.\u001b[39msubplots()\n\u001b[1;32m      <a href='vscode-notebook-cell:/Users/matmang/Documents/GitHub/bool-bird-project/model/k-fold.ipynb#W4sZmlsZQ%3D%3D?line=1'>2</a>\u001b[0m ax\u001b[39m.\u001b[39mhist(y_test, bins\u001b[39m=\u001b[39m\u001b[39m30\u001b[39m, alpha\u001b[39m=\u001b[39m\u001b[39m0.5\u001b[39m, color\u001b[39m=\u001b[39m\u001b[39m'\u001b[39m\u001b[39mblue\u001b[39m\u001b[39m'\u001b[39m, label\u001b[39m=\u001b[39m\u001b[39m'\u001b[39m\u001b[39mActual\u001b[39m\u001b[39m'\u001b[39m)\n\u001b[1;32m      <a href='vscode-notebook-cell:/Users/matmang/Documents/GitHub/bool-bird-project/model/k-fold.ipynb#W4sZmlsZQ%3D%3D?line=2'>3</a>\u001b[0m ax\u001b[39m.\u001b[39mhist(predictions, bins\u001b[39m=\u001b[39m\u001b[39m30\u001b[39m, alpha\u001b[39m=\u001b[39m\u001b[39m0.5\u001b[39m, color\u001b[39m=\u001b[39m\u001b[39m'\u001b[39m\u001b[39mred\u001b[39m\u001b[39m'\u001b[39m, label\u001b[39m=\u001b[39m\u001b[39m'\u001b[39m\u001b[39mPredicted\u001b[39m\u001b[39m'\u001b[39m)\n",
      "\u001b[0;31mNameError\u001b[0m: name 'plt' is not defined"
     ]
    }
   ],
   "source": [
    "\n",
    "fig, ax = plt.subplots()\n",
    "ax.hist(y_test, bins=30, alpha=0.5, color='blue', label='Actual')\n",
    "ax.hist(predictions, bins=30, alpha=0.5, color='red', label='Predicted')\n",
    "ax.set_xlabel('Damage Scale')\n",
    "ax.set_ylabel('Frequency')\n",
    "ax.legend()\n",
    "plt.show()\n"
   ]
  }
 ],
 "metadata": {
  "kernelspec": {
   "display_name": "bert-study",
   "language": "python",
   "name": "python3"
  },
  "language_info": {
   "codemirror_mode": {
    "name": "ipython",
    "version": 3
   },
   "file_extension": ".py",
   "mimetype": "text/x-python",
   "name": "python",
   "nbconvert_exporter": "python",
   "pygments_lexer": "ipython3",
   "version": "3.10.6"
  },
  "orig_nbformat": 4
 },
 "nbformat": 4,
 "nbformat_minor": 2
}
