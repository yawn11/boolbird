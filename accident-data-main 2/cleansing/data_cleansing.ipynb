{
 "cells": [
  {
   "cell_type": "code",
   "execution_count": 2,
   "metadata": {},
   "outputs": [
    {
     "name": "stdout",
     "output_type": "stream",
     "text": [
      "건축      10502\n",
      "토목       3988\n",
      "기타       1787\n",
      "기계설비      765\n",
      "전기설비      440\n",
      "산업설비      278\n",
      "통신설비        7\n",
      "Name: 공종, dtype: int64\n"
     ]
    },
    {
     "name": "stderr",
     "output_type": "stream",
     "text": [
      "/Users/matmang/opt/anaconda3/envs/bert-study/lib/python3.10/site-packages/sklearn/preprocessing/_encoders.py:828: FutureWarning: `sparse` was renamed to `sparse_output` in version 1.2 and will be removed in 1.4. `sparse_output` is ignored unless you leave `sparse` to its default value.\n",
      "  warnings.warn(\n"
     ]
    },
    {
     "data": {
      "text/plain": [
       "(       시설물 종류_건축   시설물 종류_산업환경설비   시설물 종류_조경   시설물 종류_토목   공공/민간 구분_공공  \\\n",
       " 3833          1.0             0.0         0.0         0.0          1.0   \n",
       " 13577         1.0             0.0         0.0         0.0          0.0   \n",
       " 5282          1.0             0.0         0.0         0.0          0.0   \n",
       " 2174          1.0             0.0         0.0         0.0          1.0   \n",
       " 12029         0.0             0.0         0.0         1.0          0.0   \n",
       " ...           ...             ...         ...         ...          ...   \n",
       " 5191          1.0             0.0         0.0         0.0          0.0   \n",
       " 13418         0.0             0.0         0.0         1.0          1.0   \n",
       " 5390          1.0             0.0         0.0         0.0          0.0   \n",
       " 860           1.0             0.0         0.0         0.0          1.0   \n",
       " 7270          1.0             0.0         0.0         0.0          0.0   \n",
       " \n",
       "        공공/민간 구분_민간  날씨_강설  날씨_강우  날씨_강풍  날씨_맑음  ...  공종_토목  공종_통신설비  발생일시  \\\n",
       " 3833           0.0    0.0    0.0    0.0    1.0  ...    0.0      0.0  10.0   \n",
       " 13577          1.0    0.0    0.0    0.0    1.0  ...    0.0      0.0   4.0   \n",
       " 5282           1.0    0.0    0.0    0.0    1.0  ...    0.0      0.0   4.0   \n",
       " 2174           0.0    0.0    0.0    0.0    1.0  ...    0.0      0.0   5.0   \n",
       " 12029          1.0    0.0    0.0    0.0    1.0  ...    0.0      0.0   7.0   \n",
       " ...            ...    ...    ...    ...    ...  ...    ...      ...   ...   \n",
       " 5191           1.0    0.0    0.0    0.0    0.0  ...    0.0      0.0   4.0   \n",
       " 13418          0.0    0.0    0.0    0.0    1.0  ...    0.0      0.0   8.0   \n",
       " 5390           1.0    0.0    0.0    0.0    1.0  ...    0.0      0.0   4.0   \n",
       " 860            0.0    0.0    0.0    0.0    1.0  ...    0.0      0.0  11.0   \n",
       " 7270           1.0    0.0    0.0    0.0    1.0  ...    0.0      0.0   4.0   \n",
       " \n",
       "                 공사비    공사기간    공정률   작업자수  설계안전성검토    기온    습도  \n",
       " 3833   7.500000e+09  1005.0  0.445   19.0      0.0  20.0  0.15  \n",
       " 13577  1.250000e+10  1089.0  0.345  299.0      1.0  18.0  0.30  \n",
       " 5282   4.000000e+10  1248.0  0.345  299.0      1.0  20.0  0.70  \n",
       " 2174   7.500000e+09   951.0  0.645   99.0      0.0  21.0  0.10  \n",
       " 12029  1.750000e+10  1573.0  0.745   19.0      1.0  32.0  0.50  \n",
       " ...             ...     ...    ...    ...      ...   ...   ...  \n",
       " 5191   2.500000e+08    91.0  0.950   19.0      1.0  14.0  0.63  \n",
       " 13418  4.000000e+10  1097.0  0.545   99.0      0.0  29.0  0.70  \n",
       " 5390   1.500000e+09   272.0  0.145   49.0      1.0  16.0  0.35  \n",
       " 860    3.500000e+09   535.0  0.845  500.0      0.0   7.0  0.20  \n",
       " 7270   1.500000e+09  1247.0  0.100  299.0      1.0  24.0  0.13  \n",
       " \n",
       " [11068 rows x 27 columns],\n",
       "        시설물 종류_건축   시설물 종류_산업환경설비   시설물 종류_조경   시설물 종류_토목   공공/민간 구분_공공  \\\n",
       " 4184          1.0             0.0         0.0         0.0          1.0   \n",
       " 13579         1.0             0.0         0.0         0.0          0.0   \n",
       " 5107          1.0             0.0         0.0         0.0          0.0   \n",
       " 4783          1.0             0.0         0.0         0.0          1.0   \n",
       " 1598          1.0             0.0         0.0         0.0          0.0   \n",
       " ...           ...             ...         ...         ...          ...   \n",
       " 10140         0.0             0.0         0.0         1.0          1.0   \n",
       " 12524         0.0             0.0         1.0         0.0          1.0   \n",
       " 8846          0.0             0.0         0.0         1.0          1.0   \n",
       " 1432          1.0             0.0         0.0         0.0          1.0   \n",
       " 9318          1.0             0.0         0.0         0.0          0.0   \n",
       " \n",
       "        공공/민간 구분_민간  날씨_강설  날씨_강우  날씨_강풍  날씨_맑음  ...  공종_토목  공종_통신설비  발생일시  \\\n",
       " 4184           0.0    0.0    0.0    0.0    1.0  ...    0.0      0.0   9.0   \n",
       " 13579          1.0    0.0    0.0    0.0    1.0  ...    0.0      0.0   3.0   \n",
       " 5107           1.0    0.0    0.0    0.0    1.0  ...    0.0      0.0   5.0   \n",
       " 4783           0.0    0.0    0.0    0.0    1.0  ...    0.0      0.0   6.0   \n",
       " 1598           1.0    0.0    0.0    0.0    0.0  ...    0.0      0.0   7.0   \n",
       " ...            ...    ...    ...    ...    ...  ...    ...      ...   ...   \n",
       " 10140          0.0    0.0    0.0    0.0    1.0  ...    1.0      0.0   7.0   \n",
       " 12524          0.0    0.0    0.0    0.0    1.0  ...    0.0      0.0   7.0   \n",
       " 8846           0.0    0.0    0.0    0.0    0.0  ...    1.0      0.0  10.0   \n",
       " 1432           0.0    0.0    0.0    0.0    1.0  ...    0.0      0.0   8.0   \n",
       " 9318           1.0    0.0    0.0    0.0    1.0  ...    1.0      0.0   5.0   \n",
       " \n",
       "                 공사비    공사기간    공정률   작업자수  설계안전성검토     기온    습도  \n",
       " 4184   7.500000e+08   139.0  0.245   19.0      0.0   25.0  0.50  \n",
       " 13579  4.000000e+10   882.0  0.545   99.0      1.0   15.0  0.20  \n",
       " 5107   1.500000e+09  1055.0  0.100   99.0      1.0   21.0  0.50  \n",
       " 4783   7.500000e+09   669.0  0.545   49.0      0.0   23.0  0.60  \n",
       " 1598   7.500000e+09   840.0  0.445  299.0      1.0   30.0  0.85  \n",
       " ...             ...     ...    ...    ...      ...    ...   ...  \n",
       " 10140  7.500000e+09   729.0  0.345   19.0      0.0   27.0  0.62  \n",
       " 12524  2.500000e+10  1643.0  0.145   19.0      0.0  293.0  0.70  \n",
       " 8846   1.250000e+10   899.0  0.245   19.0      0.0   12.0  0.59  \n",
       " 1432   7.500000e+08   345.0  0.950   49.0      1.0   28.0  0.80  \n",
       " 9318   7.500000e+09  1011.0  0.100   49.0      1.0   17.0  0.50  \n",
       " \n",
       " [2767 rows x 27 columns],\n",
       "        공종별 위험도 평가지수\n",
       " 3833     295.794840\n",
       " 13577      8.774406\n",
       " 5282     295.794840\n",
       " 2174     295.794840\n",
       " 12029     21.557339\n",
       " ...             ...\n",
       " 5191     295.794840\n",
       " 13418     46.273073\n",
       " 5390     295.794840\n",
       " 860      295.794840\n",
       " 7270     295.794840\n",
       " \n",
       " [11068 rows x 1 columns],\n",
       "        공종별 위험도 평가지수\n",
       " 4184     295.794840\n",
       " 13579      8.774406\n",
       " 5107     295.794840\n",
       " 4783     295.794840\n",
       " 1598     295.794840\n",
       " ...             ...\n",
       " 10140    123.092579\n",
       " 12524     46.273073\n",
       " 8846     123.092579\n",
       " 1432     295.794840\n",
       " 9318     123.092579\n",
       " \n",
       " [2767 rows x 1 columns])"
      ]
     },
     "execution_count": 2,
     "metadata": {},
     "output_type": "execute_result"
    }
   ],
   "source": [
    "import sys\n",
    "sys.path.append('..')\n",
    "\n",
    "import pandas as pd\n",
    "from sklearn.preprocessing import LabelEncoder, OneHotEncoder\n",
    "from sklearn.model_selection import train_test_split\n",
    "from sklearn.preprocessing import StandardScaler\n",
    "from sklearn.compose import ColumnTransformer\n",
    "from util.preprocessing import *\n",
    "from imblearn.over_sampling import SMOTE, RandomOverSampler\n",
    "from imblearn.under_sampling import OneSidedSelection, EditedNearestNeighbours\n",
    "import re\n",
    "from dateutil import parser\n",
    "\n",
    "\n",
    "def preprocess_data():\n",
    "    df = pd.read_csv('../data/output-v2.csv')\n",
    "    #필요 없는 특성 제거\n",
    "\n",
    "    allColumns = df.columns\n",
    "    params = ['발생일시','공공/민간 구분', '기상상태', '시설물 종류', '사망자수(명)', '부상자수(명)', '공사비', '공사기간', '공정률', '작업자수', '설계안전성검토', '공종']\n",
    "\n",
    "    df = df.drop(allColumns.drop(params), axis=1)\n",
    "\n",
    "    df = df.dropna()\n",
    "\n",
    "    df['공종'] = df['공종'].apply(extract_middle_class)\n",
    "\n",
    "    print(df['공종'].value_counts())\n",
    "\n",
    "    #범주형 데이터를 수치형 데이터로 인코딩\n",
    "\n",
    "    df['사망자수(명)'] = df['사망자수(명)'].apply(parse_num_of_people)\n",
    "    df['부상자수(명)'] = df['부상자수(명)'].apply(parse_num_of_people)\n",
    "    df['발생일시'] = df['발생일시'].apply(extract_month)\n",
    "    df['시설물 종류'] = df['시설물 종류'].apply(extract_facility)\n",
    "    df['공사기간'] = df['공사기간'].apply(count_days)\n",
    "    df['공정률'] = df['공정률'].apply(str_to_median)\n",
    "    df['작업자수'] = df['작업자수'].apply(extract_population)\n",
    "    df['공사비'] = df['공사비'].apply(extract_cost)\n",
    "    safety_ratio_by_job = calculate_safety_ratios(df)\n",
    "    safety_ratio_by_job = safety_ratio_by_job.drop(['공종별 안전사고 발생 비율', '공종별 사망자 비율', '공종별 부상자 비율', '공종별 안전사고 발생강도 비율', '공종별 안전사고 발생 건수', '공종별 사망자수', '공종별 부상자수'], axis=1)\n",
    "    df = pd.merge(df, safety_ratio_by_job, on='공종', how='inner')\n",
    "    df['피해규모'] = df.apply(calc_damage_scale, axis=1)\n",
    "\n",
    "    # 기상 상태 컬럼 분리\n",
    "    df[['날씨', '기온', '습도']] = df['기상상태'].str.extract('날씨 : (\\S+)기온 : (\\d+)℃습도 : (\\d+)%')\n",
    "    df = df.drop(['기상상태'], axis=1)\n",
    "\n",
    "    df = df.dropna()\n",
    "\n",
    "    le = LabelEncoder()\n",
    "    df['설계안전성검토'] = le.fit_transform(df['설계안전성검토'])\n",
    "\n",
    "    # 시설물 종류 특성을 원-핫 인코딩\n",
    "\n",
    "    ct = ColumnTransformer([\n",
    "    ('onehot', OneHotEncoder(sparse=False), ['시설물 종류', '공공/민간 구분', '날씨', '공종'])], remainder='passthrough'\n",
    "    )\n",
    "    ct.fit(df)\n",
    "    X = ct.transform(df)\n",
    "    # 컬럼 이름 리스트 생성\n",
    "\n",
    "    num_cols = df.columns.tolist()\n",
    "    ohe = ct.named_transformers_['onehot']\n",
    "    ohe_cols = ohe.get_feature_names_out(['시설물 종류', '공공/민간 구분', '날씨', '공종']).tolist()\n",
    "    new_cols = ohe_cols + num_cols\n",
    "    new_cols.remove('시설물 종류')\n",
    "    new_cols.remove('공공/민간 구분')\n",
    "    new_cols.remove('날씨')\n",
    "    new_cols.remove('공종')\n",
    "    # DataFrame으로 변환\n",
    "\n",
    "    df = pd.DataFrame(X, columns=new_cols)\n",
    "\n",
    "    df = df.astype('float64')\n",
    "\n",
    "    df['습도'] = df['습도'].apply(lambda x: x/100)\n",
    "\n",
    "    # --------------------정제 완료 ----------------------------\n",
    "\n",
    "    X = df.drop(['사망자수(명)', '부상자수(명)', '피해규모', '공종별 위험도 평가지수'], axis=1)\n",
    "    y = df[['공종별 위험도 평가지수']]\n",
    "    \n",
    "    X_train, X_test, y_train, y_test = train_test_split(X, y, test_size=0.2, random_state=42)\n",
    "\n",
    "    return X_train, X_test, y_train, y_test\n",
    "\n",
    "preprocess_data()"
   ]
  },
  {
   "cell_type": "code",
   "execution_count": 17,
   "metadata": {},
   "outputs": [
    {
     "name": "stdout",
     "output_type": "stream",
     "text": [
      "39\n",
      "MSE: 4.71287855005467e-06\n"
     ]
    },
    {
     "name": "stderr",
     "output_type": "stream",
     "text": [
      "/Users/matmang/opt/anaconda3/envs/bert-study/lib/python3.10/site-packages/sklearn/preprocessing/_encoders.py:828: FutureWarning: `sparse` was renamed to `sparse_output` in version 1.2 and will be removed in 1.4. `sparse_output` is ignored unless you leave `sparse` to its default value.\n",
      "  warnings.warn(\n"
     ]
    }
   ],
   "source": [
    "from sklearn.linear_model import LinearRegression\n",
    "from sklearn.metrics import mean_squared_error\n",
    "# 데이터 분리\n",
    "X_train, X_test, y_train, y_test = preprocess_data()\n",
    "\n",
    "# 모델 초기화\n",
    "lr_model = LinearRegression()\n",
    "\n",
    "# 모델 학습\n",
    "lr_model.fit(X_train, y_train)\n",
    "\n",
    "# 예측 수행\n",
    "y_pred = lr_model.predict(X_test)\n",
    "\n",
    "# 예측값과 실제값의 MSE 계산\n",
    "mse = mean_squared_error(y_test, y_pred)\n",
    "print(\"MSE:\", mse)"
   ]
  },
  {
   "cell_type": "code",
   "execution_count": 18,
   "metadata": {},
   "outputs": [
    {
     "name": "stdout",
     "output_type": "stream",
     "text": [
      "39\n",
      "Linear Regression 학습 완료.\n"
     ]
    },
    {
     "name": "stderr",
     "output_type": "stream",
     "text": [
      "/Users/matmang/opt/anaconda3/envs/bert-study/lib/python3.10/site-packages/sklearn/preprocessing/_encoders.py:828: FutureWarning: `sparse` was renamed to `sparse_output` in version 1.2 and will be removed in 1.4. `sparse_output` is ignored unless you leave `sparse` to its default value.\n",
      "  warnings.warn(\n",
      "/Users/matmang/opt/anaconda3/envs/bert-study/lib/python3.10/site-packages/sklearn/linear_model/_ridge.py:216: LinAlgWarning: Ill-conditioned matrix (rcond=5.6063e-25): result may not be accurate.\n",
      "  return linalg.solve(A, Xy, assume_a=\"pos\", overwrite_a=True).T\n"
     ]
    },
    {
     "name": "stdout",
     "output_type": "stream",
     "text": [
      "Ridge Regression 학습 완료.\n",
      "Lasso Regression 학습 완료.\n",
      "Enet Regression 학습 완료.\n",
      "Dicision Tree Regression 학습 완료.\n"
     ]
    },
    {
     "name": "stderr",
     "output_type": "stream",
     "text": [
      "/var/folders/xn/dxdr0gzs2bld2s01df0dtst00000gn/T/ipykernel_84929/1395002390.py:41: DataConversionWarning: A column-vector y was passed when a 1d array was expected. Please change the shape of y to (n_samples,), for example using ravel().\n",
      "  rf.fit(X_train, y_train)\n"
     ]
    },
    {
     "name": "stdout",
     "output_type": "stream",
     "text": [
      "RandomForest Regression 학습 완료.\n",
      "Linear Regression\n",
      "Mean Squared Error: 4.71287855005467e-06\n",
      "Ridge Regression\n",
      "Mean Squared Error: 0.015369696935596954\n",
      "Lasso Regression\n",
      "Mean Squared Error: 9.026506004357364\n",
      "ElasticNet Regression\n",
      "Mean Squared Error: 73.59362372947126\n",
      "Decision Tree Regressor\n",
      "Mean Squared Error: 17.857341993502626\n",
      "Random Forest Regressor\n",
      "Mean Squared Error: 17.857987786229458\n"
     ]
    }
   ],
   "source": [
    "from sklearn.linear_model import LinearRegression, Ridge, Lasso, ElasticNet\n",
    "from sklearn.tree import DecisionTreeRegressor\n",
    "from sklearn.ensemble import RandomForestRegressor\n",
    "from sklearn.svm import SVR\n",
    "from sklearn.metrics import mean_squared_error, r2_score\n",
    "\n",
    "X_train, X_test, y_train, y_test = preprocess_data()\n",
    "\n",
    "# 선형 회귀 모델 학습 및 예측\n",
    "lr = LinearRegression()\n",
    "lr.fit(X_train, y_train)\n",
    "lr_pred = lr.predict(X_test)\n",
    "print(\"Linear Regression 학습 완료.\")\n",
    "\n",
    "# Ridge 회귀 모델 학습 및 예측\n",
    "ridge = Ridge(alpha=1.0)\n",
    "ridge.fit(X_train, y_train)\n",
    "ridge_pred = ridge.predict(X_test)\n",
    "print(\"Ridge Regression 학습 완료.\")\n",
    "\n",
    "# Lasso 회귀 모델 학습 및 예측\n",
    "lasso = Lasso(alpha=0.1)\n",
    "lasso.fit(X_train, y_train)\n",
    "lasso_pred = lasso.predict(X_test)\n",
    "print(\"Lasso Regression 학습 완료.\")\n",
    "\n",
    "# ElasticNet 회귀 모델 학습 및 예측\n",
    "enet = ElasticNet(alpha=0.1, l1_ratio=0.7)\n",
    "enet.fit(X_train, y_train)\n",
    "enet_pred = enet.predict(X_test)\n",
    "print(\"Enet Regression 학습 완료.\")\n",
    "\n",
    "# 결정 트리 회귀 모델 학습 및 예측\n",
    "dt = DecisionTreeRegressor(max_depth=5, random_state=42)\n",
    "dt.fit(X_train, y_train)\n",
    "dt_pred = dt.predict(X_test)\n",
    "print(\"Dicision Tree Regression 학습 완료.\")\n",
    "\n",
    "# 랜덤 포레스트 회귀 모델 학습 및 예측\n",
    "rf = RandomForestRegressor(n_estimators=100, max_depth=5, random_state=42)\n",
    "rf.fit(X_train, y_train)\n",
    "rf_pred = rf.predict(X_test)\n",
    "print(\"RandomForest Regression 학습 완료.\")\n",
    "\n",
    "# SVM 회귀 모델 학습 및 예측\n",
    "# svm = SVR(kernel='linear')\n",
    "# svm.fit(X_train, y_train)\n",
    "# svm_pred = svm.predict(X_test)\n",
    "# print(\"SVM Regression 학습 완료.\")\n",
    "\n",
    "# 각 모델의 성능 평가\n",
    "models = [lr, ridge, lasso, enet, dt, rf]\n",
    "model_names = ['Linear Regression', 'Ridge Regression', 'Lasso Regression', 'ElasticNet Regression',\n",
    "               'Decision Tree Regressor', 'Random Forest Regressor']\n",
    "model_preds = [lr_pred, ridge_pred, lasso_pred, enet_pred, dt_pred, rf_pred]\n",
    "\n",
    "for i, model in enumerate(models):\n",
    "    print(model_names[i])\n",
    "    print('Mean Squared Error:', mean_squared_error(y_test, model_preds[i]))\n"
   ]
  },
  {
   "cell_type": "code",
   "execution_count": 27,
   "metadata": {},
   "outputs": [
    {
     "data": {
      "image/png": "[encoded data removed]",
      "text/plain": [
       "<Figure size 1200x500 with 2 Axes>"
      ]
     },
     "metadata": {},
     "output_type": "display_data"
    }
   ],
   "source": [
    "# 모델 예측값과 y 레이블의 정답값 분포 시각화\n",
    "import matplotlib.pyplot as plt\n",
    "import numpy as np\n",
    "import pandas as pd\n",
    "\n",
    "# 예측값과 실제값의 분포 시각화\n",
    "fig, axs = plt.subplots(1, 2, figsize=(12, 5))\n",
    "fig.suptitle('Actual vs Predicted')\n",
    "\n",
    "# y_test 히스토그램\n",
    "axs[0].hist(y_test, bins=30, alpha=0.5, color='blue', label='Actual')\n",
    "axs[0].set_xlabel('Damage Scale')\n",
    "axs[0].set_ylabel('Frequency')\n",
    "\n",
    "# lr_pred, ridge_pred, lasso_pred, enet_pred, dt_pred, rf_pred\n",
    "# y_pred_lgb 히스토그램\n",
    "axs[1].hist(lr_pred, bins=30, alpha=0.5, color='red', label='Predicted')\n",
    "axs[1].set_xlabel('Damage Scale')\n",
    "axs[1].set_ylabel('Frequency')\n",
    "\n",
    "plt.show()\n",
    "\n"
   ]
  },
  {
   "cell_type": "code",
   "execution_count": 26,
   "metadata": {},
   "outputs": [
    {
     "data": {
      "image/png": "[encoded data removed]",
      "text/plain": [
       "<Figure size 640x480 with 1 Axes>"
      ]
     },
     "metadata": {},
     "output_type": "display_data"
    }
   ],
   "source": [
    "fig, ax = plt.subplots()\n",
    "ax.hist(y_test, bins=30, alpha=0.5, color='blue', label='Actual')\n",
    "ax.hist(lr_pred, bins=30, alpha=0.5, color='red', label='Predicted')\n",
    "ax.set_xlabel('Damage Scale')\n",
    "ax.set_ylabel('Frequency')\n",
    "ax.legend()\n",
    "plt.show()"
   ]
  },
  {
   "cell_type": "code",
   "execution_count": 28,
   "metadata": {},
   "outputs": [
    {
     "data": {
      "image/png": "[encoded data removed]",
      "text/plain": [
       "<Figure size 800x800 with 1 Axes>"
      ]
     },
     "metadata": {},
     "output_type": "display_data"
    }
   ],
   "source": [
    "import matplotlib.pyplot as plt\n",
    "\n",
    "predictions = lr_pred\n",
    "\n",
    "# 예측값과 실제값 비교\n",
    "plt.figure(figsize=(8, 8))\n",
    "plt.scatter(y_test, predictions, alpha=0.5)\n",
    "plt.plot([y_test.min(), y_test.max()], [predictions.min(), predictions.max()], 'k--', lw=4)\n",
    "plt.xlabel('True Value')\n",
    "plt.ylabel('Prediction')\n",
    "plt.show()\n"
   ]
  },
  {
   "cell_type": "code",
   "execution_count": 30,
   "metadata": {},
   "outputs": [
    {
     "name": "stdout",
     "output_type": "stream",
     "text": [
      "Accuracy: 66.86%\n"
     ]
    }
   ],
   "source": [
    "import numpy as np\n",
    "import pandas as pd\n",
    "import matplotlib.pyplot as plt\n",
    "\n",
    "predictions = dt_pred\n",
    "\n",
    "# y_test: 실제 값, prediction: 예측 값\n",
    "accuracy = np.sum(np.abs(y_test['피해규모'].values - predictions) <= 0.1) / len(y_test)\n",
    "\n",
    "print(\"Accuracy: {:.2f}%\".format(accuracy * 100))"
   ]
  }
 ],
 "metadata": {
  "kernelspec": {
   "display_name": "bert-study",
   "language": "python",
   "name": "python3"
  },
  "language_info": {
   "codemirror_mode": {
    "name": "ipython",
    "version": 3
   },
   "file_extension": ".py",
   "mimetype": "text/x-python",
   "name": "python",
   "nbconvert_exporter": "python",
   "pygments_lexer": "ipython3",
   "version": "3.10.6"
  },
  "orig_nbformat": 4
 },
 "nbformat": 4,
 "nbformat_minor": 2
}
