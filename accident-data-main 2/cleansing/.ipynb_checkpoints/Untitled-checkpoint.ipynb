{
 "cells": [
  {
   "cell_type": "code",
   "execution_count": 2,
   "id": "27a3da79",
   "metadata": {},
   "outputs": [
    {
     "ename": "SyntaxError",
     "evalue": "EOL while scanning string literal (4207223081.py, line 56)",
     "output_type": "error",
     "traceback": [
      "\u001b[0;36m  File \u001b[0;32m\"/var/folders/2x/6y58jvbx1bq0q1gn8gtc98w40000gn/T/ipykernel_93844/4207223081.py\"\u001b[0;36m, line \u001b[0;32m56\u001b[0m\n\u001b[0;31m    df[['사망사고', '부상사고', '재산피해', '기타']] = df['사고신고사유'].apply(extract_sago).str.extract('((\\d+), (\\d+), (\\d+), (\\d+))\u001b[0m\n\u001b[0m                                                                                                                   ^\u001b[0m\n\u001b[0;31mSyntaxError\u001b[0m\u001b[0;31m:\u001b[0m EOL while scanning string literal\n"
     ]
    }
   ],
   "source": [
    "import sys\n",
    "sys.path.append('..')\n",
    "\n",
    "import pandas as pd\n",
    "from sklearn.preprocessing import LabelEncoder, OneHotEncoder\n",
    "from sklearn.model_selection import train_test_split\n",
    "from sklearn.preprocessing import StandardScaler\n",
    "from sklearn.compose import ColumnTransformer\n",
    "from util.preprocessing import parse_num_of_people, extract_month, extract_facility, extract_ratio, extract_population, extract_cost, calc_damage_scale, extract_middle_class, str_to_median, count_days\n",
    "from util.preprocessing2 import extract_sago#, extract_date, is_noramal_temper, is_normal_humid, get_temper, get_humid\n",
    "from imblearn.over_sampling import SMOTE, RandomOverSampler\n",
    "from imblearn.under_sampling import OneSidedSelection, EditedNearestNeighbours\n",
    "import re\n",
    "from dateutil import parser\n",
    "\n",
    "def preprocess_data():\n",
    "    df = pd.read_csv('../data/output-v2.csv')\n",
    "    #필요 없는 특성 제거\n",
    "\n",
    "    allColumns = df.columns\n",
    "    params = ['발생일시','공공/민간 구분', '기상상태', '시설물 종류', '사망자수(명)', '부상자수(명)', '공사비', '공사기간', '공정률', '작업자수', '설계안전성검토', '공종', '사고신고사유']\n",
    "\n",
    "    df = df.drop(allColumns.drop(params), axis=1)\n",
    "\n",
    "    df = df.dropna()\n",
    "\n",
    "    #범주형 데이터를 수치형 데이터로 인코딩\n",
    "    df['공종'] = df['공종'].apply(extract_middle_class)\n",
    "    df['사망자수(명)'] = df['사망자수(명)'].apply(parse_num_of_people)\n",
    "    df['부상자수(명)'] = df['부상자수(명)'].apply(parse_num_of_people)\n",
    "    #df['사고발생월'] = df['발생일시'].apply(extract_month)\n",
    "    df['시설물 종류'] = df['시설물 종류'].apply(extract_facility)\n",
    "    df['공사기간'] = df['공사기간'].apply(count_days)\n",
    "    df['공정률'] = df['공정률'].apply(str_to_median)\n",
    "    df['작업자수'] = df['작업자수'].apply(extract_population)\n",
    "    df['공사비'] = df['공사비'].apply(extract_cost)\n",
    "    df['피해규모'] = df.apply(calc_damage_scale, axis=1)\n",
    "    df['발생일시'] = df['발생일시'].apply(extract_month)\n",
    "    \n",
    "    # 기상 상태 컬럼 분리\n",
    "    df[['날씨', '기온', '습도']] = df['기상상태'].str.extract('날씨 : (\\S+)기온 : (\\d+)℃습도 : (\\d+)%')\n",
    "    df = df.drop(['기상상태'], axis=1)\n",
    "    '''\n",
    "    # SOYEON\n",
    "    # 기온, 습도 결측치 처리\n",
    "    df[['기온', '습도']].fillna(-999)\n",
    "    df[['기온', '습도']] = df[['기온', '습도']].astype('float64')\n",
    "    df['습도'] = df['습도'].apply(lambda x: x/100)\n",
    "    if df['기온'].apply(is_normal_temper) == False: \n",
    "        df['기온'] = df['발생일시'].apply(get_temper)\n",
    "    if df['습도'].apply(is_normal_humid) == False:\n",
    "        df['습도'] = df['발생일시'].apply(get_humid)\n",
    "    '''\n",
    "    # SOYEON\n",
    "    # 사고신고사유 열 추가\n",
    "    df['사망사고', '부상사고', '재산피해', '기타'] = df['사고신고사유'].apply(extract_sago)\n",
    "    df = df.drop(['사고신고사유'], axis=1)\n",
    "\n",
    "    \n",
    "    print(df)\n",
    "    \n",
    "preprocess_data()"
   ]
  },
  {
   "cell_type": "code",
   "execution_count": null,
   "id": "a07a005c",
   "metadata": {},
   "outputs": [],
   "source": []
  }
 ],
 "metadata": {
  "kernelspec": {
   "display_name": "Python 3 (ipykernel)",
   "language": "python",
   "name": "python3"
  },
  "language_info": {
   "codemirror_mode": {
    "name": "ipython",
    "version": 3
   },
   "file_extension": ".py",
   "mimetype": "text/x-python",
   "name": "python",
   "nbconvert_exporter": "python",
   "pygments_lexer": "ipython3",
   "version": "3.9.7"
  }
 },
 "nbformat": 4,
 "nbformat_minor": 5
}
