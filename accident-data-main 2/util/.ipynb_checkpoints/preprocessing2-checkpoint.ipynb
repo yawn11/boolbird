{
 "cells": [
  {
   "cell_type": "code",
   "execution_count": 3,
   "id": "17c8d81c",
   "metadata": {},
   "outputs": [],
   "source": [
    "import pandas as pd\n",
    "\n",
    "def extract_sago(s):\n",
    "    rtn = [0,0,0,0]\n",
    "    if('사망 1명 이상' in s):\n",
    "        rtn[0] += 1\n",
    "    if('3일이상 휴업이 필요한 부상' in s):\n",
    "        rtn[1] += 1\n",
    "    if('1000만원 이상의 재산피해' in s):\n",
    "        rtn[2] += 1\n",
    "    if('기타' in s):\n",
    "        rtn[3] += 1\n",
    "    return rtn\n",
    "\n",
    "def is_normal_temper(temper):\n",
    "    if temper < -40 or temper > 50:\n",
    "        return False\n",
    "    return True\n",
    "    \n",
    "def is_normal_humid(humid):\n",
    "    if humid < 0:\n",
    "        return False\n",
    "    return True\n",
    "\n",
    "def get_temper(date):\n",
    "    # 기온 데이터셋을 읽어옵니다.\n",
    "    weather_data = pd.read_csv('weather_dataset.csv')\n",
    "    \n",
    "    # 주어진 날짜에 해당하는 기온을 찾습니다.\n",
    "    temper = weather_data[weather_data['Date'] == date]['Temperature'].values\n",
    "\n",
    "    if len(temper) > 0:\n",
    "        return temper[0]\n",
    "    else:\n",
    "        return None\n",
    "    \n",
    "def get_humid(date):\n",
    "    # 습도 데이터셋을 읽어옵니다.\n",
    "    weather_data = pd.read_csv('weather_dataset.csv')\n",
    "\n",
    "    # 주어진 날짜에 해당하는 습도을 찾습니다.\n",
    "    humid = weather_data[weather_data['Date'] == date]['Humidity'].values\n",
    "\n",
    "    if len(humid) > 0:\n",
    "        return humid[0]\n",
    "    else:\n",
    "        return None    \n"
   ]
  },
  {
   "cell_type": "code",
   "execution_count": null,
   "id": "043b5fe3",
   "metadata": {},
   "outputs": [],
   "source": []
  }
 ],
 "metadata": {
  "kernelspec": {
   "display_name": "Python [conda env:root] *",
   "language": "python",
   "name": "conda-root-py"
  },
  "language_info": {
   "codemirror_mode": {
    "name": "ipython",
    "version": 3
   },
   "file_extension": ".py",
   "mimetype": "text/x-python",
   "name": "python",
   "nbconvert_exporter": "python",
   "pygments_lexer": "ipython3",
   "version": "3.9.7"
  }
 },
 "nbformat": 4,
 "nbformat_minor": 5
}
